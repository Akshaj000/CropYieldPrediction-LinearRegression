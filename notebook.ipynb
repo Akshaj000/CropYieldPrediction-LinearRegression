{
 "cells": [
  {
   "cell_type": "markdown",
   "id": "c8ae696c",
   "metadata": {},
   "source": [
    "### CROP YIELD PREDICTION USING LINEAR REGRESSION\n",
    "\n",
    "[![Open In Colab](https://colab.research.google.com/assets/colab-badge.svg)](https://colab.research.google.com/github/Akshaj000/CropYieldPrediction-LinearRegression/blob/main/notebook.ipynb)\n",
    "\n"
   ]
  },
  {
   "cell_type": "markdown",
   "id": "f93d7dbf",
   "metadata": {},
   "source": [
    "##### Importing the Required modules and libraries"
   ]
  },
  {
   "cell_type": "code",
   "execution_count": 1,
   "id": "7a20526e",
   "metadata": {},
   "outputs": [],
   "source": [
    "import numpy as np\n",
    "import pandas as pd\n",
    "\n",
    "import matplotlib.pyplot as plt\n",
    "import seaborn as sns\n",
    "from sklearn.model_selection import train_test_split\n",
    "from sklearn.metrics import mean_squared_error\n",
    "import math\n",
    "\n",
    "import statsmodels.api as sm\n",
    "from sklearn.feature_selection import RFE\n",
    "from sklearn.linear_model import LinearRegression\n",
    "from statsmodels.stats.outliers_influence import variance_inflation_factor\n",
    "from sklearn.metrics import r2_score"
   ]
  },
  {
   "cell_type": "markdown",
   "id": "ba5f9496",
   "metadata": {},
   "source": [
    "##### Reading and Analysing the data"
   ]
  },
  {
   "cell_type": "code",
   "execution_count": 2,
   "id": "d45fb134",
   "metadata": {},
   "outputs": [
    {
     "data": {
      "text/html": [
       "<div>\n",
       "<style scoped>\n",
       "    .dataframe tbody tr th:only-of-type {\n",
       "        vertical-align: middle;\n",
       "    }\n",
       "\n",
       "    .dataframe tbody tr th {\n",
       "        vertical-align: top;\n",
       "    }\n",
       "\n",
       "    .dataframe thead th {\n",
       "        text-align: right;\n",
       "    }\n",
       "</style>\n",
       "<table border=\"1\" class=\"dataframe\">\n",
       "  <thead>\n",
       "    <tr style=\"text-align: right;\">\n",
       "      <th></th>\n",
       "      <th>id</th>\n",
       "      <th>water</th>\n",
       "      <th>uv</th>\n",
       "      <th>area</th>\n",
       "      <th>fertilizer_usage</th>\n",
       "      <th>yield</th>\n",
       "      <th>pesticides</th>\n",
       "      <th>region</th>\n",
       "      <th>categories</th>\n",
       "    </tr>\n",
       "  </thead>\n",
       "  <tbody>\n",
       "    <tr>\n",
       "      <th>0</th>\n",
       "      <td>169</td>\n",
       "      <td>5.615</td>\n",
       "      <td>65.281</td>\n",
       "      <td>3.230</td>\n",
       "      <td>0</td>\n",
       "      <td>7.977</td>\n",
       "      <td>8.969</td>\n",
       "      <td>0</td>\n",
       "      <td>b,a,c</td>\n",
       "    </tr>\n",
       "    <tr>\n",
       "      <th>1</th>\n",
       "      <td>476</td>\n",
       "      <td>7.044</td>\n",
       "      <td>73.319</td>\n",
       "      <td>9.081</td>\n",
       "      <td>0</td>\n",
       "      <td>23.009</td>\n",
       "      <td>7.197</td>\n",
       "      <td>0</td>\n",
       "      <td>c,a,d</td>\n",
       "    </tr>\n",
       "    <tr>\n",
       "      <th>2</th>\n",
       "      <td>152</td>\n",
       "      <td>5.607</td>\n",
       "      <td>60.038</td>\n",
       "      <td>2.864</td>\n",
       "      <td>2</td>\n",
       "      <td>23.019</td>\n",
       "      <td>7.424</td>\n",
       "      <td>0</td>\n",
       "      <td>d,a</td>\n",
       "    </tr>\n",
       "    <tr>\n",
       "      <th>3</th>\n",
       "      <td>293</td>\n",
       "      <td>9.346</td>\n",
       "      <td>64.719</td>\n",
       "      <td>2.797</td>\n",
       "      <td>2</td>\n",
       "      <td>28.066</td>\n",
       "      <td>1.256</td>\n",
       "      <td>0</td>\n",
       "      <td>d</td>\n",
       "    </tr>\n",
       "    <tr>\n",
       "      <th>4</th>\n",
       "      <td>10</td>\n",
       "      <td>7.969</td>\n",
       "      <td>NaN</td>\n",
       "      <td>5.407</td>\n",
       "      <td>1</td>\n",
       "      <td>29.140</td>\n",
       "      <td>0.274</td>\n",
       "      <td>0</td>\n",
       "      <td>c,d</td>\n",
       "    </tr>\n",
       "    <tr>\n",
       "      <th>...</th>\n",
       "      <td>...</td>\n",
       "      <td>...</td>\n",
       "      <td>...</td>\n",
       "      <td>...</td>\n",
       "      <td>...</td>\n",
       "      <td>...</td>\n",
       "      <td>...</td>\n",
       "      <td>...</td>\n",
       "      <td>...</td>\n",
       "    </tr>\n",
       "    <tr>\n",
       "      <th>995</th>\n",
       "      <td>614</td>\n",
       "      <td>6.379</td>\n",
       "      <td>94.132</td>\n",
       "      <td>11.571</td>\n",
       "      <td>5</td>\n",
       "      <td>98.673</td>\n",
       "      <td>2.891</td>\n",
       "      <td>6</td>\n",
       "      <td>c,b</td>\n",
       "    </tr>\n",
       "    <tr>\n",
       "      <th>996</th>\n",
       "      <td>490</td>\n",
       "      <td>6.980</td>\n",
       "      <td>82.727</td>\n",
       "      <td>11.264</td>\n",
       "      <td>5</td>\n",
       "      <td>101.090</td>\n",
       "      <td>3.500</td>\n",
       "      <td>6</td>\n",
       "      <td>d,c,b</td>\n",
       "    </tr>\n",
       "    <tr>\n",
       "      <th>997</th>\n",
       "      <td>392</td>\n",
       "      <td>NaN</td>\n",
       "      <td>58.218</td>\n",
       "      <td>11.859</td>\n",
       "      <td>4</td>\n",
       "      <td>103.673</td>\n",
       "      <td>4.005</td>\n",
       "      <td>6</td>\n",
       "      <td>c,b,a</td>\n",
       "    </tr>\n",
       "    <tr>\n",
       "      <th>998</th>\n",
       "      <td>773</td>\n",
       "      <td>10.070</td>\n",
       "      <td>67.905</td>\n",
       "      <td>11.567</td>\n",
       "      <td>4</td>\n",
       "      <td>104.343</td>\n",
       "      <td>2.339</td>\n",
       "      <td>6</td>\n",
       "      <td>a</td>\n",
       "    </tr>\n",
       "    <tr>\n",
       "      <th>999</th>\n",
       "      <td>104</td>\n",
       "      <td>7.679</td>\n",
       "      <td>NaN</td>\n",
       "      <td>13.489</td>\n",
       "      <td>5</td>\n",
       "      <td>106.421</td>\n",
       "      <td>1.974</td>\n",
       "      <td>6</td>\n",
       "      <td>a</td>\n",
       "    </tr>\n",
       "  </tbody>\n",
       "</table>\n",
       "<p>1000 rows × 9 columns</p>\n",
       "</div>"
      ],
      "text/plain": [
       "      id   water      uv    area  fertilizer_usage    yield  pesticides  \\\n",
       "0    169   5.615  65.281   3.230                 0    7.977       8.969   \n",
       "1    476   7.044  73.319   9.081                 0   23.009       7.197   \n",
       "2    152   5.607  60.038   2.864                 2   23.019       7.424   \n",
       "3    293   9.346  64.719   2.797                 2   28.066       1.256   \n",
       "4     10   7.969     NaN   5.407                 1   29.140       0.274   \n",
       "..   ...     ...     ...     ...               ...      ...         ...   \n",
       "995  614   6.379  94.132  11.571                 5   98.673       2.891   \n",
       "996  490   6.980  82.727  11.264                 5  101.090       3.500   \n",
       "997  392     NaN  58.218  11.859                 4  103.673       4.005   \n",
       "998  773  10.070  67.905  11.567                 4  104.343       2.339   \n",
       "999  104   7.679     NaN  13.489                 5  106.421       1.974   \n",
       "\n",
       "     region categories  \n",
       "0         0      b,a,c  \n",
       "1         0      c,a,d  \n",
       "2         0        d,a  \n",
       "3         0          d  \n",
       "4         0        c,d  \n",
       "..      ...        ...  \n",
       "995       6        c,b  \n",
       "996       6      d,c,b  \n",
       "997       6      c,b,a  \n",
       "998       6          a  \n",
       "999       6          a  \n",
       "\n",
       "[1000 rows x 9 columns]"
      ]
     },
     "execution_count": 2,
     "metadata": {},
     "output_type": "execute_result"
    }
   ],
   "source": [
    "data = pd.read_csv('./dataset.csv')\n",
    "data"
   ]
  },
  {
   "cell_type": "code",
   "execution_count": 3,
   "id": "43061b5a",
   "metadata": {},
   "outputs": [
    {
     "name": "stdout",
     "output_type": "stream",
     "text": [
      "<class 'pandas.core.frame.DataFrame'>\n",
      "RangeIndex: 1000 entries, 0 to 999\n",
      "Data columns (total 9 columns):\n",
      " #   Column            Non-Null Count  Dtype  \n",
      "---  ------            --------------  -----  \n",
      " 0   id                1000 non-null   int64  \n",
      " 1   water             958 non-null    float64\n",
      " 2   uv                949 non-null    float64\n",
      " 3   area              1000 non-null   float64\n",
      " 4   fertilizer_usage  1000 non-null   int64  \n",
      " 5   yield             1000 non-null   float64\n",
      " 6   pesticides        1000 non-null   float64\n",
      " 7   region            1000 non-null   int64  \n",
      " 8   categories        1000 non-null   object \n",
      "dtypes: float64(5), int64(3), object(1)\n",
      "memory usage: 70.4+ KB\n"
     ]
    }
   ],
   "source": [
    "data.info()"
   ]
  },
  {
   "cell_type": "code",
   "execution_count": 4,
   "id": "ff8fda25",
   "metadata": {},
   "outputs": [],
   "source": [
    "data.drop('id', inplace=True, axis=1)\n",
    "data.drop('categories', inplace=True, axis=1)"
   ]
  },
  {
   "cell_type": "code",
   "execution_count": 5,
   "id": "194a8beb",
   "metadata": {},
   "outputs": [
    {
     "data": {
      "text/html": [
       "<div>\n",
       "<style scoped>\n",
       "    .dataframe tbody tr th:only-of-type {\n",
       "        vertical-align: middle;\n",
       "    }\n",
       "\n",
       "    .dataframe tbody tr th {\n",
       "        vertical-align: top;\n",
       "    }\n",
       "\n",
       "    .dataframe thead th {\n",
       "        text-align: right;\n",
       "    }\n",
       "</style>\n",
       "<table border=\"1\" class=\"dataframe\">\n",
       "  <thead>\n",
       "    <tr style=\"text-align: right;\">\n",
       "      <th></th>\n",
       "      <th>water</th>\n",
       "      <th>uv</th>\n",
       "      <th>area</th>\n",
       "      <th>fertilizer_usage</th>\n",
       "      <th>yield</th>\n",
       "      <th>pesticides</th>\n",
       "      <th>region</th>\n",
       "    </tr>\n",
       "  </thead>\n",
       "  <tbody>\n",
       "    <tr>\n",
       "      <th>0</th>\n",
       "      <td>5.615</td>\n",
       "      <td>65.281</td>\n",
       "      <td>3.230</td>\n",
       "      <td>0</td>\n",
       "      <td>7.977</td>\n",
       "      <td>8.969</td>\n",
       "      <td>0</td>\n",
       "    </tr>\n",
       "    <tr>\n",
       "      <th>1</th>\n",
       "      <td>7.044</td>\n",
       "      <td>73.319</td>\n",
       "      <td>9.081</td>\n",
       "      <td>0</td>\n",
       "      <td>23.009</td>\n",
       "      <td>7.197</td>\n",
       "      <td>0</td>\n",
       "    </tr>\n",
       "    <tr>\n",
       "      <th>2</th>\n",
       "      <td>5.607</td>\n",
       "      <td>60.038</td>\n",
       "      <td>2.864</td>\n",
       "      <td>2</td>\n",
       "      <td>23.019</td>\n",
       "      <td>7.424</td>\n",
       "      <td>0</td>\n",
       "    </tr>\n",
       "    <tr>\n",
       "      <th>3</th>\n",
       "      <td>9.346</td>\n",
       "      <td>64.719</td>\n",
       "      <td>2.797</td>\n",
       "      <td>2</td>\n",
       "      <td>28.066</td>\n",
       "      <td>1.256</td>\n",
       "      <td>0</td>\n",
       "    </tr>\n",
       "    <tr>\n",
       "      <th>4</th>\n",
       "      <td>7.969</td>\n",
       "      <td>NaN</td>\n",
       "      <td>5.407</td>\n",
       "      <td>1</td>\n",
       "      <td>29.140</td>\n",
       "      <td>0.274</td>\n",
       "      <td>0</td>\n",
       "    </tr>\n",
       "  </tbody>\n",
       "</table>\n",
       "</div>"
      ],
      "text/plain": [
       "   water      uv   area  fertilizer_usage   yield  pesticides  region\n",
       "0  5.615  65.281  3.230                 0   7.977       8.969       0\n",
       "1  7.044  73.319  9.081                 0  23.009       7.197       0\n",
       "2  5.607  60.038  2.864                 2  23.019       7.424       0\n",
       "3  9.346  64.719  2.797                 2  28.066       1.256       0\n",
       "4  7.969     NaN  5.407                 1  29.140       0.274       0"
      ]
     },
     "execution_count": 5,
     "metadata": {},
     "output_type": "execute_result"
    }
   ],
   "source": [
    "data.head()"
   ]
  },
  {
   "cell_type": "code",
   "execution_count": 6,
   "id": "3a878839",
   "metadata": {},
   "outputs": [],
   "source": [
    "data.fillna(0, inplace = True)"
   ]
  },
  {
   "cell_type": "code",
   "execution_count": 7,
   "id": "fe142bc4",
   "metadata": {},
   "outputs": [
    {
     "name": "stdout",
     "output_type": "stream",
     "text": [
      "<class 'pandas.core.frame.DataFrame'>\n",
      "RangeIndex: 1000 entries, 0 to 999\n",
      "Data columns (total 7 columns):\n",
      " #   Column            Non-Null Count  Dtype  \n",
      "---  ------            --------------  -----  \n",
      " 0   water             1000 non-null   float64\n",
      " 1   uv                1000 non-null   float64\n",
      " 2   area              1000 non-null   float64\n",
      " 3   fertilizer_usage  1000 non-null   int64  \n",
      " 4   yield             1000 non-null   float64\n",
      " 5   pesticides        1000 non-null   float64\n",
      " 6   region            1000 non-null   int64  \n",
      "dtypes: float64(5), int64(2)\n",
      "memory usage: 54.8 KB\n"
     ]
    }
   ],
   "source": [
    "data.info()"
   ]
  },
  {
   "cell_type": "code",
   "execution_count": 8,
   "id": "70bd0323",
   "metadata": {},
   "outputs": [
    {
     "data": {
      "text/html": [
       "<div>\n",
       "<style scoped>\n",
       "    .dataframe tbody tr th:only-of-type {\n",
       "        vertical-align: middle;\n",
       "    }\n",
       "\n",
       "    .dataframe tbody tr th {\n",
       "        vertical-align: top;\n",
       "    }\n",
       "\n",
       "    .dataframe thead th {\n",
       "        text-align: right;\n",
       "    }\n",
       "</style>\n",
       "<table border=\"1\" class=\"dataframe\">\n",
       "  <thead>\n",
       "    <tr style=\"text-align: right;\">\n",
       "      <th></th>\n",
       "      <th>water</th>\n",
       "      <th>uv</th>\n",
       "      <th>area</th>\n",
       "      <th>fertilizer_usage</th>\n",
       "      <th>yield</th>\n",
       "      <th>pesticides</th>\n",
       "      <th>region</th>\n",
       "    </tr>\n",
       "  </thead>\n",
       "  <tbody>\n",
       "    <tr>\n",
       "      <th>count</th>\n",
       "      <td>1000.000000</td>\n",
       "      <td>1000.000000</td>\n",
       "      <td>1000.000000</td>\n",
       "      <td>1000.00000</td>\n",
       "      <td>1000.000000</td>\n",
       "      <td>1000.000000</td>\n",
       "      <td>1000.000000</td>\n",
       "    </tr>\n",
       "    <tr>\n",
       "      <th>mean</th>\n",
       "      <td>11.710157</td>\n",
       "      <td>70.185656</td>\n",
       "      <td>8.098848</td>\n",
       "      <td>2.12300</td>\n",
       "      <td>58.758571</td>\n",
       "      <td>3.452301</td>\n",
       "      <td>3.039000</td>\n",
       "    </tr>\n",
       "    <tr>\n",
       "      <th>std</th>\n",
       "      <td>168.691836</td>\n",
       "      <td>18.922905</td>\n",
       "      <td>2.692632</td>\n",
       "      <td>1.52256</td>\n",
       "      <td>24.563683</td>\n",
       "      <td>2.076921</td>\n",
       "      <td>1.883886</td>\n",
       "    </tr>\n",
       "    <tr>\n",
       "      <th>min</th>\n",
       "      <td>0.000000</td>\n",
       "      <td>0.000000</td>\n",
       "      <td>0.263000</td>\n",
       "      <td>0.00000</td>\n",
       "      <td>2.843000</td>\n",
       "      <td>0.014000</td>\n",
       "      <td>0.000000</td>\n",
       "    </tr>\n",
       "    <tr>\n",
       "      <th>25%</th>\n",
       "      <td>4.262000</td>\n",
       "      <td>65.744500</td>\n",
       "      <td>6.297000</td>\n",
       "      <td>1.00000</td>\n",
       "      <td>40.698000</td>\n",
       "      <td>1.804500</td>\n",
       "      <td>2.000000</td>\n",
       "    </tr>\n",
       "    <tr>\n",
       "      <th>50%</th>\n",
       "      <td>6.348000</td>\n",
       "      <td>72.868000</td>\n",
       "      <td>7.987500</td>\n",
       "      <td>2.00000</td>\n",
       "      <td>55.602500</td>\n",
       "      <td>3.275500</td>\n",
       "      <td>2.000000</td>\n",
       "    </tr>\n",
       "    <tr>\n",
       "      <th>75%</th>\n",
       "      <td>8.611000</td>\n",
       "      <td>80.220250</td>\n",
       "      <td>9.900250</td>\n",
       "      <td>3.00000</td>\n",
       "      <td>73.645500</td>\n",
       "      <td>4.916000</td>\n",
       "      <td>5.000000</td>\n",
       "    </tr>\n",
       "    <tr>\n",
       "      <th>max</th>\n",
       "      <td>5340.000000</td>\n",
       "      <td>106.310000</td>\n",
       "      <td>18.311000</td>\n",
       "      <td>5.00000</td>\n",
       "      <td>148.845000</td>\n",
       "      <td>9.532000</td>\n",
       "      <td>6.000000</td>\n",
       "    </tr>\n",
       "  </tbody>\n",
       "</table>\n",
       "</div>"
      ],
      "text/plain": [
       "             water           uv         area  fertilizer_usage        yield  \\\n",
       "count  1000.000000  1000.000000  1000.000000        1000.00000  1000.000000   \n",
       "mean     11.710157    70.185656     8.098848           2.12300    58.758571   \n",
       "std     168.691836    18.922905     2.692632           1.52256    24.563683   \n",
       "min       0.000000     0.000000     0.263000           0.00000     2.843000   \n",
       "25%       4.262000    65.744500     6.297000           1.00000    40.698000   \n",
       "50%       6.348000    72.868000     7.987500           2.00000    55.602500   \n",
       "75%       8.611000    80.220250     9.900250           3.00000    73.645500   \n",
       "max    5340.000000   106.310000    18.311000           5.00000   148.845000   \n",
       "\n",
       "        pesticides       region  \n",
       "count  1000.000000  1000.000000  \n",
       "mean      3.452301     3.039000  \n",
       "std       2.076921     1.883886  \n",
       "min       0.014000     0.000000  \n",
       "25%       1.804500     2.000000  \n",
       "50%       3.275500     2.000000  \n",
       "75%       4.916000     5.000000  \n",
       "max       9.532000     6.000000  "
      ]
     },
     "execution_count": 8,
     "metadata": {},
     "output_type": "execute_result"
    }
   ],
   "source": [
    "data.describe()"
   ]
  },
  {
   "cell_type": "code",
   "execution_count": 9,
   "id": "62d6526f",
   "metadata": {},
   "outputs": [
    {
     "data": {
      "text/plain": [
       "(1000, 7)"
      ]
     },
     "execution_count": 9,
     "metadata": {},
     "output_type": "execute_result"
    }
   ],
   "source": [
    "data.shape"
   ]
  },
  {
   "cell_type": "code",
   "execution_count": 10,
   "id": "fcac3281",
   "metadata": {},
   "outputs": [
    {
     "data": {
      "text/plain": [
       "Index(['water', 'uv', 'area', 'fertilizer_usage', 'yield', 'pesticides',\n",
       "       'region'],\n",
       "      dtype='object')"
      ]
     },
     "execution_count": 10,
     "metadata": {},
     "output_type": "execute_result"
    }
   ],
   "source": [
    "data.columns"
   ]
  },
  {
   "cell_type": "markdown",
   "id": "0f60b60b",
   "metadata": {},
   "source": [
    "##### Visualising the data"
   ]
  },
  {
   "cell_type": "code",
   "execution_count": 11,
   "id": "7f2f9583",
   "metadata": {},
   "outputs": [
    {
     "data": {
      "text/plain": [
       "<AxesSubplot:xlabel='yield', ylabel='Count'>"
      ]
     },
     "execution_count": 11,
     "metadata": {},
     "output_type": "execute_result"
    },
    {
     "data": {
      "image/png": "[encoded data removed]",
      "text/plain": [
       "<Figure size 864x1728 with 6 Axes>"
      ]
     },
     "metadata": {
      "needs_background": "light"
     },
     "output_type": "display_data"
    }
   ],
   "source": [
    "f, ax = plt.subplots(6, figsize=(12,24))\n",
    "sns.histplot(data.water,color='b',ax=ax[0], kde=True)\n",
    "sns.histplot(data.uv,color='g',ax=ax[1], kde=True)\n",
    "sns.histplot(data.fertilizer_usage,color='y',ax=ax[2], kde=True)\n",
    "sns.histplot(data.pesticides,color='r',ax=ax[3], kde=True)\n",
    "sns.histplot(data.region,color='c',ax=ax[4], kde=True)\n",
    "sns.histplot(data['yield'],color='b',ax=ax[5], kde=True)"
   ]
  },
  {
   "cell_type": "code",
   "execution_count": 12,
   "id": "454b1acf",
   "metadata": {},
   "outputs": [
    {
     "data": {
      "text/plain": [
       "<seaborn.axisgrid.JointGrid at 0x7f2c03af3280>"
      ]
     },
     "execution_count": 12,
     "metadata": {},
     "output_type": "execute_result"
    },
    {
     "data": {
      "image/png": "[encoded data removed]",
      "text/plain": [
       "<Figure size 432x432 with 3 Axes>"
      ]
     },
     "metadata": {
      "needs_background": "light"
     },
     "output_type": "display_data"
    },
    {
     "data": {
      "image/png": "[encoded data removed]",
      "text/plain": [
       "<Figure size 432x432 with 3 Axes>"
      ]
     },
     "metadata": {
      "needs_background": "light"
     },
     "output_type": "display_data"
    },
    {
     "data": {
      "image/png": "[encoded data removed]",
      "text/plain": [
       "<Figure size 432x432 with 3 Axes>"
      ]
     },
     "metadata": {
      "needs_background": "light"
     },
     "output_type": "display_data"
    },
    {
     "data": {
      "image/png": "[encoded data removed]",
      "text/plain": [
       "<Figure size 432x432 with 3 Axes>"
      ]
     },
     "metadata": {
      "needs_background": "light"
     },
     "output_type": "display_data"
    }
   ],
   "source": [
    "sns.jointplot(x='water',y='yield',data=data, color='b')\n",
    "sns.jointplot(x='fertilizer_usage', y='yield',data=data, color='y')\n",
    "sns.jointplot(x='pesticides', y='yield',data=data, color='r')\n",
    "sns.jointplot(x='uv', y='yield',data=data, color='g')"
   ]
  },
  {
   "cell_type": "code",
   "execution_count": 13,
   "id": "8c95b472",
   "metadata": {},
   "outputs": [
    {
     "data": {
      "text/plain": [
       "<seaborn.axisgrid.JointGrid at 0x7f2c0c3093c0>"
      ]
     },
     "execution_count": 13,
     "metadata": {},
     "output_type": "execute_result"
    },
    {
     "data": {
      "image/png": "[encoded data removed]",
      "text/plain": [
       "<Figure size 432x432 with 3 Axes>"
      ]
     },
     "metadata": {
      "needs_background": "light"
     },
     "output_type": "display_data"
    },
    {
     "data": {
      "image/png": "[encoded data removed]",
      "text/plain": [
       "<Figure size 432x432 with 3 Axes>"
      ]
     },
     "metadata": {
      "needs_background": "light"
     },
     "output_type": "display_data"
    }
   ],
   "source": [
    "sns.jointplot(x='region', y='yield',data=data, color='c')\n",
    "sns.jointplot(x='area', y='yield',data=data, color='pink')"
   ]
  },
  {
   "cell_type": "code",
   "execution_count": 14,
   "id": "3d92fc98",
   "metadata": {},
   "outputs": [
    {
     "data": {
      "image/png": "[encoded data removed]",
      "text/plain": [
       "<Figure size 864x1728 with 6 Axes>"
      ]
     },
     "metadata": {
      "needs_background": "light"
     },
     "output_type": "display_data"
    }
   ],
   "source": [
    "f, ax = plt.subplots(6, figsize=(12,24))\n",
    "sns.regplot(x=\"water\", y=\"yield\", data=data, color='b', ax=ax[0]);\n",
    "sns.regplot(x=\"fertilizer_usage\", y=\"yield\", data=data, color='y', ax=ax[1]);\n",
    "sns.regplot(x=\"pesticides\", y=\"yield\", data=data, color='r', ax=ax[2]);\n",
    "sns.regplot(x=\"uv\", y=\"yield\", data=data, color='g', ax=ax[3]);\n",
    "sns.regplot(x=\"area\", y=\"yield\", data=data, color='pink', ax=ax[4]);\n",
    "sns.regplot(x=\"region\", y=\"yield\", data=data, color='c', ax=ax[5]);"
   ]
  },
  {
   "cell_type": "code",
   "execution_count": 98,
   "id": "14dfb2b6",
   "metadata": {},
   "outputs": [
    {
     "data": {
      "text/html": [
       "<style type=\"text/css\">\n",
       "#T_163ac_row0_col0, #T_163ac_row1_col1, #T_163ac_row2_col2, #T_163ac_row3_col3, #T_163ac_row4_col4, #T_163ac_row5_col5, #T_163ac_row6_col6 {\n",
       "  background-color: #fcfbfd;\n",
       "  color: #000000;\n",
       "}\n",
       "#T_163ac_row0_col1, #T_163ac_row0_col4 {\n",
       "  background-color: #481185;\n",
       "  color: #f1f1f1;\n",
       "}\n",
       "#T_163ac_row0_col2, #T_163ac_row0_col3 {\n",
       "  background-color: #5c3696;\n",
       "  color: #f1f1f1;\n",
       "}\n",
       "#T_163ac_row0_col5, #T_163ac_row6_col5 {\n",
       "  background-color: #460d83;\n",
       "  color: #f1f1f1;\n",
       "}\n",
       "#T_163ac_row0_col6, #T_163ac_row2_col3, #T_163ac_row3_col1, #T_163ac_row3_col2, #T_163ac_row3_col5, #T_163ac_row6_col0, #T_163ac_row6_col4 {\n",
       "  background-color: #3f007d;\n",
       "  color: #f1f1f1;\n",
       "}\n",
       "#T_163ac_row1_col0, #T_163ac_row1_col4, #T_163ac_row2_col1 {\n",
       "  background-color: #4d1a89;\n",
       "  color: #f1f1f1;\n",
       "}\n",
       "#T_163ac_row1_col2 {\n",
       "  background-color: #65479e;\n",
       "  color: #f1f1f1;\n",
       "}\n",
       "#T_163ac_row1_col3 {\n",
       "  background-color: #582f93;\n",
       "  color: #f1f1f1;\n",
       "}\n",
       "#T_163ac_row1_col5, #T_163ac_row2_col0 {\n",
       "  background-color: #470f84;\n",
       "  color: #f1f1f1;\n",
       "}\n",
       "#T_163ac_row1_col6, #T_163ac_row3_col0 {\n",
       "  background-color: #481084;\n",
       "  color: #f1f1f1;\n",
       "}\n",
       "#T_163ac_row2_col4 {\n",
       "  background-color: #a19eca;\n",
       "  color: #f1f1f1;\n",
       "}\n",
       "#T_163ac_row2_col5, #T_163ac_row5_col4 {\n",
       "  background-color: #4d1b89;\n",
       "  color: #f1f1f1;\n",
       "}\n",
       "#T_163ac_row2_col6 {\n",
       "  background-color: #8683bd;\n",
       "  color: #f1f1f1;\n",
       "}\n",
       "#T_163ac_row3_col4, #T_163ac_row6_col2 {\n",
       "  background-color: #9894c5;\n",
       "  color: #f1f1f1;\n",
       "}\n",
       "#T_163ac_row3_col6 {\n",
       "  background-color: #4a1587;\n",
       "  color: #f1f1f1;\n",
       "}\n",
       "#T_163ac_row4_col0, #T_163ac_row4_col1 {\n",
       "  background-color: #491285;\n",
       "  color: #f1f1f1;\n",
       "}\n",
       "#T_163ac_row4_col2 {\n",
       "  background-color: #b0afd4;\n",
       "  color: #000000;\n",
       "}\n",
       "#T_163ac_row4_col3 {\n",
       "  background-color: #a9a7cf;\n",
       "  color: #f1f1f1;\n",
       "}\n",
       "#T_163ac_row4_col5 {\n",
       "  background-color: #4f1f8b;\n",
       "  color: #f1f1f1;\n",
       "}\n",
       "#T_163ac_row4_col6 {\n",
       "  background-color: #40017e;\n",
       "  color: #f1f1f1;\n",
       "}\n",
       "#T_163ac_row5_col0 {\n",
       "  background-color: #460c83;\n",
       "  color: #f1f1f1;\n",
       "}\n",
       "#T_163ac_row5_col1 {\n",
       "  background-color: #42057f;\n",
       "  color: #f1f1f1;\n",
       "}\n",
       "#T_163ac_row5_col2 {\n",
       "  background-color: #613f9a;\n",
       "  color: #f1f1f1;\n",
       "}\n",
       "#T_163ac_row5_col3 {\n",
       "  background-color: #53268f;\n",
       "  color: #f1f1f1;\n",
       "}\n",
       "#T_163ac_row5_col6 {\n",
       "  background-color: #450b82;\n",
       "  color: #f1f1f1;\n",
       "}\n",
       "#T_163ac_row6_col1 {\n",
       "  background-color: #420680;\n",
       "  color: #f1f1f1;\n",
       "}\n",
       "#T_163ac_row6_col3 {\n",
       "  background-color: #5e3b98;\n",
       "  color: #f1f1f1;\n",
       "}\n",
       "</style>\n",
       "<table id=\"T_163ac\">\n",
       "  <thead>\n",
       "    <tr>\n",
       "      <th class=\"blank level0\" >&nbsp;</th>\n",
       "      <th id=\"T_163ac_level0_col0\" class=\"col_heading level0 col0\" >water</th>\n",
       "      <th id=\"T_163ac_level0_col1\" class=\"col_heading level0 col1\" >uv</th>\n",
       "      <th id=\"T_163ac_level0_col2\" class=\"col_heading level0 col2\" >area</th>\n",
       "      <th id=\"T_163ac_level0_col3\" class=\"col_heading level0 col3\" >fertilizer_usage</th>\n",
       "      <th id=\"T_163ac_level0_col4\" class=\"col_heading level0 col4\" >yield</th>\n",
       "      <th id=\"T_163ac_level0_col5\" class=\"col_heading level0 col5\" >pesticides</th>\n",
       "      <th id=\"T_163ac_level0_col6\" class=\"col_heading level0 col6\" >region</th>\n",
       "    </tr>\n",
       "  </thead>\n",
       "  <tbody>\n",
       "    <tr>\n",
       "      <th id=\"T_163ac_level0_row0\" class=\"row_heading level0 row0\" >water</th>\n",
       "      <td id=\"T_163ac_row0_col0\" class=\"data row0 col0\" >1.000000</td>\n",
       "      <td id=\"T_163ac_row0_col1\" class=\"data row0 col1\" >0.035519</td>\n",
       "      <td id=\"T_163ac_row0_col2\" class=\"data row0 col2\" >0.000132</td>\n",
       "      <td id=\"T_163ac_row0_col3\" class=\"data row0 col3\" >0.003419</td>\n",
       "      <td id=\"T_163ac_row0_col4\" class=\"data row0 col4\" >0.014446</td>\n",
       "      <td id=\"T_163ac_row0_col5\" class=\"data row0 col5\" >-0.008056</td>\n",
       "      <td id=\"T_163ac_row0_col6\" class=\"data row0 col6\" >-0.050885</td>\n",
       "    </tr>\n",
       "    <tr>\n",
       "      <th id=\"T_163ac_level0_row1\" class=\"row_heading level0 row1\" >uv</th>\n",
       "      <td id=\"T_163ac_row1_col0\" class=\"data row1 col0\" >0.035519</td>\n",
       "      <td id=\"T_163ac_row1_col1\" class=\"data row1 col1\" >1.000000</td>\n",
       "      <td id=\"T_163ac_row1_col2\" class=\"data row1 col2\" >0.063638</td>\n",
       "      <td id=\"T_163ac_row1_col3\" class=\"data row1 col3\" >-0.020593</td>\n",
       "      <td id=\"T_163ac_row1_col4\" class=\"data row1 col4\" >0.042384</td>\n",
       "      <td id=\"T_163ac_row1_col5\" class=\"data row1 col5\" >-0.002886</td>\n",
       "      <td id=\"T_163ac_row1_col6\" class=\"data row1 col6\" >0.003181</td>\n",
       "    </tr>\n",
       "    <tr>\n",
       "      <th id=\"T_163ac_level0_row2\" class=\"row_heading level0 row2\" >area</th>\n",
       "      <td id=\"T_163ac_row2_col0\" class=\"data row2 col0\" >0.000132</td>\n",
       "      <td id=\"T_163ac_row2_col1\" class=\"data row2 col1\" >0.063638</td>\n",
       "      <td id=\"T_163ac_row2_col2\" class=\"data row2 col2\" >1.000000</td>\n",
       "      <td id=\"T_163ac_row2_col3\" class=\"data row2 col3\" >-0.202512</td>\n",
       "      <td id=\"T_163ac_row2_col4\" class=\"data row2 col4\" >0.491220</td>\n",
       "      <td id=\"T_163ac_row2_col5\" class=\"data row2 col5\" >0.036302</td>\n",
       "      <td id=\"T_163ac_row2_col6\" class=\"data row2 col6\" >0.369481</td>\n",
       "    </tr>\n",
       "    <tr>\n",
       "      <th id=\"T_163ac_level0_row3\" class=\"row_heading level0 row3\" >fertilizer_usage</th>\n",
       "      <td id=\"T_163ac_row3_col0\" class=\"data row3 col0\" >0.003419</td>\n",
       "      <td id=\"T_163ac_row3_col1\" class=\"data row3 col1\" >-0.020593</td>\n",
       "      <td id=\"T_163ac_row3_col2\" class=\"data row3 col2\" >-0.202512</td>\n",
       "      <td id=\"T_163ac_row3_col3\" class=\"data row3 col3\" >1.000000</td>\n",
       "      <td id=\"T_163ac_row3_col4\" class=\"data row3 col4\" >0.452183</td>\n",
       "      <td id=\"T_163ac_row3_col5\" class=\"data row3 col5\" >-0.056462</td>\n",
       "      <td id=\"T_163ac_row3_col6\" class=\"data row3 col6\" >0.022406</td>\n",
       "    </tr>\n",
       "    <tr>\n",
       "      <th id=\"T_163ac_level0_row4\" class=\"row_heading level0 row4\" >yield</th>\n",
       "      <td id=\"T_163ac_row4_col0\" class=\"data row4 col0\" >0.014446</td>\n",
       "      <td id=\"T_163ac_row4_col1\" class=\"data row4 col1\" >0.042384</td>\n",
       "      <td id=\"T_163ac_row4_col2\" class=\"data row4 col2\" >0.491220</td>\n",
       "      <td id=\"T_163ac_row4_col3\" class=\"data row4 col3\" >0.452183</td>\n",
       "      <td id=\"T_163ac_row4_col4\" class=\"data row4 col4\" >1.000000</td>\n",
       "      <td id=\"T_163ac_row4_col5\" class=\"data row4 col5\" >0.048380</td>\n",
       "      <td id=\"T_163ac_row4_col6\" class=\"data row4 col6\" >-0.045051</td>\n",
       "    </tr>\n",
       "    <tr>\n",
       "      <th id=\"T_163ac_level0_row5\" class=\"row_heading level0 row5\" >pesticides</th>\n",
       "      <td id=\"T_163ac_row5_col0\" class=\"data row5 col0\" >-0.008056</td>\n",
       "      <td id=\"T_163ac_row5_col1\" class=\"data row5 col1\" >-0.002886</td>\n",
       "      <td id=\"T_163ac_row5_col2\" class=\"data row5 col2\" >0.036302</td>\n",
       "      <td id=\"T_163ac_row5_col3\" class=\"data row5 col3\" >-0.056462</td>\n",
       "      <td id=\"T_163ac_row5_col4\" class=\"data row5 col4\" >0.048380</td>\n",
       "      <td id=\"T_163ac_row5_col5\" class=\"data row5 col5\" >1.000000</td>\n",
       "      <td id=\"T_163ac_row5_col6\" class=\"data row5 col6\" >-0.010899</td>\n",
       "    </tr>\n",
       "    <tr>\n",
       "      <th id=\"T_163ac_level0_row6\" class=\"row_heading level0 row6\" >region</th>\n",
       "      <td id=\"T_163ac_row6_col0\" class=\"data row6 col0\" >-0.050885</td>\n",
       "      <td id=\"T_163ac_row6_col1\" class=\"data row6 col1\" >0.003181</td>\n",
       "      <td id=\"T_163ac_row6_col2\" class=\"data row6 col2\" >0.369481</td>\n",
       "      <td id=\"T_163ac_row6_col3\" class=\"data row6 col3\" >0.022406</td>\n",
       "      <td id=\"T_163ac_row6_col4\" class=\"data row6 col4\" >-0.045051</td>\n",
       "      <td id=\"T_163ac_row6_col5\" class=\"data row6 col5\" >-0.010899</td>\n",
       "      <td id=\"T_163ac_row6_col6\" class=\"data row6 col6\" >1.000000</td>\n",
       "    </tr>\n",
       "  </tbody>\n",
       "</table>\n"
      ],
      "text/plain": [
       "<pandas.io.formats.style.Styler at 0x7f2c02c8fb50>"
      ]
     },
     "execution_count": 98,
     "metadata": {},
     "output_type": "execute_result"
    }
   ],
   "source": [
    "corr=data.corr()\n",
    "corr.style.background_gradient(cmap=\"Purples_r\")"
   ]
  },
  {
   "cell_type": "markdown",
   "id": "d78986ea",
   "metadata": {},
   "source": [
    "From the above figures we can see that pesticides, area and Uv has more effect on yield. Water does'nt effect the yield at all."
   ]
  },
  {
   "cell_type": "markdown",
   "id": "4cf1cf1c",
   "metadata": {},
   "source": [
    "##### Spliting Data to Training and Testing."
   ]
  },
  {
   "cell_type": "code",
   "execution_count": 17,
   "id": "521ee2c8",
   "metadata": {},
   "outputs": [],
   "source": [
    "np.random.seed(0)\n",
    "data_train, data_test = train_test_split(\n",
    "    data, train_size = 0.8, \n",
    "    test_size = 0.2, \n",
    "    random_state = 100\n",
    ")"
   ]
  },
  {
   "cell_type": "code",
   "execution_count": 18,
   "id": "4285f123",
   "metadata": {},
   "outputs": [
    {
     "data": {
      "text/html": [
       "<div>\n",
       "<style scoped>\n",
       "    .dataframe tbody tr th:only-of-type {\n",
       "        vertical-align: middle;\n",
       "    }\n",
       "\n",
       "    .dataframe tbody tr th {\n",
       "        vertical-align: top;\n",
       "    }\n",
       "\n",
       "    .dataframe thead th {\n",
       "        text-align: right;\n",
       "    }\n",
       "</style>\n",
       "<table border=\"1\" class=\"dataframe\">\n",
       "  <thead>\n",
       "    <tr style=\"text-align: right;\">\n",
       "      <th></th>\n",
       "      <th>water</th>\n",
       "      <th>uv</th>\n",
       "      <th>area</th>\n",
       "      <th>fertilizer_usage</th>\n",
       "      <th>yield</th>\n",
       "      <th>pesticides</th>\n",
       "      <th>region</th>\n",
       "    </tr>\n",
       "  </thead>\n",
       "  <tbody>\n",
       "    <tr>\n",
       "      <th>675</th>\n",
       "      <td>4.923</td>\n",
       "      <td>90.242</td>\n",
       "      <td>7.524</td>\n",
       "      <td>4</td>\n",
       "      <td>68.295</td>\n",
       "      <td>0.164</td>\n",
       "      <td>4</td>\n",
       "    </tr>\n",
       "    <tr>\n",
       "      <th>358</th>\n",
       "      <td>1.598</td>\n",
       "      <td>71.792</td>\n",
       "      <td>8.305</td>\n",
       "      <td>1</td>\n",
       "      <td>52.913</td>\n",
       "      <td>6.187</td>\n",
       "      <td>2</td>\n",
       "    </tr>\n",
       "    <tr>\n",
       "      <th>159</th>\n",
       "      <td>4.064</td>\n",
       "      <td>81.622</td>\n",
       "      <td>7.495</td>\n",
       "      <td>3</td>\n",
       "      <td>72.568</td>\n",
       "      <td>3.344</td>\n",
       "      <td>1</td>\n",
       "    </tr>\n",
       "    <tr>\n",
       "      <th>533</th>\n",
       "      <td>8.684</td>\n",
       "      <td>57.248</td>\n",
       "      <td>10.176</td>\n",
       "      <td>1</td>\n",
       "      <td>36.008</td>\n",
       "      <td>0.014</td>\n",
       "      <td>3</td>\n",
       "    </tr>\n",
       "    <tr>\n",
       "      <th>678</th>\n",
       "      <td>6.084</td>\n",
       "      <td>70.801</td>\n",
       "      <td>10.207</td>\n",
       "      <td>1</td>\n",
       "      <td>69.490</td>\n",
       "      <td>3.103</td>\n",
       "      <td>4</td>\n",
       "    </tr>\n",
       "  </tbody>\n",
       "</table>\n",
       "</div>"
      ],
      "text/plain": [
       "     water      uv    area  fertilizer_usage   yield  pesticides  region\n",
       "675  4.923  90.242   7.524                 4  68.295       0.164       4\n",
       "358  1.598  71.792   8.305                 1  52.913       6.187       2\n",
       "159  4.064  81.622   7.495                 3  72.568       3.344       1\n",
       "533  8.684  57.248  10.176                 1  36.008       0.014       3\n",
       "678  6.084  70.801  10.207                 1  69.490       3.103       4"
      ]
     },
     "execution_count": 18,
     "metadata": {},
     "output_type": "execute_result"
    }
   ],
   "source": [
    "data_train.head()"
   ]
  },
  {
   "cell_type": "code",
   "execution_count": 19,
   "id": "ecea5c78",
   "metadata": {
    "scrolled": true
   },
   "outputs": [
    {
     "data": {
      "text/html": [
       "<div>\n",
       "<style scoped>\n",
       "    .dataframe tbody tr th:only-of-type {\n",
       "        vertical-align: middle;\n",
       "    }\n",
       "\n",
       "    .dataframe tbody tr th {\n",
       "        vertical-align: top;\n",
       "    }\n",
       "\n",
       "    .dataframe thead th {\n",
       "        text-align: right;\n",
       "    }\n",
       "</style>\n",
       "<table border=\"1\" class=\"dataframe\">\n",
       "  <thead>\n",
       "    <tr style=\"text-align: right;\">\n",
       "      <th></th>\n",
       "      <th>water</th>\n",
       "      <th>uv</th>\n",
       "      <th>area</th>\n",
       "      <th>fertilizer_usage</th>\n",
       "      <th>yield</th>\n",
       "      <th>pesticides</th>\n",
       "      <th>region</th>\n",
       "    </tr>\n",
       "  </thead>\n",
       "  <tbody>\n",
       "    <tr>\n",
       "      <th>count</th>\n",
       "      <td>1000.000000</td>\n",
       "      <td>1000.000000</td>\n",
       "      <td>1000.000000</td>\n",
       "      <td>1000.00000</td>\n",
       "      <td>1000.000000</td>\n",
       "      <td>1000.000000</td>\n",
       "      <td>1000.000000</td>\n",
       "    </tr>\n",
       "    <tr>\n",
       "      <th>mean</th>\n",
       "      <td>11.710157</td>\n",
       "      <td>70.185656</td>\n",
       "      <td>8.098848</td>\n",
       "      <td>2.12300</td>\n",
       "      <td>58.758571</td>\n",
       "      <td>3.452301</td>\n",
       "      <td>3.039000</td>\n",
       "    </tr>\n",
       "    <tr>\n",
       "      <th>std</th>\n",
       "      <td>168.691836</td>\n",
       "      <td>18.922905</td>\n",
       "      <td>2.692632</td>\n",
       "      <td>1.52256</td>\n",
       "      <td>24.563683</td>\n",
       "      <td>2.076921</td>\n",
       "      <td>1.883886</td>\n",
       "    </tr>\n",
       "    <tr>\n",
       "      <th>min</th>\n",
       "      <td>0.000000</td>\n",
       "      <td>0.000000</td>\n",
       "      <td>0.263000</td>\n",
       "      <td>0.00000</td>\n",
       "      <td>2.843000</td>\n",
       "      <td>0.014000</td>\n",
       "      <td>0.000000</td>\n",
       "    </tr>\n",
       "    <tr>\n",
       "      <th>25%</th>\n",
       "      <td>4.262000</td>\n",
       "      <td>65.744500</td>\n",
       "      <td>6.297000</td>\n",
       "      <td>1.00000</td>\n",
       "      <td>40.698000</td>\n",
       "      <td>1.804500</td>\n",
       "      <td>2.000000</td>\n",
       "    </tr>\n",
       "    <tr>\n",
       "      <th>50%</th>\n",
       "      <td>6.348000</td>\n",
       "      <td>72.868000</td>\n",
       "      <td>7.987500</td>\n",
       "      <td>2.00000</td>\n",
       "      <td>55.602500</td>\n",
       "      <td>3.275500</td>\n",
       "      <td>2.000000</td>\n",
       "    </tr>\n",
       "    <tr>\n",
       "      <th>75%</th>\n",
       "      <td>8.611000</td>\n",
       "      <td>80.220250</td>\n",
       "      <td>9.900250</td>\n",
       "      <td>3.00000</td>\n",
       "      <td>73.645500</td>\n",
       "      <td>4.916000</td>\n",
       "      <td>5.000000</td>\n",
       "    </tr>\n",
       "    <tr>\n",
       "      <th>max</th>\n",
       "      <td>5340.000000</td>\n",
       "      <td>106.310000</td>\n",
       "      <td>18.311000</td>\n",
       "      <td>5.00000</td>\n",
       "      <td>148.845000</td>\n",
       "      <td>9.532000</td>\n",
       "      <td>6.000000</td>\n",
       "    </tr>\n",
       "  </tbody>\n",
       "</table>\n",
       "</div>"
      ],
      "text/plain": [
       "             water           uv         area  fertilizer_usage        yield  \\\n",
       "count  1000.000000  1000.000000  1000.000000        1000.00000  1000.000000   \n",
       "mean     11.710157    70.185656     8.098848           2.12300    58.758571   \n",
       "std     168.691836    18.922905     2.692632           1.52256    24.563683   \n",
       "min       0.000000     0.000000     0.263000           0.00000     2.843000   \n",
       "25%       4.262000    65.744500     6.297000           1.00000    40.698000   \n",
       "50%       6.348000    72.868000     7.987500           2.00000    55.602500   \n",
       "75%       8.611000    80.220250     9.900250           3.00000    73.645500   \n",
       "max    5340.000000   106.310000    18.311000           5.00000   148.845000   \n",
       "\n",
       "        pesticides       region  \n",
       "count  1000.000000  1000.000000  \n",
       "mean      3.452301     3.039000  \n",
       "std       2.076921     1.883886  \n",
       "min       0.014000     0.000000  \n",
       "25%       1.804500     2.000000  \n",
       "50%       3.275500     2.000000  \n",
       "75%       4.916000     5.000000  \n",
       "max       9.532000     6.000000  "
      ]
     },
     "execution_count": 19,
     "metadata": {},
     "output_type": "execute_result"
    }
   ],
   "source": [
    "data.describe()"
   ]
  },
  {
   "cell_type": "markdown",
   "id": "10de827b",
   "metadata": {},
   "source": [
    "### Considering all the columns to predict yield"
   ]
  },
  {
   "cell_type": "code",
   "execution_count": 20,
   "id": "d2af2177",
   "metadata": {},
   "outputs": [],
   "source": [
    "X_train = data_train.iloc[:, [0,1,2,3,5,6]]\n",
    "y_train = data_train['yield']\n",
    "X_test = data_test.iloc[:, [0,1,2,3,5,6]]\n",
    "y_test = data_test['yield']"
   ]
  },
  {
   "cell_type": "code",
   "execution_count": 21,
   "id": "2e0c3519",
   "metadata": {},
   "outputs": [
    {
     "data": {
      "text/plain": [
       "675    68.295\n",
       "358    52.913\n",
       "159    72.568\n",
       "533    36.008\n",
       "678    69.490\n",
       "Name: yield, dtype: float64"
      ]
     },
     "execution_count": 21,
     "metadata": {},
     "output_type": "execute_result"
    }
   ],
   "source": [
    "y_train.head()"
   ]
  },
  {
   "cell_type": "code",
   "execution_count": 22,
   "id": "ec19ed9c",
   "metadata": {},
   "outputs": [
    {
     "data": {
      "text/html": [
       "<div>\n",
       "<style scoped>\n",
       "    .dataframe tbody tr th:only-of-type {\n",
       "        vertical-align: middle;\n",
       "    }\n",
       "\n",
       "    .dataframe tbody tr th {\n",
       "        vertical-align: top;\n",
       "    }\n",
       "\n",
       "    .dataframe thead th {\n",
       "        text-align: right;\n",
       "    }\n",
       "</style>\n",
       "<table border=\"1\" class=\"dataframe\">\n",
       "  <thead>\n",
       "    <tr style=\"text-align: right;\">\n",
       "      <th></th>\n",
       "      <th>water</th>\n",
       "      <th>uv</th>\n",
       "      <th>area</th>\n",
       "      <th>fertilizer_usage</th>\n",
       "      <th>pesticides</th>\n",
       "      <th>region</th>\n",
       "    </tr>\n",
       "  </thead>\n",
       "  <tbody>\n",
       "    <tr>\n",
       "      <th>675</th>\n",
       "      <td>4.923</td>\n",
       "      <td>90.242</td>\n",
       "      <td>7.524</td>\n",
       "      <td>4</td>\n",
       "      <td>0.164</td>\n",
       "      <td>4</td>\n",
       "    </tr>\n",
       "    <tr>\n",
       "      <th>358</th>\n",
       "      <td>1.598</td>\n",
       "      <td>71.792</td>\n",
       "      <td>8.305</td>\n",
       "      <td>1</td>\n",
       "      <td>6.187</td>\n",
       "      <td>2</td>\n",
       "    </tr>\n",
       "    <tr>\n",
       "      <th>159</th>\n",
       "      <td>4.064</td>\n",
       "      <td>81.622</td>\n",
       "      <td>7.495</td>\n",
       "      <td>3</td>\n",
       "      <td>3.344</td>\n",
       "      <td>1</td>\n",
       "    </tr>\n",
       "    <tr>\n",
       "      <th>533</th>\n",
       "      <td>8.684</td>\n",
       "      <td>57.248</td>\n",
       "      <td>10.176</td>\n",
       "      <td>1</td>\n",
       "      <td>0.014</td>\n",
       "      <td>3</td>\n",
       "    </tr>\n",
       "    <tr>\n",
       "      <th>678</th>\n",
       "      <td>6.084</td>\n",
       "      <td>70.801</td>\n",
       "      <td>10.207</td>\n",
       "      <td>1</td>\n",
       "      <td>3.103</td>\n",
       "      <td>4</td>\n",
       "    </tr>\n",
       "  </tbody>\n",
       "</table>\n",
       "</div>"
      ],
      "text/plain": [
       "     water      uv    area  fertilizer_usage  pesticides  region\n",
       "675  4.923  90.242   7.524                 4       0.164       4\n",
       "358  1.598  71.792   8.305                 1       6.187       2\n",
       "159  4.064  81.622   7.495                 3       3.344       1\n",
       "533  8.684  57.248  10.176                 1       0.014       3\n",
       "678  6.084  70.801  10.207                 1       3.103       4"
      ]
     },
     "execution_count": 22,
     "metadata": {},
     "output_type": "execute_result"
    }
   ],
   "source": [
    "X_train.head()"
   ]
  },
  {
   "cell_type": "code",
   "execution_count": 23,
   "id": "d41e5e4d",
   "metadata": {},
   "outputs": [
    {
     "data": {
      "text/plain": [
       "array([67.19525744, 54.76872973, 72.01087223, 58.84579883, 56.69636444,\n",
       "       66.24971921, 67.19037761, 35.51333748, 67.30141764, 83.97884208,\n",
       "       85.83500912, 58.22322856, 81.80072519, 61.48744136, 41.02119663,\n",
       "       65.27456928, 62.13200389, 70.28443896, 66.78049939, 57.61758889])"
      ]
     },
     "execution_count": 23,
     "metadata": {},
     "output_type": "execute_result"
    }
   ],
   "source": [
    "reg = LinearRegression()\n",
    "reg.fit(X_train,y_train)\n",
    "y_train_pred=reg.predict(X_train)\n",
    "y_train_pred[:20]"
   ]
  },
  {
   "cell_type": "code",
   "execution_count": 24,
   "id": "8bac342b",
   "metadata": {},
   "outputs": [
    {
     "name": "stdout",
     "output_type": "stream",
     "text": [
      "Mean squared error :  211.3300699831843\n",
      "Root Mean Squared error :  14.537196083949075\n"
     ]
    }
   ],
   "source": [
    "y_test_pred=reg.predict(X_test)\n",
    "print(\"Mean squared error : \",mean_squared_error(y_test, y_test_pred))\n",
    "print(\"Root Mean Squared error : \",math.sqrt(mean_squared_error(y_test, y_test_pred)))\n"
   ]
  },
  {
   "cell_type": "code",
   "execution_count": 25,
   "id": "54af6100",
   "metadata": {},
   "outputs": [
    {
     "name": "stdout",
     "output_type": "stream",
     "text": [
      "R square value of train data:  0.6464919789548195  R square value of test data:  0.6810218136307852\n"
     ]
    }
   ],
   "source": [
    "r2_score_train=reg.score(X_train,y_train)\n",
    "r2_score_test=reg.score(X_test,y_test)\n",
    "\n",
    "print(\"R square value of train data: \",r2_score_train,\" R square value of test data: \",r2_score_test)"
   ]
  },
  {
   "cell_type": "markdown",
   "id": "463969c5",
   "metadata": {},
   "source": [
    "### Considering attributes those are result of feature selection"
   ]
  },
  {
   "cell_type": "code",
   "execution_count": 26,
   "id": "4f3ba9cf",
   "metadata": {},
   "outputs": [
    {
     "data": {
      "text/plain": [
       "[('water', False, 4),\n",
       " ('uv', False, 3),\n",
       " ('area', True, 1),\n",
       " ('fertilizer_usage', True, 1),\n",
       " ('pesticides', False, 2),\n",
       " ('region', True, 1)]"
      ]
     },
     "execution_count": 26,
     "metadata": {},
     "output_type": "execute_result"
    }
   ],
   "source": [
    "rfe = RFE(reg)\n",
    "rfe = rfe.fit(X_train, y_train)\n",
    "list(zip(X_train.columns,rfe.support_,rfe.ranking_))"
   ]
  },
  {
   "cell_type": "code",
   "execution_count": 27,
   "id": "3cf786da",
   "metadata": {},
   "outputs": [
    {
     "data": {
      "text/plain": [
       "Index(['area', 'fertilizer_usage', 'region'], dtype='object')"
      ]
     },
     "execution_count": 27,
     "metadata": {},
     "output_type": "execute_result"
    }
   ],
   "source": [
    "X_train.columns[rfe.support_]"
   ]
  },
  {
   "cell_type": "code",
   "execution_count": 28,
   "id": "fc43cd46",
   "metadata": {},
   "outputs": [
    {
     "data": {
      "text/html": [
       "<div>\n",
       "<style scoped>\n",
       "    .dataframe tbody tr th:only-of-type {\n",
       "        vertical-align: middle;\n",
       "    }\n",
       "\n",
       "    .dataframe tbody tr th {\n",
       "        vertical-align: top;\n",
       "    }\n",
       "\n",
       "    .dataframe thead th {\n",
       "        text-align: right;\n",
       "    }\n",
       "</style>\n",
       "<table border=\"1\" class=\"dataframe\">\n",
       "  <thead>\n",
       "    <tr style=\"text-align: right;\">\n",
       "      <th></th>\n",
       "      <th>area</th>\n",
       "      <th>fertilizer_usage</th>\n",
       "      <th>region</th>\n",
       "    </tr>\n",
       "  </thead>\n",
       "  <tbody>\n",
       "    <tr>\n",
       "      <th>675</th>\n",
       "      <td>7.524</td>\n",
       "      <td>4</td>\n",
       "      <td>4</td>\n",
       "    </tr>\n",
       "    <tr>\n",
       "      <th>358</th>\n",
       "      <td>8.305</td>\n",
       "      <td>1</td>\n",
       "      <td>2</td>\n",
       "    </tr>\n",
       "    <tr>\n",
       "      <th>159</th>\n",
       "      <td>7.495</td>\n",
       "      <td>3</td>\n",
       "      <td>1</td>\n",
       "    </tr>\n",
       "    <tr>\n",
       "      <th>533</th>\n",
       "      <td>10.176</td>\n",
       "      <td>1</td>\n",
       "      <td>3</td>\n",
       "    </tr>\n",
       "    <tr>\n",
       "      <th>678</th>\n",
       "      <td>10.207</td>\n",
       "      <td>1</td>\n",
       "      <td>4</td>\n",
       "    </tr>\n",
       "  </tbody>\n",
       "</table>\n",
       "</div>"
      ],
      "text/plain": [
       "       area  fertilizer_usage  region\n",
       "675   7.524                 4       4\n",
       "358   8.305                 1       2\n",
       "159   7.495                 3       1\n",
       "533  10.176                 1       3\n",
       "678  10.207                 1       4"
      ]
     },
     "execution_count": 28,
     "metadata": {},
     "output_type": "execute_result"
    }
   ],
   "source": [
    "X_train = data_train.iloc[:, [2,3,6]]\n",
    "X_test = data_test.iloc[:, [2,3,6]]\n",
    "X_train.head()"
   ]
  },
  {
   "cell_type": "code",
   "execution_count": 29,
   "id": "947cfaf3",
   "metadata": {},
   "outputs": [],
   "source": [
    "reg = LinearRegression()\n",
    "reg.fit(X_train,y_train)\n",
    "y_train_pred=reg.predict(X_train)"
   ]
  },
  {
   "cell_type": "code",
   "execution_count": 30,
   "id": "523e41b3",
   "metadata": {},
   "outputs": [
    {
     "name": "stdout",
     "output_type": "stream",
     "text": [
      "Mean squared error :  212.74031234640768\n",
      "Root Mean Squared error :  14.585620053546153\n"
     ]
    }
   ],
   "source": [
    "y_test_pred=reg.predict(X_test)\n",
    "print(\"Mean squared error : \",mean_squared_error(y_test, y_test_pred))\n",
    "print(\"Root Mean Squared error : \",math.sqrt(mean_squared_error(y_test, y_test_pred)))"
   ]
  },
  {
   "cell_type": "code",
   "execution_count": 31,
   "id": "4d32dde9",
   "metadata": {},
   "outputs": [
    {
     "name": "stdout",
     "output_type": "stream",
     "text": [
      "R square value of train data:  0.6435052166484538  R square value of test data:  0.6788932166384223\n"
     ]
    }
   ],
   "source": [
    "r2_score_train=reg.score(X_train,y_train)\n",
    "r2_score_test=reg.score(X_test,y_test)\n",
    "\n",
    "print(\"R square value of train data: \",r2_score_train,\" R square value of test data: \",r2_score_test)"
   ]
  },
  {
   "cell_type": "markdown",
   "id": "3fa14b05",
   "metadata": {},
   "source": [
    "### Only considering Water to predict yield."
   ]
  },
  {
   "cell_type": "code",
   "execution_count": 32,
   "id": "64a8e394",
   "metadata": {},
   "outputs": [],
   "source": [
    "y_train = data_train['yield']\n",
    "X_train = data_train.iloc[:, [0]]\n",
    "y_test = data_test['yield']\n",
    "X_test = data_test.iloc[:, [0]]"
   ]
  },
  {
   "cell_type": "code",
   "execution_count": 33,
   "id": "d10dddf7",
   "metadata": {},
   "outputs": [
    {
     "data": {
      "text/plain": [
       "675    68.295\n",
       "358    52.913\n",
       "159    72.568\n",
       "533    36.008\n",
       "678    69.490\n",
       "Name: yield, dtype: float64"
      ]
     },
     "execution_count": 33,
     "metadata": {},
     "output_type": "execute_result"
    }
   ],
   "source": [
    "y_train.head()"
   ]
  },
  {
   "cell_type": "code",
   "execution_count": 34,
   "id": "7b346f5b",
   "metadata": {},
   "outputs": [
    {
     "data": {
      "text/html": [
       "<div>\n",
       "<style scoped>\n",
       "    .dataframe tbody tr th:only-of-type {\n",
       "        vertical-align: middle;\n",
       "    }\n",
       "\n",
       "    .dataframe tbody tr th {\n",
       "        vertical-align: top;\n",
       "    }\n",
       "\n",
       "    .dataframe thead th {\n",
       "        text-align: right;\n",
       "    }\n",
       "</style>\n",
       "<table border=\"1\" class=\"dataframe\">\n",
       "  <thead>\n",
       "    <tr style=\"text-align: right;\">\n",
       "      <th></th>\n",
       "      <th>water</th>\n",
       "    </tr>\n",
       "  </thead>\n",
       "  <tbody>\n",
       "    <tr>\n",
       "      <th>675</th>\n",
       "      <td>4.923</td>\n",
       "    </tr>\n",
       "    <tr>\n",
       "      <th>358</th>\n",
       "      <td>1.598</td>\n",
       "    </tr>\n",
       "    <tr>\n",
       "      <th>159</th>\n",
       "      <td>4.064</td>\n",
       "    </tr>\n",
       "    <tr>\n",
       "      <th>533</th>\n",
       "      <td>8.684</td>\n",
       "    </tr>\n",
       "    <tr>\n",
       "      <th>678</th>\n",
       "      <td>6.084</td>\n",
       "    </tr>\n",
       "  </tbody>\n",
       "</table>\n",
       "</div>"
      ],
      "text/plain": [
       "     water\n",
       "675  4.923\n",
       "358  1.598\n",
       "159  4.064\n",
       "533  8.684\n",
       "678  6.084"
      ]
     },
     "execution_count": 34,
     "metadata": {},
     "output_type": "execute_result"
    }
   ],
   "source": [
    "X_train.head()"
   ]
  },
  {
   "cell_type": "code",
   "execution_count": 35,
   "id": "887b10fe",
   "metadata": {},
   "outputs": [
    {
     "data": {
      "text/plain": [
       "array([58.36244673, 58.35558281, 58.36067346, 58.37021071, 58.36484343,\n",
       "       58.36160242, 58.36918886, 58.37530343, 58.37189314, 58.36426128])"
      ]
     },
     "execution_count": 35,
     "metadata": {},
     "output_type": "execute_result"
    }
   ],
   "source": [
    "reg = LinearRegression()\n",
    "reg.fit(X_train,y_train)\n",
    "y_train_pred=reg.predict(X_train)\n",
    "y_train_pred[:10]"
   ]
  },
  {
   "cell_type": "code",
   "execution_count": 36,
   "id": "47788914",
   "metadata": {},
   "outputs": [
    {
     "name": "stdout",
     "output_type": "stream",
     "text": [
      "Mean squared error :  666.1110256453318\n",
      "Root Mean Squared error :  25.809126789671357\n"
     ]
    }
   ],
   "source": [
    "y_test_pred=reg.predict(X_test)\n",
    "print(\"Mean squared error : \",mean_squared_error(y_test, y_test_pred))\n",
    "print(\"Root Mean Squared error : \",math.sqrt(mean_squared_error(y_test, y_test_pred)))"
   ]
  },
  {
   "cell_type": "code",
   "execution_count": 37,
   "id": "79031e46",
   "metadata": {},
   "outputs": [
    {
     "name": "stdout",
     "output_type": "stream",
     "text": [
      "R square value of train data:  0.00025786092815305306  R square value of test data:  -0.005417198308751425\n"
     ]
    }
   ],
   "source": [
    "r2_score_train=reg.score(X_train,y_train)\n",
    "r2_score_test=reg.score(X_test,y_test)\n",
    "\n",
    "print(\"R square value of train data: \",r2_score_train,\" R square value of test data: \",r2_score_test)"
   ]
  },
  {
   "cell_type": "markdown",
   "id": "a0adc1a4",
   "metadata": {},
   "source": [
    "### Only considering UV to predict yield."
   ]
  },
  {
   "cell_type": "code",
   "execution_count": 38,
   "id": "e29fdf16",
   "metadata": {},
   "outputs": [],
   "source": [
    "y_train = data_train['yield']\n",
    "X_train = data_train.iloc[:, [1]]\n",
    "y_test = data_test['yield']\n",
    "X_test = data_test.iloc[:, [1]]"
   ]
  },
  {
   "cell_type": "code",
   "execution_count": 39,
   "id": "49ae9185",
   "metadata": {
    "scrolled": true
   },
   "outputs": [
    {
     "data": {
      "text/html": [
       "<div>\n",
       "<style scoped>\n",
       "    .dataframe tbody tr th:only-of-type {\n",
       "        vertical-align: middle;\n",
       "    }\n",
       "\n",
       "    .dataframe tbody tr th {\n",
       "        vertical-align: top;\n",
       "    }\n",
       "\n",
       "    .dataframe thead th {\n",
       "        text-align: right;\n",
       "    }\n",
       "</style>\n",
       "<table border=\"1\" class=\"dataframe\">\n",
       "  <thead>\n",
       "    <tr style=\"text-align: right;\">\n",
       "      <th></th>\n",
       "      <th>uv</th>\n",
       "    </tr>\n",
       "  </thead>\n",
       "  <tbody>\n",
       "    <tr>\n",
       "      <th>675</th>\n",
       "      <td>90.242</td>\n",
       "    </tr>\n",
       "    <tr>\n",
       "      <th>358</th>\n",
       "      <td>71.792</td>\n",
       "    </tr>\n",
       "    <tr>\n",
       "      <th>159</th>\n",
       "      <td>81.622</td>\n",
       "    </tr>\n",
       "    <tr>\n",
       "      <th>533</th>\n",
       "      <td>57.248</td>\n",
       "    </tr>\n",
       "    <tr>\n",
       "      <th>678</th>\n",
       "      <td>70.801</td>\n",
       "    </tr>\n",
       "  </tbody>\n",
       "</table>\n",
       "</div>"
      ],
      "text/plain": [
       "         uv\n",
       "675  90.242\n",
       "358  71.792\n",
       "159  81.622\n",
       "533  57.248\n",
       "678  70.801"
      ]
     },
     "execution_count": 39,
     "metadata": {},
     "output_type": "execute_result"
    }
   ],
   "source": [
    "X_train.head()"
   ]
  },
  {
   "cell_type": "code",
   "execution_count": 40,
   "id": "1b3ef069",
   "metadata": {},
   "outputs": [
    {
     "data": {
      "text/plain": [
       "675    68.295\n",
       "358    52.913\n",
       "159    72.568\n",
       "533    36.008\n",
       "678    69.490\n",
       "Name: yield, dtype: float64"
      ]
     },
     "execution_count": 40,
     "metadata": {},
     "output_type": "execute_result"
    }
   ],
   "source": [
    "y_train.head()"
   ]
  },
  {
   "cell_type": "code",
   "execution_count": 41,
   "id": "fc618cfe",
   "metadata": {},
   "outputs": [],
   "source": [
    "reg = LinearRegression()\n",
    "reg.fit(X_train,y_train)\n",
    "y_train_pred=reg.predict(X_train)"
   ]
  },
  {
   "cell_type": "code",
   "execution_count": 42,
   "id": "9557b2ea",
   "metadata": {},
   "outputs": [
    {
     "name": "stdout",
     "output_type": "stream",
     "text": [
      "Mean squared error :  663.1216970715219\n",
      "Root Mean Squared error :  25.751149432045203\n"
     ]
    }
   ],
   "source": [
    "y_test_pred=reg.predict(X_test)\n",
    "print(\"Mean squared error : \",mean_squared_error(y_test, y_test_pred))\n",
    "print(\"Root Mean Squared error : \",math.sqrt(mean_squared_error(y_test, y_test_pred)))"
   ]
  },
  {
   "cell_type": "code",
   "execution_count": 43,
   "id": "434d559b",
   "metadata": {},
   "outputs": [
    {
     "name": "stdout",
     "output_type": "stream",
     "text": [
      "R square value of train data:  0.0005270353533554095  R square value of test data:  -0.0009051541542615116\n"
     ]
    }
   ],
   "source": [
    "r2_score_train=reg.score(X_train,y_train)\n",
    "r2_score_test=reg.score(X_test,y_test)\n",
    "\n",
    "print(\"R square value of train data: \",r2_score_train,\" R square value of test data: \",r2_score_test)"
   ]
  },
  {
   "cell_type": "markdown",
   "id": "b56989d4",
   "metadata": {},
   "source": [
    "### Only considering area to predict yield."
   ]
  },
  {
   "cell_type": "code",
   "execution_count": 44,
   "id": "c213bd64",
   "metadata": {},
   "outputs": [],
   "source": [
    "X_train = data_train.iloc[:, [2]]\n",
    "X_test = data_test.iloc[:, [2]]"
   ]
  },
  {
   "cell_type": "code",
   "execution_count": 45,
   "id": "b6a28545",
   "metadata": {},
   "outputs": [
    {
     "data": {
      "text/html": [
       "<div>\n",
       "<style scoped>\n",
       "    .dataframe tbody tr th:only-of-type {\n",
       "        vertical-align: middle;\n",
       "    }\n",
       "\n",
       "    .dataframe tbody tr th {\n",
       "        vertical-align: top;\n",
       "    }\n",
       "\n",
       "    .dataframe thead th {\n",
       "        text-align: right;\n",
       "    }\n",
       "</style>\n",
       "<table border=\"1\" class=\"dataframe\">\n",
       "  <thead>\n",
       "    <tr style=\"text-align: right;\">\n",
       "      <th></th>\n",
       "      <th>area</th>\n",
       "    </tr>\n",
       "  </thead>\n",
       "  <tbody>\n",
       "    <tr>\n",
       "      <th>675</th>\n",
       "      <td>7.524</td>\n",
       "    </tr>\n",
       "    <tr>\n",
       "      <th>358</th>\n",
       "      <td>8.305</td>\n",
       "    </tr>\n",
       "    <tr>\n",
       "      <th>159</th>\n",
       "      <td>7.495</td>\n",
       "    </tr>\n",
       "    <tr>\n",
       "      <th>533</th>\n",
       "      <td>10.176</td>\n",
       "    </tr>\n",
       "    <tr>\n",
       "      <th>678</th>\n",
       "      <td>10.207</td>\n",
       "    </tr>\n",
       "  </tbody>\n",
       "</table>\n",
       "</div>"
      ],
      "text/plain": [
       "       area\n",
       "675   7.524\n",
       "358   8.305\n",
       "159   7.495\n",
       "533  10.176\n",
       "678  10.207"
      ]
     },
     "execution_count": 45,
     "metadata": {},
     "output_type": "execute_result"
    }
   ],
   "source": [
    "X_train.head()"
   ]
  },
  {
   "cell_type": "code",
   "execution_count": 46,
   "id": "5ed0688f",
   "metadata": {},
   "outputs": [
    {
     "data": {
      "text/plain": [
       "675    68.295\n",
       "358    52.913\n",
       "159    72.568\n",
       "533    36.008\n",
       "678    69.490\n",
       "Name: yield, dtype: float64"
      ]
     },
     "execution_count": 46,
     "metadata": {},
     "output_type": "execute_result"
    }
   ],
   "source": [
    "y_train.head()"
   ]
  },
  {
   "cell_type": "code",
   "execution_count": 47,
   "id": "abfd0be5",
   "metadata": {},
   "outputs": [],
   "source": [
    "reg = LinearRegression()\n",
    "reg.fit(X_train,y_train)\n",
    "y_train_pred=reg.predict(X_train)"
   ]
  },
  {
   "cell_type": "code",
   "execution_count": 48,
   "id": "153b9f0d",
   "metadata": {},
   "outputs": [
    {
     "name": "stdout",
     "output_type": "stream",
     "text": [
      "Mean squared error :  465.67830761378804\n",
      "Root Mean Squared error :  21.579580802550083\n"
     ]
    }
   ],
   "source": [
    "y_test_pred=reg.predict(X_test)\n",
    "print(\"Mean squared error : \",mean_squared_error(y_test, y_test_pred))\n",
    "print(\"Root Mean Squared error : \",math.sqrt(mean_squared_error(y_test, y_test_pred)))"
   ]
  },
  {
   "cell_type": "code",
   "execution_count": 49,
   "id": "7b687d3a",
   "metadata": {},
   "outputs": [
    {
     "name": "stdout",
     "output_type": "stream",
     "text": [
      "R square value of train data:  0.2227122562742917  R square value of test data:  0.29711270144399704\n"
     ]
    }
   ],
   "source": [
    "r2_score_train=reg.score(X_train,y_train)\n",
    "r2_score_test=reg.score(X_test,y_test)\n",
    "\n",
    "print(\"R square value of train data: \",r2_score_train,\" R square value of test data: \",r2_score_test)"
   ]
  },
  {
   "cell_type": "markdown",
   "id": "c7bc7474",
   "metadata": {},
   "source": [
    "### Only considering fertilizer_usage to predict yield."
   ]
  },
  {
   "cell_type": "code",
   "execution_count": 50,
   "id": "68ab22c7",
   "metadata": {},
   "outputs": [],
   "source": [
    "X_train = data_train.iloc[:, [3]]\n",
    "X_test = data_test.iloc[:, [3]]"
   ]
  },
  {
   "cell_type": "code",
   "execution_count": 51,
   "id": "64d3be6c",
   "metadata": {},
   "outputs": [
    {
     "data": {
      "text/html": [
       "<div>\n",
       "<style scoped>\n",
       "    .dataframe tbody tr th:only-of-type {\n",
       "        vertical-align: middle;\n",
       "    }\n",
       "\n",
       "    .dataframe tbody tr th {\n",
       "        vertical-align: top;\n",
       "    }\n",
       "\n",
       "    .dataframe thead th {\n",
       "        text-align: right;\n",
       "    }\n",
       "</style>\n",
       "<table border=\"1\" class=\"dataframe\">\n",
       "  <thead>\n",
       "    <tr style=\"text-align: right;\">\n",
       "      <th></th>\n",
       "      <th>fertilizer_usage</th>\n",
       "    </tr>\n",
       "  </thead>\n",
       "  <tbody>\n",
       "    <tr>\n",
       "      <th>675</th>\n",
       "      <td>4</td>\n",
       "    </tr>\n",
       "    <tr>\n",
       "      <th>358</th>\n",
       "      <td>1</td>\n",
       "    </tr>\n",
       "    <tr>\n",
       "      <th>159</th>\n",
       "      <td>3</td>\n",
       "    </tr>\n",
       "    <tr>\n",
       "      <th>533</th>\n",
       "      <td>1</td>\n",
       "    </tr>\n",
       "    <tr>\n",
       "      <th>678</th>\n",
       "      <td>1</td>\n",
       "    </tr>\n",
       "  </tbody>\n",
       "</table>\n",
       "</div>"
      ],
      "text/plain": [
       "     fertilizer_usage\n",
       "675                 4\n",
       "358                 1\n",
       "159                 3\n",
       "533                 1\n",
       "678                 1"
      ]
     },
     "execution_count": 51,
     "metadata": {},
     "output_type": "execute_result"
    }
   ],
   "source": [
    "X_train.head()"
   ]
  },
  {
   "cell_type": "code",
   "execution_count": 52,
   "id": "991a2207",
   "metadata": {},
   "outputs": [],
   "source": [
    "reg = LinearRegression()\n",
    "reg.fit(X_train,y_train)\n",
    "y_train_pred=reg.predict(X_train)"
   ]
  },
  {
   "cell_type": "code",
   "execution_count": 53,
   "id": "a64f9b69",
   "metadata": {},
   "outputs": [
    {
     "name": "stdout",
     "output_type": "stream",
     "text": [
      "Mean squared error :  533.0587635252961\n",
      "Root Mean Squared error :  23.088065391567483\n"
     ]
    }
   ],
   "source": [
    "y_test_pred=reg.predict(X_test)\n",
    "print(\"Mean squared error : \",mean_squared_error(y_test, y_test_pred))\n",
    "print(\"Root Mean Squared error : \",math.sqrt(mean_squared_error(y_test, y_test_pred)))"
   ]
  },
  {
   "cell_type": "code",
   "execution_count": 54,
   "id": "5bf54a20",
   "metadata": {},
   "outputs": [
    {
     "name": "stdout",
     "output_type": "stream",
     "text": [
      "R square value of train data:  0.20586877480966415  R square value of test data:  0.19540973212640833\n"
     ]
    }
   ],
   "source": [
    "r2_score_train=reg.score(X_train,y_train)\n",
    "r2_score_test=reg.score(X_test,y_test)\n",
    "\n",
    "print(\"R square value of train data: \",r2_score_train,\" R square value of test data: \",r2_score_test)"
   ]
  },
  {
   "cell_type": "markdown",
   "id": "4486993f",
   "metadata": {},
   "source": [
    "### Only considering pesticides to predict yield."
   ]
  },
  {
   "cell_type": "code",
   "execution_count": 55,
   "id": "d0925f01",
   "metadata": {},
   "outputs": [
    {
     "data": {
      "text/html": [
       "<div>\n",
       "<style scoped>\n",
       "    .dataframe tbody tr th:only-of-type {\n",
       "        vertical-align: middle;\n",
       "    }\n",
       "\n",
       "    .dataframe tbody tr th {\n",
       "        vertical-align: top;\n",
       "    }\n",
       "\n",
       "    .dataframe thead th {\n",
       "        text-align: right;\n",
       "    }\n",
       "</style>\n",
       "<table border=\"1\" class=\"dataframe\">\n",
       "  <thead>\n",
       "    <tr style=\"text-align: right;\">\n",
       "      <th></th>\n",
       "      <th>pesticides</th>\n",
       "    </tr>\n",
       "  </thead>\n",
       "  <tbody>\n",
       "    <tr>\n",
       "      <th>675</th>\n",
       "      <td>0.164</td>\n",
       "    </tr>\n",
       "    <tr>\n",
       "      <th>358</th>\n",
       "      <td>6.187</td>\n",
       "    </tr>\n",
       "    <tr>\n",
       "      <th>159</th>\n",
       "      <td>3.344</td>\n",
       "    </tr>\n",
       "    <tr>\n",
       "      <th>533</th>\n",
       "      <td>0.014</td>\n",
       "    </tr>\n",
       "    <tr>\n",
       "      <th>678</th>\n",
       "      <td>3.103</td>\n",
       "    </tr>\n",
       "  </tbody>\n",
       "</table>\n",
       "</div>"
      ],
      "text/plain": [
       "     pesticides\n",
       "675       0.164\n",
       "358       6.187\n",
       "159       3.344\n",
       "533       0.014\n",
       "678       3.103"
      ]
     },
     "execution_count": 55,
     "metadata": {},
     "output_type": "execute_result"
    }
   ],
   "source": [
    "X_train = data_train.iloc[:, [5]]\n",
    "X_test = data_test.iloc[:, [5]]\n",
    "X_train.head()"
   ]
  },
  {
   "cell_type": "code",
   "execution_count": 56,
   "id": "7d8d831f",
   "metadata": {},
   "outputs": [],
   "source": [
    "reg = LinearRegression()\n",
    "reg.fit(X_train,y_train)\n",
    "y_train_pred=reg.predict(X_train)"
   ]
  },
  {
   "cell_type": "code",
   "execution_count": 57,
   "id": "dbf1830b",
   "metadata": {},
   "outputs": [
    {
     "name": "stdout",
     "output_type": "stream",
     "text": [
      "Mean squared error :  662.2569831934104\n",
      "Root Mean Squared error :  25.7343541437008\n"
     ]
    }
   ],
   "source": [
    "y_test_pred=reg.predict(X_test)\n",
    "print(\"Mean squared error : \",mean_squared_error(y_test, y_test_pred))\n",
    "print(\"Root Mean Squared error : \",math.sqrt(mean_squared_error(y_test, y_test_pred)))"
   ]
  },
  {
   "cell_type": "code",
   "execution_count": 58,
   "id": "76f9d828",
   "metadata": {},
   "outputs": [
    {
     "name": "stdout",
     "output_type": "stream",
     "text": [
      "R square value of train data:  0.0006052339659345929  R square value of test data:  0.00040003097433960466\n"
     ]
    }
   ],
   "source": [
    "r2_score_train=reg.score(X_train,y_train)\n",
    "r2_score_test=reg.score(X_test,y_test)\n",
    "\n",
    "print(\"R square value of train data: \",r2_score_train,\" R square value of test data: \",r2_score_test)"
   ]
  },
  {
   "cell_type": "markdown",
   "id": "953dc2a1",
   "metadata": {},
   "source": [
    "### Only considering region to predict yield."
   ]
  },
  {
   "cell_type": "code",
   "execution_count": 59,
   "id": "dd2791b9",
   "metadata": {
    "scrolled": true
   },
   "outputs": [
    {
     "data": {
      "text/html": [
       "<div>\n",
       "<style scoped>\n",
       "    .dataframe tbody tr th:only-of-type {\n",
       "        vertical-align: middle;\n",
       "    }\n",
       "\n",
       "    .dataframe tbody tr th {\n",
       "        vertical-align: top;\n",
       "    }\n",
       "\n",
       "    .dataframe thead th {\n",
       "        text-align: right;\n",
       "    }\n",
       "</style>\n",
       "<table border=\"1\" class=\"dataframe\">\n",
       "  <thead>\n",
       "    <tr style=\"text-align: right;\">\n",
       "      <th></th>\n",
       "      <th>region</th>\n",
       "    </tr>\n",
       "  </thead>\n",
       "  <tbody>\n",
       "    <tr>\n",
       "      <th>675</th>\n",
       "      <td>4</td>\n",
       "    </tr>\n",
       "    <tr>\n",
       "      <th>358</th>\n",
       "      <td>2</td>\n",
       "    </tr>\n",
       "    <tr>\n",
       "      <th>159</th>\n",
       "      <td>1</td>\n",
       "    </tr>\n",
       "    <tr>\n",
       "      <th>533</th>\n",
       "      <td>3</td>\n",
       "    </tr>\n",
       "    <tr>\n",
       "      <th>678</th>\n",
       "      <td>4</td>\n",
       "    </tr>\n",
       "  </tbody>\n",
       "</table>\n",
       "</div>"
      ],
      "text/plain": [
       "     region\n",
       "675       4\n",
       "358       2\n",
       "159       1\n",
       "533       3\n",
       "678       4"
      ]
     },
     "execution_count": 59,
     "metadata": {},
     "output_type": "execute_result"
    }
   ],
   "source": [
    "X_train = data_train.iloc[:, [6]]\n",
    "X_test = data_test.iloc[:, [6]]\n",
    "X_train.head()"
   ]
  },
  {
   "cell_type": "code",
   "execution_count": 60,
   "id": "5b48e3dd",
   "metadata": {},
   "outputs": [],
   "source": [
    "reg = LinearRegression()\n",
    "reg.fit(X_train,y_train)\n",
    "y_train_pred=reg.predict(X_train)"
   ]
  },
  {
   "cell_type": "code",
   "execution_count": 61,
   "id": "9d1f8f5c",
   "metadata": {},
   "outputs": [
    {
     "name": "stdout",
     "output_type": "stream",
     "text": [
      "Mean squared error :  662.7690489384782\n",
      "Root Mean Squared error :  25.744301290547355\n"
     ]
    }
   ],
   "source": [
    "y_test_pred=reg.predict(X_test)\n",
    "print(\"Mean squared error : \",mean_squared_error(y_test, y_test_pred))\n",
    "print(\"Root Mean Squared error : \",math.sqrt(mean_squared_error(y_test, y_test_pred)))"
   ]
  },
  {
   "cell_type": "code",
   "execution_count": 62,
   "id": "64e21d1d",
   "metadata": {},
   "outputs": [
    {
     "name": "stdout",
     "output_type": "stream",
     "text": [
      "R square value of train data:  0.00047055254515937506  R square value of test data:  -0.0003728727713343538\n"
     ]
    }
   ],
   "source": [
    "r2_score_train=reg.score(X_train,y_train)\n",
    "r2_score_test=reg.score(X_test,y_test)\n",
    "\n",
    "print(\"R square value of train data: \",r2_score_train,\" R square value of test data: \",r2_score_test)"
   ]
  },
  {
   "cell_type": "code",
   "execution_count": 131,
   "id": "25b68a13",
   "metadata": {},
   "outputs": [
    {
     "name": "stdout",
     "output_type": "stream",
     "text": [
      "[25.809126789671357, 25.751149432045203, 21.579580802550083, 23.088065391567483, 25.7343541437008, 25.744301290547355]\n",
      "['water', 'uv', 'area', 'fertilizer_usage', 'pesticides', 'region']\n"
     ]
    }
   ],
   "source": [
    "l = []\n",
    "c = []\n",
    "for i in range(7):\n",
    "    if i != 4:\n",
    "        X_train = data_train.iloc[:, [i]]\n",
    "        X_test = data_test.iloc[:, [i]]\n",
    "        reg = LinearRegression()\n",
    "        reg.fit(X_train,y_train)\n",
    "        y_test_pred=reg.predict(X_test)\n",
    "        l.append(math.sqrt(mean_squared_error(y_test, y_test_pred)))\n",
    "        c.append(data_test.columns[i])\n",
    "print(l)\n",
    "print(c)"
   ]
  },
  {
   "cell_type": "code",
   "execution_count": 132,
   "id": "ada2a0c0",
   "metadata": {},
   "outputs": [
    {
     "data": {
      "text/plain": [
       "<AxesSubplot:>"
      ]
     },
     "execution_count": 132,
     "metadata": {},
     "output_type": "execute_result"
    },
    {
     "data": {
      "image/png": "[encoded data removed]",
      "text/plain": [
       "<Figure size 432x288 with 1 Axes>"
      ]
     },
     "metadata": {
      "needs_background": "light"
     },
     "output_type": "display_data"
    }
   ],
   "source": [
    "sns.scatterplot(x=c, y=l, color='r')"
   ]
  },
  {
   "cell_type": "markdown",
   "id": "8d297cc5",
   "metadata": {},
   "source": [
    "From the above data we can see that area has the least mean squared error followed by fertilizer usage."
   ]
  },
  {
   "cell_type": "markdown",
   "id": "823434d7",
   "metadata": {},
   "source": [
    "### Considering area and water to predict yield."
   ]
  },
  {
   "cell_type": "code",
   "execution_count": 63,
   "id": "1bfdc64b",
   "metadata": {},
   "outputs": [
    {
     "data": {
      "text/html": [
       "<div>\n",
       "<style scoped>\n",
       "    .dataframe tbody tr th:only-of-type {\n",
       "        vertical-align: middle;\n",
       "    }\n",
       "\n",
       "    .dataframe tbody tr th {\n",
       "        vertical-align: top;\n",
       "    }\n",
       "\n",
       "    .dataframe thead th {\n",
       "        text-align: right;\n",
       "    }\n",
       "</style>\n",
       "<table border=\"1\" class=\"dataframe\">\n",
       "  <thead>\n",
       "    <tr style=\"text-align: right;\">\n",
       "      <th></th>\n",
       "      <th>area</th>\n",
       "      <th>water</th>\n",
       "    </tr>\n",
       "  </thead>\n",
       "  <tbody>\n",
       "    <tr>\n",
       "      <th>675</th>\n",
       "      <td>7.524</td>\n",
       "      <td>4.923</td>\n",
       "    </tr>\n",
       "    <tr>\n",
       "      <th>358</th>\n",
       "      <td>8.305</td>\n",
       "      <td>1.598</td>\n",
       "    </tr>\n",
       "    <tr>\n",
       "      <th>159</th>\n",
       "      <td>7.495</td>\n",
       "      <td>4.064</td>\n",
       "    </tr>\n",
       "    <tr>\n",
       "      <th>533</th>\n",
       "      <td>10.176</td>\n",
       "      <td>8.684</td>\n",
       "    </tr>\n",
       "    <tr>\n",
       "      <th>678</th>\n",
       "      <td>10.207</td>\n",
       "      <td>6.084</td>\n",
       "    </tr>\n",
       "  </tbody>\n",
       "</table>\n",
       "</div>"
      ],
      "text/plain": [
       "       area  water\n",
       "675   7.524  4.923\n",
       "358   8.305  1.598\n",
       "159   7.495  4.064\n",
       "533  10.176  8.684\n",
       "678  10.207  6.084"
      ]
     },
     "execution_count": 63,
     "metadata": {},
     "output_type": "execute_result"
    }
   ],
   "source": [
    "X_train = data_train.iloc[:, [2,0]]\n",
    "X_test = data_test.iloc[:, [2,0]]\n",
    "X_train.head()"
   ]
  },
  {
   "cell_type": "code",
   "execution_count": 64,
   "id": "4b5f5610",
   "metadata": {},
   "outputs": [],
   "source": [
    "reg = LinearRegression()\n",
    "reg.fit(X_train,y_train)\n",
    "y_train_pred=reg.predict(X_train)"
   ]
  },
  {
   "cell_type": "code",
   "execution_count": 65,
   "id": "737ca3d7",
   "metadata": {},
   "outputs": [
    {
     "name": "stdout",
     "output_type": "stream",
     "text": [
      "Mean squared error :  465.6561556408714\n",
      "Root Mean Squared error :  21.57906753409126\n"
     ]
    }
   ],
   "source": [
    "y_test_pred=reg.predict(X_test)\n",
    "print(\"Mean squared error : \",mean_squared_error(y_test, y_test_pred))\n",
    "print(\"Root Mean Squared error : \",math.sqrt(mean_squared_error(y_test, y_test_pred)))"
   ]
  },
  {
   "cell_type": "code",
   "execution_count": 66,
   "id": "dde1fc1d",
   "metadata": {},
   "outputs": [
    {
     "name": "stdout",
     "output_type": "stream",
     "text": [
      "R square value of train data:  0.22296120383556195  R square value of test data:  0.29714613727329486\n"
     ]
    }
   ],
   "source": [
    "r2_score_train=reg.score(X_train,y_train)\n",
    "r2_score_test=reg.score(X_test,y_test)\n",
    "\n",
    "print(\"R square value of train data: \",r2_score_train,\" R square value of test data: \",r2_score_test)"
   ]
  },
  {
   "cell_type": "markdown",
   "id": "4884364a",
   "metadata": {},
   "source": [
    "### Considering area and UV to predict yield"
   ]
  },
  {
   "cell_type": "code",
   "execution_count": 67,
   "id": "f48d8cd4",
   "metadata": {},
   "outputs": [
    {
     "data": {
      "text/html": [
       "<div>\n",
       "<style scoped>\n",
       "    .dataframe tbody tr th:only-of-type {\n",
       "        vertical-align: middle;\n",
       "    }\n",
       "\n",
       "    .dataframe tbody tr th {\n",
       "        vertical-align: top;\n",
       "    }\n",
       "\n",
       "    .dataframe thead th {\n",
       "        text-align: right;\n",
       "    }\n",
       "</style>\n",
       "<table border=\"1\" class=\"dataframe\">\n",
       "  <thead>\n",
       "    <tr style=\"text-align: right;\">\n",
       "      <th></th>\n",
       "      <th>area</th>\n",
       "      <th>uv</th>\n",
       "    </tr>\n",
       "  </thead>\n",
       "  <tbody>\n",
       "    <tr>\n",
       "      <th>675</th>\n",
       "      <td>7.524</td>\n",
       "      <td>90.242</td>\n",
       "    </tr>\n",
       "    <tr>\n",
       "      <th>358</th>\n",
       "      <td>8.305</td>\n",
       "      <td>71.792</td>\n",
       "    </tr>\n",
       "    <tr>\n",
       "      <th>159</th>\n",
       "      <td>7.495</td>\n",
       "      <td>81.622</td>\n",
       "    </tr>\n",
       "    <tr>\n",
       "      <th>533</th>\n",
       "      <td>10.176</td>\n",
       "      <td>57.248</td>\n",
       "    </tr>\n",
       "    <tr>\n",
       "      <th>678</th>\n",
       "      <td>10.207</td>\n",
       "      <td>70.801</td>\n",
       "    </tr>\n",
       "  </tbody>\n",
       "</table>\n",
       "</div>"
      ],
      "text/plain": [
       "       area      uv\n",
       "675   7.524  90.242\n",
       "358   8.305  71.792\n",
       "159   7.495  81.622\n",
       "533  10.176  57.248\n",
       "678  10.207  70.801"
      ]
     },
     "execution_count": 67,
     "metadata": {},
     "output_type": "execute_result"
    }
   ],
   "source": [
    "X_train = data_train.iloc[:, [2,1]]\n",
    "X_test = data_test.iloc[:, [2,1]]\n",
    "X_train.head()"
   ]
  },
  {
   "cell_type": "code",
   "execution_count": 68,
   "id": "1c29c6c8",
   "metadata": {},
   "outputs": [],
   "source": [
    "reg = LinearRegression()\n",
    "reg.fit(X_train,y_train)\n",
    "y_train_pred=reg.predict(X_train)"
   ]
  },
  {
   "cell_type": "code",
   "execution_count": 69,
   "id": "b2952a3e",
   "metadata": {},
   "outputs": [
    {
     "name": "stdout",
     "output_type": "stream",
     "text": [
      "Mean squared error :  467.13857125044916\n",
      "Root Mean Squared error :  21.613388703543208\n"
     ]
    }
   ],
   "source": [
    "y_test_pred=reg.predict(X_test)\n",
    "print(\"Mean squared error : \",mean_squared_error(y_test, y_test_pred))\n",
    "print(\"Root Mean Squared error : \",math.sqrt(mean_squared_error(y_test, y_test_pred)))"
   ]
  },
  {
   "cell_type": "code",
   "execution_count": 70,
   "id": "48318210",
   "metadata": {},
   "outputs": [
    {
     "name": "stdout",
     "output_type": "stream",
     "text": [
      "R square value of train data:  0.22284616896691545  R square value of test data:  0.2949086031513114\n"
     ]
    }
   ],
   "source": [
    "r2_score_train=reg.score(X_train,y_train)\n",
    "r2_score_test=reg.score(X_test,y_test)\n",
    "\n",
    "print(\"R square value of train data: \",r2_score_train,\" R square value of test data: \",r2_score_test)"
   ]
  },
  {
   "cell_type": "markdown",
   "id": "18bef4b4",
   "metadata": {},
   "source": [
    "### Considering pesticides and area to predict yield"
   ]
  },
  {
   "cell_type": "code",
   "execution_count": 71,
   "id": "ed95d685",
   "metadata": {},
   "outputs": [
    {
     "data": {
      "text/html": [
       "<div>\n",
       "<style scoped>\n",
       "    .dataframe tbody tr th:only-of-type {\n",
       "        vertical-align: middle;\n",
       "    }\n",
       "\n",
       "    .dataframe tbody tr th {\n",
       "        vertical-align: top;\n",
       "    }\n",
       "\n",
       "    .dataframe thead th {\n",
       "        text-align: right;\n",
       "    }\n",
       "</style>\n",
       "<table border=\"1\" class=\"dataframe\">\n",
       "  <thead>\n",
       "    <tr style=\"text-align: right;\">\n",
       "      <th></th>\n",
       "      <th>pesticides</th>\n",
       "      <th>area</th>\n",
       "    </tr>\n",
       "  </thead>\n",
       "  <tbody>\n",
       "    <tr>\n",
       "      <th>675</th>\n",
       "      <td>0.164</td>\n",
       "      <td>7.524</td>\n",
       "    </tr>\n",
       "    <tr>\n",
       "      <th>358</th>\n",
       "      <td>6.187</td>\n",
       "      <td>8.305</td>\n",
       "    </tr>\n",
       "    <tr>\n",
       "      <th>159</th>\n",
       "      <td>3.344</td>\n",
       "      <td>7.495</td>\n",
       "    </tr>\n",
       "    <tr>\n",
       "      <th>533</th>\n",
       "      <td>0.014</td>\n",
       "      <td>10.176</td>\n",
       "    </tr>\n",
       "    <tr>\n",
       "      <th>678</th>\n",
       "      <td>3.103</td>\n",
       "      <td>10.207</td>\n",
       "    </tr>\n",
       "  </tbody>\n",
       "</table>\n",
       "</div>"
      ],
      "text/plain": [
       "     pesticides    area\n",
       "675       0.164   7.524\n",
       "358       6.187   8.305\n",
       "159       3.344   7.495\n",
       "533       0.014  10.176\n",
       "678       3.103  10.207"
      ]
     },
     "execution_count": 71,
     "metadata": {},
     "output_type": "execute_result"
    }
   ],
   "source": [
    "X_train = data_train.iloc[:, [5,2]]\n",
    "X_test = data_test.iloc[:, [5,2]]\n",
    "X_train.head()"
   ]
  },
  {
   "cell_type": "code",
   "execution_count": 72,
   "id": "f30a1752",
   "metadata": {},
   "outputs": [],
   "source": [
    "reg = LinearRegression()\n",
    "reg.fit(X_train,y_train)\n",
    "y_train_pred=reg.predict(X_train)"
   ]
  },
  {
   "cell_type": "code",
   "execution_count": 73,
   "id": "47500860",
   "metadata": {},
   "outputs": [
    {
     "name": "stdout",
     "output_type": "stream",
     "text": [
      "Mean squared error :  464.15947912525075\n",
      "Root Mean Squared error :  21.54436072677142\n"
     ]
    }
   ],
   "source": [
    "y_test_pred=reg.predict(X_test)\n",
    "print(\"Mean squared error : \",mean_squared_error(y_test, y_test_pred))\n",
    "print(\"Root Mean Squared error : \",math.sqrt(mean_squared_error(y_test, y_test_pred)))"
   ]
  },
  {
   "cell_type": "code",
   "execution_count": 74,
   "id": "b8ce7845",
   "metadata": {},
   "outputs": [
    {
     "name": "stdout",
     "output_type": "stream",
     "text": [
      "R square value of train data:  0.2232080658376161  R square value of test data:  0.29940519657598696\n"
     ]
    }
   ],
   "source": [
    "r2_score_train=reg.score(X_train,y_train)\n",
    "r2_score_test=reg.score(X_test,y_test)\n",
    "\n",
    "print(\"R square value of train data: \",r2_score_train,\" R square value of test data: \",r2_score_test)"
   ]
  },
  {
   "cell_type": "markdown",
   "id": "6d426666",
   "metadata": {},
   "source": [
    "### Considering area and fertilizer usage to predict yield"
   ]
  },
  {
   "cell_type": "code",
   "execution_count": 75,
   "id": "61f05927",
   "metadata": {},
   "outputs": [
    {
     "data": {
      "text/html": [
       "<div>\n",
       "<style scoped>\n",
       "    .dataframe tbody tr th:only-of-type {\n",
       "        vertical-align: middle;\n",
       "    }\n",
       "\n",
       "    .dataframe tbody tr th {\n",
       "        vertical-align: top;\n",
       "    }\n",
       "\n",
       "    .dataframe thead th {\n",
       "        text-align: right;\n",
       "    }\n",
       "</style>\n",
       "<table border=\"1\" class=\"dataframe\">\n",
       "  <thead>\n",
       "    <tr style=\"text-align: right;\">\n",
       "      <th></th>\n",
       "      <th>area</th>\n",
       "      <th>fertilizer_usage</th>\n",
       "    </tr>\n",
       "  </thead>\n",
       "  <tbody>\n",
       "    <tr>\n",
       "      <th>675</th>\n",
       "      <td>7.524</td>\n",
       "      <td>4</td>\n",
       "    </tr>\n",
       "    <tr>\n",
       "      <th>358</th>\n",
       "      <td>8.305</td>\n",
       "      <td>1</td>\n",
       "    </tr>\n",
       "    <tr>\n",
       "      <th>159</th>\n",
       "      <td>7.495</td>\n",
       "      <td>3</td>\n",
       "    </tr>\n",
       "    <tr>\n",
       "      <th>533</th>\n",
       "      <td>10.176</td>\n",
       "      <td>1</td>\n",
       "    </tr>\n",
       "    <tr>\n",
       "      <th>678</th>\n",
       "      <td>10.207</td>\n",
       "      <td>1</td>\n",
       "    </tr>\n",
       "  </tbody>\n",
       "</table>\n",
       "</div>"
      ],
      "text/plain": [
       "       area  fertilizer_usage\n",
       "675   7.524                 4\n",
       "358   8.305                 1\n",
       "159   7.495                 3\n",
       "533  10.176                 1\n",
       "678  10.207                 1"
      ]
     },
     "execution_count": 75,
     "metadata": {},
     "output_type": "execute_result"
    }
   ],
   "source": [
    "X_train = data_train.iloc[:, [2,3]]\n",
    "X_test = data_test.iloc[:, [2,3]]\n",
    "X_train.head()"
   ]
  },
  {
   "cell_type": "code",
   "execution_count": 76,
   "id": "0ce66017",
   "metadata": {},
   "outputs": [],
   "source": [
    "reg = LinearRegression()\n",
    "reg.fit(X_train,y_train)\n",
    "y_train_pred=reg.predict(X_train)"
   ]
  },
  {
   "cell_type": "code",
   "execution_count": 77,
   "id": "a089fcf6",
   "metadata": {},
   "outputs": [
    {
     "name": "stdout",
     "output_type": "stream",
     "text": [
      "Mean squared error :  270.12908834520806\n",
      "Root Mean Squared error :  16.435604289018645\n"
     ]
    }
   ],
   "source": [
    "y_test_pred=reg.predict(X_test)\n",
    "print(\"Mean squared error : \",mean_squared_error(y_test, y_test_pred))\n",
    "print(\"Root Mean Squared error : \",math.sqrt(mean_squared_error(y_test, y_test_pred)))"
   ]
  },
  {
   "cell_type": "code",
   "execution_count": 78,
   "id": "7ee279ae",
   "metadata": {},
   "outputs": [
    {
     "name": "stdout",
     "output_type": "stream",
     "text": [
      "R square value of train data:  0.547529992991408  R square value of test data:  0.5922715272238347\n"
     ]
    }
   ],
   "source": [
    "r2_score_train=reg.score(X_train,y_train)\n",
    "r2_score_test=reg.score(X_test,y_test)\n",
    "\n",
    "print(\"R square value of train data: \",r2_score_train,\" R square value of test data: \",r2_score_test)"
   ]
  },
  {
   "cell_type": "markdown",
   "id": "f2a82c7a",
   "metadata": {},
   "source": [
    "### Considering area and region to predict yield"
   ]
  },
  {
   "cell_type": "code",
   "execution_count": 79,
   "id": "fee5f5eb",
   "metadata": {},
   "outputs": [
    {
     "data": {
      "text/html": [
       "<div>\n",
       "<style scoped>\n",
       "    .dataframe tbody tr th:only-of-type {\n",
       "        vertical-align: middle;\n",
       "    }\n",
       "\n",
       "    .dataframe tbody tr th {\n",
       "        vertical-align: top;\n",
       "    }\n",
       "\n",
       "    .dataframe thead th {\n",
       "        text-align: right;\n",
       "    }\n",
       "</style>\n",
       "<table border=\"1\" class=\"dataframe\">\n",
       "  <thead>\n",
       "    <tr style=\"text-align: right;\">\n",
       "      <th></th>\n",
       "      <th>area</th>\n",
       "      <th>region</th>\n",
       "    </tr>\n",
       "  </thead>\n",
       "  <tbody>\n",
       "    <tr>\n",
       "      <th>675</th>\n",
       "      <td>7.524</td>\n",
       "      <td>4</td>\n",
       "    </tr>\n",
       "    <tr>\n",
       "      <th>358</th>\n",
       "      <td>8.305</td>\n",
       "      <td>2</td>\n",
       "    </tr>\n",
       "    <tr>\n",
       "      <th>159</th>\n",
       "      <td>7.495</td>\n",
       "      <td>1</td>\n",
       "    </tr>\n",
       "    <tr>\n",
       "      <th>533</th>\n",
       "      <td>10.176</td>\n",
       "      <td>3</td>\n",
       "    </tr>\n",
       "    <tr>\n",
       "      <th>678</th>\n",
       "      <td>10.207</td>\n",
       "      <td>4</td>\n",
       "    </tr>\n",
       "  </tbody>\n",
       "</table>\n",
       "</div>"
      ],
      "text/plain": [
       "       area  region\n",
       "675   7.524       4\n",
       "358   8.305       2\n",
       "159   7.495       1\n",
       "533  10.176       3\n",
       "678  10.207       4"
      ]
     },
     "execution_count": 79,
     "metadata": {},
     "output_type": "execute_result"
    }
   ],
   "source": [
    "X_train = data_train.iloc[:, [2,6]]\n",
    "X_test = data_test.iloc[:, [2,6]]\n",
    "X_train.head()"
   ]
  },
  {
   "cell_type": "code",
   "execution_count": 80,
   "id": "7052b6d7",
   "metadata": {},
   "outputs": [],
   "source": [
    "reg = LinearRegression()\n",
    "reg.fit(X_train,y_train)\n",
    "y_train_pred=reg.predict(X_train)"
   ]
  },
  {
   "cell_type": "code",
   "execution_count": 81,
   "id": "b7ab2493",
   "metadata": {},
   "outputs": [
    {
     "name": "stdout",
     "output_type": "stream",
     "text": [
      "Mean squared error :  404.57538643017267\n",
      "Root Mean Squared error :  20.114059421960867\n"
     ]
    }
   ],
   "source": [
    "y_test_pred=reg.predict(X_test)\n",
    "print(\"Mean squared error : \",mean_squared_error(y_test, y_test_pred))\n",
    "print(\"Root Mean Squared error : \",math.sqrt(mean_squared_error(y_test, y_test_pred)))"
   ]
  },
  {
   "cell_type": "code",
   "execution_count": 82,
   "id": "11139b7e",
   "metadata": {},
   "outputs": [
    {
     "name": "stdout",
     "output_type": "stream",
     "text": [
      "R square value of train data:  0.27290346040986413  R square value of test data:  0.38934046147152934\n"
     ]
    }
   ],
   "source": [
    "r2_score_train=reg.score(X_train,y_train)\n",
    "r2_score_test=reg.score(X_test,y_test)\n",
    "\n",
    "print(\"R square value of train data: \",r2_score_train,\" R square value of test data: \",r2_score_test)"
   ]
  },
  {
   "cell_type": "markdown",
   "id": "ce266a9a",
   "metadata": {},
   "source": [
    "### Considering Area, Pesticides and Fertiliser to predict yield"
   ]
  },
  {
   "cell_type": "code",
   "execution_count": 83,
   "id": "36735e58",
   "metadata": {},
   "outputs": [
    {
     "data": {
      "text/html": [
       "<div>\n",
       "<style scoped>\n",
       "    .dataframe tbody tr th:only-of-type {\n",
       "        vertical-align: middle;\n",
       "    }\n",
       "\n",
       "    .dataframe tbody tr th {\n",
       "        vertical-align: top;\n",
       "    }\n",
       "\n",
       "    .dataframe thead th {\n",
       "        text-align: right;\n",
       "    }\n",
       "</style>\n",
       "<table border=\"1\" class=\"dataframe\">\n",
       "  <thead>\n",
       "    <tr style=\"text-align: right;\">\n",
       "      <th></th>\n",
       "      <th>pesticides</th>\n",
       "      <th>area</th>\n",
       "      <th>fertilizer_usage</th>\n",
       "    </tr>\n",
       "  </thead>\n",
       "  <tbody>\n",
       "    <tr>\n",
       "      <th>675</th>\n",
       "      <td>0.164</td>\n",
       "      <td>7.524</td>\n",
       "      <td>4</td>\n",
       "    </tr>\n",
       "    <tr>\n",
       "      <th>358</th>\n",
       "      <td>6.187</td>\n",
       "      <td>8.305</td>\n",
       "      <td>1</td>\n",
       "    </tr>\n",
       "    <tr>\n",
       "      <th>159</th>\n",
       "      <td>3.344</td>\n",
       "      <td>7.495</td>\n",
       "      <td>3</td>\n",
       "    </tr>\n",
       "    <tr>\n",
       "      <th>533</th>\n",
       "      <td>0.014</td>\n",
       "      <td>10.176</td>\n",
       "      <td>1</td>\n",
       "    </tr>\n",
       "    <tr>\n",
       "      <th>678</th>\n",
       "      <td>3.103</td>\n",
       "      <td>10.207</td>\n",
       "      <td>1</td>\n",
       "    </tr>\n",
       "  </tbody>\n",
       "</table>\n",
       "</div>"
      ],
      "text/plain": [
       "     pesticides    area  fertilizer_usage\n",
       "675       0.164   7.524                 4\n",
       "358       6.187   8.305                 1\n",
       "159       3.344   7.495                 3\n",
       "533       0.014  10.176                 1\n",
       "678       3.103  10.207                 1"
      ]
     },
     "execution_count": 83,
     "metadata": {},
     "output_type": "execute_result"
    }
   ],
   "source": [
    "X_train = data_train.iloc[:, [5,2,3]]\n",
    "X_test = data_test.iloc[:, [5,2,3]]\n",
    "X_train.head()"
   ]
  },
  {
   "cell_type": "code",
   "execution_count": 84,
   "id": "bc3fe1d3",
   "metadata": {},
   "outputs": [],
   "source": [
    "reg = LinearRegression()\n",
    "reg.fit(X_train,y_train)\n",
    "y_train_pred=reg.predict(X_train)"
   ]
  },
  {
   "cell_type": "code",
   "execution_count": 85,
   "id": "6d815eb7",
   "metadata": {},
   "outputs": [
    {
     "name": "stdout",
     "output_type": "stream",
     "text": [
      "Mean squared error :  269.00216351587585\n",
      "Root Mean Squared error :  16.40128542266965\n"
     ]
    }
   ],
   "source": [
    "y_test_pred=reg.predict(X_test)\n",
    "print(\"Mean squared error : \",mean_squared_error(y_test, y_test_pred))\n",
    "print(\"Root Mean Squared error : \",math.sqrt(mean_squared_error(y_test, y_test_pred)))"
   ]
  },
  {
   "cell_type": "code",
   "execution_count": 86,
   "id": "292bf3bc",
   "metadata": {},
   "outputs": [
    {
     "name": "stdout",
     "output_type": "stream",
     "text": [
      "R square value of train data:  0.551565591840254  R square value of test data:  0.5939724893172245\n"
     ]
    }
   ],
   "source": [
    "r2_score_train=reg.score(X_train,y_train)\n",
    "r2_score_test=reg.score(X_test,y_test)\n",
    "\n",
    "print(\"R square value of train data: \",r2_score_train,\" R square value of test data: \",r2_score_test)"
   ]
  },
  {
   "cell_type": "markdown",
   "id": "b62099a1",
   "metadata": {},
   "source": [
    "### Considering Area, Pesticides, Fertilizer and region to predict yield"
   ]
  },
  {
   "cell_type": "code",
   "execution_count": 91,
   "id": "25b17424",
   "metadata": {},
   "outputs": [
    {
     "name": "stdout",
     "output_type": "stream",
     "text": [
      "     water      uv    area  fertilizer_usage   yield  pesticides  region\n",
      "675  4.923  90.242   7.524                 4  68.295       0.164       4\n",
      "358  1.598  71.792   8.305                 1  52.913       6.187       2\n",
      "159  4.064  81.622   7.495                 3  72.568       3.344       1\n",
      "533  8.684  57.248  10.176                 1  36.008       0.014       3\n",
      "678  6.084  70.801  10.207                 1  69.490       3.103       4\n",
      "..     ...     ...     ...               ...     ...         ...     ...\n",
      "855  5.415  80.406   8.660                 2  39.515       0.565       6\n",
      "871  3.895  63.483   7.696                 4  43.779       7.281       6\n",
      "835  6.372  72.873   9.036                 0  33.832       5.085       6\n",
      "792  6.833  75.587  12.893                 2  67.094       5.742       5\n",
      "520  6.849  73.201   5.670                 1  26.347       7.569       3\n",
      "\n",
      "[800 rows x 7 columns]\n"
     ]
    }
   ],
   "source": [
    "X_train = data_train.iloc[:, [5,2,3,6]]\n",
    "X_test = data_test.iloc[:, [5,2,3,6]]\n",
    "X_train.head()"
   ]
  },
  {
   "cell_type": "code",
   "execution_count": 88,
   "id": "d96d7c7d",
   "metadata": {},
   "outputs": [],
   "source": [
    "reg = LinearRegression()\n",
    "reg.fit(X_train,y_train)\n",
    "y_train_pred=reg.predict(X_train)"
   ]
  },
  {
   "cell_type": "code",
   "execution_count": 89,
   "id": "510cfd6d",
   "metadata": {},
   "outputs": [
    {
     "name": "stdout",
     "output_type": "stream",
     "text": [
      "Mean squared error :  211.35557629908803\n",
      "Root Mean Squared error :  14.538073335180561\n"
     ]
    }
   ],
   "source": [
    "y_test_pred=reg.predict(X_test)\n",
    "print(\"Mean squared error : \",mean_squared_error(y_test, y_test_pred))\n",
    "print(\"Root Mean Squared error : \",math.sqrt(mean_squared_error(y_test, y_test_pred)))"
   ]
  },
  {
   "cell_type": "code",
   "execution_count": 90,
   "id": "6a4b0552",
   "metadata": {},
   "outputs": [
    {
     "name": "stdout",
     "output_type": "stream",
     "text": [
      "R square value of train data:  0.6464680867924696  R square value of test data:  0.6809833148104867\n"
     ]
    }
   ],
   "source": [
    "r2_score_train=reg.score(X_train,y_train)\n",
    "r2_score_test=reg.score(X_test,y_test)\n",
    "\n",
    "print(\"R square value of train data: \",r2_score_train,\" R square value of test data: \",r2_score_test)"
   ]
  }
 ],
 "metadata": {
  "kernelspec": {
   "display_name": "Python 3 (ipykernel)",
   "language": "python",
   "name": "python3"
  },
  "language_info": {
   "codemirror_mode": {
    "name": "ipython",
    "version": 3
   },
   "file_extension": ".py",
   "mimetype": "text/x-python",
   "name": "python",
   "nbconvert_exporter": "python",
   "pygments_lexer": "ipython3",
   "version": "3.10.4"
  }
 },
 "nbformat": 4,
 "nbformat_minor": 5
}
