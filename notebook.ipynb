{
 "cells": [
  {
   "cell_type": "markdown",
   "id": "c8ae696c",
   "metadata": {},
   "source": [
    "### CROP YIELD PREDICTION USING LINEAR REGRESSION"
   ]
  },
  {
   "cell_type": "markdown",
   "id": "f93d7dbf",
   "metadata": {},
   "source": [
    "##### Importing the Required modules and libraries"
   ]
  },
  {
   "cell_type": "code",
   "execution_count": 1,
   "id": "7a20526e",
   "metadata": {},
   "outputs": [],
   "source": [
    "import numpy as np\n",
    "import pandas as pd\n",
    "\n",
    "import matplotlib.pyplot as plt\n",
    "import seaborn as sns\n",
    "from sklearn.model_selection import train_test_split\n",
    "\n",
    "import statsmodels.api as sm\n",
    "from sklearn.feature_selection import RFE\n",
    "from sklearn.linear_model import LinearRegression\n",
    "from statsmodels.stats.outliers_influence import variance_inflation_factor\n",
    "from sklearn.metrics import r2_score"
   ]
  },
  {
   "cell_type": "markdown",
   "id": "ba5f9496",
   "metadata": {},
   "source": [
    "##### Reading and Analysing the data"
   ]
  },
  {
   "cell_type": "code",
   "execution_count": 2,
   "id": "d45fb134",
   "metadata": {},
   "outputs": [
    {
     "data": {
      "text/html": [
       "<div>\n",
       "<style scoped>\n",
       "    .dataframe tbody tr th:only-of-type {\n",
       "        vertical-align: middle;\n",
       "    }\n",
       "\n",
       "    .dataframe tbody tr th {\n",
       "        vertical-align: top;\n",
       "    }\n",
       "\n",
       "    .dataframe thead th {\n",
       "        text-align: right;\n",
       "    }\n",
       "</style>\n",
       "<table border=\"1\" class=\"dataframe\">\n",
       "  <thead>\n",
       "    <tr style=\"text-align: right;\">\n",
       "      <th></th>\n",
       "      <th>id</th>\n",
       "      <th>water</th>\n",
       "      <th>uv</th>\n",
       "      <th>area</th>\n",
       "      <th>fertilizer_usage</th>\n",
       "      <th>yield</th>\n",
       "      <th>pesticides</th>\n",
       "      <th>region</th>\n",
       "      <th>categories</th>\n",
       "    </tr>\n",
       "  </thead>\n",
       "  <tbody>\n",
       "    <tr>\n",
       "      <th>0</th>\n",
       "      <td>169</td>\n",
       "      <td>5.615</td>\n",
       "      <td>65.281</td>\n",
       "      <td>3.230</td>\n",
       "      <td>0</td>\n",
       "      <td>7.977</td>\n",
       "      <td>8.969</td>\n",
       "      <td>0</td>\n",
       "      <td>b,a,c</td>\n",
       "    </tr>\n",
       "    <tr>\n",
       "      <th>1</th>\n",
       "      <td>476</td>\n",
       "      <td>7.044</td>\n",
       "      <td>73.319</td>\n",
       "      <td>9.081</td>\n",
       "      <td>0</td>\n",
       "      <td>23.009</td>\n",
       "      <td>7.197</td>\n",
       "      <td>0</td>\n",
       "      <td>c,a,d</td>\n",
       "    </tr>\n",
       "    <tr>\n",
       "      <th>2</th>\n",
       "      <td>152</td>\n",
       "      <td>5.607</td>\n",
       "      <td>60.038</td>\n",
       "      <td>2.864</td>\n",
       "      <td>2</td>\n",
       "      <td>23.019</td>\n",
       "      <td>7.424</td>\n",
       "      <td>0</td>\n",
       "      <td>d,a</td>\n",
       "    </tr>\n",
       "    <tr>\n",
       "      <th>3</th>\n",
       "      <td>293</td>\n",
       "      <td>9.346</td>\n",
       "      <td>64.719</td>\n",
       "      <td>2.797</td>\n",
       "      <td>2</td>\n",
       "      <td>28.066</td>\n",
       "      <td>1.256</td>\n",
       "      <td>0</td>\n",
       "      <td>d</td>\n",
       "    </tr>\n",
       "    <tr>\n",
       "      <th>4</th>\n",
       "      <td>10</td>\n",
       "      <td>7.969</td>\n",
       "      <td>NaN</td>\n",
       "      <td>5.407</td>\n",
       "      <td>1</td>\n",
       "      <td>29.140</td>\n",
       "      <td>0.274</td>\n",
       "      <td>0</td>\n",
       "      <td>c,d</td>\n",
       "    </tr>\n",
       "    <tr>\n",
       "      <th>...</th>\n",
       "      <td>...</td>\n",
       "      <td>...</td>\n",
       "      <td>...</td>\n",
       "      <td>...</td>\n",
       "      <td>...</td>\n",
       "      <td>...</td>\n",
       "      <td>...</td>\n",
       "      <td>...</td>\n",
       "      <td>...</td>\n",
       "    </tr>\n",
       "    <tr>\n",
       "      <th>995</th>\n",
       "      <td>614</td>\n",
       "      <td>6.379</td>\n",
       "      <td>94.132</td>\n",
       "      <td>11.571</td>\n",
       "      <td>5</td>\n",
       "      <td>98.673</td>\n",
       "      <td>2.891</td>\n",
       "      <td>6</td>\n",
       "      <td>c,b</td>\n",
       "    </tr>\n",
       "    <tr>\n",
       "      <th>996</th>\n",
       "      <td>490</td>\n",
       "      <td>6.980</td>\n",
       "      <td>82.727</td>\n",
       "      <td>11.264</td>\n",
       "      <td>5</td>\n",
       "      <td>101.090</td>\n",
       "      <td>3.500</td>\n",
       "      <td>6</td>\n",
       "      <td>d,c,b</td>\n",
       "    </tr>\n",
       "    <tr>\n",
       "      <th>997</th>\n",
       "      <td>392</td>\n",
       "      <td>NaN</td>\n",
       "      <td>58.218</td>\n",
       "      <td>11.859</td>\n",
       "      <td>4</td>\n",
       "      <td>103.673</td>\n",
       "      <td>4.005</td>\n",
       "      <td>6</td>\n",
       "      <td>c,b,a</td>\n",
       "    </tr>\n",
       "    <tr>\n",
       "      <th>998</th>\n",
       "      <td>773</td>\n",
       "      <td>10.070</td>\n",
       "      <td>67.905</td>\n",
       "      <td>11.567</td>\n",
       "      <td>4</td>\n",
       "      <td>104.343</td>\n",
       "      <td>2.339</td>\n",
       "      <td>6</td>\n",
       "      <td>a</td>\n",
       "    </tr>\n",
       "    <tr>\n",
       "      <th>999</th>\n",
       "      <td>104</td>\n",
       "      <td>7.679</td>\n",
       "      <td>NaN</td>\n",
       "      <td>13.489</td>\n",
       "      <td>5</td>\n",
       "      <td>106.421</td>\n",
       "      <td>1.974</td>\n",
       "      <td>6</td>\n",
       "      <td>a</td>\n",
       "    </tr>\n",
       "  </tbody>\n",
       "</table>\n",
       "<p>1000 rows × 9 columns</p>\n",
       "</div>"
      ],
      "text/plain": [
       "      id   water      uv    area  fertilizer_usage    yield  pesticides  \\\n",
       "0    169   5.615  65.281   3.230                 0    7.977       8.969   \n",
       "1    476   7.044  73.319   9.081                 0   23.009       7.197   \n",
       "2    152   5.607  60.038   2.864                 2   23.019       7.424   \n",
       "3    293   9.346  64.719   2.797                 2   28.066       1.256   \n",
       "4     10   7.969     NaN   5.407                 1   29.140       0.274   \n",
       "..   ...     ...     ...     ...               ...      ...         ...   \n",
       "995  614   6.379  94.132  11.571                 5   98.673       2.891   \n",
       "996  490   6.980  82.727  11.264                 5  101.090       3.500   \n",
       "997  392     NaN  58.218  11.859                 4  103.673       4.005   \n",
       "998  773  10.070  67.905  11.567                 4  104.343       2.339   \n",
       "999  104   7.679     NaN  13.489                 5  106.421       1.974   \n",
       "\n",
       "     region categories  \n",
       "0         0      b,a,c  \n",
       "1         0      c,a,d  \n",
       "2         0        d,a  \n",
       "3         0          d  \n",
       "4         0        c,d  \n",
       "..      ...        ...  \n",
       "995       6        c,b  \n",
       "996       6      d,c,b  \n",
       "997       6      c,b,a  \n",
       "998       6          a  \n",
       "999       6          a  \n",
       "\n",
       "[1000 rows x 9 columns]"
      ]
     },
     "execution_count": 2,
     "metadata": {},
     "output_type": "execute_result"
    }
   ],
   "source": [
    "data = pd.read_csv('./dataset.csv')\n",
    "data"
   ]
  },
  {
   "cell_type": "code",
   "execution_count": 3,
   "id": "43061b5a",
   "metadata": {},
   "outputs": [
    {
     "name": "stdout",
     "output_type": "stream",
     "text": [
      "<class 'pandas.core.frame.DataFrame'>\n",
      "RangeIndex: 1000 entries, 0 to 999\n",
      "Data columns (total 9 columns):\n",
      " #   Column            Non-Null Count  Dtype  \n",
      "---  ------            --------------  -----  \n",
      " 0   id                1000 non-null   int64  \n",
      " 1   water             958 non-null    float64\n",
      " 2   uv                949 non-null    float64\n",
      " 3   area              1000 non-null   float64\n",
      " 4   fertilizer_usage  1000 non-null   int64  \n",
      " 5   yield             1000 non-null   float64\n",
      " 6   pesticides        1000 non-null   float64\n",
      " 7   region            1000 non-null   int64  \n",
      " 8   categories        1000 non-null   object \n",
      "dtypes: float64(5), int64(3), object(1)\n",
      "memory usage: 70.4+ KB\n"
     ]
    }
   ],
   "source": [
    "data.info()"
   ]
  },
  {
   "cell_type": "code",
   "execution_count": 4,
   "id": "ff8fda25",
   "metadata": {},
   "outputs": [],
   "source": [
    "data.drop('id', inplace=True, axis=1)\n",
    "data.drop('categories', inplace=True, axis=1)"
   ]
  },
  {
   "cell_type": "code",
   "execution_count": 5,
   "id": "194a8beb",
   "metadata": {},
   "outputs": [
    {
     "data": {
      "text/html": [
       "<div>\n",
       "<style scoped>\n",
       "    .dataframe tbody tr th:only-of-type {\n",
       "        vertical-align: middle;\n",
       "    }\n",
       "\n",
       "    .dataframe tbody tr th {\n",
       "        vertical-align: top;\n",
       "    }\n",
       "\n",
       "    .dataframe thead th {\n",
       "        text-align: right;\n",
       "    }\n",
       "</style>\n",
       "<table border=\"1\" class=\"dataframe\">\n",
       "  <thead>\n",
       "    <tr style=\"text-align: right;\">\n",
       "      <th></th>\n",
       "      <th>water</th>\n",
       "      <th>uv</th>\n",
       "      <th>area</th>\n",
       "      <th>fertilizer_usage</th>\n",
       "      <th>yield</th>\n",
       "      <th>pesticides</th>\n",
       "      <th>region</th>\n",
       "    </tr>\n",
       "  </thead>\n",
       "  <tbody>\n",
       "    <tr>\n",
       "      <th>0</th>\n",
       "      <td>5.615</td>\n",
       "      <td>65.281</td>\n",
       "      <td>3.230</td>\n",
       "      <td>0</td>\n",
       "      <td>7.977</td>\n",
       "      <td>8.969</td>\n",
       "      <td>0</td>\n",
       "    </tr>\n",
       "    <tr>\n",
       "      <th>1</th>\n",
       "      <td>7.044</td>\n",
       "      <td>73.319</td>\n",
       "      <td>9.081</td>\n",
       "      <td>0</td>\n",
       "      <td>23.009</td>\n",
       "      <td>7.197</td>\n",
       "      <td>0</td>\n",
       "    </tr>\n",
       "    <tr>\n",
       "      <th>2</th>\n",
       "      <td>5.607</td>\n",
       "      <td>60.038</td>\n",
       "      <td>2.864</td>\n",
       "      <td>2</td>\n",
       "      <td>23.019</td>\n",
       "      <td>7.424</td>\n",
       "      <td>0</td>\n",
       "    </tr>\n",
       "    <tr>\n",
       "      <th>3</th>\n",
       "      <td>9.346</td>\n",
       "      <td>64.719</td>\n",
       "      <td>2.797</td>\n",
       "      <td>2</td>\n",
       "      <td>28.066</td>\n",
       "      <td>1.256</td>\n",
       "      <td>0</td>\n",
       "    </tr>\n",
       "    <tr>\n",
       "      <th>4</th>\n",
       "      <td>7.969</td>\n",
       "      <td>NaN</td>\n",
       "      <td>5.407</td>\n",
       "      <td>1</td>\n",
       "      <td>29.140</td>\n",
       "      <td>0.274</td>\n",
       "      <td>0</td>\n",
       "    </tr>\n",
       "  </tbody>\n",
       "</table>\n",
       "</div>"
      ],
      "text/plain": [
       "   water      uv   area  fertilizer_usage   yield  pesticides  region\n",
       "0  5.615  65.281  3.230                 0   7.977       8.969       0\n",
       "1  7.044  73.319  9.081                 0  23.009       7.197       0\n",
       "2  5.607  60.038  2.864                 2  23.019       7.424       0\n",
       "3  9.346  64.719  2.797                 2  28.066       1.256       0\n",
       "4  7.969     NaN  5.407                 1  29.140       0.274       0"
      ]
     },
     "execution_count": 5,
     "metadata": {},
     "output_type": "execute_result"
    }
   ],
   "source": [
    "data.head()"
   ]
  },
  {
   "cell_type": "code",
   "execution_count": 6,
   "id": "3a878839",
   "metadata": {},
   "outputs": [],
   "source": [
    "data.fillna(0, inplace = True)"
   ]
  },
  {
   "cell_type": "code",
   "execution_count": 7,
   "id": "fe142bc4",
   "metadata": {},
   "outputs": [
    {
     "name": "stdout",
     "output_type": "stream",
     "text": [
      "<class 'pandas.core.frame.DataFrame'>\n",
      "RangeIndex: 1000 entries, 0 to 999\n",
      "Data columns (total 7 columns):\n",
      " #   Column            Non-Null Count  Dtype  \n",
      "---  ------            --------------  -----  \n",
      " 0   water             1000 non-null   float64\n",
      " 1   uv                1000 non-null   float64\n",
      " 2   area              1000 non-null   float64\n",
      " 3   fertilizer_usage  1000 non-null   int64  \n",
      " 4   yield             1000 non-null   float64\n",
      " 5   pesticides        1000 non-null   float64\n",
      " 6   region            1000 non-null   int64  \n",
      "dtypes: float64(5), int64(2)\n",
      "memory usage: 54.8 KB\n"
     ]
    }
   ],
   "source": [
    "data.info()"
   ]
  },
  {
   "cell_type": "code",
   "execution_count": 8,
   "id": "70bd0323",
   "metadata": {},
   "outputs": [
    {
     "data": {
      "text/html": [
       "<div>\n",
       "<style scoped>\n",
       "    .dataframe tbody tr th:only-of-type {\n",
       "        vertical-align: middle;\n",
       "    }\n",
       "\n",
       "    .dataframe tbody tr th {\n",
       "        vertical-align: top;\n",
       "    }\n",
       "\n",
       "    .dataframe thead th {\n",
       "        text-align: right;\n",
       "    }\n",
       "</style>\n",
       "<table border=\"1\" class=\"dataframe\">\n",
       "  <thead>\n",
       "    <tr style=\"text-align: right;\">\n",
       "      <th></th>\n",
       "      <th>water</th>\n",
       "      <th>uv</th>\n",
       "      <th>area</th>\n",
       "      <th>fertilizer_usage</th>\n",
       "      <th>yield</th>\n",
       "      <th>pesticides</th>\n",
       "      <th>region</th>\n",
       "    </tr>\n",
       "  </thead>\n",
       "  <tbody>\n",
       "    <tr>\n",
       "      <th>count</th>\n",
       "      <td>1000.000000</td>\n",
       "      <td>1000.000000</td>\n",
       "      <td>1000.000000</td>\n",
       "      <td>1000.00000</td>\n",
       "      <td>1000.000000</td>\n",
       "      <td>1000.000000</td>\n",
       "      <td>1000.000000</td>\n",
       "    </tr>\n",
       "    <tr>\n",
       "      <th>mean</th>\n",
       "      <td>11.710157</td>\n",
       "      <td>70.185656</td>\n",
       "      <td>8.098848</td>\n",
       "      <td>2.12300</td>\n",
       "      <td>58.758571</td>\n",
       "      <td>3.452301</td>\n",
       "      <td>3.039000</td>\n",
       "    </tr>\n",
       "    <tr>\n",
       "      <th>std</th>\n",
       "      <td>168.691836</td>\n",
       "      <td>18.922905</td>\n",
       "      <td>2.692632</td>\n",
       "      <td>1.52256</td>\n",
       "      <td>24.563683</td>\n",
       "      <td>2.076921</td>\n",
       "      <td>1.883886</td>\n",
       "    </tr>\n",
       "    <tr>\n",
       "      <th>min</th>\n",
       "      <td>0.000000</td>\n",
       "      <td>0.000000</td>\n",
       "      <td>0.263000</td>\n",
       "      <td>0.00000</td>\n",
       "      <td>2.843000</td>\n",
       "      <td>0.014000</td>\n",
       "      <td>0.000000</td>\n",
       "    </tr>\n",
       "    <tr>\n",
       "      <th>25%</th>\n",
       "      <td>4.262000</td>\n",
       "      <td>65.744500</td>\n",
       "      <td>6.297000</td>\n",
       "      <td>1.00000</td>\n",
       "      <td>40.698000</td>\n",
       "      <td>1.804500</td>\n",
       "      <td>2.000000</td>\n",
       "    </tr>\n",
       "    <tr>\n",
       "      <th>50%</th>\n",
       "      <td>6.348000</td>\n",
       "      <td>72.868000</td>\n",
       "      <td>7.987500</td>\n",
       "      <td>2.00000</td>\n",
       "      <td>55.602500</td>\n",
       "      <td>3.275500</td>\n",
       "      <td>2.000000</td>\n",
       "    </tr>\n",
       "    <tr>\n",
       "      <th>75%</th>\n",
       "      <td>8.611000</td>\n",
       "      <td>80.220250</td>\n",
       "      <td>9.900250</td>\n",
       "      <td>3.00000</td>\n",
       "      <td>73.645500</td>\n",
       "      <td>4.916000</td>\n",
       "      <td>5.000000</td>\n",
       "    </tr>\n",
       "    <tr>\n",
       "      <th>max</th>\n",
       "      <td>5340.000000</td>\n",
       "      <td>106.310000</td>\n",
       "      <td>18.311000</td>\n",
       "      <td>5.00000</td>\n",
       "      <td>148.845000</td>\n",
       "      <td>9.532000</td>\n",
       "      <td>6.000000</td>\n",
       "    </tr>\n",
       "  </tbody>\n",
       "</table>\n",
       "</div>"
      ],
      "text/plain": [
       "             water           uv         area  fertilizer_usage        yield  \\\n",
       "count  1000.000000  1000.000000  1000.000000        1000.00000  1000.000000   \n",
       "mean     11.710157    70.185656     8.098848           2.12300    58.758571   \n",
       "std     168.691836    18.922905     2.692632           1.52256    24.563683   \n",
       "min       0.000000     0.000000     0.263000           0.00000     2.843000   \n",
       "25%       4.262000    65.744500     6.297000           1.00000    40.698000   \n",
       "50%       6.348000    72.868000     7.987500           2.00000    55.602500   \n",
       "75%       8.611000    80.220250     9.900250           3.00000    73.645500   \n",
       "max    5340.000000   106.310000    18.311000           5.00000   148.845000   \n",
       "\n",
       "        pesticides       region  \n",
       "count  1000.000000  1000.000000  \n",
       "mean      3.452301     3.039000  \n",
       "std       2.076921     1.883886  \n",
       "min       0.014000     0.000000  \n",
       "25%       1.804500     2.000000  \n",
       "50%       3.275500     2.000000  \n",
       "75%       4.916000     5.000000  \n",
       "max       9.532000     6.000000  "
      ]
     },
     "execution_count": 8,
     "metadata": {},
     "output_type": "execute_result"
    }
   ],
   "source": [
    "data.describe()"
   ]
  },
  {
   "cell_type": "code",
   "execution_count": 9,
   "id": "62d6526f",
   "metadata": {},
   "outputs": [
    {
     "data": {
      "text/plain": [
       "(1000, 7)"
      ]
     },
     "execution_count": 9,
     "metadata": {},
     "output_type": "execute_result"
    }
   ],
   "source": [
    "data.shape"
   ]
  },
  {
   "cell_type": "code",
   "execution_count": 10,
   "id": "fcac3281",
   "metadata": {},
   "outputs": [
    {
     "data": {
      "text/plain": [
       "Index(['water', 'uv', 'area', 'fertilizer_usage', 'yield', 'pesticides',\n",
       "       'region'],\n",
       "      dtype='object')"
      ]
     },
     "execution_count": 10,
     "metadata": {},
     "output_type": "execute_result"
    }
   ],
   "source": [
    "data.columns"
   ]
  },
  {
   "cell_type": "markdown",
   "id": "0f60b60b",
   "metadata": {},
   "source": [
    "##### Visualising the data"
   ]
  },
  {
   "cell_type": "code",
   "execution_count": 11,
   "id": "7f2f9583",
   "metadata": {},
   "outputs": [
    {
     "data": {
      "text/plain": [
       "<AxesSubplot:xlabel='yield', ylabel='Count'>"
      ]
     },
     "execution_count": 11,
     "metadata": {},
     "output_type": "execute_result"
    },
    {
     "data": {
      "image/png": "[encoded data removed]",
      "text/plain": [
       "<Figure size 864x1728 with 6 Axes>"
      ]
     },
     "metadata": {
      "needs_background": "light"
     },
     "output_type": "display_data"
    }
   ],
   "source": [
    "f, ax = plt.subplots(6, figsize=(12,24))\n",
    "sns.histplot(data.water,color='b',ax=ax[0], kde=True)\n",
    "sns.histplot(data.uv,color='g',ax=ax[1], kde=True)\n",
    "sns.histplot(data.fertilizer_usage,color='y',ax=ax[2], kde=True)\n",
    "sns.histplot(data.pesticides,color='r',ax=ax[3], kde=True)\n",
    "sns.histplot(data.region,color='c',ax=ax[4], kde=True)\n",
    "sns.histplot(data['yield'],color='b',ax=ax[5], kde=True)"
   ]
  },
  {
   "cell_type": "code",
   "execution_count": 12,
   "id": "454b1acf",
   "metadata": {},
   "outputs": [
    {
     "data": {
      "text/plain": [
       "<seaborn.axisgrid.JointGrid at 0x7fca240baa40>"
      ]
     },
     "execution_count": 12,
     "metadata": {},
     "output_type": "execute_result"
    },
    {
     "data": {
      "image/png": "[encoded data removed]",
      "text/plain": [
       "<Figure size 432x432 with 3 Axes>"
      ]
     },
     "metadata": {
      "needs_background": "light"
     },
     "output_type": "display_data"
    },
    {
     "data": {
      "image/png": "[encoded data removed]",
      "text/plain": [
       "<Figure size 432x432 with 3 Axes>"
      ]
     },
     "metadata": {
      "needs_background": "light"
     },
     "output_type": "display_data"
    },
    {
     "data": {
      "image/png": "[encoded data removed]",
      "text/plain": [
       "<Figure size 432x432 with 3 Axes>"
      ]
     },
     "metadata": {
      "needs_background": "light"
     },
     "output_type": "display_data"
    },
    {
     "data": {
      "image/png": "[encoded data removed]",
      "text/plain": [
       "<Figure size 432x432 with 3 Axes>"
      ]
     },
     "metadata": {
      "needs_background": "light"
     },
     "output_type": "display_data"
    }
   ],
   "source": [
    "sns.jointplot(x='water',y='yield',data=data, color='b')\n",
    "sns.jointplot(x='fertilizer_usage', y='yield',data=data, color='y')\n",
    "sns.jointplot(x='pesticides', y='yield',data=data, color='r')\n",
    "sns.jointplot(x='uv', y='yield',data=data, color='g')"
   ]
  },
  {
   "cell_type": "code",
   "execution_count": 13,
   "id": "8c95b472",
   "metadata": {},
   "outputs": [
    {
     "data": {
      "text/plain": [
       "<seaborn.axisgrid.JointGrid at 0x7fca289d6b30>"
      ]
     },
     "execution_count": 13,
     "metadata": {},
     "output_type": "execute_result"
    },
    {
     "data": {
      "image/png": "[encoded data removed]",
      "text/plain": [
       "<Figure size 432x432 with 3 Axes>"
      ]
     },
     "metadata": {
      "needs_background": "light"
     },
     "output_type": "display_data"
    },
    {
     "data": {
      "image/png": "[encoded data removed]",
      "text/plain": [
       "<Figure size 432x432 with 3 Axes>"
      ]
     },
     "metadata": {
      "needs_background": "light"
     },
     "output_type": "display_data"
    }
   ],
   "source": [
    "sns.jointplot(x='region', y='yield',data=data, color='c')\n",
    "sns.jointplot(x='area', y='yield',data=data, color='pink')"
   ]
  },
  {
   "cell_type": "code",
   "execution_count": 14,
   "id": "3d92fc98",
   "metadata": {},
   "outputs": [
    {
     "data": {
      "image/png": "[encoded data removed]",
      "text/plain": [
       "<Figure size 864x1728 with 6 Axes>"
      ]
     },
     "metadata": {
      "needs_background": "light"
     },
     "output_type": "display_data"
    }
   ],
   "source": [
    "f, ax = plt.subplots(6, figsize=(12,24))\n",
    "sns.regplot(x=\"water\", y=\"yield\", data=data, color='b', ax=ax[0]);\n",
    "sns.regplot(x=\"fertilizer_usage\", y=\"yield\", data=data, color='y', ax=ax[1]);\n",
    "sns.regplot(x=\"pesticides\", y=\"yield\", data=data, color='r', ax=ax[2]);\n",
    "sns.regplot(x=\"uv\", y=\"yield\", data=data, color='g', ax=ax[3]);\n",
    "sns.regplot(x=\"area\", y=\"yield\", data=data, color='pink', ax=ax[4]);\n",
    "sns.regplot(x=\"region\", y=\"yield\", data=data, color='c', ax=ax[5]);"
   ]
  },
  {
   "cell_type": "code",
   "execution_count": 86,
   "id": "14dfb2b6",
   "metadata": {},
   "outputs": [
    {
     "data": {
      "text/html": [
       "<style type=\"text/css\">\n",
       "#T_652b2_row0_col0, #T_652b2_row1_col1, #T_652b2_row2_col2, #T_652b2_row3_col3, #T_652b2_row4_col4, #T_652b2_row5_col5, #T_652b2_row6_col6 {\n",
       "  background-color: #fcffa4;\n",
       "  color: #000000;\n",
       "}\n",
       "#T_652b2_row0_col1, #T_652b2_row0_col4 {\n",
       "  background-color: #09061f;\n",
       "  color: #f1f1f1;\n",
       "}\n",
       "#T_652b2_row0_col2, #T_652b2_row0_col3 {\n",
       "  background-color: #340a5f;\n",
       "  color: #f1f1f1;\n",
       "}\n",
       "#T_652b2_row0_col5, #T_652b2_row6_col5 {\n",
       "  background-color: #060419;\n",
       "  color: #f1f1f1;\n",
       "}\n",
       "#T_652b2_row0_col6, #T_652b2_row2_col3, #T_652b2_row3_col1, #T_652b2_row3_col2, #T_652b2_row3_col5, #T_652b2_row6_col0, #T_652b2_row6_col4 {\n",
       "  background-color: #000004;\n",
       "  color: #f1f1f1;\n",
       "}\n",
       "#T_652b2_row1_col0, #T_652b2_row1_col4, #T_652b2_row2_col1 {\n",
       "  background-color: #110a30;\n",
       "  color: #f1f1f1;\n",
       "}\n",
       "#T_652b2_row1_col2 {\n",
       "  background-color: #4a0c6b;\n",
       "  color: #f1f1f1;\n",
       "}\n",
       "#T_652b2_row1_col3 {\n",
       "  background-color: #2b0b57;\n",
       "  color: #f1f1f1;\n",
       "}\n",
       "#T_652b2_row1_col5, #T_652b2_row2_col0 {\n",
       "  background-color: #07051b;\n",
       "  color: #f1f1f1;\n",
       "}\n",
       "#T_652b2_row1_col6, #T_652b2_row3_col0 {\n",
       "  background-color: #08051d;\n",
       "  color: #f1f1f1;\n",
       "}\n",
       "#T_652b2_row2_col4 {\n",
       "  background-color: #c03a51;\n",
       "  color: #f1f1f1;\n",
       "}\n",
       "#T_652b2_row2_col5, #T_652b2_row5_col4 {\n",
       "  background-color: #120a32;\n",
       "  color: #f1f1f1;\n",
       "}\n",
       "#T_652b2_row2_col6 {\n",
       "  background-color: #932667;\n",
       "  color: #f1f1f1;\n",
       "}\n",
       "#T_652b2_row3_col4, #T_652b2_row6_col2 {\n",
       "  background-color: #b1325a;\n",
       "  color: #f1f1f1;\n",
       "}\n",
       "#T_652b2_row3_col6 {\n",
       "  background-color: #0c0826;\n",
       "  color: #f1f1f1;\n",
       "}\n",
       "#T_652b2_row4_col0, #T_652b2_row4_col1 {\n",
       "  background-color: #0a0722;\n",
       "  color: #f1f1f1;\n",
       "}\n",
       "#T_652b2_row4_col2 {\n",
       "  background-color: #d54a41;\n",
       "  color: #f1f1f1;\n",
       "}\n",
       "#T_652b2_row4_col3 {\n",
       "  background-color: #cb4149;\n",
       "  color: #f1f1f1;\n",
       "}\n",
       "#T_652b2_row4_col5 {\n",
       "  background-color: #160b39;\n",
       "  color: #f1f1f1;\n",
       "}\n",
       "#T_652b2_row4_col6 {\n",
       "  background-color: #010005;\n",
       "  color: #f1f1f1;\n",
       "}\n",
       "#T_652b2_row5_col0 {\n",
       "  background-color: #050417;\n",
       "  color: #f1f1f1;\n",
       "}\n",
       "#T_652b2_row5_col1 {\n",
       "  background-color: #02010a;\n",
       "  color: #f1f1f1;\n",
       "}\n",
       "#T_652b2_row5_col2 {\n",
       "  background-color: #400a67;\n",
       "  color: #f1f1f1;\n",
       "}\n",
       "#T_652b2_row5_col3 {\n",
       "  background-color: #1f0c48;\n",
       "  color: #f1f1f1;\n",
       "}\n",
       "#T_652b2_row5_col6 {\n",
       "  background-color: #040314;\n",
       "  color: #f1f1f1;\n",
       "}\n",
       "#T_652b2_row6_col1 {\n",
       "  background-color: #02020c;\n",
       "  color: #f1f1f1;\n",
       "}\n",
       "#T_652b2_row6_col3 {\n",
       "  background-color: #3b0964;\n",
       "  color: #f1f1f1;\n",
       "}\n",
       "</style>\n",
       "<table id=\"T_652b2\">\n",
       "  <thead>\n",
       "    <tr>\n",
       "      <th class=\"blank level0\" >&nbsp;</th>\n",
       "      <th id=\"T_652b2_level0_col0\" class=\"col_heading level0 col0\" >water</th>\n",
       "      <th id=\"T_652b2_level0_col1\" class=\"col_heading level0 col1\" >uv</th>\n",
       "      <th id=\"T_652b2_level0_col2\" class=\"col_heading level0 col2\" >area</th>\n",
       "      <th id=\"T_652b2_level0_col3\" class=\"col_heading level0 col3\" >fertilizer_usage</th>\n",
       "      <th id=\"T_652b2_level0_col4\" class=\"col_heading level0 col4\" >yield</th>\n",
       "      <th id=\"T_652b2_level0_col5\" class=\"col_heading level0 col5\" >pesticides</th>\n",
       "      <th id=\"T_652b2_level0_col6\" class=\"col_heading level0 col6\" >region</th>\n",
       "    </tr>\n",
       "  </thead>\n",
       "  <tbody>\n",
       "    <tr>\n",
       "      <th id=\"T_652b2_level0_row0\" class=\"row_heading level0 row0\" >water</th>\n",
       "      <td id=\"T_652b2_row0_col0\" class=\"data row0 col0\" >1.000000</td>\n",
       "      <td id=\"T_652b2_row0_col1\" class=\"data row0 col1\" >0.035519</td>\n",
       "      <td id=\"T_652b2_row0_col2\" class=\"data row0 col2\" >0.000132</td>\n",
       "      <td id=\"T_652b2_row0_col3\" class=\"data row0 col3\" >0.003419</td>\n",
       "      <td id=\"T_652b2_row0_col4\" class=\"data row0 col4\" >0.014446</td>\n",
       "      <td id=\"T_652b2_row0_col5\" class=\"data row0 col5\" >-0.008056</td>\n",
       "      <td id=\"T_652b2_row0_col6\" class=\"data row0 col6\" >-0.050885</td>\n",
       "    </tr>\n",
       "    <tr>\n",
       "      <th id=\"T_652b2_level0_row1\" class=\"row_heading level0 row1\" >uv</th>\n",
       "      <td id=\"T_652b2_row1_col0\" class=\"data row1 col0\" >0.035519</td>\n",
       "      <td id=\"T_652b2_row1_col1\" class=\"data row1 col1\" >1.000000</td>\n",
       "      <td id=\"T_652b2_row1_col2\" class=\"data row1 col2\" >0.063638</td>\n",
       "      <td id=\"T_652b2_row1_col3\" class=\"data row1 col3\" >-0.020593</td>\n",
       "      <td id=\"T_652b2_row1_col4\" class=\"data row1 col4\" >0.042384</td>\n",
       "      <td id=\"T_652b2_row1_col5\" class=\"data row1 col5\" >-0.002886</td>\n",
       "      <td id=\"T_652b2_row1_col6\" class=\"data row1 col6\" >0.003181</td>\n",
       "    </tr>\n",
       "    <tr>\n",
       "      <th id=\"T_652b2_level0_row2\" class=\"row_heading level0 row2\" >area</th>\n",
       "      <td id=\"T_652b2_row2_col0\" class=\"data row2 col0\" >0.000132</td>\n",
       "      <td id=\"T_652b2_row2_col1\" class=\"data row2 col1\" >0.063638</td>\n",
       "      <td id=\"T_652b2_row2_col2\" class=\"data row2 col2\" >1.000000</td>\n",
       "      <td id=\"T_652b2_row2_col3\" class=\"data row2 col3\" >-0.202512</td>\n",
       "      <td id=\"T_652b2_row2_col4\" class=\"data row2 col4\" >0.491220</td>\n",
       "      <td id=\"T_652b2_row2_col5\" class=\"data row2 col5\" >0.036302</td>\n",
       "      <td id=\"T_652b2_row2_col6\" class=\"data row2 col6\" >0.369481</td>\n",
       "    </tr>\n",
       "    <tr>\n",
       "      <th id=\"T_652b2_level0_row3\" class=\"row_heading level0 row3\" >fertilizer_usage</th>\n",
       "      <td id=\"T_652b2_row3_col0\" class=\"data row3 col0\" >0.003419</td>\n",
       "      <td id=\"T_652b2_row3_col1\" class=\"data row3 col1\" >-0.020593</td>\n",
       "      <td id=\"T_652b2_row3_col2\" class=\"data row3 col2\" >-0.202512</td>\n",
       "      <td id=\"T_652b2_row3_col3\" class=\"data row3 col3\" >1.000000</td>\n",
       "      <td id=\"T_652b2_row3_col4\" class=\"data row3 col4\" >0.452183</td>\n",
       "      <td id=\"T_652b2_row3_col5\" class=\"data row3 col5\" >-0.056462</td>\n",
       "      <td id=\"T_652b2_row3_col6\" class=\"data row3 col6\" >0.022406</td>\n",
       "    </tr>\n",
       "    <tr>\n",
       "      <th id=\"T_652b2_level0_row4\" class=\"row_heading level0 row4\" >yield</th>\n",
       "      <td id=\"T_652b2_row4_col0\" class=\"data row4 col0\" >0.014446</td>\n",
       "      <td id=\"T_652b2_row4_col1\" class=\"data row4 col1\" >0.042384</td>\n",
       "      <td id=\"T_652b2_row4_col2\" class=\"data row4 col2\" >0.491220</td>\n",
       "      <td id=\"T_652b2_row4_col3\" class=\"data row4 col3\" >0.452183</td>\n",
       "      <td id=\"T_652b2_row4_col4\" class=\"data row4 col4\" >1.000000</td>\n",
       "      <td id=\"T_652b2_row4_col5\" class=\"data row4 col5\" >0.048380</td>\n",
       "      <td id=\"T_652b2_row4_col6\" class=\"data row4 col6\" >-0.045051</td>\n",
       "    </tr>\n",
       "    <tr>\n",
       "      <th id=\"T_652b2_level0_row5\" class=\"row_heading level0 row5\" >pesticides</th>\n",
       "      <td id=\"T_652b2_row5_col0\" class=\"data row5 col0\" >-0.008056</td>\n",
       "      <td id=\"T_652b2_row5_col1\" class=\"data row5 col1\" >-0.002886</td>\n",
       "      <td id=\"T_652b2_row5_col2\" class=\"data row5 col2\" >0.036302</td>\n",
       "      <td id=\"T_652b2_row5_col3\" class=\"data row5 col3\" >-0.056462</td>\n",
       "      <td id=\"T_652b2_row5_col4\" class=\"data row5 col4\" >0.048380</td>\n",
       "      <td id=\"T_652b2_row5_col5\" class=\"data row5 col5\" >1.000000</td>\n",
       "      <td id=\"T_652b2_row5_col6\" class=\"data row5 col6\" >-0.010899</td>\n",
       "    </tr>\n",
       "    <tr>\n",
       "      <th id=\"T_652b2_level0_row6\" class=\"row_heading level0 row6\" >region</th>\n",
       "      <td id=\"T_652b2_row6_col0\" class=\"data row6 col0\" >-0.050885</td>\n",
       "      <td id=\"T_652b2_row6_col1\" class=\"data row6 col1\" >0.003181</td>\n",
       "      <td id=\"T_652b2_row6_col2\" class=\"data row6 col2\" >0.369481</td>\n",
       "      <td id=\"T_652b2_row6_col3\" class=\"data row6 col3\" >0.022406</td>\n",
       "      <td id=\"T_652b2_row6_col4\" class=\"data row6 col4\" >-0.045051</td>\n",
       "      <td id=\"T_652b2_row6_col5\" class=\"data row6 col5\" >-0.010899</td>\n",
       "      <td id=\"T_652b2_row6_col6\" class=\"data row6 col6\" >1.000000</td>\n",
       "    </tr>\n",
       "  </tbody>\n",
       "</table>\n"
      ],
      "text/plain": [
       "<pandas.io.formats.style.Styler at 0x7fca34b0f430>"
      ]
     },
     "execution_count": 86,
     "metadata": {},
     "output_type": "execute_result"
    }
   ],
   "source": [
    "corr=data.corr()\n",
    "corr.style.background_gradient(cmap=\"inferno\")"
   ]
  },
  {
   "cell_type": "markdown",
   "id": "c0cb94f1",
   "metadata": {},
   "source": [
    "From the above figures we can see that pesticides, area and Uv has more effect on yield. Water does'nt effect the yield at all."
   ]
  },
  {
   "cell_type": "markdown",
   "id": "4cf1cf1c",
   "metadata": {},
   "source": [
    "##### Spliting Data to Training and Testing."
   ]
  },
  {
   "cell_type": "code",
   "execution_count": 192,
   "id": "521ee2c8",
   "metadata": {},
   "outputs": [],
   "source": [
    "np.random.seed(0)\n",
    "data_train, data_test = train_test_split(\n",
    "    data, train_size = 0.7, \n",
    "    test_size = 0.3, \n",
    "    random_state = 100\n",
    ")"
   ]
  },
  {
   "cell_type": "code",
   "execution_count": 193,
   "id": "4285f123",
   "metadata": {},
   "outputs": [
    {
     "data": {
      "text/html": [
       "<div>\n",
       "<style scoped>\n",
       "    .dataframe tbody tr th:only-of-type {\n",
       "        vertical-align: middle;\n",
       "    }\n",
       "\n",
       "    .dataframe tbody tr th {\n",
       "        vertical-align: top;\n",
       "    }\n",
       "\n",
       "    .dataframe thead th {\n",
       "        text-align: right;\n",
       "    }\n",
       "</style>\n",
       "<table border=\"1\" class=\"dataframe\">\n",
       "  <thead>\n",
       "    <tr style=\"text-align: right;\">\n",
       "      <th></th>\n",
       "      <th>water</th>\n",
       "      <th>uv</th>\n",
       "      <th>area</th>\n",
       "      <th>fertilizer_usage</th>\n",
       "      <th>yield</th>\n",
       "      <th>pesticides</th>\n",
       "      <th>region</th>\n",
       "    </tr>\n",
       "  </thead>\n",
       "  <tbody>\n",
       "    <tr>\n",
       "      <th>420</th>\n",
       "      <td>2.503</td>\n",
       "      <td>70.783</td>\n",
       "      <td>7.308</td>\n",
       "      <td>2</td>\n",
       "      <td>64.891</td>\n",
       "      <td>3.849</td>\n",
       "      <td>2</td>\n",
       "    </tr>\n",
       "    <tr>\n",
       "      <th>278</th>\n",
       "      <td>6.735</td>\n",
       "      <td>99.227</td>\n",
       "      <td>8.105</td>\n",
       "      <td>1</td>\n",
       "      <td>39.838</td>\n",
       "      <td>1.434</td>\n",
       "      <td>2</td>\n",
       "    </tr>\n",
       "    <tr>\n",
       "      <th>218</th>\n",
       "      <td>8.067</td>\n",
       "      <td>71.206</td>\n",
       "      <td>3.523</td>\n",
       "      <td>1</td>\n",
       "      <td>20.605</td>\n",
       "      <td>0.529</td>\n",
       "      <td>2</td>\n",
       "    </tr>\n",
       "    <tr>\n",
       "      <th>363</th>\n",
       "      <td>6.040</td>\n",
       "      <td>71.725</td>\n",
       "      <td>10.049</td>\n",
       "      <td>1</td>\n",
       "      <td>53.753</td>\n",
       "      <td>6.930</td>\n",
       "      <td>2</td>\n",
       "    </tr>\n",
       "    <tr>\n",
       "      <th>850</th>\n",
       "      <td>9.555</td>\n",
       "      <td>66.702</td>\n",
       "      <td>6.236</td>\n",
       "      <td>2</td>\n",
       "      <td>37.121</td>\n",
       "      <td>6.150</td>\n",
       "      <td>6</td>\n",
       "    </tr>\n",
       "  </tbody>\n",
       "</table>\n",
       "</div>"
      ],
      "text/plain": [
       "     water      uv    area  fertilizer_usage   yield  pesticides  region\n",
       "420  2.503  70.783   7.308                 2  64.891       3.849       2\n",
       "278  6.735  99.227   8.105                 1  39.838       1.434       2\n",
       "218  8.067  71.206   3.523                 1  20.605       0.529       2\n",
       "363  6.040  71.725  10.049                 1  53.753       6.930       2\n",
       "850  9.555  66.702   6.236                 2  37.121       6.150       6"
      ]
     },
     "execution_count": 193,
     "metadata": {},
     "output_type": "execute_result"
    }
   ],
   "source": [
    "data_train.head()"
   ]
  },
  {
   "cell_type": "code",
   "execution_count": 194,
   "id": "ecea5c78",
   "metadata": {
    "scrolled": true
   },
   "outputs": [
    {
     "data": {
      "text/html": [
       "<div>\n",
       "<style scoped>\n",
       "    .dataframe tbody tr th:only-of-type {\n",
       "        vertical-align: middle;\n",
       "    }\n",
       "\n",
       "    .dataframe tbody tr th {\n",
       "        vertical-align: top;\n",
       "    }\n",
       "\n",
       "    .dataframe thead th {\n",
       "        text-align: right;\n",
       "    }\n",
       "</style>\n",
       "<table border=\"1\" class=\"dataframe\">\n",
       "  <thead>\n",
       "    <tr style=\"text-align: right;\">\n",
       "      <th></th>\n",
       "      <th>water</th>\n",
       "      <th>uv</th>\n",
       "      <th>area</th>\n",
       "      <th>fertilizer_usage</th>\n",
       "      <th>yield</th>\n",
       "      <th>pesticides</th>\n",
       "      <th>region</th>\n",
       "    </tr>\n",
       "  </thead>\n",
       "  <tbody>\n",
       "    <tr>\n",
       "      <th>count</th>\n",
       "      <td>1000.000000</td>\n",
       "      <td>1000.000000</td>\n",
       "      <td>1000.000000</td>\n",
       "      <td>1000.00000</td>\n",
       "      <td>1000.000000</td>\n",
       "      <td>1000.000000</td>\n",
       "      <td>1000.000000</td>\n",
       "    </tr>\n",
       "    <tr>\n",
       "      <th>mean</th>\n",
       "      <td>11.710157</td>\n",
       "      <td>70.185656</td>\n",
       "      <td>8.098848</td>\n",
       "      <td>2.12300</td>\n",
       "      <td>58.758571</td>\n",
       "      <td>3.452301</td>\n",
       "      <td>3.039000</td>\n",
       "    </tr>\n",
       "    <tr>\n",
       "      <th>std</th>\n",
       "      <td>168.691836</td>\n",
       "      <td>18.922905</td>\n",
       "      <td>2.692632</td>\n",
       "      <td>1.52256</td>\n",
       "      <td>24.563683</td>\n",
       "      <td>2.076921</td>\n",
       "      <td>1.883886</td>\n",
       "    </tr>\n",
       "    <tr>\n",
       "      <th>min</th>\n",
       "      <td>0.000000</td>\n",
       "      <td>0.000000</td>\n",
       "      <td>0.263000</td>\n",
       "      <td>0.00000</td>\n",
       "      <td>2.843000</td>\n",
       "      <td>0.014000</td>\n",
       "      <td>0.000000</td>\n",
       "    </tr>\n",
       "    <tr>\n",
       "      <th>25%</th>\n",
       "      <td>4.262000</td>\n",
       "      <td>65.744500</td>\n",
       "      <td>6.297000</td>\n",
       "      <td>1.00000</td>\n",
       "      <td>40.698000</td>\n",
       "      <td>1.804500</td>\n",
       "      <td>2.000000</td>\n",
       "    </tr>\n",
       "    <tr>\n",
       "      <th>50%</th>\n",
       "      <td>6.348000</td>\n",
       "      <td>72.868000</td>\n",
       "      <td>7.987500</td>\n",
       "      <td>2.00000</td>\n",
       "      <td>55.602500</td>\n",
       "      <td>3.275500</td>\n",
       "      <td>2.000000</td>\n",
       "    </tr>\n",
       "    <tr>\n",
       "      <th>75%</th>\n",
       "      <td>8.611000</td>\n",
       "      <td>80.220250</td>\n",
       "      <td>9.900250</td>\n",
       "      <td>3.00000</td>\n",
       "      <td>73.645500</td>\n",
       "      <td>4.916000</td>\n",
       "      <td>5.000000</td>\n",
       "    </tr>\n",
       "    <tr>\n",
       "      <th>max</th>\n",
       "      <td>5340.000000</td>\n",
       "      <td>106.310000</td>\n",
       "      <td>18.311000</td>\n",
       "      <td>5.00000</td>\n",
       "      <td>148.845000</td>\n",
       "      <td>9.532000</td>\n",
       "      <td>6.000000</td>\n",
       "    </tr>\n",
       "  </tbody>\n",
       "</table>\n",
       "</div>"
      ],
      "text/plain": [
       "             water           uv         area  fertilizer_usage        yield  \\\n",
       "count  1000.000000  1000.000000  1000.000000        1000.00000  1000.000000   \n",
       "mean     11.710157    70.185656     8.098848           2.12300    58.758571   \n",
       "std     168.691836    18.922905     2.692632           1.52256    24.563683   \n",
       "min       0.000000     0.000000     0.263000           0.00000     2.843000   \n",
       "25%       4.262000    65.744500     6.297000           1.00000    40.698000   \n",
       "50%       6.348000    72.868000     7.987500           2.00000    55.602500   \n",
       "75%       8.611000    80.220250     9.900250           3.00000    73.645500   \n",
       "max    5340.000000   106.310000    18.311000           5.00000   148.845000   \n",
       "\n",
       "        pesticides       region  \n",
       "count  1000.000000  1000.000000  \n",
       "mean      3.452301     3.039000  \n",
       "std       2.076921     1.883886  \n",
       "min       0.014000     0.000000  \n",
       "25%       1.804500     2.000000  \n",
       "50%       3.275500     2.000000  \n",
       "75%       4.916000     5.000000  \n",
       "max       9.532000     6.000000  "
      ]
     },
     "execution_count": 194,
     "metadata": {},
     "output_type": "execute_result"
    }
   ],
   "source": [
    "data.describe()"
   ]
  },
  {
   "cell_type": "markdown",
   "id": "44627999",
   "metadata": {},
   "source": [
    "### Considering all the columns to predict yield"
   ]
  },
  {
   "cell_type": "code",
   "execution_count": 195,
   "id": "454e6a97",
   "metadata": {},
   "outputs": [],
   "source": [
    "X_train = data_train.iloc[:, [0,1,2,3,5,6]]\n",
    "y_train = data_train['yield']\n",
    "X_test = data_test.iloc[:, [0,1,2,3,5,6]]\n",
    "y_test = data_test['yield']"
   ]
  },
  {
   "cell_type": "code",
   "execution_count": 196,
   "id": "4ff6c570",
   "metadata": {},
   "outputs": [
    {
     "data": {
      "text/plain": [
       "420    64.891\n",
       "278    39.838\n",
       "218    20.605\n",
       "363    53.753\n",
       "850    37.121\n",
       "Name: yield, dtype: float64"
      ]
     },
     "execution_count": 196,
     "metadata": {},
     "output_type": "execute_result"
    }
   ],
   "source": [
    "y_train.head()"
   ]
  },
  {
   "cell_type": "code",
   "execution_count": 197,
   "id": "74a7c545",
   "metadata": {},
   "outputs": [
    {
     "data": {
      "text/html": [
       "<div>\n",
       "<style scoped>\n",
       "    .dataframe tbody tr th:only-of-type {\n",
       "        vertical-align: middle;\n",
       "    }\n",
       "\n",
       "    .dataframe tbody tr th {\n",
       "        vertical-align: top;\n",
       "    }\n",
       "\n",
       "    .dataframe thead th {\n",
       "        text-align: right;\n",
       "    }\n",
       "</style>\n",
       "<table border=\"1\" class=\"dataframe\">\n",
       "  <thead>\n",
       "    <tr style=\"text-align: right;\">\n",
       "      <th></th>\n",
       "      <th>water</th>\n",
       "      <th>uv</th>\n",
       "      <th>area</th>\n",
       "      <th>fertilizer_usage</th>\n",
       "      <th>pesticides</th>\n",
       "      <th>region</th>\n",
       "    </tr>\n",
       "  </thead>\n",
       "  <tbody>\n",
       "    <tr>\n",
       "      <th>420</th>\n",
       "      <td>2.503</td>\n",
       "      <td>70.783</td>\n",
       "      <td>7.308</td>\n",
       "      <td>2</td>\n",
       "      <td>3.849</td>\n",
       "      <td>2</td>\n",
       "    </tr>\n",
       "    <tr>\n",
       "      <th>278</th>\n",
       "      <td>6.735</td>\n",
       "      <td>99.227</td>\n",
       "      <td>8.105</td>\n",
       "      <td>1</td>\n",
       "      <td>1.434</td>\n",
       "      <td>2</td>\n",
       "    </tr>\n",
       "    <tr>\n",
       "      <th>218</th>\n",
       "      <td>8.067</td>\n",
       "      <td>71.206</td>\n",
       "      <td>3.523</td>\n",
       "      <td>1</td>\n",
       "      <td>0.529</td>\n",
       "      <td>2</td>\n",
       "    </tr>\n",
       "    <tr>\n",
       "      <th>363</th>\n",
       "      <td>6.040</td>\n",
       "      <td>71.725</td>\n",
       "      <td>10.049</td>\n",
       "      <td>1</td>\n",
       "      <td>6.930</td>\n",
       "      <td>2</td>\n",
       "    </tr>\n",
       "    <tr>\n",
       "      <th>850</th>\n",
       "      <td>9.555</td>\n",
       "      <td>66.702</td>\n",
       "      <td>6.236</td>\n",
       "      <td>2</td>\n",
       "      <td>6.150</td>\n",
       "      <td>6</td>\n",
       "    </tr>\n",
       "  </tbody>\n",
       "</table>\n",
       "</div>"
      ],
      "text/plain": [
       "     water      uv    area  fertilizer_usage  pesticides  region\n",
       "420  2.503  70.783   7.308                 2       3.849       2\n",
       "278  6.735  99.227   8.105                 1       1.434       2\n",
       "218  8.067  71.206   3.523                 1       0.529       2\n",
       "363  6.040  71.725  10.049                 1       6.930       2\n",
       "850  9.555  66.702   6.236                 2       6.150       6"
      ]
     },
     "execution_count": 197,
     "metadata": {},
     "output_type": "execute_result"
    }
   ],
   "source": [
    "X_train.head()"
   ]
  },
  {
   "cell_type": "code",
   "execution_count": 198,
   "id": "4880f46c",
   "metadata": {},
   "outputs": [
    {
     "data": {
      "text/plain": [
       "array([ 56.74694278,  50.25482916,  19.87337631,  66.32090506,\n",
       "        33.66511754,  37.85123026,  93.21640046,  60.07614859,\n",
       "        37.99048348,  53.44515005,  72.0636275 ,  43.69291671,\n",
       "        32.29726838,  61.13309591,  72.26906895,  81.16430447,\n",
       "        85.34939794,  57.59665519,  25.26045929,  20.05759276,\n",
       "        48.41072236,  76.46919247,  41.46978735,  53.45795904,\n",
       "        74.82802543,  41.76073039,  43.2183265 ,  69.20049229,\n",
       "        49.00932614,  63.50342053,  34.38920508,  55.75144122,\n",
       "        78.23100104,  34.81161919,  45.25111931,  61.12084906,\n",
       "        27.77512111,  43.62046749,  93.92475887,  56.76611548,\n",
       "        43.27823303,  78.84861099,  68.70644638,  78.6689014 ,\n",
       "        88.73828913,  51.18263953,  51.57403767,  73.20973197,\n",
       "        65.71915449,  49.8659344 ,  68.96726457,  23.98830732,\n",
       "        75.53254926,  56.92577935,  34.67338425,  60.11945269,\n",
       "        43.45997378,  74.17575382,  70.58074487,  78.05688029,\n",
       "        13.06369931,  61.95404412,  42.65974278,  80.09191429,\n",
       "        51.65565509,  53.34513636,  59.04071723,  30.7123596 ,\n",
       "        46.92441546,  69.86653596,  51.04156385,  43.51211022,\n",
       "        30.56402984,  65.88613966,  49.48897242,  53.21470233,\n",
       "        49.98202984,  36.65312621,  49.31195343,  36.80761166,\n",
       "        56.46932288,  53.48056411,  65.60950846,  83.79108316,\n",
       "        29.12254439,  58.37996125,  28.67477027,  81.09089418,\n",
       "        87.11798912,  64.93095448,  58.93680037, 103.04741825,\n",
       "       102.31121075,  58.02509759,  58.65040568,  65.70444549,\n",
       "        82.46739756,  84.00242688,  83.80986476,  38.12164764,\n",
       "        81.09856391,  60.37758699,  77.2302145 ,  50.11964124,\n",
       "        97.38709853,  95.57908928,  52.04301091,  76.56777337,\n",
       "        74.89754296,  67.74737229,  73.63570581,  48.80529257,\n",
       "        89.78682117,  51.42785099,  72.35849665,  66.57148747,\n",
       "        21.50252927,  68.93732102,  43.26117877,  44.33101921,\n",
       "        61.46255439,  70.34028843,  61.77706725,  37.80154925,\n",
       "        37.44985286,  84.25840022,  17.73155956,  78.49160555,\n",
       "        37.60679303,  82.87274998,  53.78233836,  56.25678704,\n",
       "        31.946377  ,  20.93993162,  51.26800164,  55.73600622,\n",
       "        72.09913903,  19.62266474,  42.19973706,  42.22322957,\n",
       "        32.17694162,  51.61298122,  27.34712965,  40.47363591,\n",
       "        50.5157536 ,  71.01020995,  36.8139244 ,  44.85406128,\n",
       "        38.4298354 ,  52.31576451,  18.69075896,   7.97232783,\n",
       "        63.26228003,  52.76037037,  50.41289585,  57.84161098,\n",
       "        45.70376176,  54.69518625,  76.06336947,  12.22885351,\n",
       "        45.07107749,  67.49073972,  84.22060092,  45.25179634,\n",
       "        76.00383684,  68.55051604,  52.37338884,  65.10800129,\n",
       "        26.48272486,  39.43731041,  71.0851957 ,  54.61781167,\n",
       "       109.9189796 ,  84.58775152,  48.97795104,  52.42045131,\n",
       "        59.38933813,  49.04967302,  57.85669297,  62.38762691,\n",
       "        34.16525879,  42.06039965,  73.10801813,  82.09277515,\n",
       "        50.7305447 ,  71.74757274,  61.59784387,  28.45063445,\n",
       "        72.97594131,  67.81581345,  32.04250257,  54.43250623,\n",
       "        38.1028432 ,  78.96195375,  53.99291836,  31.50227044,\n",
       "        60.66700892,  28.04530275,  81.00845445,  64.02915098,\n",
       "        56.54136738,  72.31194338,  83.73193188,  58.87466726,\n",
       "        50.29162059,  40.53951015,  79.04918673,  39.8544998 ,\n",
       "        56.54673757, 102.4990713 ,  69.5596612 ,  42.16217535,\n",
       "        80.39183106,  38.52423432,  91.76837655,  64.37260356,\n",
       "        93.99292489,  79.40674988,  52.35810049,  62.38490956,\n",
       "        61.36831161,  48.54402048,  46.95164688,  79.99567675,\n",
       "        43.54809792,  46.55030146,  45.8079493 ,  83.84891509,\n",
       "        56.38771715,  34.81973873,  65.12812086,  67.08104207,\n",
       "        91.46807988,  54.85828032,  65.77237416,  77.1731317 ,\n",
       "        72.85884092,  37.5061697 ,  32.17546088,  58.63376505,\n",
       "        53.39183091,  52.74120397,  54.33454224,  78.45181604,\n",
       "        56.55851237,  89.89124246,  55.9224226 ,  40.84708454,\n",
       "        51.74205297,  68.93915737,  75.84713056, 111.48448535,\n",
       "        65.50828703,  66.93240496,  36.0472229 ,  44.72783512,\n",
       "        44.47490279,  60.36915986,  66.7400001 ,  40.76125158,\n",
       "        32.92990207,  40.9246663 ,  53.44901615,  44.05129865,\n",
       "        68.71281169,  47.23154098,  41.99649162,  67.08368133,\n",
       "        63.50140063,  72.97557755,  68.65185233,  78.95233814,\n",
       "        46.26625912,  24.95448515,  49.09569654,  80.79994768,\n",
       "        39.62244134,  47.50137257,  45.93419195,  50.19746859,\n",
       "        67.3104008 ,  58.52105922,  72.2963389 ,  18.60318073,\n",
       "        47.19727621,  82.12473106,  88.8820581 , 104.62952172,\n",
       "        63.85324353,  65.27406759,  79.49889029,  38.24136375,\n",
       "        20.0223504 ,  65.86253445,  62.1117168 ,  28.27782389,\n",
       "        90.03722353,  34.11356466,  79.25346755,  40.22177834,\n",
       "        68.60150844, 100.93083912,  73.99487436,  45.16890869,\n",
       "        63.23695119,  51.84813014,  81.4403095 ,  64.65519037,\n",
       "        51.20851864,  62.80408071,  49.55377623,  82.98164148,\n",
       "        65.33338189,  79.88209636,  13.13344978,  71.09662086,\n",
       "        51.26195519,  67.49036162,  31.5285887 ,  72.58901486,\n",
       "        37.38442638,  78.43192287,  33.53726573,  61.79799485,\n",
       "        79.61305313,  51.70530102,  28.33076743,  55.56102725,\n",
       "        61.13510052,  50.00488784,  58.36578337,  28.22667601,\n",
       "        47.11203407,  39.16345579,  68.4996315 ,  88.90998065,\n",
       "        60.59364491,  62.24897838,  97.1006278 ,  78.18431616,\n",
       "        68.22735242,  78.73551001,  52.85172845,  69.46730748,\n",
       "        39.26764742,  49.07272405,  52.13394866,  77.43627669,\n",
       "        61.66608845,  12.10176427,  62.38370004,  27.57576608,\n",
       "        63.88246436,  71.87302437,  52.94835007,  70.39738625,\n",
       "        74.62195365,  30.12653981,  57.40572758, 114.38919537,\n",
       "        86.27102567,  35.47798839,  62.87200357,  97.87540517,\n",
       "        16.37080076,  75.88784479,  71.05202951,  76.90188741,\n",
       "        72.11343266,  57.61562905,  17.31125562,  39.10658356,\n",
       "        41.36580022,  31.7537581 ,  58.20646221,  55.28728949,\n",
       "        96.15559243,  61.20144131,  36.54038592,  52.86390191,\n",
       "        48.42559013,  86.82145225,  74.31642707,  70.50610259,\n",
       "        79.91063705,  78.37442103,  72.25481479,  62.31835439,\n",
       "        50.95547559,  44.7759439 ,  72.19295658,  27.31202392,\n",
       "        61.2456807 ,  75.12512079,  34.33678203,  90.51984159,\n",
       "        74.3147254 ,  67.4765653 ,  37.28064666,  92.51725527,\n",
       "        45.58065769,  89.53904759,  19.54675222,  60.548739  ,\n",
       "        40.56204695,  48.72247772,  46.42792394,  48.58398579,\n",
       "        48.70932551,  85.13943712,  52.66749397,  51.78572317,\n",
       "        61.00949246,  61.03004574,  84.50978282,  59.17156124,\n",
       "        73.92170931,  43.4806943 ,  68.80288828,  46.13009775,\n",
       "        57.21725295,  52.38196829,  43.50707191,  55.91258032,\n",
       "        76.37033923,  82.90667223,  56.40552989,  65.31789136,\n",
       "        55.40813306,  56.54261736,  61.82396538,  82.42119589,\n",
       "        18.85699573,  62.08583643,  48.50841036,  79.19540445,\n",
       "        82.80470683,  61.90065564,  83.91042663,  18.08585687,\n",
       "        49.56903879,  59.74204147,  64.64533432,  65.84317584,\n",
       "        74.3229545 ,  56.61977863,  43.32359743,  67.55123188,\n",
       "        21.93547203,  54.51918088,  55.98017317,  47.52173101,\n",
       "        38.86422368,  84.2395879 ,  70.05604128,  58.50267316,\n",
       "        33.24200394,  72.69326249,  45.95799079,  79.33823844,\n",
       "        77.58885413,  46.64186653,  59.45916976,  57.54394977,\n",
       "        68.27020062,  60.96255569,  59.14690029,  91.44112834,\n",
       "        42.72850762,  86.20624944,  39.84153781,  39.03405795,\n",
       "        69.69046153,  59.02728431,  54.05546796,  37.6878175 ,\n",
       "        42.88384765,  93.36141859, 105.22934451,  51.04070478,\n",
       "        38.60081143,  58.84863902,  44.24170593,  42.00370338,\n",
       "        45.80523866,  62.59345606,  51.01716763, 111.50925747,\n",
       "        94.43420753,  37.71397895,  83.57557921,  46.77748407,\n",
       "        61.30660532,  39.29845672,  84.03341761,  76.92820648,\n",
       "       104.3892203 ,  79.07273793,  17.07678845,  90.84407705,\n",
       "        72.25423286,  53.94318431,  68.74119304,  37.66957234,\n",
       "        72.05889616,  80.25634978,  52.09443932,  47.71300414,\n",
       "        44.26674326,  87.87527292,  56.13684874,  48.7879696 ,\n",
       "        87.95207981,  68.14414013,  57.82634074,  74.20181666,\n",
       "        63.47943311,  33.66158444,  82.12513251,  23.18772267,\n",
       "        44.28433143,  48.68086157,  76.03183537,  88.31455121,\n",
       "        37.08319101,  33.73306327,  44.1378655 ,  57.53872529,\n",
       "        74.81032832,  53.45781513,  71.936589  ,  77.28466876,\n",
       "        60.38995749,  59.88218377,  52.13188919,  21.76981827,\n",
       "        25.39878737,  23.32185653,  80.35828418,  59.77336798,\n",
       "        41.35223279,  43.11086147,  21.43570198,  69.74073863,\n",
       "        39.75083386,  68.22551366,  40.90801033,  71.39895441,\n",
       "        57.45219704,  31.4953918 ,  90.78950944,  41.14655841,\n",
       "        29.70320395,  90.11637998,  72.67685818,  48.99324536,\n",
       "        91.34122778,  85.7883821 ,  58.43419934,  58.66873694,\n",
       "        33.65902566,  64.16274642,  71.32194881,  72.04472417,\n",
       "        90.69281867,  25.38023889,  55.8616067 ,  56.54453884,\n",
       "        68.96660029,  57.94636355,  36.23145526,  46.11584664,\n",
       "        69.44807802,  41.31959578,  42.96942339,  76.206914  ,\n",
       "        51.82760301,  62.39386468,  59.56926664,  69.92828048,\n",
       "        51.15241113,  33.88724988,  42.61171865,  89.31492836,\n",
       "        34.80181247,  72.59364709,  57.41266699,  33.99961196,\n",
       "        72.80223803,  80.34056411,  48.8381615 ,  32.78909246,\n",
       "        80.05320393,  36.94434453,  53.18579551,  68.67006478,\n",
       "        21.57140294,  75.39779371,  70.07397418,  30.48045453,\n",
       "        77.63892217,  89.66910604,  86.96616962,  41.76844626,\n",
       "        57.46769235,  85.05258747,  20.67029605,  19.33907752,\n",
       "        60.11186635,  48.33442611,  60.48805957,  68.19270235,\n",
       "        86.07629138,  53.541762  ,  21.26512959,  40.33025866,\n",
       "        49.64414698,  68.9597533 ,  48.22099507,  75.43550555,\n",
       "        55.58051353,  89.38925815,  43.98286615,  70.81624666,\n",
       "        74.72830641,  29.01985589,  68.08741412,  40.44842202,\n",
       "        88.05442956,  83.08563457, 101.06189673,  63.55600393,\n",
       "        78.06520199,  38.85375495,  50.48482693,  63.79349994,\n",
       "        38.07505141,  59.017898  ,  48.74197379,  49.53981101,\n",
       "        43.04706456,  54.40478896,  80.22140128,  42.64522979,\n",
       "        69.35671869,  71.58487001,  80.40328432,  43.11300076,\n",
       "        38.32828841,  40.64700998,  50.43926239,  78.91331959,\n",
       "        44.49138474,  35.03979266,  63.24966742,  67.11823546,\n",
       "        74.4962964 ,  72.98078941,  89.75607637,  60.41155839,\n",
       "        61.99868667,  41.34097845,  85.46875204,  80.65991701,\n",
       "        42.75200854,  55.989897  ,  32.78326489,  55.93500543,\n",
       "        49.4481855 ,  55.75200016,  54.21632344,  85.86804174,\n",
       "        41.86127404,  52.10427701,  41.46622118, 101.92387646,\n",
       "        63.5847575 ,  64.45693561,  61.70091204,  55.22311899,\n",
       "        30.05765705,  45.76081818,  27.91577987,  39.25490199,\n",
       "         4.43677404,  43.53490687, 104.43885654,  72.47089902,\n",
       "        89.03190078,  70.33654282,  71.31788641,  54.17313768,\n",
       "        66.31111271,  53.04715146,  51.48034282,  46.34717836,\n",
       "        64.20947891,  31.11797616,  81.42826797,  33.56823331])"
      ]
     },
     "execution_count": 198,
     "metadata": {},
     "output_type": "execute_result"
    }
   ],
   "source": [
    "reg = LinearRegression()\n",
    "reg.fit(X_train,y_train)\n",
    "y_train_pred=reg.predict(X_train)\n",
    "y_train_pred"
   ]
  },
  {
   "cell_type": "code",
   "execution_count": 199,
   "id": "1d719d25",
   "metadata": {},
   "outputs": [
    {
     "name": "stdout",
     "output_type": "stream",
     "text": [
      "R square value of train data:  0.6418061933285719  R square value of test data:  0.6812355639952077\n"
     ]
    }
   ],
   "source": [
    "r2_score_train=reg.score(X_train,y_train)\n",
    "r2_score_test=reg.score(X_test,y_test)\n",
    "\n",
    "print(\"R square value of train data: \",r2_score_train,\" R square value of test data: \",r2_score_test)"
   ]
  },
  {
   "cell_type": "markdown",
   "id": "9933e1d0",
   "metadata": {},
   "source": [
    "### Considering the attributes those are result of feature selection"
   ]
  },
  {
   "cell_type": "code",
   "execution_count": 200,
   "id": "4ccce25a",
   "metadata": {},
   "outputs": [
    {
     "data": {
      "text/plain": [
       "[('water', False, 4),\n",
       " ('uv', False, 3),\n",
       " ('area', True, 1),\n",
       " ('fertilizer_usage', True, 1),\n",
       " ('pesticides', False, 2),\n",
       " ('region', True, 1)]"
      ]
     },
     "execution_count": 200,
     "metadata": {},
     "output_type": "execute_result"
    }
   ],
   "source": [
    "rfe = RFE(reg)\n",
    "rfe = rfe.fit(X_train, y_train)\n",
    "list(zip(X_train.columns,rfe.support_,rfe.ranking_))"
   ]
  },
  {
   "cell_type": "code",
   "execution_count": 201,
   "id": "dea20ac4",
   "metadata": {},
   "outputs": [
    {
     "data": {
      "text/plain": [
       "Index(['area', 'fertilizer_usage', 'region'], dtype='object')"
      ]
     },
     "execution_count": 201,
     "metadata": {},
     "output_type": "execute_result"
    }
   ],
   "source": [
    "X_train.columns[rfe.support_]"
   ]
  },
  {
   "cell_type": "code",
   "execution_count": 188,
   "id": "ac9e4452",
   "metadata": {},
   "outputs": [
    {
     "data": {
      "text/html": [
       "<div>\n",
       "<style scoped>\n",
       "    .dataframe tbody tr th:only-of-type {\n",
       "        vertical-align: middle;\n",
       "    }\n",
       "\n",
       "    .dataframe tbody tr th {\n",
       "        vertical-align: top;\n",
       "    }\n",
       "\n",
       "    .dataframe thead th {\n",
       "        text-align: right;\n",
       "    }\n",
       "</style>\n",
       "<table border=\"1\" class=\"dataframe\">\n",
       "  <thead>\n",
       "    <tr style=\"text-align: right;\">\n",
       "      <th></th>\n",
       "      <th>area</th>\n",
       "      <th>fertilizer_usage</th>\n",
       "      <th>region</th>\n",
       "    </tr>\n",
       "  </thead>\n",
       "  <tbody>\n",
       "    <tr>\n",
       "      <th>420</th>\n",
       "      <td>7.308</td>\n",
       "      <td>2</td>\n",
       "      <td>2</td>\n",
       "    </tr>\n",
       "    <tr>\n",
       "      <th>278</th>\n",
       "      <td>8.105</td>\n",
       "      <td>1</td>\n",
       "      <td>2</td>\n",
       "    </tr>\n",
       "    <tr>\n",
       "      <th>218</th>\n",
       "      <td>3.523</td>\n",
       "      <td>1</td>\n",
       "      <td>2</td>\n",
       "    </tr>\n",
       "    <tr>\n",
       "      <th>363</th>\n",
       "      <td>10.049</td>\n",
       "      <td>1</td>\n",
       "      <td>2</td>\n",
       "    </tr>\n",
       "    <tr>\n",
       "      <th>850</th>\n",
       "      <td>6.236</td>\n",
       "      <td>2</td>\n",
       "      <td>6</td>\n",
       "    </tr>\n",
       "  </tbody>\n",
       "</table>\n",
       "</div>"
      ],
      "text/plain": [
       "       area  fertilizer_usage  region\n",
       "420   7.308                 2       2\n",
       "278   8.105                 1       2\n",
       "218   3.523                 1       2\n",
       "363  10.049                 1       2\n",
       "850   6.236                 2       6"
      ]
     },
     "execution_count": 188,
     "metadata": {},
     "output_type": "execute_result"
    }
   ],
   "source": [
    "X_train = data_train.iloc[:, [2,3,6]]\n",
    "X_test = data_test.iloc[:, [2,3,6]]\n",
    "X_train.head()"
   ]
  },
  {
   "cell_type": "code",
   "execution_count": 189,
   "id": "96a97f50",
   "metadata": {},
   "outputs": [],
   "source": [
    "reg = LinearRegression()\n",
    "reg.fit(X_train,y_train)\n",
    "y_train_pred=reg.predict(X_train)"
   ]
  },
  {
   "cell_type": "code",
   "execution_count": 190,
   "id": "b273b730",
   "metadata": {},
   "outputs": [
    {
     "name": "stdout",
     "output_type": "stream",
     "text": [
      "R square value of train data:  0.6395075314394862  R square value of test data:  0.677811464640186\n"
     ]
    }
   ],
   "source": [
    "r2_score_train=reg.score(X_train,y_train)\n",
    "r2_score_test=reg.score(X_test,y_test)\n",
    "\n",
    "print(\"R square value of train data: \",r2_score_train,\" R square value of test data: \",r2_score_test)"
   ]
  },
  {
   "cell_type": "markdown",
   "id": "3fa14b05",
   "metadata": {},
   "source": [
    "### Only considering Water to predict yield."
   ]
  },
  {
   "cell_type": "code",
   "execution_count": 133,
   "id": "64a8e394",
   "metadata": {},
   "outputs": [],
   "source": [
    "y_train = data_train['yield']\n",
    "X_train = data_train.iloc[:, [0]]\n",
    "y_test = data_test['yield']\n",
    "X_test = data_test.iloc[:, [0]]"
   ]
  },
  {
   "cell_type": "code",
   "execution_count": 134,
   "id": "d10dddf7",
   "metadata": {},
   "outputs": [
    {
     "data": {
      "text/plain": [
       "420    64.891\n",
       "278    39.838\n",
       "218    20.605\n",
       "363    53.753\n",
       "850    37.121\n",
       "Name: yield, dtype: float64"
      ]
     },
     "execution_count": 134,
     "metadata": {},
     "output_type": "execute_result"
    }
   ],
   "source": [
    "y_train.head()"
   ]
  },
  {
   "cell_type": "code",
   "execution_count": 135,
   "id": "7b346f5b",
   "metadata": {},
   "outputs": [
    {
     "data": {
      "text/html": [
       "<div>\n",
       "<style scoped>\n",
       "    .dataframe tbody tr th:only-of-type {\n",
       "        vertical-align: middle;\n",
       "    }\n",
       "\n",
       "    .dataframe tbody tr th {\n",
       "        vertical-align: top;\n",
       "    }\n",
       "\n",
       "    .dataframe thead th {\n",
       "        text-align: right;\n",
       "    }\n",
       "</style>\n",
       "<table border=\"1\" class=\"dataframe\">\n",
       "  <thead>\n",
       "    <tr style=\"text-align: right;\">\n",
       "      <th></th>\n",
       "      <th>water</th>\n",
       "    </tr>\n",
       "  </thead>\n",
       "  <tbody>\n",
       "    <tr>\n",
       "      <th>420</th>\n",
       "      <td>2.503</td>\n",
       "    </tr>\n",
       "    <tr>\n",
       "      <th>278</th>\n",
       "      <td>6.735</td>\n",
       "    </tr>\n",
       "    <tr>\n",
       "      <th>218</th>\n",
       "      <td>8.067</td>\n",
       "    </tr>\n",
       "    <tr>\n",
       "      <th>363</th>\n",
       "      <td>6.040</td>\n",
       "    </tr>\n",
       "    <tr>\n",
       "      <th>850</th>\n",
       "      <td>9.555</td>\n",
       "    </tr>\n",
       "  </tbody>\n",
       "</table>\n",
       "</div>"
      ],
      "text/plain": [
       "     water\n",
       "420  2.503\n",
       "278  6.735\n",
       "218  8.067\n",
       "363  6.040\n",
       "850  9.555"
      ]
     },
     "execution_count": 135,
     "metadata": {},
     "output_type": "execute_result"
    }
   ],
   "source": [
    "X_train.head()"
   ]
  },
  {
   "cell_type": "code",
   "execution_count": 136,
   "id": "887b10fe",
   "metadata": {},
   "outputs": [
    {
     "data": {
      "text/plain": [
       "array([58.28549092, 58.29413583, 58.29685677, 58.29271612, 58.29989638,\n",
       "       58.29362106, 58.29541255, 58.2911575 , 58.29152111, 58.28858773,\n",
       "       58.30148768, 58.29179688, 58.29870137, 58.29441364, 58.2864265 ,\n",
       "       58.29320842, 58.28823637, 58.29202771, 58.28630802, 58.29381103,\n",
       "       58.29791083, 58.30334454, 58.29508979, 58.30014968, 58.30320972,\n",
       "       58.28037792, 58.28485154, 58.28147487, 58.29891586, 58.29836636,\n",
       "       58.29946945, 58.29099204, 58.28840388, 58.29318595, 58.29081841,\n",
       "       58.28883081, 58.29171926, 58.28832625, 58.29005646, 58.28059036,\n",
       "       58.29888522, 58.28607923, 58.29642167, 58.29220952, 58.29128824,\n",
       "       58.28496389, 58.28037792, 58.29730209, 58.29069993, 58.30582648,\n",
       "       58.29747777, 58.29123308, 58.29437279, 58.30713997, 58.28988079,\n",
       "       58.29509184, 58.28732735, 58.29274676, 58.2806925 , 58.30734629,\n",
       "       58.29782708, 58.29299393, 58.29526343, 58.29201546, 58.2846922 ,\n",
       "       58.28635296, 58.30349979, 58.28101525, 58.29638898, 58.28526417,\n",
       "       58.2868473 , 58.29729392, 58.28715167, 58.28438988, 58.28948449,\n",
       "       58.29450761, 58.286116  , 58.28817918, 58.30025591, 58.29618675,\n",
       "       58.28780127, 58.28412432, 58.2981723 , 58.28037792, 58.29193988,\n",
       "       58.29201137, 58.29184387, 58.29358837, 58.2930307 , 58.2818344 ,\n",
       "       58.28859181, 58.29713459, 58.30605936, 58.2927917 , 58.29640533,\n",
       "       58.29629093, 58.29153541, 58.29539621, 58.29114729, 58.30051329,\n",
       "       58.28825067, 58.29599473, 58.29553307, 58.294383  , 58.29983306,\n",
       "       58.30408606, 58.28037792, 58.28870212, 58.28037792, 58.28885941,\n",
       "       58.29126985, 58.30124664, 58.2860159 , 58.29863192, 58.2888635 ,\n",
       "       58.30788966, 58.30801427, 58.30379803, 58.29637264, 58.28572379,\n",
       "       58.29986778, 58.30097087, 58.28991755, 58.28480047, 58.30086873,\n",
       "       58.29554941, 58.29096344, 58.29592936, 58.30345894, 58.2930593 ,\n",
       "       58.28037792, 58.28801576, 58.280525  , 58.29047931, 58.28863675,\n",
       "       58.29192558, 58.28671452, 58.29719178, 58.28037792, 58.3032567 ,\n",
       "       58.28561144, 58.29175807, 58.29885254, 58.30182882, 58.29773924,\n",
       "       58.2896806 , 58.29321659, 58.28863267, 58.30023548, 58.2839466 ,\n",
       "       58.28920464, 58.29936527, 58.29840313, 58.29213802, 58.30248863,\n",
       "       58.28891456, 58.29203997, 58.28473102, 58.29156197, 58.29853591,\n",
       "       58.29898327, 58.29002786, 58.29438709, 58.29152928, 58.29029342,\n",
       "       58.29106966, 58.29375588, 58.29330648, 58.288314  , 58.30367138,\n",
       "       58.29544932, 58.28197535, 58.29606419, 58.30089733, 58.30007819,\n",
       "       58.29113095, 58.29614385, 58.29485079, 58.29220543, 58.28884511,\n",
       "       58.29468125, 58.28675742, 58.29222178, 58.28863267, 58.28037792,\n",
       "       58.29094097, 58.2971734 , 58.29263645, 58.30405542, 58.29289997,\n",
       "       58.30530558, 58.29455255, 58.29839701, 58.29945515, 58.30266431,\n",
       "       58.28553586, 58.3066109 , 58.29217888, 58.28037792, 58.29794352,\n",
       "       58.29019333, 58.29416647, 58.28897585, 58.28768074, 58.29247099,\n",
       "       58.28037792, 58.28761742, 58.28037792, 58.29496314, 58.29352505,\n",
       "       58.29728779, 58.28037792, 58.30380008, 58.29209717, 58.28393434,\n",
       "       58.28672474, 58.30863322, 58.28831195, 58.28605267, 58.28703932,\n",
       "       58.29197665, 58.28852644, 58.28712512, 58.28638973, 58.29890565,\n",
       "       58.2984256 , 58.29047931, 58.28789115, 58.29832551, 58.29470576,\n",
       "       58.29689354, 58.28615073, 58.30360193, 58.30263571, 58.30185334,\n",
       "       58.30084218, 58.28954986, 58.30356312, 58.28721908, 58.29476704,\n",
       "       58.29561887, 58.28859794, 58.28505377, 58.29130662, 58.28899015,\n",
       "       58.29644209, 58.28438783, 58.29303683, 58.29281826, 58.29205631,\n",
       "       58.28037792, 58.28037792, 58.29135974, 58.28546436, 58.28883694,\n",
       "       58.29496314, 58.2944974 , 58.29060392, 58.2846922 , 58.29589464,\n",
       "       58.29615202, 58.28971941, 58.29337593, 58.28747034, 58.28718231,\n",
       "       58.29635426, 58.29815188, 58.29175194, 58.29671378, 58.29670765,\n",
       "       58.30030085, 58.29399692, 58.29271408, 58.29207674, 58.28447363,\n",
       "       58.29572509, 58.2893272 , 58.29070606, 58.29367008, 58.28983584,\n",
       "       58.29917734, 58.30015785, 58.29789653, 58.30517485, 58.29865643,\n",
       "       58.28721908, 58.29364966, 58.28037792, 58.28345838, 58.28771343,\n",
       "       58.303892  , 58.29043028, 58.29006055, 58.30070327, 58.29447697,\n",
       "       58.28655723, 58.29149864, 58.28946202, 58.30186764, 58.29367417,\n",
       "       58.29983306, 58.29134544, 58.30270516, 58.3004561 , 58.29540234,\n",
       "       58.30136512, 58.29474048, 58.29280192, 58.28037792, 58.29391726,\n",
       "       58.29090829, 58.29129437, 58.29774333, 58.30196364, 58.29448923,\n",
       "       58.30290739, 58.30077272, 58.30652919, 58.28754184, 58.29754518,\n",
       "       58.29432989, 58.28037792, 58.30022731, 58.3012875 , 58.29386415,\n",
       "       58.285877  , 58.28959071, 58.28914948, 58.29160895, 58.29378856,\n",
       "       58.29858085, 58.29069584, 58.29633179, 58.28991755, 58.29780665,\n",
       "       58.29564542, 58.2882425 , 58.28973371, 58.29340861, 58.29117793,\n",
       "       58.29650133, 58.28857751, 58.29024848, 58.29560252, 58.28037792,\n",
       "       58.3016511 , 58.29918755, 58.28984197, 58.29088582, 58.30037234,\n",
       "       58.30091571, 58.29029955, 58.29388049, 58.30104645, 58.3028931 ,\n",
       "       58.29045888, 58.29767183, 58.29907724, 58.29525934, 58.30052146,\n",
       "       58.29595796, 58.28367287, 58.28505785, 58.28755205, 58.29159465,\n",
       "       58.29212168, 58.2979619 , 58.30256217, 58.29873814, 58.30197794,\n",
       "       58.29353935, 58.30275419, 58.28964995, 58.3024825 , 58.29103085,\n",
       "       58.30383276, 58.29735725, 58.28852031, 58.29138016, 58.2895519 ,\n",
       "       58.29151294, 58.3009484 , 58.28977252, 58.28777471, 58.29594979,\n",
       "       58.28209791, 58.2944545 , 58.28671861, 58.28561757, 58.29087969,\n",
       "       58.30621052, 58.29113095, 58.28840592, 58.28037792, 58.29316961,\n",
       "       58.29026891, 58.29344947, 58.29184795, 58.30339357, 58.28037792,\n",
       "       58.30246616, 58.29323498, 58.29248733, 58.28894521, 58.28037792,\n",
       "       58.28851419, 58.30339357, 58.30212502, 58.29514291, 58.29665454,\n",
       "       58.28999926, 58.29639103, 58.29741444, 58.28740906, 58.29867482,\n",
       "       58.28409368, 58.30118944, 58.30059296, 58.28982359, 58.2990466 ,\n",
       "       58.29052834, 58.30219652, 58.28972349, 58.28600773, 58.30014764,\n",
       "       58.29539621, 58.2870863 , 58.29544932, 58.29888114, 58.2820877 ,\n",
       "       58.29905886, 58.29009119, 58.29187655, 58.28948449, 58.28988079,\n",
       "       58.2998494 , 58.29256291, 58.28902896, 58.29239745, 58.28908616,\n",
       "       58.28642445, 58.291229  , 58.29394177, 58.28985014, 58.29157014,\n",
       "       58.29744713, 58.29325336, 58.29515721, 58.29493046, 58.28037792,\n",
       "       58.29236477, 58.2851988 , 58.2927774 , 58.30173077, 58.30664563,\n",
       "       58.29084701, 58.28775633, 58.29475274, 58.2844818 , 58.30337518,\n",
       "       58.3114563 , 58.29061209, 58.29483037, 58.30012109, 58.29137812,\n",
       "       58.29777397, 58.30098721, 58.30421067, 58.28724564, 58.29702224,\n",
       "       58.2961459 , 58.29436258, 58.29521032, 58.29379265, 58.29487531,\n",
       "       58.29359246, 58.29398262, 58.29925496, 58.29817843, 58.30403499,\n",
       "       58.29100838, 58.30160004, 58.29703449, 58.29382942, 58.28286803,\n",
       "       58.29776784, 58.2974124 , 58.28272708, 58.29479972, 58.28380156,\n",
       "       58.29709373, 58.29569241, 58.29412766, 58.30221899, 58.30347119,\n",
       "       58.29734295, 58.29324724, 58.29521849, 58.3017369 , 58.29956137,\n",
       "       58.29007485, 58.29589872, 58.29948783, 58.28502721, 58.29572713,\n",
       "       58.28819347, 58.28470446, 58.29387844, 58.29044867, 58.29575165,\n",
       "       58.28921893, 58.29120244, 58.28411002, 58.29191128, 58.29216662,\n",
       "       58.28037792, 58.29178054, 58.30043158, 58.29380082, 58.28471876,\n",
       "       58.28037792, 58.29742261, 58.29351688, 58.30051329, 58.29099613,\n",
       "       58.2926099 , 58.29812532, 58.29253227, 58.29699772, 58.30031923,\n",
       "       58.2884386 , 58.28926387, 58.29811306, 58.29793943, 58.30133652,\n",
       "       58.30256013, 58.29351688, 58.28449201, 58.29881781, 58.286594  ,\n",
       "       58.28710673, 58.28037792, 58.28216328, 58.28954169, 58.28834668,\n",
       "       58.30609204, 58.29634609, 58.28998701, 58.29779235, 58.28084775,\n",
       "       58.3032567 , 58.3015122 , 58.28857751, 58.29138425, 58.29632566,\n",
       "       58.28805252, 58.29375179, 58.28661034, 58.29240154, 58.29365783,\n",
       "       58.28597505, 58.29333712, 58.29657896, 58.29091646, 58.29792513,\n",
       "       58.29467512, 58.28680849, 58.30057458, 58.29285094, 58.28777675,\n",
       "       58.29208287, 58.3014121 , 58.29958589, 58.29430742, 58.29240767,\n",
       "       58.29041803, 58.29189902, 58.29685677, 58.29882598, 58.29788223,\n",
       "       58.29409293, 58.28037792, 58.28037792, 58.29647682, 58.28635091,\n",
       "       58.29701406, 58.28963974, 58.29950826, 58.29300211, 58.2930164 ,\n",
       "       58.2915395 , 58.29597226, 58.29052629, 58.29025461, 58.29141693,\n",
       "       69.18865712, 58.30762206, 58.30047448, 58.29594775, 58.30546696,\n",
       "       58.2914394 , 58.29869729, 58.29710803, 58.28747238, 58.29663411,\n",
       "       58.29877491, 58.29309403, 58.29333507, 58.30086056, 58.29053446,\n",
       "       58.28488831, 58.30156735, 58.28695761, 58.29285911, 58.29184795,\n",
       "       58.28542351, 58.30275215, 58.29921206, 58.29134952, 58.30051942,\n",
       "       58.28963566, 58.30651897, 58.29698955, 58.28463092, 58.3027501 ,\n",
       "       58.28880834, 58.29456277, 58.29500808, 58.29827035, 58.28873276,\n",
       "       58.28037792, 58.28869395, 58.28583001, 58.2955535 , 58.29697117,\n",
       "       58.28037792, 58.30219243, 58.29922432, 58.29437483, 58.28839162,\n",
       "       58.28678193, 58.28037792, 58.29032815, 58.28422033, 58.29703858,\n",
       "       58.29544728, 58.28726402, 58.28357278, 58.29183161, 58.29061209,\n",
       "       58.29345151, 58.29434419, 58.29846646, 58.29599065, 58.29425023,\n",
       "       58.28845903, 58.2928489 , 58.29077755, 58.28037792, 58.30032536,\n",
       "       58.29199707, 58.29665658, 58.28527643, 58.29636243, 58.29191536,\n",
       "       58.29036696, 58.2895948 , 58.30103011, 58.30108118, 58.2964135 ,\n",
       "       58.30097904, 58.28914131, 58.28853666, 58.29126781, 58.28223886,\n",
       "       58.29443816, 58.28830991, 58.29009732, 58.2861875 , 58.28037792,\n",
       "       58.2885244 , 58.28985627, 58.29320434, 58.28037792, 58.28917604,\n",
       "       58.30027225, 58.29680366, 58.28376479, 58.29935505, 58.2955678 ,\n",
       "       58.28921893, 58.29248529, 58.29711824, 58.30002508, 58.29474048,\n",
       "       58.2914394 , 58.28833442, 58.29339431, 58.29433602, 58.2943687 ])"
      ]
     },
     "execution_count": 136,
     "metadata": {},
     "output_type": "execute_result"
    }
   ],
   "source": [
    "reg = LinearRegression()\n",
    "reg.fit(X_train,y_train)\n",
    "y_train_pred=reg.predict(X_train)\n",
    "y_train_pred"
   ]
  },
  {
   "cell_type": "code",
   "execution_count": 137,
   "id": "79031e46",
   "metadata": {},
   "outputs": [
    {
     "name": "stdout",
     "output_type": "stream",
     "text": [
      "R square value of train data:  0.00028067054951408377  R square value of test data:  -0.0037338290698163412\n"
     ]
    }
   ],
   "source": [
    "r2_score_train=reg.score(X_train,y_train)\n",
    "r2_score_test=reg.score(X_test,y_test)\n",
    "\n",
    "print(\"R square value of train data: \",r2_score_train,\" R square value of test data: \",r2_score_test)"
   ]
  },
  {
   "cell_type": "markdown",
   "id": "a0adc1a4",
   "metadata": {},
   "source": [
    "### Only considering UV to predict yield."
   ]
  },
  {
   "cell_type": "code",
   "execution_count": 138,
   "id": "e29fdf16",
   "metadata": {},
   "outputs": [],
   "source": [
    "y_train = data_train['yield']\n",
    "X_train = data_train.iloc[:, [1]]\n",
    "y_test = data_test['yield']\n",
    "X_test = data_test.iloc[:, [1]]"
   ]
  },
  {
   "cell_type": "code",
   "execution_count": 139,
   "id": "49ae9185",
   "metadata": {
    "scrolled": true
   },
   "outputs": [
    {
     "data": {
      "text/html": [
       "<div>\n",
       "<style scoped>\n",
       "    .dataframe tbody tr th:only-of-type {\n",
       "        vertical-align: middle;\n",
       "    }\n",
       "\n",
       "    .dataframe tbody tr th {\n",
       "        vertical-align: top;\n",
       "    }\n",
       "\n",
       "    .dataframe thead th {\n",
       "        text-align: right;\n",
       "    }\n",
       "</style>\n",
       "<table border=\"1\" class=\"dataframe\">\n",
       "  <thead>\n",
       "    <tr style=\"text-align: right;\">\n",
       "      <th></th>\n",
       "      <th>uv</th>\n",
       "    </tr>\n",
       "  </thead>\n",
       "  <tbody>\n",
       "    <tr>\n",
       "      <th>420</th>\n",
       "      <td>70.783</td>\n",
       "    </tr>\n",
       "    <tr>\n",
       "      <th>278</th>\n",
       "      <td>99.227</td>\n",
       "    </tr>\n",
       "    <tr>\n",
       "      <th>218</th>\n",
       "      <td>71.206</td>\n",
       "    </tr>\n",
       "    <tr>\n",
       "      <th>363</th>\n",
       "      <td>71.725</td>\n",
       "    </tr>\n",
       "    <tr>\n",
       "      <th>850</th>\n",
       "      <td>66.702</td>\n",
       "    </tr>\n",
       "  </tbody>\n",
       "</table>\n",
       "</div>"
      ],
      "text/plain": [
       "         uv\n",
       "420  70.783\n",
       "278  99.227\n",
       "218  71.206\n",
       "363  71.725\n",
       "850  66.702"
      ]
     },
     "execution_count": 139,
     "metadata": {},
     "output_type": "execute_result"
    }
   ],
   "source": [
    "X_train.head()"
   ]
  },
  {
   "cell_type": "code",
   "execution_count": 140,
   "id": "fdda8e64",
   "metadata": {},
   "outputs": [
    {
     "data": {
      "text/plain": [
       "420    64.891\n",
       "278    39.838\n",
       "218    20.605\n",
       "363    53.753\n",
       "850    37.121\n",
       "Name: yield, dtype: float64"
      ]
     },
     "execution_count": 140,
     "metadata": {},
     "output_type": "execute_result"
    }
   ],
   "source": [
    "y_train.head()"
   ]
  },
  {
   "cell_type": "code",
   "execution_count": 141,
   "id": "fc618cfe",
   "metadata": {},
   "outputs": [],
   "source": [
    "reg = LinearRegression()\n",
    "reg.fit(X_train,y_train)\n",
    "y_train_pred=reg.predict(X_train)"
   ]
  },
  {
   "cell_type": "code",
   "execution_count": 142,
   "id": "64ba093b",
   "metadata": {},
   "outputs": [
    {
     "name": "stdout",
     "output_type": "stream",
     "text": [
      "R square value of train data:  3.3320264312464154e-05  R square value of test data:  -0.002341613951195365\n"
     ]
    }
   ],
   "source": [
    "r2_score_train=reg.score(X_train,y_train)\n",
    "r2_score_test=reg.score(X_test,y_test)\n",
    "\n",
    "print(\"R square value of train data: \",r2_score_train,\" R square value of test data: \",r2_score_test)"
   ]
  },
  {
   "cell_type": "markdown",
   "id": "852ee4fd",
   "metadata": {},
   "source": [
    "### Only considering area to predict yield."
   ]
  },
  {
   "cell_type": "code",
   "execution_count": 143,
   "id": "c40b5a91",
   "metadata": {},
   "outputs": [],
   "source": [
    "X_train = data_train.iloc[:, [2]]\n",
    "X_test = data_test.iloc[:, [2]]"
   ]
  },
  {
   "cell_type": "code",
   "execution_count": 144,
   "id": "872891e9",
   "metadata": {},
   "outputs": [
    {
     "data": {
      "text/html": [
       "<div>\n",
       "<style scoped>\n",
       "    .dataframe tbody tr th:only-of-type {\n",
       "        vertical-align: middle;\n",
       "    }\n",
       "\n",
       "    .dataframe tbody tr th {\n",
       "        vertical-align: top;\n",
       "    }\n",
       "\n",
       "    .dataframe thead th {\n",
       "        text-align: right;\n",
       "    }\n",
       "</style>\n",
       "<table border=\"1\" class=\"dataframe\">\n",
       "  <thead>\n",
       "    <tr style=\"text-align: right;\">\n",
       "      <th></th>\n",
       "      <th>area</th>\n",
       "    </tr>\n",
       "  </thead>\n",
       "  <tbody>\n",
       "    <tr>\n",
       "      <th>420</th>\n",
       "      <td>7.308</td>\n",
       "    </tr>\n",
       "    <tr>\n",
       "      <th>278</th>\n",
       "      <td>8.105</td>\n",
       "    </tr>\n",
       "    <tr>\n",
       "      <th>218</th>\n",
       "      <td>3.523</td>\n",
       "    </tr>\n",
       "    <tr>\n",
       "      <th>363</th>\n",
       "      <td>10.049</td>\n",
       "    </tr>\n",
       "    <tr>\n",
       "      <th>850</th>\n",
       "      <td>6.236</td>\n",
       "    </tr>\n",
       "  </tbody>\n",
       "</table>\n",
       "</div>"
      ],
      "text/plain": [
       "       area\n",
       "420   7.308\n",
       "278   8.105\n",
       "218   3.523\n",
       "363  10.049\n",
       "850   6.236"
      ]
     },
     "execution_count": 144,
     "metadata": {},
     "output_type": "execute_result"
    }
   ],
   "source": [
    "X_train.head()"
   ]
  },
  {
   "cell_type": "code",
   "execution_count": 145,
   "id": "c3e2bac0",
   "metadata": {},
   "outputs": [
    {
     "data": {
      "text/plain": [
       "420    64.891\n",
       "278    39.838\n",
       "218    20.605\n",
       "363    53.753\n",
       "850    37.121\n",
       "Name: yield, dtype: float64"
      ]
     },
     "execution_count": 145,
     "metadata": {},
     "output_type": "execute_result"
    }
   ],
   "source": [
    "y_train.head()"
   ]
  },
  {
   "cell_type": "code",
   "execution_count": 146,
   "id": "65222716",
   "metadata": {},
   "outputs": [],
   "source": [
    "reg = LinearRegression()\n",
    "reg.fit(X_train,y_train)\n",
    "y_train_pred=reg.predict(X_train)"
   ]
  },
  {
   "cell_type": "code",
   "execution_count": 147,
   "id": "b51a8e4d",
   "metadata": {},
   "outputs": [
    {
     "name": "stdout",
     "output_type": "stream",
     "text": [
      "R square value of train data:  0.223450518590949  R square value of test data:  0.2759975216240005\n"
     ]
    }
   ],
   "source": [
    "r2_score_train=reg.score(X_train,y_train)\n",
    "r2_score_test=reg.score(X_test,y_test)\n",
    "\n",
    "print(\"R square value of train data: \",r2_score_train,\" R square value of test data: \",r2_score_test)"
   ]
  },
  {
   "cell_type": "markdown",
   "id": "dcff16a0",
   "metadata": {},
   "source": [
    "### Only considering fertilizer_usage to predict yield."
   ]
  },
  {
   "cell_type": "code",
   "execution_count": 148,
   "id": "61046b21",
   "metadata": {},
   "outputs": [],
   "source": [
    "X_train = data_train.iloc[:, [3]]\n",
    "X_test = data_test.iloc[:, [3]]"
   ]
  },
  {
   "cell_type": "code",
   "execution_count": 149,
   "id": "be51a6f2",
   "metadata": {},
   "outputs": [
    {
     "data": {
      "text/html": [
       "<div>\n",
       "<style scoped>\n",
       "    .dataframe tbody tr th:only-of-type {\n",
       "        vertical-align: middle;\n",
       "    }\n",
       "\n",
       "    .dataframe tbody tr th {\n",
       "        vertical-align: top;\n",
       "    }\n",
       "\n",
       "    .dataframe thead th {\n",
       "        text-align: right;\n",
       "    }\n",
       "</style>\n",
       "<table border=\"1\" class=\"dataframe\">\n",
       "  <thead>\n",
       "    <tr style=\"text-align: right;\">\n",
       "      <th></th>\n",
       "      <th>fertilizer_usage</th>\n",
       "    </tr>\n",
       "  </thead>\n",
       "  <tbody>\n",
       "    <tr>\n",
       "      <th>420</th>\n",
       "      <td>2</td>\n",
       "    </tr>\n",
       "    <tr>\n",
       "      <th>278</th>\n",
       "      <td>1</td>\n",
       "    </tr>\n",
       "    <tr>\n",
       "      <th>218</th>\n",
       "      <td>1</td>\n",
       "    </tr>\n",
       "    <tr>\n",
       "      <th>363</th>\n",
       "      <td>1</td>\n",
       "    </tr>\n",
       "    <tr>\n",
       "      <th>850</th>\n",
       "      <td>2</td>\n",
       "    </tr>\n",
       "  </tbody>\n",
       "</table>\n",
       "</div>"
      ],
      "text/plain": [
       "     fertilizer_usage\n",
       "420                 2\n",
       "278                 1\n",
       "218                 1\n",
       "363                 1\n",
       "850                 2"
      ]
     },
     "execution_count": 149,
     "metadata": {},
     "output_type": "execute_result"
    }
   ],
   "source": [
    "X_train.head()"
   ]
  },
  {
   "cell_type": "code",
   "execution_count": 150,
   "id": "0f09cd74",
   "metadata": {},
   "outputs": [],
   "source": [
    "reg = LinearRegression()\n",
    "reg.fit(X_train,y_train)\n",
    "y_train_pred=reg.predict(X_train)"
   ]
  },
  {
   "cell_type": "code",
   "execution_count": 151,
   "id": "dfa6ea57",
   "metadata": {},
   "outputs": [
    {
     "name": "stdout",
     "output_type": "stream",
     "text": [
      "R square value of train data:  0.21960209236037886  R square value of test data:  0.1661812879615311\n"
     ]
    }
   ],
   "source": [
    "r2_score_train=reg.score(X_train,y_train)\n",
    "r2_score_test=reg.score(X_test,y_test)\n",
    "\n",
    "print(\"R square value of train data: \",r2_score_train,\" R square value of test data: \",r2_score_test)"
   ]
  },
  {
   "cell_type": "markdown",
   "id": "a6bfb6d9",
   "metadata": {},
   "source": [
    "### Only considering pesticides to predict yield."
   ]
  },
  {
   "cell_type": "code",
   "execution_count": 152,
   "id": "82283572",
   "metadata": {},
   "outputs": [
    {
     "data": {
      "text/html": [
       "<div>\n",
       "<style scoped>\n",
       "    .dataframe tbody tr th:only-of-type {\n",
       "        vertical-align: middle;\n",
       "    }\n",
       "\n",
       "    .dataframe tbody tr th {\n",
       "        vertical-align: top;\n",
       "    }\n",
       "\n",
       "    .dataframe thead th {\n",
       "        text-align: right;\n",
       "    }\n",
       "</style>\n",
       "<table border=\"1\" class=\"dataframe\">\n",
       "  <thead>\n",
       "    <tr style=\"text-align: right;\">\n",
       "      <th></th>\n",
       "      <th>pesticides</th>\n",
       "    </tr>\n",
       "  </thead>\n",
       "  <tbody>\n",
       "    <tr>\n",
       "      <th>420</th>\n",
       "      <td>3.849</td>\n",
       "    </tr>\n",
       "    <tr>\n",
       "      <th>278</th>\n",
       "      <td>1.434</td>\n",
       "    </tr>\n",
       "    <tr>\n",
       "      <th>218</th>\n",
       "      <td>0.529</td>\n",
       "    </tr>\n",
       "    <tr>\n",
       "      <th>363</th>\n",
       "      <td>6.930</td>\n",
       "    </tr>\n",
       "    <tr>\n",
       "      <th>850</th>\n",
       "      <td>6.150</td>\n",
       "    </tr>\n",
       "  </tbody>\n",
       "</table>\n",
       "</div>"
      ],
      "text/plain": [
       "     pesticides\n",
       "420       3.849\n",
       "278       1.434\n",
       "218       0.529\n",
       "363       6.930\n",
       "850       6.150"
      ]
     },
     "execution_count": 152,
     "metadata": {},
     "output_type": "execute_result"
    }
   ],
   "source": [
    "X_train = data_train.iloc[:, [5]]\n",
    "X_test = data_test.iloc[:, [5]]\n",
    "X_train.head()"
   ]
  },
  {
   "cell_type": "code",
   "execution_count": 153,
   "id": "51203eea",
   "metadata": {},
   "outputs": [],
   "source": [
    "reg = LinearRegression()\n",
    "reg.fit(X_train,y_train)\n",
    "y_train_pred=reg.predict(X_train)"
   ]
  },
  {
   "cell_type": "code",
   "execution_count": 154,
   "id": "551ac20b",
   "metadata": {},
   "outputs": [
    {
     "name": "stdout",
     "output_type": "stream",
     "text": [
      "R square value of train data:  0.0002895848479296248  R square value of test data:  7.441654268902642e-05\n"
     ]
    }
   ],
   "source": [
    "r2_score_train=reg.score(X_train,y_train)\n",
    "r2_score_test=reg.score(X_test,y_test)\n",
    "\n",
    "print(\"R square value of train data: \",r2_score_train,\" R square value of test data: \",r2_score_test)"
   ]
  },
  {
   "cell_type": "markdown",
   "id": "1f4932fd",
   "metadata": {},
   "source": [
    "### Only considering region to predict yield."
   ]
  },
  {
   "cell_type": "code",
   "execution_count": 155,
   "id": "b7ffcd0a",
   "metadata": {},
   "outputs": [
    {
     "data": {
      "text/html": [
       "<div>\n",
       "<style scoped>\n",
       "    .dataframe tbody tr th:only-of-type {\n",
       "        vertical-align: middle;\n",
       "    }\n",
       "\n",
       "    .dataframe tbody tr th {\n",
       "        vertical-align: top;\n",
       "    }\n",
       "\n",
       "    .dataframe thead th {\n",
       "        text-align: right;\n",
       "    }\n",
       "</style>\n",
       "<table border=\"1\" class=\"dataframe\">\n",
       "  <thead>\n",
       "    <tr style=\"text-align: right;\">\n",
       "      <th></th>\n",
       "      <th>region</th>\n",
       "    </tr>\n",
       "  </thead>\n",
       "  <tbody>\n",
       "    <tr>\n",
       "      <th>420</th>\n",
       "      <td>2</td>\n",
       "    </tr>\n",
       "    <tr>\n",
       "      <th>278</th>\n",
       "      <td>2</td>\n",
       "    </tr>\n",
       "    <tr>\n",
       "      <th>218</th>\n",
       "      <td>2</td>\n",
       "    </tr>\n",
       "    <tr>\n",
       "      <th>363</th>\n",
       "      <td>2</td>\n",
       "    </tr>\n",
       "    <tr>\n",
       "      <th>850</th>\n",
       "      <td>6</td>\n",
       "    </tr>\n",
       "  </tbody>\n",
       "</table>\n",
       "</div>"
      ],
      "text/plain": [
       "     region\n",
       "420       2\n",
       "278       2\n",
       "218       2\n",
       "363       2\n",
       "850       6"
      ]
     },
     "execution_count": 155,
     "metadata": {},
     "output_type": "execute_result"
    }
   ],
   "source": [
    "X_train = data_train.iloc[:, [6]]\n",
    "X_test = data_test.iloc[:, [6]]\n",
    "X_train.head()"
   ]
  },
  {
   "cell_type": "code",
   "execution_count": 156,
   "id": "5ff6ec08",
   "metadata": {},
   "outputs": [],
   "source": [
    "reg = LinearRegression()\n",
    "reg.fit(X_train,y_train)\n",
    "y_train_pred=reg.predict(X_train)"
   ]
  },
  {
   "cell_type": "code",
   "execution_count": 157,
   "id": "d9a10ded",
   "metadata": {},
   "outputs": [
    {
     "name": "stdout",
     "output_type": "stream",
     "text": [
      "R square value of train data:  6.220319639815841e-05  R square value of test data:  -0.006508840937565541\n"
     ]
    }
   ],
   "source": [
    "r2_score_train=reg.score(X_train,y_train)\n",
    "r2_score_test=reg.score(X_test,y_test)\n",
    "\n",
    "print(\"R square value of train data: \",r2_score_train,\" R square value of test data: \",r2_score_test)"
   ]
  },
  {
   "cell_type": "markdown",
   "id": "5257d360",
   "metadata": {},
   "source": [
    "\n",
    "###### From the above models, we can see that pesticides has greater R^2 value on test data."
   ]
  },
  {
   "cell_type": "markdown",
   "id": "78ab31e9",
   "metadata": {},
   "source": [
    "### Considering pesticides and water to predict yield."
   ]
  },
  {
   "cell_type": "code",
   "execution_count": 158,
   "id": "288c324f",
   "metadata": {},
   "outputs": [
    {
     "data": {
      "text/html": [
       "<div>\n",
       "<style scoped>\n",
       "    .dataframe tbody tr th:only-of-type {\n",
       "        vertical-align: middle;\n",
       "    }\n",
       "\n",
       "    .dataframe tbody tr th {\n",
       "        vertical-align: top;\n",
       "    }\n",
       "\n",
       "    .dataframe thead th {\n",
       "        text-align: right;\n",
       "    }\n",
       "</style>\n",
       "<table border=\"1\" class=\"dataframe\">\n",
       "  <thead>\n",
       "    <tr style=\"text-align: right;\">\n",
       "      <th></th>\n",
       "      <th>pesticides</th>\n",
       "      <th>water</th>\n",
       "    </tr>\n",
       "  </thead>\n",
       "  <tbody>\n",
       "    <tr>\n",
       "      <th>420</th>\n",
       "      <td>3.849</td>\n",
       "      <td>2.503</td>\n",
       "    </tr>\n",
       "    <tr>\n",
       "      <th>278</th>\n",
       "      <td>1.434</td>\n",
       "      <td>6.735</td>\n",
       "    </tr>\n",
       "    <tr>\n",
       "      <th>218</th>\n",
       "      <td>0.529</td>\n",
       "      <td>8.067</td>\n",
       "    </tr>\n",
       "    <tr>\n",
       "      <th>363</th>\n",
       "      <td>6.930</td>\n",
       "      <td>6.040</td>\n",
       "    </tr>\n",
       "    <tr>\n",
       "      <th>850</th>\n",
       "      <td>6.150</td>\n",
       "      <td>9.555</td>\n",
       "    </tr>\n",
       "  </tbody>\n",
       "</table>\n",
       "</div>"
      ],
      "text/plain": [
       "     pesticides  water\n",
       "420       3.849  2.503\n",
       "278       1.434  6.735\n",
       "218       0.529  8.067\n",
       "363       6.930  6.040\n",
       "850       6.150  9.555"
      ]
     },
     "execution_count": 158,
     "metadata": {},
     "output_type": "execute_result"
    }
   ],
   "source": [
    "X_train = data_train.iloc[:, [5,0]]\n",
    "X_test = data_test.iloc[:, [5,0]]\n",
    "X_train.head()"
   ]
  },
  {
   "cell_type": "code",
   "execution_count": 159,
   "id": "8092d6fc",
   "metadata": {},
   "outputs": [],
   "source": [
    "reg = LinearRegression()\n",
    "reg.fit(X_train,y_train)\n",
    "y_train_pred=reg.predict(X_train)"
   ]
  },
  {
   "cell_type": "code",
   "execution_count": 160,
   "id": "b697a833",
   "metadata": {},
   "outputs": [
    {
     "name": "stdout",
     "output_type": "stream",
     "text": [
      "R square value of train data:  0.0005765303495900431  R square value of test data:  0.00012794522412218345\n"
     ]
    }
   ],
   "source": [
    "r2_score_train=reg.score(X_train,y_train)\n",
    "r2_score_test=reg.score(X_test,y_test)\n",
    "\n",
    "print(\"R square value of train data: \",r2_score_train,\" R square value of test data: \",r2_score_test)"
   ]
  },
  {
   "cell_type": "markdown",
   "id": "cd45378b",
   "metadata": {},
   "source": [
    "### Considering pesticides and UV to predict yield"
   ]
  },
  {
   "cell_type": "code",
   "execution_count": 161,
   "id": "baefe72a",
   "metadata": {},
   "outputs": [
    {
     "data": {
      "text/html": [
       "<div>\n",
       "<style scoped>\n",
       "    .dataframe tbody tr th:only-of-type {\n",
       "        vertical-align: middle;\n",
       "    }\n",
       "\n",
       "    .dataframe tbody tr th {\n",
       "        vertical-align: top;\n",
       "    }\n",
       "\n",
       "    .dataframe thead th {\n",
       "        text-align: right;\n",
       "    }\n",
       "</style>\n",
       "<table border=\"1\" class=\"dataframe\">\n",
       "  <thead>\n",
       "    <tr style=\"text-align: right;\">\n",
       "      <th></th>\n",
       "      <th>pesticides</th>\n",
       "      <th>uv</th>\n",
       "    </tr>\n",
       "  </thead>\n",
       "  <tbody>\n",
       "    <tr>\n",
       "      <th>420</th>\n",
       "      <td>3.849</td>\n",
       "      <td>70.783</td>\n",
       "    </tr>\n",
       "    <tr>\n",
       "      <th>278</th>\n",
       "      <td>1.434</td>\n",
       "      <td>99.227</td>\n",
       "    </tr>\n",
       "    <tr>\n",
       "      <th>218</th>\n",
       "      <td>0.529</td>\n",
       "      <td>71.206</td>\n",
       "    </tr>\n",
       "    <tr>\n",
       "      <th>363</th>\n",
       "      <td>6.930</td>\n",
       "      <td>71.725</td>\n",
       "    </tr>\n",
       "    <tr>\n",
       "      <th>850</th>\n",
       "      <td>6.150</td>\n",
       "      <td>66.702</td>\n",
       "    </tr>\n",
       "  </tbody>\n",
       "</table>\n",
       "</div>"
      ],
      "text/plain": [
       "     pesticides      uv\n",
       "420       3.849  70.783\n",
       "278       1.434  99.227\n",
       "218       0.529  71.206\n",
       "363       6.930  71.725\n",
       "850       6.150  66.702"
      ]
     },
     "execution_count": 161,
     "metadata": {},
     "output_type": "execute_result"
    }
   ],
   "source": [
    "X_train = data_train.iloc[:, [5,1]]\n",
    "X_test = data_test.iloc[:, [5,1]]\n",
    "X_train.head()"
   ]
  },
  {
   "cell_type": "code",
   "execution_count": 162,
   "id": "cc4abf5f",
   "metadata": {},
   "outputs": [],
   "source": [
    "reg = LinearRegression()\n",
    "reg.fit(X_train,y_train)\n",
    "y_train_pred=reg.predict(X_train)"
   ]
  },
  {
   "cell_type": "code",
   "execution_count": 163,
   "id": "70e92d07",
   "metadata": {},
   "outputs": [
    {
     "name": "stdout",
     "output_type": "stream",
     "text": [
      "R square value of train data:  0.0003261458645930082  R square value of test data:  0.0015646203143735438\n"
     ]
    }
   ],
   "source": [
    "r2_score_train=reg.score(X_train,y_train)\n",
    "r2_score_test=reg.score(X_test,y_test)\n",
    "\n",
    "print(\"R square value of train data: \",r2_score_train,\" R square value of test data: \",r2_score_test)"
   ]
  },
  {
   "cell_type": "markdown",
   "id": "feb99515",
   "metadata": {},
   "source": [
    "### Considering pesticides and area to predict yield"
   ]
  },
  {
   "cell_type": "code",
   "execution_count": 164,
   "id": "d499e49c",
   "metadata": {},
   "outputs": [
    {
     "data": {
      "text/html": [
       "<div>\n",
       "<style scoped>\n",
       "    .dataframe tbody tr th:only-of-type {\n",
       "        vertical-align: middle;\n",
       "    }\n",
       "\n",
       "    .dataframe tbody tr th {\n",
       "        vertical-align: top;\n",
       "    }\n",
       "\n",
       "    .dataframe thead th {\n",
       "        text-align: right;\n",
       "    }\n",
       "</style>\n",
       "<table border=\"1\" class=\"dataframe\">\n",
       "  <thead>\n",
       "    <tr style=\"text-align: right;\">\n",
       "      <th></th>\n",
       "      <th>pesticides</th>\n",
       "      <th>uv</th>\n",
       "    </tr>\n",
       "  </thead>\n",
       "  <tbody>\n",
       "    <tr>\n",
       "      <th>420</th>\n",
       "      <td>3.849</td>\n",
       "      <td>70.783</td>\n",
       "    </tr>\n",
       "    <tr>\n",
       "      <th>278</th>\n",
       "      <td>1.434</td>\n",
       "      <td>99.227</td>\n",
       "    </tr>\n",
       "    <tr>\n",
       "      <th>218</th>\n",
       "      <td>0.529</td>\n",
       "      <td>71.206</td>\n",
       "    </tr>\n",
       "    <tr>\n",
       "      <th>363</th>\n",
       "      <td>6.930</td>\n",
       "      <td>71.725</td>\n",
       "    </tr>\n",
       "    <tr>\n",
       "      <th>850</th>\n",
       "      <td>6.150</td>\n",
       "      <td>66.702</td>\n",
       "    </tr>\n",
       "  </tbody>\n",
       "</table>\n",
       "</div>"
      ],
      "text/plain": [
       "     pesticides      uv\n",
       "420       3.849  70.783\n",
       "278       1.434  99.227\n",
       "218       0.529  71.206\n",
       "363       6.930  71.725\n",
       "850       6.150  66.702"
      ]
     },
     "execution_count": 164,
     "metadata": {},
     "output_type": "execute_result"
    }
   ],
   "source": [
    "X_train = data_train.iloc[:, [5,1]]\n",
    "X_test = data_test.iloc[:, [5,1]]\n",
    "X_train.head()"
   ]
  },
  {
   "cell_type": "code",
   "execution_count": 165,
   "id": "7f068619",
   "metadata": {},
   "outputs": [],
   "source": [
    "reg = LinearRegression()\n",
    "reg.fit(X_train,y_train)\n",
    "y_train_pred=reg.predict(X_train)"
   ]
  },
  {
   "cell_type": "code",
   "execution_count": 166,
   "id": "09d56b54",
   "metadata": {},
   "outputs": [
    {
     "name": "stdout",
     "output_type": "stream",
     "text": [
      "R square value of train data:  0.0003261458645930082  R square value of test data:  0.0015646203143735438\n"
     ]
    }
   ],
   "source": [
    "r2_score_train=reg.score(X_train,y_train)\n",
    "r2_score_test=reg.score(X_test,y_test)\n",
    "\n",
    "print(\"R square value of train data: \",r2_score_train,\" R square value of test data: \",r2_score_test)"
   ]
  },
  {
   "cell_type": "markdown",
   "id": "deebf3e9",
   "metadata": {},
   "source": [
    "### Considering pesticides and area to predict yield"
   ]
  },
  {
   "cell_type": "code",
   "execution_count": 167,
   "id": "ccae82f8",
   "metadata": {},
   "outputs": [
    {
     "data": {
      "text/html": [
       "<div>\n",
       "<style scoped>\n",
       "    .dataframe tbody tr th:only-of-type {\n",
       "        vertical-align: middle;\n",
       "    }\n",
       "\n",
       "    .dataframe tbody tr th {\n",
       "        vertical-align: top;\n",
       "    }\n",
       "\n",
       "    .dataframe thead th {\n",
       "        text-align: right;\n",
       "    }\n",
       "</style>\n",
       "<table border=\"1\" class=\"dataframe\">\n",
       "  <thead>\n",
       "    <tr style=\"text-align: right;\">\n",
       "      <th></th>\n",
       "      <th>pesticides</th>\n",
       "      <th>area</th>\n",
       "    </tr>\n",
       "  </thead>\n",
       "  <tbody>\n",
       "    <tr>\n",
       "      <th>420</th>\n",
       "      <td>3.849</td>\n",
       "      <td>7.308</td>\n",
       "    </tr>\n",
       "    <tr>\n",
       "      <th>278</th>\n",
       "      <td>1.434</td>\n",
       "      <td>8.105</td>\n",
       "    </tr>\n",
       "    <tr>\n",
       "      <th>218</th>\n",
       "      <td>0.529</td>\n",
       "      <td>3.523</td>\n",
       "    </tr>\n",
       "    <tr>\n",
       "      <th>363</th>\n",
       "      <td>6.930</td>\n",
       "      <td>10.049</td>\n",
       "    </tr>\n",
       "    <tr>\n",
       "      <th>850</th>\n",
       "      <td>6.150</td>\n",
       "      <td>6.236</td>\n",
       "    </tr>\n",
       "  </tbody>\n",
       "</table>\n",
       "</div>"
      ],
      "text/plain": [
       "     pesticides    area\n",
       "420       3.849   7.308\n",
       "278       1.434   8.105\n",
       "218       0.529   3.523\n",
       "363       6.930  10.049\n",
       "850       6.150   6.236"
      ]
     },
     "execution_count": 167,
     "metadata": {},
     "output_type": "execute_result"
    }
   ],
   "source": [
    "X_train = data_train.iloc[:, [5,2]]\n",
    "X_test = data_test.iloc[:, [5,2]]\n",
    "X_train.head()"
   ]
  },
  {
   "cell_type": "code",
   "execution_count": 168,
   "id": "cde9ff4c",
   "metadata": {},
   "outputs": [],
   "source": [
    "reg = LinearRegression()\n",
    "reg.fit(X_train,y_train)\n",
    "y_train_pred=reg.predict(X_train)"
   ]
  },
  {
   "cell_type": "code",
   "execution_count": 169,
   "id": "f28fe6b8",
   "metadata": {},
   "outputs": [
    {
     "name": "stdout",
     "output_type": "stream",
     "text": [
      "R square value of train data:  0.22378345086847573  R square value of test data:  0.27785406430050963\n"
     ]
    }
   ],
   "source": [
    "r2_score_train=reg.score(X_train,y_train)\n",
    "r2_score_test=reg.score(X_test,y_test)\n",
    "\n",
    "print(\"R square value of train data: \",r2_score_train,\" R square value of test data: \",r2_score_test)"
   ]
  },
  {
   "cell_type": "markdown",
   "id": "558c23fe",
   "metadata": {},
   "source": [
    "### Considering pesticides and fertilizer usage to predict yield"
   ]
  },
  {
   "cell_type": "code",
   "execution_count": 170,
   "id": "b81a4351",
   "metadata": {},
   "outputs": [
    {
     "data": {
      "text/html": [
       "<div>\n",
       "<style scoped>\n",
       "    .dataframe tbody tr th:only-of-type {\n",
       "        vertical-align: middle;\n",
       "    }\n",
       "\n",
       "    .dataframe tbody tr th {\n",
       "        vertical-align: top;\n",
       "    }\n",
       "\n",
       "    .dataframe thead th {\n",
       "        text-align: right;\n",
       "    }\n",
       "</style>\n",
       "<table border=\"1\" class=\"dataframe\">\n",
       "  <thead>\n",
       "    <tr style=\"text-align: right;\">\n",
       "      <th></th>\n",
       "      <th>pesticides</th>\n",
       "      <th>fertilizer_usage</th>\n",
       "    </tr>\n",
       "  </thead>\n",
       "  <tbody>\n",
       "    <tr>\n",
       "      <th>420</th>\n",
       "      <td>3.849</td>\n",
       "      <td>2</td>\n",
       "    </tr>\n",
       "    <tr>\n",
       "      <th>278</th>\n",
       "      <td>1.434</td>\n",
       "      <td>1</td>\n",
       "    </tr>\n",
       "    <tr>\n",
       "      <th>218</th>\n",
       "      <td>0.529</td>\n",
       "      <td>1</td>\n",
       "    </tr>\n",
       "    <tr>\n",
       "      <th>363</th>\n",
       "      <td>6.930</td>\n",
       "      <td>1</td>\n",
       "    </tr>\n",
       "    <tr>\n",
       "      <th>850</th>\n",
       "      <td>6.150</td>\n",
       "      <td>2</td>\n",
       "    </tr>\n",
       "  </tbody>\n",
       "</table>\n",
       "</div>"
      ],
      "text/plain": [
       "     pesticides  fertilizer_usage\n",
       "420       3.849                 2\n",
       "278       1.434                 1\n",
       "218       0.529                 1\n",
       "363       6.930                 1\n",
       "850       6.150                 2"
      ]
     },
     "execution_count": 170,
     "metadata": {},
     "output_type": "execute_result"
    }
   ],
   "source": [
    "X_train = data_train.iloc[:, [5,3]]\n",
    "X_test = data_test.iloc[:, [5,3]]\n",
    "X_train.head()"
   ]
  },
  {
   "cell_type": "code",
   "execution_count": 171,
   "id": "a2e278d8",
   "metadata": {},
   "outputs": [],
   "source": [
    "reg = LinearRegression()\n",
    "reg.fit(X_train,y_train)\n",
    "y_train_pred=reg.predict(X_train)"
   ]
  },
  {
   "cell_type": "code",
   "execution_count": 172,
   "id": "39b6c05b",
   "metadata": {},
   "outputs": [
    {
     "name": "stdout",
     "output_type": "stream",
     "text": [
      "R square value of train data:  0.22156835268972985  R square value of test data:  0.1769493534368871\n"
     ]
    }
   ],
   "source": [
    "r2_score_train=reg.score(X_train,y_train)\n",
    "r2_score_test=reg.score(X_test,y_test)\n",
    "\n",
    "print(\"R square value of train data: \",r2_score_train,\" R square value of test data: \",r2_score_test)"
   ]
  },
  {
   "cell_type": "markdown",
   "id": "fae69fe0",
   "metadata": {},
   "source": [
    "### Considering pesticides and region to predict yield"
   ]
  },
  {
   "cell_type": "code",
   "execution_count": 173,
   "id": "b9325833",
   "metadata": {},
   "outputs": [
    {
     "data": {
      "text/html": [
       "<div>\n",
       "<style scoped>\n",
       "    .dataframe tbody tr th:only-of-type {\n",
       "        vertical-align: middle;\n",
       "    }\n",
       "\n",
       "    .dataframe tbody tr th {\n",
       "        vertical-align: top;\n",
       "    }\n",
       "\n",
       "    .dataframe thead th {\n",
       "        text-align: right;\n",
       "    }\n",
       "</style>\n",
       "<table border=\"1\" class=\"dataframe\">\n",
       "  <thead>\n",
       "    <tr style=\"text-align: right;\">\n",
       "      <th></th>\n",
       "      <th>pesticides</th>\n",
       "      <th>region</th>\n",
       "    </tr>\n",
       "  </thead>\n",
       "  <tbody>\n",
       "    <tr>\n",
       "      <th>420</th>\n",
       "      <td>3.849</td>\n",
       "      <td>2</td>\n",
       "    </tr>\n",
       "    <tr>\n",
       "      <th>278</th>\n",
       "      <td>1.434</td>\n",
       "      <td>2</td>\n",
       "    </tr>\n",
       "    <tr>\n",
       "      <th>218</th>\n",
       "      <td>0.529</td>\n",
       "      <td>2</td>\n",
       "    </tr>\n",
       "    <tr>\n",
       "      <th>363</th>\n",
       "      <td>6.930</td>\n",
       "      <td>2</td>\n",
       "    </tr>\n",
       "    <tr>\n",
       "      <th>850</th>\n",
       "      <td>6.150</td>\n",
       "      <td>6</td>\n",
       "    </tr>\n",
       "  </tbody>\n",
       "</table>\n",
       "</div>"
      ],
      "text/plain": [
       "     pesticides  region\n",
       "420       3.849       2\n",
       "278       1.434       2\n",
       "218       0.529       2\n",
       "363       6.930       2\n",
       "850       6.150       6"
      ]
     },
     "execution_count": 173,
     "metadata": {},
     "output_type": "execute_result"
    }
   ],
   "source": [
    "X_train = data_train.iloc[:, [5,6]]\n",
    "X_test = data_test.iloc[:, [5,6]]\n",
    "X_train.head()"
   ]
  },
  {
   "cell_type": "code",
   "execution_count": 174,
   "id": "5e5fade0",
   "metadata": {},
   "outputs": [],
   "source": [
    "reg = LinearRegression()\n",
    "reg.fit(X_train,y_train)\n",
    "y_train_pred=reg.predict(X_train)"
   ]
  },
  {
   "cell_type": "code",
   "execution_count": 175,
   "id": "a2a780dd",
   "metadata": {},
   "outputs": [
    {
     "name": "stdout",
     "output_type": "stream",
     "text": [
      "R square value of train data:  0.0003589551183580397  R square value of test data:  -0.002805765306660435\n"
     ]
    }
   ],
   "source": [
    "r2_score_train=reg.score(X_train,y_train)\n",
    "r2_score_test=reg.score(X_test,y_test)\n",
    "\n",
    "print(\"R square value of train data: \",r2_score_train,\" R square value of test data: \",r2_score_test)"
   ]
  },
  {
   "cell_type": "code",
   "execution_count": null,
   "id": "888f4843",
   "metadata": {},
   "outputs": [],
   "source": []
  }
 ],
 "metadata": {
  "kernelspec": {
   "display_name": "Python 3 (ipykernel)",
   "language": "python",
   "name": "python3"
  },
  "language_info": {
   "codemirror_mode": {
    "name": "ipython",
    "version": 3
   },
   "file_extension": ".py",
   "mimetype": "text/x-python",
   "name": "python",
   "nbconvert_exporter": "python",
   "pygments_lexer": "ipython3",
   "version": "3.10.4"
  }
 },
 "nbformat": 4,
 "nbformat_minor": 5
}
