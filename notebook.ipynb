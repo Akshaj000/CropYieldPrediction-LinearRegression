{
 "cells": [
  {
   "cell_type": "markdown",
   "id": "c8ae696c",
   "metadata": {},
   "source": [
    "# CROP YIELD PREDICTION USING LINEAR REGRESSION\n",
    "\n",
    "[![Open In Colab](https://colab.research.google.com/assets/colab-badge.svg)](https://colab.research.google.com/github/Akshaj000/CropYieldPrediction-LinearRegression/blob/main/notebook.ipynb)\n",
    "\n"
   ]
  },
  {
   "cell_type": "markdown",
   "id": "f93d7dbf",
   "metadata": {},
   "source": [
    "## Importing the Required modules and libraries"
   ]
  },
  {
   "cell_type": "code",
   "execution_count": 1,
   "id": "7a20526e",
   "metadata": {},
   "outputs": [],
   "source": [
    "import numpy as np\n",
    "import pandas as pd\n",
    "\n",
    "import matplotlib.pyplot as plt\n",
    "import seaborn as sns\n",
    "from sklearn.model_selection import train_test_split\n",
    "from sklearn.metrics import mean_squared_error\n",
    "import math\n",
    "\n",
    "import statsmodels.api as sm\n",
    "from sklearn.feature_selection import RFE\n",
    "from sklearn.linear_model import LinearRegression\n",
    "from sklearn.preprocessing import PolynomialFeatures\n",
    "from statsmodels.stats.outliers_influence import variance_inflation_factor\n",
    "from sklearn.metrics import r2_score"
   ]
  },
  {
   "cell_type": "markdown",
   "id": "ba5f9496",
   "metadata": {},
   "source": [
    "## Reading and Analysing the data"
   ]
  },
  {
   "cell_type": "code",
   "execution_count": 2,
   "id": "d45fb134",
   "metadata": {},
   "outputs": [
    {
     "data": {
      "text/html": [
       "<div>\n",
       "<style scoped>\n",
       "    .dataframe tbody tr th:only-of-type {\n",
       "        vertical-align: middle;\n",
       "    }\n",
       "\n",
       "    .dataframe tbody tr th {\n",
       "        vertical-align: top;\n",
       "    }\n",
       "\n",
       "    .dataframe thead th {\n",
       "        text-align: right;\n",
       "    }\n",
       "</style>\n",
       "<table border=\"1\" class=\"dataframe\">\n",
       "  <thead>\n",
       "    <tr style=\"text-align: right;\">\n",
       "      <th></th>\n",
       "      <th>id</th>\n",
       "      <th>water</th>\n",
       "      <th>uv</th>\n",
       "      <th>area</th>\n",
       "      <th>fertilizer_usage</th>\n",
       "      <th>yield</th>\n",
       "      <th>pesticides</th>\n",
       "      <th>region</th>\n",
       "      <th>categories</th>\n",
       "    </tr>\n",
       "  </thead>\n",
       "  <tbody>\n",
       "    <tr>\n",
       "      <th>0</th>\n",
       "      <td>169</td>\n",
       "      <td>5.615</td>\n",
       "      <td>65.281</td>\n",
       "      <td>3.230</td>\n",
       "      <td>0</td>\n",
       "      <td>7.977</td>\n",
       "      <td>8.969</td>\n",
       "      <td>0</td>\n",
       "      <td>b,a,c</td>\n",
       "    </tr>\n",
       "    <tr>\n",
       "      <th>1</th>\n",
       "      <td>476</td>\n",
       "      <td>7.044</td>\n",
       "      <td>73.319</td>\n",
       "      <td>9.081</td>\n",
       "      <td>0</td>\n",
       "      <td>23.009</td>\n",
       "      <td>7.197</td>\n",
       "      <td>0</td>\n",
       "      <td>c,a,d</td>\n",
       "    </tr>\n",
       "    <tr>\n",
       "      <th>2</th>\n",
       "      <td>152</td>\n",
       "      <td>5.607</td>\n",
       "      <td>60.038</td>\n",
       "      <td>2.864</td>\n",
       "      <td>2</td>\n",
       "      <td>23.019</td>\n",
       "      <td>7.424</td>\n",
       "      <td>0</td>\n",
       "      <td>d,a</td>\n",
       "    </tr>\n",
       "    <tr>\n",
       "      <th>3</th>\n",
       "      <td>293</td>\n",
       "      <td>9.346</td>\n",
       "      <td>64.719</td>\n",
       "      <td>2.797</td>\n",
       "      <td>2</td>\n",
       "      <td>28.066</td>\n",
       "      <td>1.256</td>\n",
       "      <td>0</td>\n",
       "      <td>d</td>\n",
       "    </tr>\n",
       "    <tr>\n",
       "      <th>4</th>\n",
       "      <td>10</td>\n",
       "      <td>7.969</td>\n",
       "      <td>NaN</td>\n",
       "      <td>5.407</td>\n",
       "      <td>1</td>\n",
       "      <td>29.140</td>\n",
       "      <td>0.274</td>\n",
       "      <td>0</td>\n",
       "      <td>c,d</td>\n",
       "    </tr>\n",
       "    <tr>\n",
       "      <th>...</th>\n",
       "      <td>...</td>\n",
       "      <td>...</td>\n",
       "      <td>...</td>\n",
       "      <td>...</td>\n",
       "      <td>...</td>\n",
       "      <td>...</td>\n",
       "      <td>...</td>\n",
       "      <td>...</td>\n",
       "      <td>...</td>\n",
       "    </tr>\n",
       "    <tr>\n",
       "      <th>995</th>\n",
       "      <td>614</td>\n",
       "      <td>6.379</td>\n",
       "      <td>94.132</td>\n",
       "      <td>11.571</td>\n",
       "      <td>5</td>\n",
       "      <td>98.673</td>\n",
       "      <td>2.891</td>\n",
       "      <td>6</td>\n",
       "      <td>c,b</td>\n",
       "    </tr>\n",
       "    <tr>\n",
       "      <th>996</th>\n",
       "      <td>490</td>\n",
       "      <td>6.980</td>\n",
       "      <td>82.727</td>\n",
       "      <td>11.264</td>\n",
       "      <td>5</td>\n",
       "      <td>101.090</td>\n",
       "      <td>3.500</td>\n",
       "      <td>6</td>\n",
       "      <td>d,c,b</td>\n",
       "    </tr>\n",
       "    <tr>\n",
       "      <th>997</th>\n",
       "      <td>392</td>\n",
       "      <td>NaN</td>\n",
       "      <td>58.218</td>\n",
       "      <td>11.859</td>\n",
       "      <td>4</td>\n",
       "      <td>103.673</td>\n",
       "      <td>4.005</td>\n",
       "      <td>6</td>\n",
       "      <td>c,b,a</td>\n",
       "    </tr>\n",
       "    <tr>\n",
       "      <th>998</th>\n",
       "      <td>773</td>\n",
       "      <td>10.070</td>\n",
       "      <td>67.905</td>\n",
       "      <td>11.567</td>\n",
       "      <td>4</td>\n",
       "      <td>104.343</td>\n",
       "      <td>2.339</td>\n",
       "      <td>6</td>\n",
       "      <td>a</td>\n",
       "    </tr>\n",
       "    <tr>\n",
       "      <th>999</th>\n",
       "      <td>104</td>\n",
       "      <td>7.679</td>\n",
       "      <td>NaN</td>\n",
       "      <td>13.489</td>\n",
       "      <td>5</td>\n",
       "      <td>106.421</td>\n",
       "      <td>1.974</td>\n",
       "      <td>6</td>\n",
       "      <td>a</td>\n",
       "    </tr>\n",
       "  </tbody>\n",
       "</table>\n",
       "<p>1000 rows × 9 columns</p>\n",
       "</div>"
      ],
      "text/plain": [
       "      id   water      uv    area  fertilizer_usage    yield  pesticides  \\\n",
       "0    169   5.615  65.281   3.230                 0    7.977       8.969   \n",
       "1    476   7.044  73.319   9.081                 0   23.009       7.197   \n",
       "2    152   5.607  60.038   2.864                 2   23.019       7.424   \n",
       "3    293   9.346  64.719   2.797                 2   28.066       1.256   \n",
       "4     10   7.969     NaN   5.407                 1   29.140       0.274   \n",
       "..   ...     ...     ...     ...               ...      ...         ...   \n",
       "995  614   6.379  94.132  11.571                 5   98.673       2.891   \n",
       "996  490   6.980  82.727  11.264                 5  101.090       3.500   \n",
       "997  392     NaN  58.218  11.859                 4  103.673       4.005   \n",
       "998  773  10.070  67.905  11.567                 4  104.343       2.339   \n",
       "999  104   7.679     NaN  13.489                 5  106.421       1.974   \n",
       "\n",
       "     region categories  \n",
       "0         0      b,a,c  \n",
       "1         0      c,a,d  \n",
       "2         0        d,a  \n",
       "3         0          d  \n",
       "4         0        c,d  \n",
       "..      ...        ...  \n",
       "995       6        c,b  \n",
       "996       6      d,c,b  \n",
       "997       6      c,b,a  \n",
       "998       6          a  \n",
       "999       6          a  \n",
       "\n",
       "[1000 rows x 9 columns]"
      ]
     },
     "execution_count": 2,
     "metadata": {},
     "output_type": "execute_result"
    }
   ],
   "source": [
    "data = pd.read_csv('./dataset.csv')\n",
    "data"
   ]
  },
  {
   "cell_type": "code",
   "execution_count": 3,
   "id": "43061b5a",
   "metadata": {},
   "outputs": [
    {
     "name": "stdout",
     "output_type": "stream",
     "text": [
      "<class 'pandas.core.frame.DataFrame'>\n",
      "RangeIndex: 1000 entries, 0 to 999\n",
      "Data columns (total 9 columns):\n",
      " #   Column            Non-Null Count  Dtype  \n",
      "---  ------            --------------  -----  \n",
      " 0   id                1000 non-null   int64  \n",
      " 1   water             958 non-null    float64\n",
      " 2   uv                949 non-null    float64\n",
      " 3   area              1000 non-null   float64\n",
      " 4   fertilizer_usage  1000 non-null   int64  \n",
      " 5   yield             1000 non-null   float64\n",
      " 6   pesticides        1000 non-null   float64\n",
      " 7   region            1000 non-null   int64  \n",
      " 8   categories        1000 non-null   object \n",
      "dtypes: float64(5), int64(3), object(1)\n",
      "memory usage: 70.4+ KB\n"
     ]
    }
   ],
   "source": [
    "data.info()"
   ]
  },
  {
   "cell_type": "code",
   "execution_count": 4,
   "id": "ff8fda25",
   "metadata": {},
   "outputs": [],
   "source": [
    "data.drop('id', inplace=True, axis=1)\n",
    "data.drop('categories', inplace=True, axis=1)"
   ]
  },
  {
   "cell_type": "code",
   "execution_count": 5,
   "id": "194a8beb",
   "metadata": {},
   "outputs": [
    {
     "data": {
      "text/html": [
       "<div>\n",
       "<style scoped>\n",
       "    .dataframe tbody tr th:only-of-type {\n",
       "        vertical-align: middle;\n",
       "    }\n",
       "\n",
       "    .dataframe tbody tr th {\n",
       "        vertical-align: top;\n",
       "    }\n",
       "\n",
       "    .dataframe thead th {\n",
       "        text-align: right;\n",
       "    }\n",
       "</style>\n",
       "<table border=\"1\" class=\"dataframe\">\n",
       "  <thead>\n",
       "    <tr style=\"text-align: right;\">\n",
       "      <th></th>\n",
       "      <th>water</th>\n",
       "      <th>uv</th>\n",
       "      <th>area</th>\n",
       "      <th>fertilizer_usage</th>\n",
       "      <th>yield</th>\n",
       "      <th>pesticides</th>\n",
       "      <th>region</th>\n",
       "    </tr>\n",
       "  </thead>\n",
       "  <tbody>\n",
       "    <tr>\n",
       "      <th>0</th>\n",
       "      <td>5.615</td>\n",
       "      <td>65.281</td>\n",
       "      <td>3.230</td>\n",
       "      <td>0</td>\n",
       "      <td>7.977</td>\n",
       "      <td>8.969</td>\n",
       "      <td>0</td>\n",
       "    </tr>\n",
       "    <tr>\n",
       "      <th>1</th>\n",
       "      <td>7.044</td>\n",
       "      <td>73.319</td>\n",
       "      <td>9.081</td>\n",
       "      <td>0</td>\n",
       "      <td>23.009</td>\n",
       "      <td>7.197</td>\n",
       "      <td>0</td>\n",
       "    </tr>\n",
       "    <tr>\n",
       "      <th>2</th>\n",
       "      <td>5.607</td>\n",
       "      <td>60.038</td>\n",
       "      <td>2.864</td>\n",
       "      <td>2</td>\n",
       "      <td>23.019</td>\n",
       "      <td>7.424</td>\n",
       "      <td>0</td>\n",
       "    </tr>\n",
       "    <tr>\n",
       "      <th>3</th>\n",
       "      <td>9.346</td>\n",
       "      <td>64.719</td>\n",
       "      <td>2.797</td>\n",
       "      <td>2</td>\n",
       "      <td>28.066</td>\n",
       "      <td>1.256</td>\n",
       "      <td>0</td>\n",
       "    </tr>\n",
       "    <tr>\n",
       "      <th>4</th>\n",
       "      <td>7.969</td>\n",
       "      <td>NaN</td>\n",
       "      <td>5.407</td>\n",
       "      <td>1</td>\n",
       "      <td>29.140</td>\n",
       "      <td>0.274</td>\n",
       "      <td>0</td>\n",
       "    </tr>\n",
       "  </tbody>\n",
       "</table>\n",
       "</div>"
      ],
      "text/plain": [
       "   water      uv   area  fertilizer_usage   yield  pesticides  region\n",
       "0  5.615  65.281  3.230                 0   7.977       8.969       0\n",
       "1  7.044  73.319  9.081                 0  23.009       7.197       0\n",
       "2  5.607  60.038  2.864                 2  23.019       7.424       0\n",
       "3  9.346  64.719  2.797                 2  28.066       1.256       0\n",
       "4  7.969     NaN  5.407                 1  29.140       0.274       0"
      ]
     },
     "execution_count": 5,
     "metadata": {},
     "output_type": "execute_result"
    }
   ],
   "source": [
    "data.head()"
   ]
  },
  {
   "cell_type": "code",
   "execution_count": 6,
   "id": "f2b55e87",
   "metadata": {},
   "outputs": [
    {
     "data": {
      "text/plain": [
       "<AxesSubplot:xlabel='water', ylabel='yield'>"
      ]
     },
     "execution_count": 6,
     "metadata": {},
     "output_type": "execute_result"
    },
    {
     "data": {
      "image/png": "[encoded data removed]",
      "text/plain": [
       "<Figure size 432x288 with 1 Axes>"
      ]
     },
     "metadata": {
      "needs_background": "light"
     },
     "output_type": "display_data"
    }
   ],
   "source": [
    "sns.scatterplot(data=data, x='water', y='yield',color='b')"
   ]
  },
  {
   "cell_type": "code",
   "execution_count": 7,
   "id": "0882bb3d",
   "metadata": {},
   "outputs": [
    {
     "name": "stdout",
     "output_type": "stream",
     "text": [
      "replacing Nan value of  water  with its meadian  6.476\n",
      "replacing Nan value of  uv  with its meadian  73.689\n",
      "replacing Nan value of  area  with its meadian  7.987500000000001\n",
      "replacing Nan value of  fertilizer_usage  with its meadian  2.0\n",
      "replacing Nan value of  yield  with its meadian  55.602500000000006\n",
      "replacing Nan value of  pesticides  with its meadian  3.2755\n",
      "replacing Nan value of  region  with its meadian  2.0\n"
     ]
    }
   ],
   "source": [
    "for i in data.columns: #replacing Nan with median\n",
    "    print(\"replacing Nan value of \",i,\" with its meadian \",data[str(i)].median())\n",
    "    data[str(i)].fillna(data[str(i)].median(), inplace=True)"
   ]
  },
  {
   "cell_type": "code",
   "execution_count": 8,
   "id": "8653421b",
   "metadata": {},
   "outputs": [
    {
     "name": "stdout",
     "output_type": "stream",
     "text": [
      "5340.0\n"
     ]
    }
   ],
   "source": [
    "for i in data['water']:\n",
    "    if i>20:\n",
    "        print(i)"
   ]
  },
  {
   "cell_type": "code",
   "execution_count": 9,
   "id": "e48c16cb",
   "metadata": {},
   "outputs": [],
   "source": [
    "data['water'].replace(5340,5.340, inplace=True) #replacing value of water above 20"
   ]
  },
  {
   "cell_type": "code",
   "execution_count": 10,
   "id": "d45947ff",
   "metadata": {},
   "outputs": [
    {
     "data": {
      "text/plain": [
       "<AxesSubplot:xlabel='water', ylabel='yield'>"
      ]
     },
     "execution_count": 10,
     "metadata": {},
     "output_type": "execute_result"
    },
    {
     "data": {
      "image/png": "[encoded data removed]",
      "text/plain": [
       "<Figure size 432x288 with 1 Axes>"
      ]
     },
     "metadata": {
      "needs_background": "light"
     },
     "output_type": "display_data"
    }
   ],
   "source": [
    "sns.scatterplot(data=data, x='water', y='yield',color='b')"
   ]
  },
  {
   "cell_type": "code",
   "execution_count": 11,
   "id": "fe142bc4",
   "metadata": {},
   "outputs": [
    {
     "name": "stdout",
     "output_type": "stream",
     "text": [
      "<class 'pandas.core.frame.DataFrame'>\n",
      "RangeIndex: 1000 entries, 0 to 999\n",
      "Data columns (total 7 columns):\n",
      " #   Column            Non-Null Count  Dtype  \n",
      "---  ------            --------------  -----  \n",
      " 0   water             1000 non-null   float64\n",
      " 1   uv                1000 non-null   float64\n",
      " 2   area              1000 non-null   float64\n",
      " 3   fertilizer_usage  1000 non-null   int64  \n",
      " 4   yield             1000 non-null   float64\n",
      " 5   pesticides        1000 non-null   float64\n",
      " 6   region            1000 non-null   int64  \n",
      "dtypes: float64(5), int64(2)\n",
      "memory usage: 54.8 KB\n"
     ]
    }
   ],
   "source": [
    "data.info()"
   ]
  },
  {
   "cell_type": "code",
   "execution_count": 12,
   "id": "70bd0323",
   "metadata": {},
   "outputs": [
    {
     "data": {
      "text/html": [
       "<div>\n",
       "<style scoped>\n",
       "    .dataframe tbody tr th:only-of-type {\n",
       "        vertical-align: middle;\n",
       "    }\n",
       "\n",
       "    .dataframe tbody tr th {\n",
       "        vertical-align: top;\n",
       "    }\n",
       "\n",
       "    .dataframe thead th {\n",
       "        text-align: right;\n",
       "    }\n",
       "</style>\n",
       "<table border=\"1\" class=\"dataframe\">\n",
       "  <thead>\n",
       "    <tr style=\"text-align: right;\">\n",
       "      <th></th>\n",
       "      <th>water</th>\n",
       "      <th>uv</th>\n",
       "      <th>area</th>\n",
       "      <th>fertilizer_usage</th>\n",
       "      <th>yield</th>\n",
       "      <th>pesticides</th>\n",
       "      <th>region</th>\n",
       "    </tr>\n",
       "  </thead>\n",
       "  <tbody>\n",
       "    <tr>\n",
       "      <th>count</th>\n",
       "      <td>1000.000000</td>\n",
       "      <td>1000.000000</td>\n",
       "      <td>1000.000000</td>\n",
       "      <td>1000.00000</td>\n",
       "      <td>1000.000000</td>\n",
       "      <td>1000.000000</td>\n",
       "      <td>1000.000000</td>\n",
       "    </tr>\n",
       "    <tr>\n",
       "      <th>mean</th>\n",
       "      <td>6.647489</td>\n",
       "      <td>73.943795</td>\n",
       "      <td>8.098848</td>\n",
       "      <td>2.12300</td>\n",
       "      <td>58.758571</td>\n",
       "      <td>3.452301</td>\n",
       "      <td>3.039000</td>\n",
       "    </tr>\n",
       "    <tr>\n",
       "      <th>std</th>\n",
       "      <td>2.759503</td>\n",
       "      <td>9.648126</td>\n",
       "      <td>2.692632</td>\n",
       "      <td>1.52256</td>\n",
       "      <td>24.563683</td>\n",
       "      <td>2.076921</td>\n",
       "      <td>1.883886</td>\n",
       "    </tr>\n",
       "    <tr>\n",
       "      <th>min</th>\n",
       "      <td>0.072000</td>\n",
       "      <td>45.264000</td>\n",
       "      <td>0.263000</td>\n",
       "      <td>0.00000</td>\n",
       "      <td>2.843000</td>\n",
       "      <td>0.014000</td>\n",
       "      <td>0.000000</td>\n",
       "    </tr>\n",
       "    <tr>\n",
       "      <th>25%</th>\n",
       "      <td>4.695500</td>\n",
       "      <td>66.931500</td>\n",
       "      <td>6.297000</td>\n",
       "      <td>1.00000</td>\n",
       "      <td>40.698000</td>\n",
       "      <td>1.804500</td>\n",
       "      <td>2.000000</td>\n",
       "    </tr>\n",
       "    <tr>\n",
       "      <th>50%</th>\n",
       "      <td>6.476000</td>\n",
       "      <td>73.689000</td>\n",
       "      <td>7.987500</td>\n",
       "      <td>2.00000</td>\n",
       "      <td>55.602500</td>\n",
       "      <td>3.275500</td>\n",
       "      <td>2.000000</td>\n",
       "    </tr>\n",
       "    <tr>\n",
       "      <th>75%</th>\n",
       "      <td>8.609250</td>\n",
       "      <td>80.220250</td>\n",
       "      <td>9.900250</td>\n",
       "      <td>3.00000</td>\n",
       "      <td>73.645500</td>\n",
       "      <td>4.916000</td>\n",
       "      <td>5.000000</td>\n",
       "    </tr>\n",
       "    <tr>\n",
       "      <th>max</th>\n",
       "      <td>15.214000</td>\n",
       "      <td>106.310000</td>\n",
       "      <td>18.311000</td>\n",
       "      <td>5.00000</td>\n",
       "      <td>148.845000</td>\n",
       "      <td>9.532000</td>\n",
       "      <td>6.000000</td>\n",
       "    </tr>\n",
       "  </tbody>\n",
       "</table>\n",
       "</div>"
      ],
      "text/plain": [
       "             water           uv         area  fertilizer_usage        yield  \\\n",
       "count  1000.000000  1000.000000  1000.000000        1000.00000  1000.000000   \n",
       "mean      6.647489    73.943795     8.098848           2.12300    58.758571   \n",
       "std       2.759503     9.648126     2.692632           1.52256    24.563683   \n",
       "min       0.072000    45.264000     0.263000           0.00000     2.843000   \n",
       "25%       4.695500    66.931500     6.297000           1.00000    40.698000   \n",
       "50%       6.476000    73.689000     7.987500           2.00000    55.602500   \n",
       "75%       8.609250    80.220250     9.900250           3.00000    73.645500   \n",
       "max      15.214000   106.310000    18.311000           5.00000   148.845000   \n",
       "\n",
       "        pesticides       region  \n",
       "count  1000.000000  1000.000000  \n",
       "mean      3.452301     3.039000  \n",
       "std       2.076921     1.883886  \n",
       "min       0.014000     0.000000  \n",
       "25%       1.804500     2.000000  \n",
       "50%       3.275500     2.000000  \n",
       "75%       4.916000     5.000000  \n",
       "max       9.532000     6.000000  "
      ]
     },
     "execution_count": 12,
     "metadata": {},
     "output_type": "execute_result"
    }
   ],
   "source": [
    "data.describe()"
   ]
  },
  {
   "cell_type": "code",
   "execution_count": 13,
   "id": "62d6526f",
   "metadata": {},
   "outputs": [
    {
     "data": {
      "text/plain": [
       "(1000, 7)"
      ]
     },
     "execution_count": 13,
     "metadata": {},
     "output_type": "execute_result"
    }
   ],
   "source": [
    "data.shape"
   ]
  },
  {
   "cell_type": "code",
   "execution_count": 14,
   "id": "fcac3281",
   "metadata": {},
   "outputs": [
    {
     "data": {
      "text/plain": [
       "Index(['water', 'uv', 'area', 'fertilizer_usage', 'yield', 'pesticides',\n",
       "       'region'],\n",
       "      dtype='object')"
      ]
     },
     "execution_count": 14,
     "metadata": {},
     "output_type": "execute_result"
    }
   ],
   "source": [
    "data.columns"
   ]
  },
  {
   "cell_type": "markdown",
   "id": "0f60b60b",
   "metadata": {},
   "source": [
    "## Visualising the data"
   ]
  },
  {
   "cell_type": "code",
   "execution_count": 15,
   "id": "7f2f9583",
   "metadata": {},
   "outputs": [
    {
     "data": {
      "text/plain": [
       "<AxesSubplot:xlabel='yield', ylabel='Count'>"
      ]
     },
     "execution_count": 15,
     "metadata": {},
     "output_type": "execute_result"
    },
    {
     "data": {
      "image/png": "[encoded data removed]",
      "text/plain": [
       "<Figure size 864x1728 with 6 Axes>"
      ]
     },
     "metadata": {
      "needs_background": "light"
     },
     "output_type": "display_data"
    }
   ],
   "source": [
    "f, ax = plt.subplots(6, figsize=(12,24))\n",
    "sns.histplot(data.water,color='b',ax=ax[0], kde=True)\n",
    "sns.histplot(data.uv,color='g',ax=ax[1], kde=True)\n",
    "sns.histplot(data.fertilizer_usage,color='y',ax=ax[2], kde=True)\n",
    "sns.histplot(data.pesticides,color='r',ax=ax[3], kde=True)\n",
    "sns.histplot(data.region,color='c',ax=ax[4], kde=True)\n",
    "sns.histplot(data['yield'],color='orange',ax=ax[5], kde=True)"
   ]
  },
  {
   "cell_type": "code",
   "execution_count": 16,
   "id": "454b1acf",
   "metadata": {},
   "outputs": [
    {
     "data": {
      "text/plain": [
       "<seaborn.axisgrid.JointGrid at 0x7fcfb1801810>"
      ]
     },
     "execution_count": 16,
     "metadata": {},
     "output_type": "execute_result"
    },
    {
     "data": {
      "image/png": "[encoded data removed]",
      "text/plain": [
       "<Figure size 432x432 with 3 Axes>"
      ]
     },
     "metadata": {
      "needs_background": "light"
     },
     "output_type": "display_data"
    },
    {
     "data": {
      "image/png": "[encoded data removed]",
      "text/plain": [
       "<Figure size 432x432 with 3 Axes>"
      ]
     },
     "metadata": {
      "needs_background": "light"
     },
     "output_type": "display_data"
    },
    {
     "data": {
      "image/png": "[encoded data removed]",
      "text/plain": [
       "<Figure size 432x432 with 3 Axes>"
      ]
     },
     "metadata": {
      "needs_background": "light"
     },
     "output_type": "display_data"
    },
    {
     "data": {
      "image/png": "[encoded data removed]",
      "text/plain": [
       "<Figure size 432x432 with 3 Axes>"
      ]
     },
     "metadata": {
      "needs_background": "light"
     },
     "output_type": "display_data"
    }
   ],
   "source": [
    "sns.jointplot(x='water',y='yield',data=data, color='b')\n",
    "sns.jointplot(x='fertilizer_usage', y='yield',data=data, color='y')\n",
    "sns.jointplot(x='pesticides', y='yield',data=data, color='r')\n",
    "sns.jointplot(x='uv', y='yield',data=data, color='g')"
   ]
  },
  {
   "cell_type": "code",
   "execution_count": 17,
   "id": "8c95b472",
   "metadata": {},
   "outputs": [
    {
     "data": {
      "text/plain": [
       "<seaborn.axisgrid.JointGrid at 0x7fcfb0176980>"
      ]
     },
     "execution_count": 17,
     "metadata": {},
     "output_type": "execute_result"
    },
    {
     "data": {
      "image/png": "[encoded data removed]",
      "text/plain": [
       "<Figure size 432x432 with 3 Axes>"
      ]
     },
     "metadata": {
      "needs_background": "light"
     },
     "output_type": "display_data"
    },
    {
     "data": {
      "image/png": "[encoded data removed]",
      "text/plain": [
       "<Figure size 432x432 with 3 Axes>"
      ]
     },
     "metadata": {
      "needs_background": "light"
     },
     "output_type": "display_data"
    }
   ],
   "source": [
    "sns.jointplot(x='region', y='yield',data=data, color='c', ax=ax[0])\n",
    "sns.jointplot(x='area', y='yield',data=data, color='pink', ax=ax[1])"
   ]
  },
  {
   "cell_type": "code",
   "execution_count": 18,
   "id": "3d92fc98",
   "metadata": {},
   "outputs": [
    {
     "data": {
      "image/png": "[encoded data removed]",
      "text/plain": [
       "<Figure size 864x1728 with 6 Axes>"
      ]
     },
     "metadata": {
      "needs_background": "light"
     },
     "output_type": "display_data"
    }
   ],
   "source": [
    "f, ax = plt.subplots(6, figsize=(12,24))\n",
    "sns.regplot(x=\"water\", y=\"yield\", data=data, color='b', ax=ax[0]);\n",
    "sns.regplot(x=\"fertilizer_usage\", y=\"yield\", data=data, color='y', ax=ax[1]);\n",
    "sns.regplot(x=\"pesticides\", y=\"yield\", data=data, color='r', ax=ax[2]);\n",
    "sns.regplot(x=\"uv\", y=\"yield\", data=data, color='g', ax=ax[3]);\n",
    "sns.regplot(x=\"area\", y=\"yield\", data=data, color='pink', ax=ax[4]);\n",
    "sns.regplot(x=\"region\", y=\"yield\", data=data, color='c', ax=ax[5]);"
   ]
  },
  {
   "cell_type": "code",
   "execution_count": 19,
   "id": "14dfb2b6",
   "metadata": {},
   "outputs": [
    {
     "data": {
      "text/html": [
       "<style type=\"text/css\">\n",
       "#T_e4dbf_row0_col0, #T_e4dbf_row1_col1, #T_e4dbf_row2_col2, #T_e4dbf_row3_col3, #T_e4dbf_row4_col4, #T_e4dbf_row5_col5, #T_e4dbf_row6_col6 {\n",
       "  background-color: #fcffa4;\n",
       "  color: #000000;\n",
       "}\n",
       "#T_e4dbf_row0_col1 {\n",
       "  background-color: #010106;\n",
       "  color: #f1f1f1;\n",
       "}\n",
       "#T_e4dbf_row0_col2, #T_e4dbf_row1_col6, #T_e4dbf_row2_col0, #T_e4dbf_row2_col3, #T_e4dbf_row3_col2, #T_e4dbf_row3_col5, #T_e4dbf_row4_col6, #T_e4dbf_row6_col1, #T_e4dbf_row6_col4 {\n",
       "  background-color: #000004;\n",
       "  color: #f1f1f1;\n",
       "}\n",
       "#T_e4dbf_row0_col3, #T_e4dbf_row3_col0 {\n",
       "  background-color: #ae305c;\n",
       "  color: #f1f1f1;\n",
       "}\n",
       "#T_e4dbf_row0_col4 {\n",
       "  background-color: #57106e;\n",
       "  color: #f1f1f1;\n",
       "}\n",
       "#T_e4dbf_row0_col5, #T_e4dbf_row0_col6, #T_e4dbf_row6_col5 {\n",
       "  background-color: #060419;\n",
       "  color: #f1f1f1;\n",
       "}\n",
       "#T_e4dbf_row1_col0 {\n",
       "  background-color: #260c51;\n",
       "  color: #f1f1f1;\n",
       "}\n",
       "#T_e4dbf_row1_col2 {\n",
       "  background-color: #5d126e;\n",
       "  color: #f1f1f1;\n",
       "}\n",
       "#T_e4dbf_row1_col3 {\n",
       "  background-color: #240c4f;\n",
       "  color: #f1f1f1;\n",
       "}\n",
       "#T_e4dbf_row1_col4, #T_e4dbf_row4_col1 {\n",
       "  background-color: #150b37;\n",
       "  color: #f1f1f1;\n",
       "}\n",
       "#T_e4dbf_row1_col5 {\n",
       "  background-color: #0a0722;\n",
       "  color: #f1f1f1;\n",
       "}\n",
       "#T_e4dbf_row2_col1 {\n",
       "  background-color: #2f0a5b;\n",
       "  color: #f1f1f1;\n",
       "}\n",
       "#T_e4dbf_row2_col4 {\n",
       "  background-color: #c03a51;\n",
       "  color: #f1f1f1;\n",
       "}\n",
       "#T_e4dbf_row2_col5, #T_e4dbf_row5_col4 {\n",
       "  background-color: #120a32;\n",
       "  color: #f1f1f1;\n",
       "}\n",
       "#T_e4dbf_row2_col6 {\n",
       "  background-color: #922568;\n",
       "  color: #f1f1f1;\n",
       "}\n",
       "#T_e4dbf_row3_col1 {\n",
       "  background-color: #010005;\n",
       "  color: #f1f1f1;\n",
       "}\n",
       "#T_e4dbf_row3_col4, #T_e4dbf_row6_col2 {\n",
       "  background-color: #b1325a;\n",
       "  color: #f1f1f1;\n",
       "}\n",
       "#T_e4dbf_row3_col6 {\n",
       "  background-color: #0b0724;\n",
       "  color: #f1f1f1;\n",
       "}\n",
       "#T_e4dbf_row4_col0 {\n",
       "  background-color: #7f1e6c;\n",
       "  color: #f1f1f1;\n",
       "}\n",
       "#T_e4dbf_row4_col2 {\n",
       "  background-color: #d54a41;\n",
       "  color: #f1f1f1;\n",
       "}\n",
       "#T_e4dbf_row4_col3 {\n",
       "  background-color: #cb4149;\n",
       "  color: #f1f1f1;\n",
       "}\n",
       "#T_e4dbf_row4_col5 {\n",
       "  background-color: #160b39;\n",
       "  color: #f1f1f1;\n",
       "}\n",
       "#T_e4dbf_row5_col0 {\n",
       "  background-color: #310a5c;\n",
       "  color: #f1f1f1;\n",
       "}\n",
       "#T_e4dbf_row5_col1 {\n",
       "  background-color: #07051b;\n",
       "  color: #f1f1f1;\n",
       "}\n",
       "#T_e4dbf_row5_col2 {\n",
       "  background-color: #420a68;\n",
       "  color: #f1f1f1;\n",
       "}\n",
       "#T_e4dbf_row5_col3 {\n",
       "  background-color: #1f0c48;\n",
       "  color: #f1f1f1;\n",
       "}\n",
       "#T_e4dbf_row5_col6 {\n",
       "  background-color: #040312;\n",
       "  color: #f1f1f1;\n",
       "}\n",
       "#T_e4dbf_row6_col0 {\n",
       "  background-color: #340a5f;\n",
       "  color: #f1f1f1;\n",
       "}\n",
       "#T_e4dbf_row6_col3 {\n",
       "  background-color: #3b0964;\n",
       "  color: #f1f1f1;\n",
       "}\n",
       "</style>\n",
       "<table id=\"T_e4dbf\">\n",
       "  <thead>\n",
       "    <tr>\n",
       "      <th class=\"blank level0\" >&nbsp;</th>\n",
       "      <th id=\"T_e4dbf_level0_col0\" class=\"col_heading level0 col0\" >water</th>\n",
       "      <th id=\"T_e4dbf_level0_col1\" class=\"col_heading level0 col1\" >uv</th>\n",
       "      <th id=\"T_e4dbf_level0_col2\" class=\"col_heading level0 col2\" >area</th>\n",
       "      <th id=\"T_e4dbf_level0_col3\" class=\"col_heading level0 col3\" >fertilizer_usage</th>\n",
       "      <th id=\"T_e4dbf_level0_col4\" class=\"col_heading level0 col4\" >yield</th>\n",
       "      <th id=\"T_e4dbf_level0_col5\" class=\"col_heading level0 col5\" >pesticides</th>\n",
       "      <th id=\"T_e4dbf_level0_col6\" class=\"col_heading level0 col6\" >region</th>\n",
       "    </tr>\n",
       "  </thead>\n",
       "  <tbody>\n",
       "    <tr>\n",
       "      <th id=\"T_e4dbf_level0_row0\" class=\"row_heading level0 row0\" >water</th>\n",
       "      <td id=\"T_e4dbf_row0_col0\" class=\"data row0 col0\" >1.000000</td>\n",
       "      <td id=\"T_e4dbf_row0_col1\" class=\"data row0 col1\" >-0.037040</td>\n",
       "      <td id=\"T_e4dbf_row0_col2\" class=\"data row0 col2\" >-0.204170</td>\n",
       "      <td id=\"T_e4dbf_row0_col3\" class=\"data row0 col3\" >0.357376</td>\n",
       "      <td id=\"T_e4dbf_row0_col4\" class=\"data row0 col4\" >0.219048</td>\n",
       "      <td id=\"T_e4dbf_row0_col5\" class=\"data row0 col5\" >-0.010996</td>\n",
       "      <td id=\"T_e4dbf_row0_col6\" class=\"data row0 col6\" >0.000216</td>\n",
       "    </tr>\n",
       "    <tr>\n",
       "      <th id=\"T_e4dbf_level0_row1\" class=\"row_heading level0 row1\" >uv</th>\n",
       "      <td id=\"T_e4dbf_row1_col0\" class=\"data row1 col0\" >-0.037040</td>\n",
       "      <td id=\"T_e4dbf_row1_col1\" class=\"data row1 col1\" >1.000000</td>\n",
       "      <td id=\"T_e4dbf_row1_col2\" class=\"data row1 col2\" >0.117445</td>\n",
       "      <td id=\"T_e4dbf_row1_col3\" class=\"data row1 col3\" >-0.041760</td>\n",
       "      <td id=\"T_e4dbf_row1_col4\" class=\"data row1 col4\" >0.053279</td>\n",
       "      <td id=\"T_e4dbf_row1_col5\" class=\"data row1 col5\" >0.005701</td>\n",
       "      <td id=\"T_e4dbf_row1_col6\" class=\"data row1 col6\" >-0.046474</td>\n",
       "    </tr>\n",
       "    <tr>\n",
       "      <th id=\"T_e4dbf_level0_row2\" class=\"row_heading level0 row2\" >area</th>\n",
       "      <td id=\"T_e4dbf_row2_col0\" class=\"data row2 col0\" >-0.204170</td>\n",
       "      <td id=\"T_e4dbf_row2_col1\" class=\"data row2 col1\" >0.117445</td>\n",
       "      <td id=\"T_e4dbf_row2_col2\" class=\"data row2 col2\" >1.000000</td>\n",
       "      <td id=\"T_e4dbf_row2_col3\" class=\"data row2 col3\" >-0.202512</td>\n",
       "      <td id=\"T_e4dbf_row2_col4\" class=\"data row2 col4\" >0.491220</td>\n",
       "      <td id=\"T_e4dbf_row2_col5\" class=\"data row2 col5\" >0.036302</td>\n",
       "      <td id=\"T_e4dbf_row2_col6\" class=\"data row2 col6\" >0.369481</td>\n",
       "    </tr>\n",
       "    <tr>\n",
       "      <th id=\"T_e4dbf_level0_row3\" class=\"row_heading level0 row3\" >fertilizer_usage</th>\n",
       "      <td id=\"T_e4dbf_row3_col0\" class=\"data row3 col0\" >0.357376</td>\n",
       "      <td id=\"T_e4dbf_row3_col1\" class=\"data row3 col1\" >-0.041760</td>\n",
       "      <td id=\"T_e4dbf_row3_col2\" class=\"data row3 col2\" >-0.202512</td>\n",
       "      <td id=\"T_e4dbf_row3_col3\" class=\"data row3 col3\" >1.000000</td>\n",
       "      <td id=\"T_e4dbf_row3_col4\" class=\"data row3 col4\" >0.452183</td>\n",
       "      <td id=\"T_e4dbf_row3_col5\" class=\"data row3 col5\" >-0.056462</td>\n",
       "      <td id=\"T_e4dbf_row3_col6\" class=\"data row3 col6\" >0.022406</td>\n",
       "    </tr>\n",
       "    <tr>\n",
       "      <th id=\"T_e4dbf_level0_row4\" class=\"row_heading level0 row4\" >yield</th>\n",
       "      <td id=\"T_e4dbf_row4_col0\" class=\"data row4 col0\" >0.219048</td>\n",
       "      <td id=\"T_e4dbf_row4_col1\" class=\"data row4 col1\" >0.053279</td>\n",
       "      <td id=\"T_e4dbf_row4_col2\" class=\"data row4 col2\" >0.491220</td>\n",
       "      <td id=\"T_e4dbf_row4_col3\" class=\"data row4 col3\" >0.452183</td>\n",
       "      <td id=\"T_e4dbf_row4_col4\" class=\"data row4 col4\" >1.000000</td>\n",
       "      <td id=\"T_e4dbf_row4_col5\" class=\"data row4 col5\" >0.048380</td>\n",
       "      <td id=\"T_e4dbf_row4_col6\" class=\"data row4 col6\" >-0.045051</td>\n",
       "    </tr>\n",
       "    <tr>\n",
       "      <th id=\"T_e4dbf_level0_row5\" class=\"row_heading level0 row5\" >pesticides</th>\n",
       "      <td id=\"T_e4dbf_row5_col0\" class=\"data row5 col0\" >-0.010996</td>\n",
       "      <td id=\"T_e4dbf_row5_col1\" class=\"data row5 col1\" >0.005701</td>\n",
       "      <td id=\"T_e4dbf_row5_col2\" class=\"data row5 col2\" >0.036302</td>\n",
       "      <td id=\"T_e4dbf_row5_col3\" class=\"data row5 col3\" >-0.056462</td>\n",
       "      <td id=\"T_e4dbf_row5_col4\" class=\"data row5 col4\" >0.048380</td>\n",
       "      <td id=\"T_e4dbf_row5_col5\" class=\"data row5 col5\" >1.000000</td>\n",
       "      <td id=\"T_e4dbf_row5_col6\" class=\"data row5 col6\" >-0.010899</td>\n",
       "    </tr>\n",
       "    <tr>\n",
       "      <th id=\"T_e4dbf_level0_row6\" class=\"row_heading level0 row6\" >region</th>\n",
       "      <td id=\"T_e4dbf_row6_col0\" class=\"data row6 col0\" >0.000216</td>\n",
       "      <td id=\"T_e4dbf_row6_col1\" class=\"data row6 col1\" >-0.046474</td>\n",
       "      <td id=\"T_e4dbf_row6_col2\" class=\"data row6 col2\" >0.369481</td>\n",
       "      <td id=\"T_e4dbf_row6_col3\" class=\"data row6 col3\" >0.022406</td>\n",
       "      <td id=\"T_e4dbf_row6_col4\" class=\"data row6 col4\" >-0.045051</td>\n",
       "      <td id=\"T_e4dbf_row6_col5\" class=\"data row6 col5\" >-0.010899</td>\n",
       "      <td id=\"T_e4dbf_row6_col6\" class=\"data row6 col6\" >1.000000</td>\n",
       "    </tr>\n",
       "  </tbody>\n",
       "</table>\n"
      ],
      "text/plain": [
       "<pandas.io.formats.style.Styler at 0x7fcfb1376aa0>"
      ]
     },
     "execution_count": 19,
     "metadata": {},
     "output_type": "execute_result"
    }
   ],
   "source": [
    "corr=data.corr()\n",
    "corr.style.background_gradient(cmap=\"inferno\")"
   ]
  },
  {
   "cell_type": "markdown",
   "id": "d78986ea",
   "metadata": {},
   "source": [
    "From the above figures we can see that pesticides, area and Uv has more effect on yield. Water does'nt effect the yield at all."
   ]
  },
  {
   "cell_type": "markdown",
   "id": "4cf1cf1c",
   "metadata": {},
   "source": [
    "## Spliting Data to Training and Testing."
   ]
  },
  {
   "cell_type": "code",
   "execution_count": 20,
   "id": "521ee2c8",
   "metadata": {},
   "outputs": [],
   "source": [
    "np.random.seed(0)\n",
    "data_train, data_test = train_test_split(\n",
    "    data, train_size = 0.8, \n",
    "    test_size = 0.2, \n",
    "    random_state = 100\n",
    ")"
   ]
  },
  {
   "cell_type": "code",
   "execution_count": 21,
   "id": "4285f123",
   "metadata": {},
   "outputs": [
    {
     "data": {
      "text/html": [
       "<div>\n",
       "<style scoped>\n",
       "    .dataframe tbody tr th:only-of-type {\n",
       "        vertical-align: middle;\n",
       "    }\n",
       "\n",
       "    .dataframe tbody tr th {\n",
       "        vertical-align: top;\n",
       "    }\n",
       "\n",
       "    .dataframe thead th {\n",
       "        text-align: right;\n",
       "    }\n",
       "</style>\n",
       "<table border=\"1\" class=\"dataframe\">\n",
       "  <thead>\n",
       "    <tr style=\"text-align: right;\">\n",
       "      <th></th>\n",
       "      <th>water</th>\n",
       "      <th>uv</th>\n",
       "      <th>area</th>\n",
       "      <th>fertilizer_usage</th>\n",
       "      <th>yield</th>\n",
       "      <th>pesticides</th>\n",
       "      <th>region</th>\n",
       "    </tr>\n",
       "  </thead>\n",
       "  <tbody>\n",
       "    <tr>\n",
       "      <th>675</th>\n",
       "      <td>4.923</td>\n",
       "      <td>90.242</td>\n",
       "      <td>7.524</td>\n",
       "      <td>4</td>\n",
       "      <td>68.295</td>\n",
       "      <td>0.164</td>\n",
       "      <td>4</td>\n",
       "    </tr>\n",
       "    <tr>\n",
       "      <th>358</th>\n",
       "      <td>1.598</td>\n",
       "      <td>71.792</td>\n",
       "      <td>8.305</td>\n",
       "      <td>1</td>\n",
       "      <td>52.913</td>\n",
       "      <td>6.187</td>\n",
       "      <td>2</td>\n",
       "    </tr>\n",
       "    <tr>\n",
       "      <th>159</th>\n",
       "      <td>4.064</td>\n",
       "      <td>81.622</td>\n",
       "      <td>7.495</td>\n",
       "      <td>3</td>\n",
       "      <td>72.568</td>\n",
       "      <td>3.344</td>\n",
       "      <td>1</td>\n",
       "    </tr>\n",
       "    <tr>\n",
       "      <th>533</th>\n",
       "      <td>8.684</td>\n",
       "      <td>57.248</td>\n",
       "      <td>10.176</td>\n",
       "      <td>1</td>\n",
       "      <td>36.008</td>\n",
       "      <td>0.014</td>\n",
       "      <td>3</td>\n",
       "    </tr>\n",
       "    <tr>\n",
       "      <th>678</th>\n",
       "      <td>6.084</td>\n",
       "      <td>70.801</td>\n",
       "      <td>10.207</td>\n",
       "      <td>1</td>\n",
       "      <td>69.490</td>\n",
       "      <td>3.103</td>\n",
       "      <td>4</td>\n",
       "    </tr>\n",
       "  </tbody>\n",
       "</table>\n",
       "</div>"
      ],
      "text/plain": [
       "     water      uv    area  fertilizer_usage   yield  pesticides  region\n",
       "675  4.923  90.242   7.524                 4  68.295       0.164       4\n",
       "358  1.598  71.792   8.305                 1  52.913       6.187       2\n",
       "159  4.064  81.622   7.495                 3  72.568       3.344       1\n",
       "533  8.684  57.248  10.176                 1  36.008       0.014       3\n",
       "678  6.084  70.801  10.207                 1  69.490       3.103       4"
      ]
     },
     "execution_count": 21,
     "metadata": {},
     "output_type": "execute_result"
    }
   ],
   "source": [
    "data_train.head()"
   ]
  },
  {
   "cell_type": "code",
   "execution_count": 22,
   "id": "ecea5c78",
   "metadata": {
    "scrolled": true
   },
   "outputs": [
    {
     "data": {
      "text/html": [
       "<div>\n",
       "<style scoped>\n",
       "    .dataframe tbody tr th:only-of-type {\n",
       "        vertical-align: middle;\n",
       "    }\n",
       "\n",
       "    .dataframe tbody tr th {\n",
       "        vertical-align: top;\n",
       "    }\n",
       "\n",
       "    .dataframe thead th {\n",
       "        text-align: right;\n",
       "    }\n",
       "</style>\n",
       "<table border=\"1\" class=\"dataframe\">\n",
       "  <thead>\n",
       "    <tr style=\"text-align: right;\">\n",
       "      <th></th>\n",
       "      <th>water</th>\n",
       "      <th>uv</th>\n",
       "      <th>area</th>\n",
       "      <th>fertilizer_usage</th>\n",
       "      <th>yield</th>\n",
       "      <th>pesticides</th>\n",
       "      <th>region</th>\n",
       "    </tr>\n",
       "  </thead>\n",
       "  <tbody>\n",
       "    <tr>\n",
       "      <th>count</th>\n",
       "      <td>1000.000000</td>\n",
       "      <td>1000.000000</td>\n",
       "      <td>1000.000000</td>\n",
       "      <td>1000.00000</td>\n",
       "      <td>1000.000000</td>\n",
       "      <td>1000.000000</td>\n",
       "      <td>1000.000000</td>\n",
       "    </tr>\n",
       "    <tr>\n",
       "      <th>mean</th>\n",
       "      <td>6.647489</td>\n",
       "      <td>73.943795</td>\n",
       "      <td>8.098848</td>\n",
       "      <td>2.12300</td>\n",
       "      <td>58.758571</td>\n",
       "      <td>3.452301</td>\n",
       "      <td>3.039000</td>\n",
       "    </tr>\n",
       "    <tr>\n",
       "      <th>std</th>\n",
       "      <td>2.759503</td>\n",
       "      <td>9.648126</td>\n",
       "      <td>2.692632</td>\n",
       "      <td>1.52256</td>\n",
       "      <td>24.563683</td>\n",
       "      <td>2.076921</td>\n",
       "      <td>1.883886</td>\n",
       "    </tr>\n",
       "    <tr>\n",
       "      <th>min</th>\n",
       "      <td>0.072000</td>\n",
       "      <td>45.264000</td>\n",
       "      <td>0.263000</td>\n",
       "      <td>0.00000</td>\n",
       "      <td>2.843000</td>\n",
       "      <td>0.014000</td>\n",
       "      <td>0.000000</td>\n",
       "    </tr>\n",
       "    <tr>\n",
       "      <th>25%</th>\n",
       "      <td>4.695500</td>\n",
       "      <td>66.931500</td>\n",
       "      <td>6.297000</td>\n",
       "      <td>1.00000</td>\n",
       "      <td>40.698000</td>\n",
       "      <td>1.804500</td>\n",
       "      <td>2.000000</td>\n",
       "    </tr>\n",
       "    <tr>\n",
       "      <th>50%</th>\n",
       "      <td>6.476000</td>\n",
       "      <td>73.689000</td>\n",
       "      <td>7.987500</td>\n",
       "      <td>2.00000</td>\n",
       "      <td>55.602500</td>\n",
       "      <td>3.275500</td>\n",
       "      <td>2.000000</td>\n",
       "    </tr>\n",
       "    <tr>\n",
       "      <th>75%</th>\n",
       "      <td>8.609250</td>\n",
       "      <td>80.220250</td>\n",
       "      <td>9.900250</td>\n",
       "      <td>3.00000</td>\n",
       "      <td>73.645500</td>\n",
       "      <td>4.916000</td>\n",
       "      <td>5.000000</td>\n",
       "    </tr>\n",
       "    <tr>\n",
       "      <th>max</th>\n",
       "      <td>15.214000</td>\n",
       "      <td>106.310000</td>\n",
       "      <td>18.311000</td>\n",
       "      <td>5.00000</td>\n",
       "      <td>148.845000</td>\n",
       "      <td>9.532000</td>\n",
       "      <td>6.000000</td>\n",
       "    </tr>\n",
       "  </tbody>\n",
       "</table>\n",
       "</div>"
      ],
      "text/plain": [
       "             water           uv         area  fertilizer_usage        yield  \\\n",
       "count  1000.000000  1000.000000  1000.000000        1000.00000  1000.000000   \n",
       "mean      6.647489    73.943795     8.098848           2.12300    58.758571   \n",
       "std       2.759503     9.648126     2.692632           1.52256    24.563683   \n",
       "min       0.072000    45.264000     0.263000           0.00000     2.843000   \n",
       "25%       4.695500    66.931500     6.297000           1.00000    40.698000   \n",
       "50%       6.476000    73.689000     7.987500           2.00000    55.602500   \n",
       "75%       8.609250    80.220250     9.900250           3.00000    73.645500   \n",
       "max      15.214000   106.310000    18.311000           5.00000   148.845000   \n",
       "\n",
       "        pesticides       region  \n",
       "count  1000.000000  1000.000000  \n",
       "mean      3.452301     3.039000  \n",
       "std       2.076921     1.883886  \n",
       "min       0.014000     0.000000  \n",
       "25%       1.804500     2.000000  \n",
       "50%       3.275500     2.000000  \n",
       "75%       4.916000     5.000000  \n",
       "max       9.532000     6.000000  "
      ]
     },
     "execution_count": 22,
     "metadata": {},
     "output_type": "execute_result"
    }
   ],
   "source": [
    "data.describe()"
   ]
  },
  {
   "cell_type": "markdown",
   "id": "10de827b",
   "metadata": {},
   "source": [
    "### Considering all the columns to predict yield"
   ]
  },
  {
   "cell_type": "code",
   "execution_count": 23,
   "id": "d2af2177",
   "metadata": {},
   "outputs": [],
   "source": [
    "X_train = data_train.iloc[:, [0,1,2,3,5,6]]\n",
    "y_train = data_train['yield']\n",
    "X_test = data_test.iloc[:, [0,1,2,3,5,6]]\n",
    "y_test = data_test['yield']"
   ]
  },
  {
   "cell_type": "code",
   "execution_count": 24,
   "id": "2e0c3519",
   "metadata": {},
   "outputs": [
    {
     "data": {
      "text/plain": [
       "675    68.295\n",
       "358    52.913\n",
       "159    72.568\n",
       "533    36.008\n",
       "678    69.490\n",
       "        ...  \n",
       "855    39.515\n",
       "871    43.779\n",
       "835    33.832\n",
       "792    67.094\n",
       "520    26.347\n",
       "Name: yield, Length: 800, dtype: float64"
      ]
     },
     "execution_count": 24,
     "metadata": {},
     "output_type": "execute_result"
    }
   ],
   "source": [
    "y_train"
   ]
  },
  {
   "cell_type": "code",
   "execution_count": 25,
   "id": "ec19ed9c",
   "metadata": {},
   "outputs": [
    {
     "data": {
      "text/html": [
       "<div>\n",
       "<style scoped>\n",
       "    .dataframe tbody tr th:only-of-type {\n",
       "        vertical-align: middle;\n",
       "    }\n",
       "\n",
       "    .dataframe tbody tr th {\n",
       "        vertical-align: top;\n",
       "    }\n",
       "\n",
       "    .dataframe thead th {\n",
       "        text-align: right;\n",
       "    }\n",
       "</style>\n",
       "<table border=\"1\" class=\"dataframe\">\n",
       "  <thead>\n",
       "    <tr style=\"text-align: right;\">\n",
       "      <th></th>\n",
       "      <th>water</th>\n",
       "      <th>uv</th>\n",
       "      <th>area</th>\n",
       "      <th>fertilizer_usage</th>\n",
       "      <th>pesticides</th>\n",
       "      <th>region</th>\n",
       "    </tr>\n",
       "  </thead>\n",
       "  <tbody>\n",
       "    <tr>\n",
       "      <th>675</th>\n",
       "      <td>4.923</td>\n",
       "      <td>90.242</td>\n",
       "      <td>7.524</td>\n",
       "      <td>4</td>\n",
       "      <td>0.164</td>\n",
       "      <td>4</td>\n",
       "    </tr>\n",
       "    <tr>\n",
       "      <th>358</th>\n",
       "      <td>1.598</td>\n",
       "      <td>71.792</td>\n",
       "      <td>8.305</td>\n",
       "      <td>1</td>\n",
       "      <td>6.187</td>\n",
       "      <td>2</td>\n",
       "    </tr>\n",
       "    <tr>\n",
       "      <th>159</th>\n",
       "      <td>4.064</td>\n",
       "      <td>81.622</td>\n",
       "      <td>7.495</td>\n",
       "      <td>3</td>\n",
       "      <td>3.344</td>\n",
       "      <td>1</td>\n",
       "    </tr>\n",
       "    <tr>\n",
       "      <th>533</th>\n",
       "      <td>8.684</td>\n",
       "      <td>57.248</td>\n",
       "      <td>10.176</td>\n",
       "      <td>1</td>\n",
       "      <td>0.014</td>\n",
       "      <td>3</td>\n",
       "    </tr>\n",
       "    <tr>\n",
       "      <th>678</th>\n",
       "      <td>6.084</td>\n",
       "      <td>70.801</td>\n",
       "      <td>10.207</td>\n",
       "      <td>1</td>\n",
       "      <td>3.103</td>\n",
       "      <td>4</td>\n",
       "    </tr>\n",
       "    <tr>\n",
       "      <th>...</th>\n",
       "      <td>...</td>\n",
       "      <td>...</td>\n",
       "      <td>...</td>\n",
       "      <td>...</td>\n",
       "      <td>...</td>\n",
       "      <td>...</td>\n",
       "    </tr>\n",
       "    <tr>\n",
       "      <th>855</th>\n",
       "      <td>5.415</td>\n",
       "      <td>80.406</td>\n",
       "      <td>8.660</td>\n",
       "      <td>2</td>\n",
       "      <td>0.565</td>\n",
       "      <td>6</td>\n",
       "    </tr>\n",
       "    <tr>\n",
       "      <th>871</th>\n",
       "      <td>3.895</td>\n",
       "      <td>63.483</td>\n",
       "      <td>7.696</td>\n",
       "      <td>4</td>\n",
       "      <td>7.281</td>\n",
       "      <td>6</td>\n",
       "    </tr>\n",
       "    <tr>\n",
       "      <th>835</th>\n",
       "      <td>6.372</td>\n",
       "      <td>72.873</td>\n",
       "      <td>9.036</td>\n",
       "      <td>0</td>\n",
       "      <td>5.085</td>\n",
       "      <td>6</td>\n",
       "    </tr>\n",
       "    <tr>\n",
       "      <th>792</th>\n",
       "      <td>6.833</td>\n",
       "      <td>75.587</td>\n",
       "      <td>12.893</td>\n",
       "      <td>2</td>\n",
       "      <td>5.742</td>\n",
       "      <td>5</td>\n",
       "    </tr>\n",
       "    <tr>\n",
       "      <th>520</th>\n",
       "      <td>6.849</td>\n",
       "      <td>73.201</td>\n",
       "      <td>5.670</td>\n",
       "      <td>1</td>\n",
       "      <td>7.569</td>\n",
       "      <td>3</td>\n",
       "    </tr>\n",
       "  </tbody>\n",
       "</table>\n",
       "<p>800 rows × 6 columns</p>\n",
       "</div>"
      ],
      "text/plain": [
       "     water      uv    area  fertilizer_usage  pesticides  region\n",
       "675  4.923  90.242   7.524                 4       0.164       4\n",
       "358  1.598  71.792   8.305                 1       6.187       2\n",
       "159  4.064  81.622   7.495                 3       3.344       1\n",
       "533  8.684  57.248  10.176                 1       0.014       3\n",
       "678  6.084  70.801  10.207                 1       3.103       4\n",
       "..     ...     ...     ...               ...         ...     ...\n",
       "855  5.415  80.406   8.660                 2       0.565       6\n",
       "871  3.895  63.483   7.696                 4       7.281       6\n",
       "835  6.372  72.873   9.036                 0       5.085       6\n",
       "792  6.833  75.587  12.893                 2       5.742       5\n",
       "520  6.849  73.201   5.670                 1       7.569       3\n",
       "\n",
       "[800 rows x 6 columns]"
      ]
     },
     "execution_count": 25,
     "metadata": {},
     "output_type": "execute_result"
    }
   ],
   "source": [
    "X_train"
   ]
  },
  {
   "cell_type": "code",
   "execution_count": 26,
   "id": "d41e5e4d",
   "metadata": {},
   "outputs": [
    {
     "data": {
      "text/plain": [
       "array([61.74059378, 48.49271427, 67.19468333, 64.55832936, 57.48567721,\n",
       "       66.1804659 , 70.75778994, 43.63189072, 72.43095334, 82.30330675,\n",
       "       89.59522553, 50.40233709, 83.13433504, 62.98596139, 34.33125575,\n",
       "       65.12797682, 56.48733861, 69.316479  , 68.12760697, 50.7230954 ])"
      ]
     },
     "execution_count": 26,
     "metadata": {},
     "output_type": "execute_result"
    }
   ],
   "source": [
    "reg = LinearRegression()\n",
    "reg.fit(X_train,y_train)\n",
    "y_train_pred=reg.predict(X_train)\n",
    "y_train_pred[:20]"
   ]
  },
  {
   "cell_type": "code",
   "execution_count": 27,
   "id": "9930d21a",
   "metadata": {},
   "outputs": [
    {
     "name": "stdout",
     "output_type": "stream",
     "text": [
      "Mean squared error :  191.52963091293861\n",
      "Root Mean Squared error :  13.839423070089975\n"
     ]
    }
   ],
   "source": [
    "y_test_pred=reg.predict(X_test)\n",
    "print(\"Mean squared error : \",mean_squared_error(y_test, y_test_pred))\n",
    "print(\"Root Mean Squared error : \",math.sqrt(mean_squared_error(y_test, y_test_pred)))\n"
   ]
  },
  {
   "cell_type": "code",
   "execution_count": 28,
   "id": "54af6100",
   "metadata": {},
   "outputs": [
    {
     "name": "stdout",
     "output_type": "stream",
     "text": [
      "R square value of train data:  0.6730712273632777 \n",
      "R square value of test data :  0.7109082758102737\n"
     ]
    }
   ],
   "source": [
    "r2_score_train=reg.score(X_train,y_train)\n",
    "r2_score_test=reg.score(X_test,y_test)\n",
    "\n",
    "print(\"R square value of train data: \",r2_score_train,\"\\nR square value of test data : \",r2_score_test)"
   ]
  },
  {
   "cell_type": "markdown",
   "id": "463969c5",
   "metadata": {},
   "source": [
    "### Considering attributes those are result of feature selection"
   ]
  },
  {
   "cell_type": "code",
   "execution_count": 29,
   "id": "4f3ba9cf",
   "metadata": {},
   "outputs": [
    {
     "data": {
      "text/plain": [
       "[('water', False, 2),\n",
       " ('uv', False, 4),\n",
       " ('area', True, 1),\n",
       " ('fertilizer_usage', True, 1),\n",
       " ('pesticides', False, 3),\n",
       " ('region', True, 1)]"
      ]
     },
     "execution_count": 29,
     "metadata": {},
     "output_type": "execute_result"
    }
   ],
   "source": [
    "rfe = RFE(reg)\n",
    "rfe = rfe.fit(X_train, y_train)\n",
    "list(zip(X_train.columns,rfe.support_,rfe.ranking_))"
   ]
  },
  {
   "cell_type": "code",
   "execution_count": 30,
   "id": "3cf786da",
   "metadata": {},
   "outputs": [
    {
     "data": {
      "text/plain": [
       "Index(['area', 'fertilizer_usage', 'region'], dtype='object')"
      ]
     },
     "execution_count": 30,
     "metadata": {},
     "output_type": "execute_result"
    }
   ],
   "source": [
    "X_train.columns[rfe.support_]"
   ]
  },
  {
   "cell_type": "code",
   "execution_count": 31,
   "id": "fc43cd46",
   "metadata": {},
   "outputs": [
    {
     "data": {
      "text/html": [
       "<div>\n",
       "<style scoped>\n",
       "    .dataframe tbody tr th:only-of-type {\n",
       "        vertical-align: middle;\n",
       "    }\n",
       "\n",
       "    .dataframe tbody tr th {\n",
       "        vertical-align: top;\n",
       "    }\n",
       "\n",
       "    .dataframe thead th {\n",
       "        text-align: right;\n",
       "    }\n",
       "</style>\n",
       "<table border=\"1\" class=\"dataframe\">\n",
       "  <thead>\n",
       "    <tr style=\"text-align: right;\">\n",
       "      <th></th>\n",
       "      <th>area</th>\n",
       "      <th>fertilizer_usage</th>\n",
       "      <th>region</th>\n",
       "    </tr>\n",
       "  </thead>\n",
       "  <tbody>\n",
       "    <tr>\n",
       "      <th>675</th>\n",
       "      <td>7.524</td>\n",
       "      <td>4</td>\n",
       "      <td>4</td>\n",
       "    </tr>\n",
       "    <tr>\n",
       "      <th>358</th>\n",
       "      <td>8.305</td>\n",
       "      <td>1</td>\n",
       "      <td>2</td>\n",
       "    </tr>\n",
       "    <tr>\n",
       "      <th>159</th>\n",
       "      <td>7.495</td>\n",
       "      <td>3</td>\n",
       "      <td>1</td>\n",
       "    </tr>\n",
       "    <tr>\n",
       "      <th>533</th>\n",
       "      <td>10.176</td>\n",
       "      <td>1</td>\n",
       "      <td>3</td>\n",
       "    </tr>\n",
       "    <tr>\n",
       "      <th>678</th>\n",
       "      <td>10.207</td>\n",
       "      <td>1</td>\n",
       "      <td>4</td>\n",
       "    </tr>\n",
       "  </tbody>\n",
       "</table>\n",
       "</div>"
      ],
      "text/plain": [
       "       area  fertilizer_usage  region\n",
       "675   7.524                 4       4\n",
       "358   8.305                 1       2\n",
       "159   7.495                 3       1\n",
       "533  10.176                 1       3\n",
       "678  10.207                 1       4"
      ]
     },
     "execution_count": 31,
     "metadata": {},
     "output_type": "execute_result"
    }
   ],
   "source": [
    "X_train = data_train.iloc[:, [2,3,6]]\n",
    "X_test = data_test.iloc[:, [2,3,6]]\n",
    "X_train.head()"
   ]
  },
  {
   "cell_type": "code",
   "execution_count": 32,
   "id": "947cfaf3",
   "metadata": {},
   "outputs": [],
   "source": [
    "reg = LinearRegression()\n",
    "reg.fit(X_train,y_train)\n",
    "y_train_pred=reg.predict(X_train)"
   ]
  },
  {
   "cell_type": "code",
   "execution_count": 33,
   "id": "c45b539b",
   "metadata": {},
   "outputs": [
    {
     "name": "stdout",
     "output_type": "stream",
     "text": [
      "Mean squared error :  212.74031234640768\n",
      "Root Mean Squared error :  14.585620053546153\n"
     ]
    }
   ],
   "source": [
    "y_test_pred=reg.predict(X_test)\n",
    "print(\"Mean squared error : \",mean_squared_error(y_test, y_test_pred))\n",
    "print(\"Root Mean Squared error : \",math.sqrt(mean_squared_error(y_test, y_test_pred)))"
   ]
  },
  {
   "cell_type": "code",
   "execution_count": 34,
   "id": "4d32dde9",
   "metadata": {},
   "outputs": [
    {
     "name": "stdout",
     "output_type": "stream",
     "text": [
      "R square value of train data:  0.6435052166484538 \n",
      "R square value of test data :  0.6788932166384223\n"
     ]
    }
   ],
   "source": [
    "r2_score_train=reg.score(X_train,y_train)\n",
    "r2_score_test=reg.score(X_test,y_test)\n",
    "\n",
    "print(\"R square value of train data: \",r2_score_train,\"\\nR square value of test data : \",r2_score_test)"
   ]
  },
  {
   "cell_type": "markdown",
   "id": "3fa14b05",
   "metadata": {},
   "source": [
    "### Only considering Water to predict yield."
   ]
  },
  {
   "cell_type": "code",
   "execution_count": 35,
   "id": "64a8e394",
   "metadata": {},
   "outputs": [],
   "source": [
    "y_train = data_train['yield']\n",
    "X_train = data_train.iloc[:, [0]]\n",
    "y_test = data_test['yield']\n",
    "X_test = data_test.iloc[:, [0]]"
   ]
  },
  {
   "cell_type": "code",
   "execution_count": 36,
   "id": "d10dddf7",
   "metadata": {},
   "outputs": [
    {
     "data": {
      "text/plain": [
       "675    68.295\n",
       "358    52.913\n",
       "159    72.568\n",
       "533    36.008\n",
       "678    69.490\n",
       "Name: yield, dtype: float64"
      ]
     },
     "execution_count": 36,
     "metadata": {},
     "output_type": "execute_result"
    }
   ],
   "source": [
    "y_train.head()"
   ]
  },
  {
   "cell_type": "code",
   "execution_count": 37,
   "id": "7b346f5b",
   "metadata": {},
   "outputs": [
    {
     "data": {
      "text/html": [
       "<div>\n",
       "<style scoped>\n",
       "    .dataframe tbody tr th:only-of-type {\n",
       "        vertical-align: middle;\n",
       "    }\n",
       "\n",
       "    .dataframe tbody tr th {\n",
       "        vertical-align: top;\n",
       "    }\n",
       "\n",
       "    .dataframe thead th {\n",
       "        text-align: right;\n",
       "    }\n",
       "</style>\n",
       "<table border=\"1\" class=\"dataframe\">\n",
       "  <thead>\n",
       "    <tr style=\"text-align: right;\">\n",
       "      <th></th>\n",
       "      <th>water</th>\n",
       "    </tr>\n",
       "  </thead>\n",
       "  <tbody>\n",
       "    <tr>\n",
       "      <th>675</th>\n",
       "      <td>4.923</td>\n",
       "    </tr>\n",
       "    <tr>\n",
       "      <th>358</th>\n",
       "      <td>1.598</td>\n",
       "    </tr>\n",
       "    <tr>\n",
       "      <th>159</th>\n",
       "      <td>4.064</td>\n",
       "    </tr>\n",
       "    <tr>\n",
       "      <th>533</th>\n",
       "      <td>8.684</td>\n",
       "    </tr>\n",
       "    <tr>\n",
       "      <th>678</th>\n",
       "      <td>6.084</td>\n",
       "    </tr>\n",
       "  </tbody>\n",
       "</table>\n",
       "</div>"
      ],
      "text/plain": [
       "     water\n",
       "675  4.923\n",
       "358  1.598\n",
       "159  4.064\n",
       "533  8.684\n",
       "678  6.084"
      ]
     },
     "execution_count": 37,
     "metadata": {},
     "output_type": "execute_result"
    }
   ],
   "source": [
    "X_train.head()"
   ]
  },
  {
   "cell_type": "code",
   "execution_count": 38,
   "id": "887b10fe",
   "metadata": {},
   "outputs": [
    {
     "data": {
      "text/plain": [
       "array([55.31807015, 49.04264409, 53.69683978, 62.41637914, 57.50927907,\n",
       "       54.54614556, 61.48214278, 67.07246217, 63.95456628, 56.97704744])"
      ]
     },
     "execution_count": 38,
     "metadata": {},
     "output_type": "execute_result"
    }
   ],
   "source": [
    "reg = LinearRegression()\n",
    "reg.fit(X_train,y_train)\n",
    "y_train_pred=reg.predict(X_train)\n",
    "y_train_pred[:10]"
   ]
  },
  {
   "cell_type": "code",
   "execution_count": 39,
   "id": "1bd695e3",
   "metadata": {},
   "outputs": [
    {
     "name": "stdout",
     "output_type": "stream",
     "text": [
      "Mean squared error :  628.0203332114421\n",
      "Root Mean Squared error :  25.06033386073382\n"
     ]
    }
   ],
   "source": [
    "y_test_pred=reg.predict(X_test)\n",
    "print(\"Mean squared error : \",mean_squared_error(y_test, y_test_pred))\n",
    "print(\"Root Mean Squared error : \",math.sqrt(mean_squared_error(y_test, y_test_pred)))"
   ]
  },
  {
   "cell_type": "code",
   "execution_count": 40,
   "id": "79031e46",
   "metadata": {},
   "outputs": [
    {
     "name": "stdout",
     "output_type": "stream",
     "text": [
      "R square value of train data:  0.045521810669382545 \n",
      "R square value of test data :  0.052076276193369964\n"
     ]
    }
   ],
   "source": [
    "r2_score_train=reg.score(X_train,y_train)\n",
    "r2_score_test=reg.score(X_test,y_test)\n",
    "\n",
    "print(\"R square value of train data: \",r2_score_train,\"\\nR square value of test data : \",r2_score_test)"
   ]
  },
  {
   "cell_type": "markdown",
   "id": "a0adc1a4",
   "metadata": {},
   "source": [
    "### Only considering UV to predict yield."
   ]
  },
  {
   "cell_type": "code",
   "execution_count": 41,
   "id": "e29fdf16",
   "metadata": {},
   "outputs": [],
   "source": [
    "y_train = data_train['yield']\n",
    "X_train = data_train.iloc[:, [1]]\n",
    "y_test = data_test['yield']\n",
    "X_test = data_test.iloc[:, [1]]"
   ]
  },
  {
   "cell_type": "code",
   "execution_count": 42,
   "id": "49ae9185",
   "metadata": {
    "scrolled": true
   },
   "outputs": [
    {
     "data": {
      "text/html": [
       "<div>\n",
       "<style scoped>\n",
       "    .dataframe tbody tr th:only-of-type {\n",
       "        vertical-align: middle;\n",
       "    }\n",
       "\n",
       "    .dataframe tbody tr th {\n",
       "        vertical-align: top;\n",
       "    }\n",
       "\n",
       "    .dataframe thead th {\n",
       "        text-align: right;\n",
       "    }\n",
       "</style>\n",
       "<table border=\"1\" class=\"dataframe\">\n",
       "  <thead>\n",
       "    <tr style=\"text-align: right;\">\n",
       "      <th></th>\n",
       "      <th>uv</th>\n",
       "    </tr>\n",
       "  </thead>\n",
       "  <tbody>\n",
       "    <tr>\n",
       "      <th>675</th>\n",
       "      <td>90.242</td>\n",
       "    </tr>\n",
       "    <tr>\n",
       "      <th>358</th>\n",
       "      <td>71.792</td>\n",
       "    </tr>\n",
       "    <tr>\n",
       "      <th>159</th>\n",
       "      <td>81.622</td>\n",
       "    </tr>\n",
       "    <tr>\n",
       "      <th>533</th>\n",
       "      <td>57.248</td>\n",
       "    </tr>\n",
       "    <tr>\n",
       "      <th>678</th>\n",
       "      <td>70.801</td>\n",
       "    </tr>\n",
       "  </tbody>\n",
       "</table>\n",
       "</div>"
      ],
      "text/plain": [
       "         uv\n",
       "675  90.242\n",
       "358  71.792\n",
       "159  81.622\n",
       "533  57.248\n",
       "678  70.801"
      ]
     },
     "execution_count": 42,
     "metadata": {},
     "output_type": "execute_result"
    }
   ],
   "source": [
    "X_train.head()"
   ]
  },
  {
   "cell_type": "code",
   "execution_count": 43,
   "id": "1b3ef069",
   "metadata": {},
   "outputs": [
    {
     "data": {
      "text/plain": [
       "675    68.295\n",
       "358    52.913\n",
       "159    72.568\n",
       "533    36.008\n",
       "678    69.490\n",
       "Name: yield, dtype: float64"
      ]
     },
     "execution_count": 43,
     "metadata": {},
     "output_type": "execute_result"
    }
   ],
   "source": [
    "y_train.head()"
   ]
  },
  {
   "cell_type": "code",
   "execution_count": 44,
   "id": "fc618cfe",
   "metadata": {},
   "outputs": [],
   "source": [
    "reg = LinearRegression()\n",
    "reg.fit(X_train,y_train)\n",
    "y_train_pred=reg.predict(X_train)"
   ]
  },
  {
   "cell_type": "code",
   "execution_count": 45,
   "id": "7798308f",
   "metadata": {},
   "outputs": [
    {
     "name": "stdout",
     "output_type": "stream",
     "text": [
      "Mean squared error :  661.4027580021278\n",
      "Root Mean Squared error :  25.717751806915935\n"
     ]
    }
   ],
   "source": [
    "y_test_pred=reg.predict(X_test)\n",
    "print(\"Mean squared error : \",mean_squared_error(y_test, y_test_pred))\n",
    "print(\"Root Mean Squared error : \",math.sqrt(mean_squared_error(y_test, y_test_pred)))"
   ]
  },
  {
   "cell_type": "code",
   "execution_count": 46,
   "id": "434d559b",
   "metadata": {},
   "outputs": [
    {
     "name": "stdout",
     "output_type": "stream",
     "text": [
      "R square value of train data:  0.0007477317494392066 \n",
      "R square value of test data :  0.0016893846488447162\n"
     ]
    }
   ],
   "source": [
    "r2_score_train=reg.score(X_train,y_train)\n",
    "r2_score_test=reg.score(X_test,y_test)\n",
    "\n",
    "print(\"R square value of train data: \",r2_score_train,\"\\nR square value of test data : \",r2_score_test)"
   ]
  },
  {
   "cell_type": "markdown",
   "id": "b56989d4",
   "metadata": {},
   "source": [
    "### Only considering area to predict yield."
   ]
  },
  {
   "cell_type": "code",
   "execution_count": 47,
   "id": "c213bd64",
   "metadata": {},
   "outputs": [],
   "source": [
    "X_train = data_train.iloc[:, [2]]\n",
    "X_test = data_test.iloc[:, [2]]"
   ]
  },
  {
   "cell_type": "code",
   "execution_count": 48,
   "id": "b6a28545",
   "metadata": {},
   "outputs": [
    {
     "data": {
      "text/html": [
       "<div>\n",
       "<style scoped>\n",
       "    .dataframe tbody tr th:only-of-type {\n",
       "        vertical-align: middle;\n",
       "    }\n",
       "\n",
       "    .dataframe tbody tr th {\n",
       "        vertical-align: top;\n",
       "    }\n",
       "\n",
       "    .dataframe thead th {\n",
       "        text-align: right;\n",
       "    }\n",
       "</style>\n",
       "<table border=\"1\" class=\"dataframe\">\n",
       "  <thead>\n",
       "    <tr style=\"text-align: right;\">\n",
       "      <th></th>\n",
       "      <th>area</th>\n",
       "    </tr>\n",
       "  </thead>\n",
       "  <tbody>\n",
       "    <tr>\n",
       "      <th>675</th>\n",
       "      <td>7.524</td>\n",
       "    </tr>\n",
       "    <tr>\n",
       "      <th>358</th>\n",
       "      <td>8.305</td>\n",
       "    </tr>\n",
       "    <tr>\n",
       "      <th>159</th>\n",
       "      <td>7.495</td>\n",
       "    </tr>\n",
       "    <tr>\n",
       "      <th>533</th>\n",
       "      <td>10.176</td>\n",
       "    </tr>\n",
       "    <tr>\n",
       "      <th>678</th>\n",
       "      <td>10.207</td>\n",
       "    </tr>\n",
       "  </tbody>\n",
       "</table>\n",
       "</div>"
      ],
      "text/plain": [
       "       area\n",
       "675   7.524\n",
       "358   8.305\n",
       "159   7.495\n",
       "533  10.176\n",
       "678  10.207"
      ]
     },
     "execution_count": 48,
     "metadata": {},
     "output_type": "execute_result"
    }
   ],
   "source": [
    "X_train.head()"
   ]
  },
  {
   "cell_type": "code",
   "execution_count": 49,
   "id": "5ed0688f",
   "metadata": {},
   "outputs": [
    {
     "data": {
      "text/plain": [
       "675    68.295\n",
       "358    52.913\n",
       "159    72.568\n",
       "533    36.008\n",
       "678    69.490\n",
       "Name: yield, dtype: float64"
      ]
     },
     "execution_count": 49,
     "metadata": {},
     "output_type": "execute_result"
    }
   ],
   "source": [
    "y_train.head()"
   ]
  },
  {
   "cell_type": "code",
   "execution_count": 50,
   "id": "044de4fa",
   "metadata": {},
   "outputs": [],
   "source": [
    "reg = LinearRegression()\n",
    "reg.fit(X_train,y_train)\n",
    "y_train_pred=reg.predict(X_train)"
   ]
  },
  {
   "cell_type": "code",
   "execution_count": 51,
   "id": "c0d135ad",
   "metadata": {},
   "outputs": [
    {
     "name": "stdout",
     "output_type": "stream",
     "text": [
      "Mean squared error :  465.67830761378804\n",
      "Root Mean Squared error :  21.579580802550083\n"
     ]
    }
   ],
   "source": [
    "y_test_pred=reg.predict(X_test)\n",
    "print(\"Mean squared error : \",mean_squared_error(y_test, y_test_pred))\n",
    "print(\"Root Mean Squared error : \",math.sqrt(mean_squared_error(y_test, y_test_pred)))"
   ]
  },
  {
   "cell_type": "code",
   "execution_count": 52,
   "id": "7b687d3a",
   "metadata": {},
   "outputs": [
    {
     "name": "stdout",
     "output_type": "stream",
     "text": [
      "R square value of train data:  0.2227122562742917 \n",
      "R square value of test data :  0.29711270144399704\n"
     ]
    }
   ],
   "source": [
    "r2_score_train=reg.score(X_train,y_train)\n",
    "r2_score_test=reg.score(X_test,y_test)\n",
    "\n",
    "print(\"R square value of train data: \",r2_score_train,\"\\nR square value of test data : \",r2_score_test)"
   ]
  },
  {
   "cell_type": "markdown",
   "id": "c7bc7474",
   "metadata": {},
   "source": [
    "### Only considering fertilizer_usage to predict yield."
   ]
  },
  {
   "cell_type": "code",
   "execution_count": 53,
   "id": "68ab22c7",
   "metadata": {},
   "outputs": [],
   "source": [
    "X_train = data_train.iloc[:, [3]]\n",
    "X_test = data_test.iloc[:, [3]]"
   ]
  },
  {
   "cell_type": "code",
   "execution_count": 54,
   "id": "64d3be6c",
   "metadata": {},
   "outputs": [
    {
     "data": {
      "text/html": [
       "<div>\n",
       "<style scoped>\n",
       "    .dataframe tbody tr th:only-of-type {\n",
       "        vertical-align: middle;\n",
       "    }\n",
       "\n",
       "    .dataframe tbody tr th {\n",
       "        vertical-align: top;\n",
       "    }\n",
       "\n",
       "    .dataframe thead th {\n",
       "        text-align: right;\n",
       "    }\n",
       "</style>\n",
       "<table border=\"1\" class=\"dataframe\">\n",
       "  <thead>\n",
       "    <tr style=\"text-align: right;\">\n",
       "      <th></th>\n",
       "      <th>fertilizer_usage</th>\n",
       "    </tr>\n",
       "  </thead>\n",
       "  <tbody>\n",
       "    <tr>\n",
       "      <th>675</th>\n",
       "      <td>4</td>\n",
       "    </tr>\n",
       "    <tr>\n",
       "      <th>358</th>\n",
       "      <td>1</td>\n",
       "    </tr>\n",
       "    <tr>\n",
       "      <th>159</th>\n",
       "      <td>3</td>\n",
       "    </tr>\n",
       "    <tr>\n",
       "      <th>533</th>\n",
       "      <td>1</td>\n",
       "    </tr>\n",
       "    <tr>\n",
       "      <th>678</th>\n",
       "      <td>1</td>\n",
       "    </tr>\n",
       "  </tbody>\n",
       "</table>\n",
       "</div>"
      ],
      "text/plain": [
       "     fertilizer_usage\n",
       "675                 4\n",
       "358                 1\n",
       "159                 3\n",
       "533                 1\n",
       "678                 1"
      ]
     },
     "execution_count": 54,
     "metadata": {},
     "output_type": "execute_result"
    }
   ],
   "source": [
    "X_train.head()"
   ]
  },
  {
   "cell_type": "code",
   "execution_count": 55,
   "id": "991a2207",
   "metadata": {},
   "outputs": [],
   "source": [
    "reg = LinearRegression()\n",
    "reg.fit(X_train,y_train)\n",
    "y_train_pred=reg.predict(X_train)"
   ]
  },
  {
   "cell_type": "code",
   "execution_count": 56,
   "id": "e311e8c0",
   "metadata": {},
   "outputs": [
    {
     "name": "stdout",
     "output_type": "stream",
     "text": [
      "Mean squared error :  533.0587635252961\n",
      "Root Mean Squared error :  23.088065391567483\n"
     ]
    }
   ],
   "source": [
    "y_test_pred=reg.predict(X_test)\n",
    "print(\"Mean squared error : \",mean_squared_error(y_test, y_test_pred))\n",
    "print(\"Root Mean Squared error : \",math.sqrt(mean_squared_error(y_test, y_test_pred)))"
   ]
  },
  {
   "cell_type": "code",
   "execution_count": 57,
   "id": "5bf54a20",
   "metadata": {},
   "outputs": [
    {
     "name": "stdout",
     "output_type": "stream",
     "text": [
      "R square value of train data:  0.20586877480966415 \n",
      "R square value of test data :  0.19540973212640833\n"
     ]
    }
   ],
   "source": [
    "r2_score_train=reg.score(X_train,y_train)\n",
    "r2_score_test=reg.score(X_test,y_test)\n",
    "\n",
    "print(\"R square value of train data: \",r2_score_train,\"\\nR square value of test data : \",r2_score_test)"
   ]
  },
  {
   "cell_type": "markdown",
   "id": "4486993f",
   "metadata": {},
   "source": [
    "### Only considering pesticides to predict yield."
   ]
  },
  {
   "cell_type": "code",
   "execution_count": 58,
   "id": "d0925f01",
   "metadata": {},
   "outputs": [
    {
     "data": {
      "text/html": [
       "<div>\n",
       "<style scoped>\n",
       "    .dataframe tbody tr th:only-of-type {\n",
       "        vertical-align: middle;\n",
       "    }\n",
       "\n",
       "    .dataframe tbody tr th {\n",
       "        vertical-align: top;\n",
       "    }\n",
       "\n",
       "    .dataframe thead th {\n",
       "        text-align: right;\n",
       "    }\n",
       "</style>\n",
       "<table border=\"1\" class=\"dataframe\">\n",
       "  <thead>\n",
       "    <tr style=\"text-align: right;\">\n",
       "      <th></th>\n",
       "      <th>pesticides</th>\n",
       "    </tr>\n",
       "  </thead>\n",
       "  <tbody>\n",
       "    <tr>\n",
       "      <th>675</th>\n",
       "      <td>0.164</td>\n",
       "    </tr>\n",
       "    <tr>\n",
       "      <th>358</th>\n",
       "      <td>6.187</td>\n",
       "    </tr>\n",
       "    <tr>\n",
       "      <th>159</th>\n",
       "      <td>3.344</td>\n",
       "    </tr>\n",
       "    <tr>\n",
       "      <th>533</th>\n",
       "      <td>0.014</td>\n",
       "    </tr>\n",
       "    <tr>\n",
       "      <th>678</th>\n",
       "      <td>3.103</td>\n",
       "    </tr>\n",
       "  </tbody>\n",
       "</table>\n",
       "</div>"
      ],
      "text/plain": [
       "     pesticides\n",
       "675       0.164\n",
       "358       6.187\n",
       "159       3.344\n",
       "533       0.014\n",
       "678       3.103"
      ]
     },
     "execution_count": 58,
     "metadata": {},
     "output_type": "execute_result"
    }
   ],
   "source": [
    "X_train = data_train.iloc[:, [5]]\n",
    "X_test = data_test.iloc[:, [5]]\n",
    "X_train.head()"
   ]
  },
  {
   "cell_type": "code",
   "execution_count": 59,
   "id": "7d8d831f",
   "metadata": {},
   "outputs": [],
   "source": [
    "reg = LinearRegression()\n",
    "reg.fit(X_train,y_train)\n",
    "y_train_pred=reg.predict(X_train)"
   ]
  },
  {
   "cell_type": "code",
   "execution_count": 60,
   "id": "55af1407",
   "metadata": {},
   "outputs": [
    {
     "name": "stdout",
     "output_type": "stream",
     "text": [
      "Mean squared error :  662.2569831934104\n",
      "Root Mean Squared error :  25.7343541437008\n"
     ]
    }
   ],
   "source": [
    "y_test_pred=reg.predict(X_test)\n",
    "print(\"Mean squared error : \",mean_squared_error(y_test, y_test_pred))\n",
    "print(\"Root Mean Squared error : \",math.sqrt(mean_squared_error(y_test, y_test_pred)))"
   ]
  },
  {
   "cell_type": "code",
   "execution_count": 61,
   "id": "76f9d828",
   "metadata": {},
   "outputs": [
    {
     "name": "stdout",
     "output_type": "stream",
     "text": [
      "R square value of train data:  0.0006052339659345929 \n",
      "R square value of test data :  0.00040003097433960466\n"
     ]
    }
   ],
   "source": [
    "r2_score_train=reg.score(X_train,y_train)\n",
    "r2_score_test=reg.score(X_test,y_test)\n",
    "\n",
    "print(\"R square value of train data: \",r2_score_train,\"\\nR square value of test data : \",r2_score_test)"
   ]
  },
  {
   "cell_type": "markdown",
   "id": "953dc2a1",
   "metadata": {},
   "source": [
    "### Only considering region to predict yield."
   ]
  },
  {
   "cell_type": "code",
   "execution_count": 62,
   "id": "dd2791b9",
   "metadata": {
    "scrolled": true
   },
   "outputs": [
    {
     "data": {
      "text/html": [
       "<div>\n",
       "<style scoped>\n",
       "    .dataframe tbody tr th:only-of-type {\n",
       "        vertical-align: middle;\n",
       "    }\n",
       "\n",
       "    .dataframe tbody tr th {\n",
       "        vertical-align: top;\n",
       "    }\n",
       "\n",
       "    .dataframe thead th {\n",
       "        text-align: right;\n",
       "    }\n",
       "</style>\n",
       "<table border=\"1\" class=\"dataframe\">\n",
       "  <thead>\n",
       "    <tr style=\"text-align: right;\">\n",
       "      <th></th>\n",
       "      <th>region</th>\n",
       "    </tr>\n",
       "  </thead>\n",
       "  <tbody>\n",
       "    <tr>\n",
       "      <th>675</th>\n",
       "      <td>4</td>\n",
       "    </tr>\n",
       "    <tr>\n",
       "      <th>358</th>\n",
       "      <td>2</td>\n",
       "    </tr>\n",
       "    <tr>\n",
       "      <th>159</th>\n",
       "      <td>1</td>\n",
       "    </tr>\n",
       "    <tr>\n",
       "      <th>533</th>\n",
       "      <td>3</td>\n",
       "    </tr>\n",
       "    <tr>\n",
       "      <th>678</th>\n",
       "      <td>4</td>\n",
       "    </tr>\n",
       "  </tbody>\n",
       "</table>\n",
       "</div>"
      ],
      "text/plain": [
       "     region\n",
       "675       4\n",
       "358       2\n",
       "159       1\n",
       "533       3\n",
       "678       4"
      ]
     },
     "execution_count": 62,
     "metadata": {},
     "output_type": "execute_result"
    }
   ],
   "source": [
    "X_train = data_train.iloc[:, [6]]\n",
    "X_test = data_test.iloc[:, [6]]\n",
    "X_train.head()"
   ]
  },
  {
   "cell_type": "code",
   "execution_count": 63,
   "id": "5b48e3dd",
   "metadata": {},
   "outputs": [],
   "source": [
    "reg = LinearRegression()\n",
    "reg.fit(X_train,y_train)\n",
    "y_train_pred=reg.predict(X_train)"
   ]
  },
  {
   "cell_type": "code",
   "execution_count": 64,
   "id": "e5f63cfe",
   "metadata": {},
   "outputs": [
    {
     "name": "stdout",
     "output_type": "stream",
     "text": [
      "Mean squared error :  662.7690489384782\n",
      "Root Mean Squared error :  25.744301290547355\n"
     ]
    }
   ],
   "source": [
    "y_test_pred=reg.predict(X_test)\n",
    "print(\"Mean squared error : \",mean_squared_error(y_test, y_test_pred))\n",
    "print(\"Root Mean Squared error : \",math.sqrt(mean_squared_error(y_test, y_test_pred)))"
   ]
  },
  {
   "cell_type": "code",
   "execution_count": 65,
   "id": "64e21d1d",
   "metadata": {},
   "outputs": [
    {
     "name": "stdout",
     "output_type": "stream",
     "text": [
      "R square value of train data:  0.00047055254515937506 \n",
      "R square value of test data :  -0.0003728727713343538\n"
     ]
    }
   ],
   "source": [
    "r2_score_train=reg.score(X_train,y_train)\n",
    "r2_score_test=reg.score(X_test,y_test)\n",
    "\n",
    "print(\"R square value of train data: \",r2_score_train,\"\\nR square value of test data : \",r2_score_test)"
   ]
  },
  {
   "cell_type": "code",
   "execution_count": 66,
   "id": "943b84a8",
   "metadata": {},
   "outputs": [
    {
     "name": "stdout",
     "output_type": "stream",
     "text": [
      "[25.06033386073382, 25.717751806915935, 21.579580802550083, 23.088065391567483, 25.7343541437008, 25.744301290547355]\n",
      "['water', 'uv', 'area', 'fertilizer_usage', 'pesticides', 'region']\n"
     ]
    }
   ],
   "source": [
    "l = []\n",
    "c = []\n",
    "for i in range(7):\n",
    "    if i != 4:\n",
    "        X_train = data_train.iloc[:, [i]]\n",
    "        X_test = data_test.iloc[:, [i]]\n",
    "        reg = LinearRegression()\n",
    "        reg.fit(X_train,y_train)\n",
    "        y_test_pred=reg.predict(X_test)\n",
    "        l.append(math.sqrt(mean_squared_error(y_test, y_test_pred)))\n",
    "        c.append(data_test.columns[i])\n",
    "print(l)\n",
    "print(c)"
   ]
  },
  {
   "cell_type": "code",
   "execution_count": 67,
   "id": "522d917a",
   "metadata": {},
   "outputs": [
    {
     "data": {
      "text/plain": [
       "<AxesSubplot:>"
      ]
     },
     "execution_count": 67,
     "metadata": {},
     "output_type": "execute_result"
    },
    {
     "data": {
      "image/png": "[encoded data removed]",
      "text/plain": [
       "<Figure size 432x288 with 1 Axes>"
      ]
     },
     "metadata": {
      "needs_background": "light"
     },
     "output_type": "display_data"
    }
   ],
   "source": [
    "sns.scatterplot(x=c, y=l, color='r')"
   ]
  },
  {
   "cell_type": "markdown",
   "id": "70421a38",
   "metadata": {},
   "source": [
    "From the above data we can see that area has the least mean squared error followed by fertilizer usage."
   ]
  },
  {
   "cell_type": "markdown",
   "id": "823434d7",
   "metadata": {},
   "source": [
    "### Considering area and water to predict yield."
   ]
  },
  {
   "cell_type": "code",
   "execution_count": 68,
   "id": "1bfdc64b",
   "metadata": {},
   "outputs": [
    {
     "data": {
      "text/html": [
       "<div>\n",
       "<style scoped>\n",
       "    .dataframe tbody tr th:only-of-type {\n",
       "        vertical-align: middle;\n",
       "    }\n",
       "\n",
       "    .dataframe tbody tr th {\n",
       "        vertical-align: top;\n",
       "    }\n",
       "\n",
       "    .dataframe thead th {\n",
       "        text-align: right;\n",
       "    }\n",
       "</style>\n",
       "<table border=\"1\" class=\"dataframe\">\n",
       "  <thead>\n",
       "    <tr style=\"text-align: right;\">\n",
       "      <th></th>\n",
       "      <th>area</th>\n",
       "      <th>water</th>\n",
       "    </tr>\n",
       "  </thead>\n",
       "  <tbody>\n",
       "    <tr>\n",
       "      <th>675</th>\n",
       "      <td>7.524</td>\n",
       "      <td>4.923</td>\n",
       "    </tr>\n",
       "    <tr>\n",
       "      <th>358</th>\n",
       "      <td>8.305</td>\n",
       "      <td>1.598</td>\n",
       "    </tr>\n",
       "    <tr>\n",
       "      <th>159</th>\n",
       "      <td>7.495</td>\n",
       "      <td>4.064</td>\n",
       "    </tr>\n",
       "    <tr>\n",
       "      <th>533</th>\n",
       "      <td>10.176</td>\n",
       "      <td>8.684</td>\n",
       "    </tr>\n",
       "    <tr>\n",
       "      <th>678</th>\n",
       "      <td>10.207</td>\n",
       "      <td>6.084</td>\n",
       "    </tr>\n",
       "  </tbody>\n",
       "</table>\n",
       "</div>"
      ],
      "text/plain": [
       "       area  water\n",
       "675   7.524  4.923\n",
       "358   8.305  1.598\n",
       "159   7.495  4.064\n",
       "533  10.176  8.684\n",
       "678  10.207  6.084"
      ]
     },
     "execution_count": 68,
     "metadata": {},
     "output_type": "execute_result"
    }
   ],
   "source": [
    "X_train = data_train.iloc[:, [2,0]]\n",
    "X_test = data_test.iloc[:, [2,0]]\n",
    "X_train.head()"
   ]
  },
  {
   "cell_type": "code",
   "execution_count": 69,
   "id": "4b5f5610",
   "metadata": {},
   "outputs": [],
   "source": [
    "reg = LinearRegression()\n",
    "reg.fit(X_train,y_train)\n",
    "y_train_pred=reg.predict(X_train)"
   ]
  },
  {
   "cell_type": "code",
   "execution_count": 70,
   "id": "62ad8816",
   "metadata": {},
   "outputs": [
    {
     "name": "stdout",
     "output_type": "stream",
     "text": [
      "Mean squared error :  373.4738021563229\n",
      "Root Mean Squared error :  19.32547029586403\n"
     ]
    }
   ],
   "source": [
    "y_test_pred=reg.predict(X_test)\n",
    "print(\"Mean squared error : \",mean_squared_error(y_test, y_test_pred))\n",
    "print(\"Root Mean Squared error : \",math.sqrt(mean_squared_error(y_test, y_test_pred)))"
   ]
  },
  {
   "cell_type": "code",
   "execution_count": 71,
   "id": "dde1fc1d",
   "metadata": {},
   "outputs": [
    {
     "name": "stdout",
     "output_type": "stream",
     "text": [
      "R square value of train data:  0.3198488330267375 \n",
      "R square value of test data :  0.43628468926491093\n"
     ]
    }
   ],
   "source": [
    "r2_score_train=reg.score(X_train,y_train)\n",
    "r2_score_test=reg.score(X_test,y_test)\n",
    "\n",
    "print(\"R square value of train data: \",r2_score_train,\"\\nR square value of test data : \",r2_score_test)"
   ]
  },
  {
   "cell_type": "markdown",
   "id": "4884364a",
   "metadata": {},
   "source": [
    "### Considering area and UV to predict yield"
   ]
  },
  {
   "cell_type": "code",
   "execution_count": 72,
   "id": "f48d8cd4",
   "metadata": {},
   "outputs": [
    {
     "data": {
      "text/html": [
       "<div>\n",
       "<style scoped>\n",
       "    .dataframe tbody tr th:only-of-type {\n",
       "        vertical-align: middle;\n",
       "    }\n",
       "\n",
       "    .dataframe tbody tr th {\n",
       "        vertical-align: top;\n",
       "    }\n",
       "\n",
       "    .dataframe thead th {\n",
       "        text-align: right;\n",
       "    }\n",
       "</style>\n",
       "<table border=\"1\" class=\"dataframe\">\n",
       "  <thead>\n",
       "    <tr style=\"text-align: right;\">\n",
       "      <th></th>\n",
       "      <th>area</th>\n",
       "      <th>uv</th>\n",
       "    </tr>\n",
       "  </thead>\n",
       "  <tbody>\n",
       "    <tr>\n",
       "      <th>675</th>\n",
       "      <td>7.524</td>\n",
       "      <td>90.242</td>\n",
       "    </tr>\n",
       "    <tr>\n",
       "      <th>358</th>\n",
       "      <td>8.305</td>\n",
       "      <td>71.792</td>\n",
       "    </tr>\n",
       "    <tr>\n",
       "      <th>159</th>\n",
       "      <td>7.495</td>\n",
       "      <td>81.622</td>\n",
       "    </tr>\n",
       "    <tr>\n",
       "      <th>533</th>\n",
       "      <td>10.176</td>\n",
       "      <td>57.248</td>\n",
       "    </tr>\n",
       "    <tr>\n",
       "      <th>678</th>\n",
       "      <td>10.207</td>\n",
       "      <td>70.801</td>\n",
       "    </tr>\n",
       "  </tbody>\n",
       "</table>\n",
       "</div>"
      ],
      "text/plain": [
       "       area      uv\n",
       "675   7.524  90.242\n",
       "358   8.305  71.792\n",
       "159   7.495  81.622\n",
       "533  10.176  57.248\n",
       "678  10.207  70.801"
      ]
     },
     "execution_count": 72,
     "metadata": {},
     "output_type": "execute_result"
    }
   ],
   "source": [
    "X_train = data_train.iloc[:, [2,1]]\n",
    "X_test = data_test.iloc[:, [2,1]]\n",
    "X_train.head()"
   ]
  },
  {
   "cell_type": "code",
   "execution_count": 73,
   "id": "1c29c6c8",
   "metadata": {},
   "outputs": [],
   "source": [
    "reg = LinearRegression()\n",
    "reg.fit(X_train,y_train)\n",
    "y_train_pred=reg.predict(X_train)"
   ]
  },
  {
   "cell_type": "code",
   "execution_count": 74,
   "id": "fe16913b",
   "metadata": {},
   "outputs": [
    {
     "name": "stdout",
     "output_type": "stream",
     "text": [
      "Mean squared error :  467.8522684320345\n",
      "Root Mean Squared error :  21.629892936212944\n"
     ]
    }
   ],
   "source": [
    "y_test_pred=reg.predict(X_test)\n",
    "print(\"Mean squared error : \",mean_squared_error(y_test, y_test_pred))\n",
    "print(\"Root Mean Squared error : \",math.sqrt(mean_squared_error(y_test, y_test_pred)))"
   ]
  },
  {
   "cell_type": "code",
   "execution_count": 75,
   "id": "48318210",
   "metadata": {},
   "outputs": [
    {
     "name": "stdout",
     "output_type": "stream",
     "text": [
      "R square value of train data:  0.2232253566838398 \n",
      "R square value of test data :  0.2938313601796083\n"
     ]
    }
   ],
   "source": [
    "r2_score_train=reg.score(X_train,y_train)\n",
    "r2_score_test=reg.score(X_test,y_test)\n",
    "\n",
    "print(\"R square value of train data: \",r2_score_train,\"\\nR square value of test data : \",r2_score_test)"
   ]
  },
  {
   "cell_type": "markdown",
   "id": "18bef4b4",
   "metadata": {},
   "source": [
    "### Considering pesticides and area to predict yield"
   ]
  },
  {
   "cell_type": "code",
   "execution_count": 76,
   "id": "ed95d685",
   "metadata": {},
   "outputs": [
    {
     "data": {
      "text/html": [
       "<div>\n",
       "<style scoped>\n",
       "    .dataframe tbody tr th:only-of-type {\n",
       "        vertical-align: middle;\n",
       "    }\n",
       "\n",
       "    .dataframe tbody tr th {\n",
       "        vertical-align: top;\n",
       "    }\n",
       "\n",
       "    .dataframe thead th {\n",
       "        text-align: right;\n",
       "    }\n",
       "</style>\n",
       "<table border=\"1\" class=\"dataframe\">\n",
       "  <thead>\n",
       "    <tr style=\"text-align: right;\">\n",
       "      <th></th>\n",
       "      <th>pesticides</th>\n",
       "      <th>area</th>\n",
       "    </tr>\n",
       "  </thead>\n",
       "  <tbody>\n",
       "    <tr>\n",
       "      <th>675</th>\n",
       "      <td>0.164</td>\n",
       "      <td>7.524</td>\n",
       "    </tr>\n",
       "    <tr>\n",
       "      <th>358</th>\n",
       "      <td>6.187</td>\n",
       "      <td>8.305</td>\n",
       "    </tr>\n",
       "    <tr>\n",
       "      <th>159</th>\n",
       "      <td>3.344</td>\n",
       "      <td>7.495</td>\n",
       "    </tr>\n",
       "    <tr>\n",
       "      <th>533</th>\n",
       "      <td>0.014</td>\n",
       "      <td>10.176</td>\n",
       "    </tr>\n",
       "    <tr>\n",
       "      <th>678</th>\n",
       "      <td>3.103</td>\n",
       "      <td>10.207</td>\n",
       "    </tr>\n",
       "  </tbody>\n",
       "</table>\n",
       "</div>"
      ],
      "text/plain": [
       "     pesticides    area\n",
       "675       0.164   7.524\n",
       "358       6.187   8.305\n",
       "159       3.344   7.495\n",
       "533       0.014  10.176\n",
       "678       3.103  10.207"
      ]
     },
     "execution_count": 76,
     "metadata": {},
     "output_type": "execute_result"
    }
   ],
   "source": [
    "X_train = data_train.iloc[:, [5,2]]\n",
    "X_test = data_test.iloc[:, [5,2]]\n",
    "X_train.head()"
   ]
  },
  {
   "cell_type": "code",
   "execution_count": 77,
   "id": "f30a1752",
   "metadata": {},
   "outputs": [],
   "source": [
    "reg = LinearRegression()\n",
    "reg.fit(X_train,y_train)\n",
    "y_train_pred=reg.predict(X_train)"
   ]
  },
  {
   "cell_type": "code",
   "execution_count": 78,
   "id": "2a1e8684",
   "metadata": {},
   "outputs": [
    {
     "name": "stdout",
     "output_type": "stream",
     "text": [
      "Mean squared error :  464.15947912525075\n",
      "Root Mean Squared error :  21.54436072677142\n"
     ]
    }
   ],
   "source": [
    "y_test_pred=reg.predict(X_test)\n",
    "print(\"Mean squared error : \",mean_squared_error(y_test, y_test_pred))\n",
    "print(\"Root Mean Squared error : \",math.sqrt(mean_squared_error(y_test, y_test_pred)))"
   ]
  },
  {
   "cell_type": "code",
   "execution_count": 79,
   "id": "b8ce7845",
   "metadata": {},
   "outputs": [
    {
     "name": "stdout",
     "output_type": "stream",
     "text": [
      "R square value of train data:  0.2232080658376161 \n",
      "R square value of test data :  0.29940519657598696\n"
     ]
    }
   ],
   "source": [
    "r2_score_train=reg.score(X_train,y_train)\n",
    "r2_score_test=reg.score(X_test,y_test)\n",
    "\n",
    "print(\"R square value of train data: \",r2_score_train,\"\\nR square value of test data : \",r2_score_test)"
   ]
  },
  {
   "cell_type": "markdown",
   "id": "6d426666",
   "metadata": {},
   "source": [
    "### Considering area and fertilizer usage to predict yield"
   ]
  },
  {
   "cell_type": "code",
   "execution_count": 80,
   "id": "61f05927",
   "metadata": {},
   "outputs": [
    {
     "data": {
      "text/html": [
       "<div>\n",
       "<style scoped>\n",
       "    .dataframe tbody tr th:only-of-type {\n",
       "        vertical-align: middle;\n",
       "    }\n",
       "\n",
       "    .dataframe tbody tr th {\n",
       "        vertical-align: top;\n",
       "    }\n",
       "\n",
       "    .dataframe thead th {\n",
       "        text-align: right;\n",
       "    }\n",
       "</style>\n",
       "<table border=\"1\" class=\"dataframe\">\n",
       "  <thead>\n",
       "    <tr style=\"text-align: right;\">\n",
       "      <th></th>\n",
       "      <th>area</th>\n",
       "      <th>fertilizer_usage</th>\n",
       "    </tr>\n",
       "  </thead>\n",
       "  <tbody>\n",
       "    <tr>\n",
       "      <th>675</th>\n",
       "      <td>7.524</td>\n",
       "      <td>4</td>\n",
       "    </tr>\n",
       "    <tr>\n",
       "      <th>358</th>\n",
       "      <td>8.305</td>\n",
       "      <td>1</td>\n",
       "    </tr>\n",
       "    <tr>\n",
       "      <th>159</th>\n",
       "      <td>7.495</td>\n",
       "      <td>3</td>\n",
       "    </tr>\n",
       "    <tr>\n",
       "      <th>533</th>\n",
       "      <td>10.176</td>\n",
       "      <td>1</td>\n",
       "    </tr>\n",
       "    <tr>\n",
       "      <th>678</th>\n",
       "      <td>10.207</td>\n",
       "      <td>1</td>\n",
       "    </tr>\n",
       "  </tbody>\n",
       "</table>\n",
       "</div>"
      ],
      "text/plain": [
       "       area  fertilizer_usage\n",
       "675   7.524                 4\n",
       "358   8.305                 1\n",
       "159   7.495                 3\n",
       "533  10.176                 1\n",
       "678  10.207                 1"
      ]
     },
     "execution_count": 80,
     "metadata": {},
     "output_type": "execute_result"
    }
   ],
   "source": [
    "X_train = data_train.iloc[:, [2,3]]\n",
    "X_test = data_test.iloc[:, [2,3]]\n",
    "X_train.head()"
   ]
  },
  {
   "cell_type": "code",
   "execution_count": 81,
   "id": "0ce66017",
   "metadata": {},
   "outputs": [],
   "source": [
    "reg = LinearRegression()\n",
    "reg.fit(X_train,y_train)\n",
    "y_train_pred=reg.predict(X_train)"
   ]
  },
  {
   "cell_type": "code",
   "execution_count": 82,
   "id": "0429db36",
   "metadata": {},
   "outputs": [
    {
     "name": "stdout",
     "output_type": "stream",
     "text": [
      "Mean squared error :  270.12908834520806\n",
      "Root Mean Squared error :  16.435604289018645\n"
     ]
    }
   ],
   "source": [
    "y_test_pred=reg.predict(X_test)\n",
    "print(\"Mean squared error : \",mean_squared_error(y_test, y_test_pred))\n",
    "print(\"Root Mean Squared error : \",math.sqrt(mean_squared_error(y_test, y_test_pred)))"
   ]
  },
  {
   "cell_type": "code",
   "execution_count": 83,
   "id": "7ee279ae",
   "metadata": {},
   "outputs": [
    {
     "name": "stdout",
     "output_type": "stream",
     "text": [
      "R square value of train data:  0.547529992991408 \n",
      "R square value of test data :  0.5922715272238347\n"
     ]
    }
   ],
   "source": [
    "r2_score_train=reg.score(X_train,y_train)\n",
    "r2_score_test=reg.score(X_test,y_test)\n",
    "\n",
    "print(\"R square value of train data: \",r2_score_train,\"\\nR square value of test data : \",r2_score_test)"
   ]
  },
  {
   "cell_type": "markdown",
   "id": "f2a82c7a",
   "metadata": {},
   "source": [
    "### Considering area and region to predict yield"
   ]
  },
  {
   "cell_type": "code",
   "execution_count": 84,
   "id": "fee5f5eb",
   "metadata": {},
   "outputs": [
    {
     "data": {
      "text/html": [
       "<div>\n",
       "<style scoped>\n",
       "    .dataframe tbody tr th:only-of-type {\n",
       "        vertical-align: middle;\n",
       "    }\n",
       "\n",
       "    .dataframe tbody tr th {\n",
       "        vertical-align: top;\n",
       "    }\n",
       "\n",
       "    .dataframe thead th {\n",
       "        text-align: right;\n",
       "    }\n",
       "</style>\n",
       "<table border=\"1\" class=\"dataframe\">\n",
       "  <thead>\n",
       "    <tr style=\"text-align: right;\">\n",
       "      <th></th>\n",
       "      <th>area</th>\n",
       "      <th>region</th>\n",
       "    </tr>\n",
       "  </thead>\n",
       "  <tbody>\n",
       "    <tr>\n",
       "      <th>675</th>\n",
       "      <td>7.524</td>\n",
       "      <td>4</td>\n",
       "    </tr>\n",
       "    <tr>\n",
       "      <th>358</th>\n",
       "      <td>8.305</td>\n",
       "      <td>2</td>\n",
       "    </tr>\n",
       "    <tr>\n",
       "      <th>159</th>\n",
       "      <td>7.495</td>\n",
       "      <td>1</td>\n",
       "    </tr>\n",
       "    <tr>\n",
       "      <th>533</th>\n",
       "      <td>10.176</td>\n",
       "      <td>3</td>\n",
       "    </tr>\n",
       "    <tr>\n",
       "      <th>678</th>\n",
       "      <td>10.207</td>\n",
       "      <td>4</td>\n",
       "    </tr>\n",
       "  </tbody>\n",
       "</table>\n",
       "</div>"
      ],
      "text/plain": [
       "       area  region\n",
       "675   7.524       4\n",
       "358   8.305       2\n",
       "159   7.495       1\n",
       "533  10.176       3\n",
       "678  10.207       4"
      ]
     },
     "execution_count": 84,
     "metadata": {},
     "output_type": "execute_result"
    }
   ],
   "source": [
    "X_train = data_train.iloc[:, [2,6]]\n",
    "X_test = data_test.iloc[:, [2,6]]\n",
    "X_train.head()"
   ]
  },
  {
   "cell_type": "code",
   "execution_count": 85,
   "id": "7052b6d7",
   "metadata": {},
   "outputs": [],
   "source": [
    "reg = LinearRegression()\n",
    "reg.fit(X_train,y_train)\n",
    "y_train_pred=reg.predict(X_train)"
   ]
  },
  {
   "cell_type": "code",
   "execution_count": 86,
   "id": "84976fcb",
   "metadata": {},
   "outputs": [
    {
     "name": "stdout",
     "output_type": "stream",
     "text": [
      "Mean squared error :  404.57538643017267\n",
      "Root Mean Squared error :  20.114059421960867\n"
     ]
    }
   ],
   "source": [
    "y_test_pred=reg.predict(X_test)\n",
    "print(\"Mean squared error : \",mean_squared_error(y_test, y_test_pred))\n",
    "print(\"Root Mean Squared error : \",math.sqrt(mean_squared_error(y_test, y_test_pred)))"
   ]
  },
  {
   "cell_type": "code",
   "execution_count": 87,
   "id": "11139b7e",
   "metadata": {},
   "outputs": [
    {
     "name": "stdout",
     "output_type": "stream",
     "text": [
      "R square value of train data:  0.27290346040986413 \n",
      "R square value of test data :  0.38934046147152934\n"
     ]
    }
   ],
   "source": [
    "r2_score_train=reg.score(X_train,y_train)\n",
    "r2_score_test=reg.score(X_test,y_test)\n",
    "\n",
    "print(\"R square value of train data: \",r2_score_train,\"\\nR square value of test data : \",r2_score_test)"
   ]
  },
  {
   "cell_type": "markdown",
   "id": "ce266a9a",
   "metadata": {},
   "source": [
    "### Considering Area, Pesticides and Fertiliser to predict yield"
   ]
  },
  {
   "cell_type": "code",
   "execution_count": 88,
   "id": "36735e58",
   "metadata": {},
   "outputs": [
    {
     "data": {
      "text/html": [
       "<div>\n",
       "<style scoped>\n",
       "    .dataframe tbody tr th:only-of-type {\n",
       "        vertical-align: middle;\n",
       "    }\n",
       "\n",
       "    .dataframe tbody tr th {\n",
       "        vertical-align: top;\n",
       "    }\n",
       "\n",
       "    .dataframe thead th {\n",
       "        text-align: right;\n",
       "    }\n",
       "</style>\n",
       "<table border=\"1\" class=\"dataframe\">\n",
       "  <thead>\n",
       "    <tr style=\"text-align: right;\">\n",
       "      <th></th>\n",
       "      <th>pesticides</th>\n",
       "      <th>area</th>\n",
       "      <th>fertilizer_usage</th>\n",
       "    </tr>\n",
       "  </thead>\n",
       "  <tbody>\n",
       "    <tr>\n",
       "      <th>675</th>\n",
       "      <td>0.164</td>\n",
       "      <td>7.524</td>\n",
       "      <td>4</td>\n",
       "    </tr>\n",
       "    <tr>\n",
       "      <th>358</th>\n",
       "      <td>6.187</td>\n",
       "      <td>8.305</td>\n",
       "      <td>1</td>\n",
       "    </tr>\n",
       "    <tr>\n",
       "      <th>159</th>\n",
       "      <td>3.344</td>\n",
       "      <td>7.495</td>\n",
       "      <td>3</td>\n",
       "    </tr>\n",
       "    <tr>\n",
       "      <th>533</th>\n",
       "      <td>0.014</td>\n",
       "      <td>10.176</td>\n",
       "      <td>1</td>\n",
       "    </tr>\n",
       "    <tr>\n",
       "      <th>678</th>\n",
       "      <td>3.103</td>\n",
       "      <td>10.207</td>\n",
       "      <td>1</td>\n",
       "    </tr>\n",
       "  </tbody>\n",
       "</table>\n",
       "</div>"
      ],
      "text/plain": [
       "     pesticides    area  fertilizer_usage\n",
       "675       0.164   7.524                 4\n",
       "358       6.187   8.305                 1\n",
       "159       3.344   7.495                 3\n",
       "533       0.014  10.176                 1\n",
       "678       3.103  10.207                 1"
      ]
     },
     "execution_count": 88,
     "metadata": {},
     "output_type": "execute_result"
    }
   ],
   "source": [
    "X_train = data_train.iloc[:, [5,2,3]]\n",
    "X_test = data_test.iloc[:, [5,2,3]]\n",
    "X_train.head()"
   ]
  },
  {
   "cell_type": "code",
   "execution_count": 89,
   "id": "bc3fe1d3",
   "metadata": {},
   "outputs": [],
   "source": [
    "reg = LinearRegression()\n",
    "reg.fit(X_train,y_train)\n",
    "y_train_pred=reg.predict(X_train)"
   ]
  },
  {
   "cell_type": "code",
   "execution_count": 90,
   "id": "297bd4d6",
   "metadata": {},
   "outputs": [
    {
     "name": "stdout",
     "output_type": "stream",
     "text": [
      "Mean squared error :  269.00216351587585\n",
      "Root Mean Squared error :  16.40128542266965\n"
     ]
    }
   ],
   "source": [
    "y_test_pred=reg.predict(X_test)\n",
    "print(\"Mean squared error : \",mean_squared_error(y_test, y_test_pred))\n",
    "print(\"Root Mean Squared error : \",math.sqrt(mean_squared_error(y_test, y_test_pred)))"
   ]
  },
  {
   "cell_type": "code",
   "execution_count": 91,
   "id": "292bf3bc",
   "metadata": {},
   "outputs": [
    {
     "name": "stdout",
     "output_type": "stream",
     "text": [
      "R square value of train data:  0.551565591840254 \n",
      "R square value of test data :  0.5939724893172245\n"
     ]
    }
   ],
   "source": [
    "r2_score_train=reg.score(X_train,y_train)\n",
    "r2_score_test=reg.score(X_test,y_test)\n",
    "\n",
    "print(\"R square value of train data: \",r2_score_train,\"\\nR square value of test data : \",r2_score_test)"
   ]
  },
  {
   "cell_type": "markdown",
   "id": "b62099a1",
   "metadata": {},
   "source": [
    "### Considering Area, Pesticides, Fertilizer and region to predict yield"
   ]
  },
  {
   "cell_type": "code",
   "execution_count": 92,
   "id": "25b17424",
   "metadata": {},
   "outputs": [
    {
     "data": {
      "text/html": [
       "<div>\n",
       "<style scoped>\n",
       "    .dataframe tbody tr th:only-of-type {\n",
       "        vertical-align: middle;\n",
       "    }\n",
       "\n",
       "    .dataframe tbody tr th {\n",
       "        vertical-align: top;\n",
       "    }\n",
       "\n",
       "    .dataframe thead th {\n",
       "        text-align: right;\n",
       "    }\n",
       "</style>\n",
       "<table border=\"1\" class=\"dataframe\">\n",
       "  <thead>\n",
       "    <tr style=\"text-align: right;\">\n",
       "      <th></th>\n",
       "      <th>pesticides</th>\n",
       "      <th>area</th>\n",
       "      <th>fertilizer_usage</th>\n",
       "      <th>region</th>\n",
       "    </tr>\n",
       "  </thead>\n",
       "  <tbody>\n",
       "    <tr>\n",
       "      <th>675</th>\n",
       "      <td>0.164</td>\n",
       "      <td>7.524</td>\n",
       "      <td>4</td>\n",
       "      <td>4</td>\n",
       "    </tr>\n",
       "    <tr>\n",
       "      <th>358</th>\n",
       "      <td>6.187</td>\n",
       "      <td>8.305</td>\n",
       "      <td>1</td>\n",
       "      <td>2</td>\n",
       "    </tr>\n",
       "    <tr>\n",
       "      <th>159</th>\n",
       "      <td>3.344</td>\n",
       "      <td>7.495</td>\n",
       "      <td>3</td>\n",
       "      <td>1</td>\n",
       "    </tr>\n",
       "    <tr>\n",
       "      <th>533</th>\n",
       "      <td>0.014</td>\n",
       "      <td>10.176</td>\n",
       "      <td>1</td>\n",
       "      <td>3</td>\n",
       "    </tr>\n",
       "    <tr>\n",
       "      <th>678</th>\n",
       "      <td>3.103</td>\n",
       "      <td>10.207</td>\n",
       "      <td>1</td>\n",
       "      <td>4</td>\n",
       "    </tr>\n",
       "  </tbody>\n",
       "</table>\n",
       "</div>"
      ],
      "text/plain": [
       "     pesticides    area  fertilizer_usage  region\n",
       "675       0.164   7.524                 4       4\n",
       "358       6.187   8.305                 1       2\n",
       "159       3.344   7.495                 3       1\n",
       "533       0.014  10.176                 1       3\n",
       "678       3.103  10.207                 1       4"
      ]
     },
     "execution_count": 92,
     "metadata": {},
     "output_type": "execute_result"
    }
   ],
   "source": [
    "X_train = data_train.iloc[:, [5,2,3,6]]\n",
    "X_test = data_test.iloc[:, [5,2,3,6]]\n",
    "X_train.head()"
   ]
  },
  {
   "cell_type": "code",
   "execution_count": 93,
   "id": "d96d7c7d",
   "metadata": {},
   "outputs": [],
   "source": [
    "reg = LinearRegression()\n",
    "reg.fit(X_train,y_train)\n",
    "y_train_pred=reg.predict(X_train)"
   ]
  },
  {
   "cell_type": "code",
   "execution_count": 94,
   "id": "3a220ed1",
   "metadata": {},
   "outputs": [
    {
     "name": "stdout",
     "output_type": "stream",
     "text": [
      "Mean squared error :  211.35557629908803\n",
      "Root Mean Squared error :  14.538073335180561\n"
     ]
    }
   ],
   "source": [
    "y_test_pred=reg.predict(X_test)\n",
    "print(\"Mean squared error : \",mean_squared_error(y_test, y_test_pred))\n",
    "print(\"Root Mean Squared error : \",math.sqrt(mean_squared_error(y_test, y_test_pred)))"
   ]
  },
  {
   "cell_type": "code",
   "execution_count": 95,
   "id": "6a4b0552",
   "metadata": {},
   "outputs": [
    {
     "name": "stdout",
     "output_type": "stream",
     "text": [
      "R square value of train data:  0.6464680867924696 \n",
      "R square value of test data :  0.6809833148104867\n"
     ]
    }
   ],
   "source": [
    "r2_score_train=reg.score(X_train,y_train)\n",
    "r2_score_test=reg.score(X_test,y_test)\n",
    "\n",
    "print(\"R square value of train data: \",r2_score_train,\"\\nR square value of test data : \",r2_score_test)"
   ]
  },
  {
   "cell_type": "markdown",
   "id": "5c4d4031",
   "metadata": {},
   "source": [
    "### Using Polynomial regression to predict yield based on all paramters"
   ]
  },
  {
   "cell_type": "code",
   "execution_count": 96,
   "id": "e7157039",
   "metadata": {},
   "outputs": [],
   "source": [
    "X_train = data_train.iloc[:, [0,1,2,3,5,6]].values\n",
    "y_train = data_train.iloc[:,4].values\n",
    "X_test = data_test.iloc[:, [0,1,2,3,5,6]].values\n",
    "y_train = data_train.iloc[:,4].values"
   ]
  },
  {
   "cell_type": "code",
   "execution_count": 97,
   "id": "3a67b8cc",
   "metadata": {},
   "outputs": [
    {
     "data": {
      "text/plain": [
       "array([[ 4.923, 90.242,  7.524,  4.   ,  0.164,  4.   ],\n",
       "       [ 1.598, 71.792,  8.305,  1.   ,  6.187,  2.   ],\n",
       "       [ 4.064, 81.622,  7.495,  3.   ,  3.344,  1.   ]])"
      ]
     },
     "execution_count": 97,
     "metadata": {},
     "output_type": "execute_result"
    }
   ],
   "source": [
    "X_train[:3]"
   ]
  },
  {
   "cell_type": "code",
   "execution_count": 98,
   "id": "fbf1be0f",
   "metadata": {},
   "outputs": [
    {
     "data": {
      "text/plain": [
       "array([68.295, 52.913, 72.568])"
      ]
     },
     "execution_count": 98,
     "metadata": {},
     "output_type": "execute_result"
    }
   ],
   "source": [
    "y_train[:3]"
   ]
  },
  {
   "cell_type": "markdown",
   "id": "d8d0a8b3",
   "metadata": {},
   "source": [
    "#### Using two degree polynomial"
   ]
  },
  {
   "cell_type": "code",
   "execution_count": 99,
   "id": "c3ac2225",
   "metadata": {},
   "outputs": [],
   "source": [
    "poly_reg2=PolynomialFeatures(degree=2)\n",
    "X_train_poly=poly_reg2.fit_transform(X_train)\n",
    "lin_reg_2=LinearRegression()\n",
    "lin_reg_2.fit(X_train_poly,y_train)\n",
    "X_test_poly=poly_reg2.fit_transform(X_test)\n",
    "y_test_pred=lin_reg_2.predict(X_test_poly)"
   ]
  },
  {
   "cell_type": "code",
   "execution_count": 100,
   "id": "d475ba7d",
   "metadata": {},
   "outputs": [
    {
     "name": "stdout",
     "output_type": "stream",
     "text": [
      "Mean squared error :  65.4358789803128\n",
      "Root Mean Squared error :  8.089244648316232\n"
     ]
    }
   ],
   "source": [
    "print(\"Mean squared error : \",mean_squared_error(y_test, y_test_pred))\n",
    "print(\"Root Mean Squared error : \",math.sqrt(mean_squared_error(y_test, y_test_pred)))"
   ]
  },
  {
   "cell_type": "code",
   "execution_count": 101,
   "id": "921686e3",
   "metadata": {},
   "outputs": [
    {
     "name": "stdout",
     "output_type": "stream",
     "text": [
      "R square value of train data:  0.8536932340550913 \n",
      "R square value of test data :  0.9012321436212251\n"
     ]
    }
   ],
   "source": [
    "r2_score_train=lin_reg_2.score(X_train_poly,y_train)\n",
    "r2_score_test=lin_reg_2.score(X_test_poly,y_test)\n",
    "print(\"R square value of train data: \",r2_score_train,\"\\nR square value of test data : \",r2_score_test)"
   ]
  },
  {
   "cell_type": "code",
   "execution_count": 102,
   "id": "c7658f67",
   "metadata": {},
   "outputs": [
    {
     "data": {
      "text/plain": [
       "[<matplotlib.lines.Line2D at 0x7fcfaae29360>]"
      ]
     },
     "execution_count": 102,
     "metadata": {},
     "output_type": "execute_result"
    },
    {
     "data": {
      "image/png": "[encoded data removed]",
      "text/plain": [
       "<Figure size 432x288 with 1 Axes>"
      ]
     },
     "metadata": {
      "needs_background": "light"
     },
     "output_type": "display_data"
    }
   ],
   "source": [
    "plt.scatter(y_test_pred, y_test, color = 'red')\n",
    "plt.plot(y_test_pred, y_test, color = 'blue')"
   ]
  },
  {
   "cell_type": "markdown",
   "id": "b83462a1",
   "metadata": {},
   "source": [
    "#### Using three degree polynomial"
   ]
  },
  {
   "cell_type": "code",
   "execution_count": 103,
   "id": "394b73fc",
   "metadata": {},
   "outputs": [],
   "source": [
    "poly_reg3=PolynomialFeatures(degree=3)\n",
    "X_train_poly=poly_reg3.fit_transform(X_train)\n",
    "lin_reg_3=LinearRegression()\n",
    "lin_reg_3.fit(X_train_poly,y_train)\n",
    "X_test_poly=poly_reg3.fit_transform(X_test)\n",
    "y_test_pred=lin_reg_3.predict(X_test_poly)"
   ]
  },
  {
   "cell_type": "code",
   "execution_count": 104,
   "id": "2144408c",
   "metadata": {},
   "outputs": [
    {
     "name": "stdout",
     "output_type": "stream",
     "text": [
      "Mean squared error :  60.454059487028786\n",
      "Root Mean Squared error :  7.775220864195999\n"
     ]
    }
   ],
   "source": [
    "print(\"Mean squared error : \",mean_squared_error(y_test, y_test_pred))\n",
    "print(\"Root Mean Squared error : \",math.sqrt(mean_squared_error(y_test, y_test_pred)))"
   ]
  },
  {
   "cell_type": "code",
   "execution_count": 105,
   "id": "4f2da980",
   "metadata": {},
   "outputs": [
    {
     "name": "stdout",
     "output_type": "stream",
     "text": [
      "R square value of train data:  0.8971589079381377 \n",
      "R square value of test data :  0.908751621312748\n"
     ]
    }
   ],
   "source": [
    "r2_score_train=lin_reg_3.score(X_train_poly,y_train)\n",
    "r2_score_test=lin_reg_3.score(X_test_poly,y_test)\n",
    "print(\"R square value of train data: \",r2_score_train,\"\\nR square value of test data : \",r2_score_test)"
   ]
  },
  {
   "cell_type": "code",
   "execution_count": 106,
   "id": "32617568",
   "metadata": {},
   "outputs": [
    {
     "data": {
      "text/plain": [
       "[<matplotlib.lines.Line2D at 0x7fcfaae90850>]"
      ]
     },
     "execution_count": 106,
     "metadata": {},
     "output_type": "execute_result"
    },
    {
     "data": {
      "image/png": "[encoded data removed]",
      "text/plain": [
       "<Figure size 432x288 with 1 Axes>"
      ]
     },
     "metadata": {
      "needs_background": "light"
     },
     "output_type": "display_data"
    }
   ],
   "source": [
    "plt.scatter(y_test_pred, y_test, color = 'red')\n",
    "plt.plot(y_test_pred, y_test, color = 'blue')"
   ]
  },
  {
   "cell_type": "markdown",
   "id": "afd2fdd2",
   "metadata": {},
   "source": [
    "###### Better performance so far"
   ]
  },
  {
   "cell_type": "markdown",
   "id": "e03b85c6",
   "metadata": {},
   "source": [
    "##### Using four degree polynomial"
   ]
  },
  {
   "cell_type": "code",
   "execution_count": 107,
   "id": "7c8d9c5d",
   "metadata": {},
   "outputs": [],
   "source": [
    "poly_reg4=PolynomialFeatures(degree=4)\n",
    "X_train_poly=poly_reg4.fit_transform(X_train)\n",
    "lin_reg_4=LinearRegression()\n",
    "lin_reg_4.fit(X_train_poly,y_train)\n",
    "X_test_poly=poly_reg4.fit_transform(X_test)\n",
    "y_test_pred=lin_reg_4.predict(X_test_poly)"
   ]
  },
  {
   "cell_type": "code",
   "execution_count": 108,
   "id": "73b7bad0",
   "metadata": {},
   "outputs": [
    {
     "name": "stdout",
     "output_type": "stream",
     "text": [
      "Mean squared error :  80.20412564494087\n",
      "Root Mean Squared error :  8.955675610747683\n"
     ]
    }
   ],
   "source": [
    "print(\"Mean squared error : \",mean_squared_error(y_test, y_test_pred))\n",
    "print(\"Root Mean Squared error : \",math.sqrt(mean_squared_error(y_test, y_test_pred)))"
   ]
  },
  {
   "cell_type": "code",
   "execution_count": 109,
   "id": "d731e6e4",
   "metadata": {},
   "outputs": [
    {
     "name": "stdout",
     "output_type": "stream",
     "text": [
      "R square value of train data:  0.9282256006265408 \n",
      "R square value of test data :  0.8789411911916389\n"
     ]
    }
   ],
   "source": [
    "r2_score_train=lin_reg_4.score(X_train_poly,y_train)\n",
    "r2_score_test=lin_reg_4.score(X_test_poly,y_test)\n",
    "print(\"R square value of train data: \",r2_score_train,\"\\nR square value of test data : \",r2_score_test)"
   ]
  },
  {
   "cell_type": "code",
   "execution_count": 110,
   "id": "70a750b2",
   "metadata": {},
   "outputs": [
    {
     "data": {
      "text/plain": [
       "[<matplotlib.lines.Line2D at 0x7fcfaad080a0>]"
      ]
     },
     "execution_count": 110,
     "metadata": {},
     "output_type": "execute_result"
    },
    {
     "data": {
      "image/png": "[encoded data removed]",
      "text/plain": [
       "<Figure size 432x288 with 1 Axes>"
      ]
     },
     "metadata": {
      "needs_background": "light"
     },
     "output_type": "display_data"
    }
   ],
   "source": [
    "plt.scatter(y_test_pred, y_test, color = 'red')\n",
    "plt.plot(y_test_pred, y_test, color = 'blue')"
   ]
  },
  {
   "cell_type": "markdown",
   "id": "47170f26",
   "metadata": {},
   "source": [
    "###### Polynomial of degree 4 performed bad"
   ]
  },
  {
   "cell_type": "markdown",
   "id": "c96a25e2",
   "metadata": {},
   "source": [
    "# Enter input to predict your yield based on water,\tuv,\tarea,\tfertilizer_usage,\tpesticides and region"
   ]
  },
  {
   "cell_type": "code",
   "execution_count": 120,
   "id": "503a2ef5",
   "metadata": {},
   "outputs": [
    {
     "data": {
      "text/html": [
       "<div>\n",
       "<style scoped>\n",
       "    .dataframe tbody tr th:only-of-type {\n",
       "        vertical-align: middle;\n",
       "    }\n",
       "\n",
       "    .dataframe tbody tr th {\n",
       "        vertical-align: top;\n",
       "    }\n",
       "\n",
       "    .dataframe thead th {\n",
       "        text-align: right;\n",
       "    }\n",
       "</style>\n",
       "<table border=\"1\" class=\"dataframe\">\n",
       "  <thead>\n",
       "    <tr style=\"text-align: right;\">\n",
       "      <th></th>\n",
       "      <th>water</th>\n",
       "      <th>uv</th>\n",
       "      <th>area</th>\n",
       "      <th>fertilizer_usage</th>\n",
       "      <th>yield</th>\n",
       "      <th>pesticides</th>\n",
       "      <th>region</th>\n",
       "    </tr>\n",
       "  </thead>\n",
       "  <tbody>\n",
       "    <tr>\n",
       "      <th>0</th>\n",
       "      <td>5.615</td>\n",
       "      <td>65.281</td>\n",
       "      <td>3.230</td>\n",
       "      <td>0</td>\n",
       "      <td>7.977</td>\n",
       "      <td>8.969</td>\n",
       "      <td>0</td>\n",
       "    </tr>\n",
       "    <tr>\n",
       "      <th>1</th>\n",
       "      <td>7.044</td>\n",
       "      <td>73.319</td>\n",
       "      <td>9.081</td>\n",
       "      <td>0</td>\n",
       "      <td>23.009</td>\n",
       "      <td>7.197</td>\n",
       "      <td>0</td>\n",
       "    </tr>\n",
       "    <tr>\n",
       "      <th>2</th>\n",
       "      <td>5.607</td>\n",
       "      <td>60.038</td>\n",
       "      <td>2.864</td>\n",
       "      <td>2</td>\n",
       "      <td>23.019</td>\n",
       "      <td>7.424</td>\n",
       "      <td>0</td>\n",
       "    </tr>\n",
       "    <tr>\n",
       "      <th>3</th>\n",
       "      <td>9.346</td>\n",
       "      <td>64.719</td>\n",
       "      <td>2.797</td>\n",
       "      <td>2</td>\n",
       "      <td>28.066</td>\n",
       "      <td>1.256</td>\n",
       "      <td>0</td>\n",
       "    </tr>\n",
       "    <tr>\n",
       "      <th>4</th>\n",
       "      <td>7.969</td>\n",
       "      <td>73.689</td>\n",
       "      <td>5.407</td>\n",
       "      <td>1</td>\n",
       "      <td>29.140</td>\n",
       "      <td>0.274</td>\n",
       "      <td>0</td>\n",
       "    </tr>\n",
       "  </tbody>\n",
       "</table>\n",
       "</div>"
      ],
      "text/plain": [
       "   water      uv   area  fertilizer_usage   yield  pesticides  region\n",
       "0  5.615  65.281  3.230                 0   7.977       8.969       0\n",
       "1  7.044  73.319  9.081                 0  23.009       7.197       0\n",
       "2  5.607  60.038  2.864                 2  23.019       7.424       0\n",
       "3  9.346  64.719  2.797                 2  28.066       1.256       0\n",
       "4  7.969  73.689  5.407                 1  29.140       0.274       0"
      ]
     },
     "execution_count": 120,
     "metadata": {},
     "output_type": "execute_result"
    }
   ],
   "source": [
    "data.head()"
   ]
  },
  {
   "cell_type": "code",
   "execution_count": 121,
   "id": "d32da68d",
   "metadata": {},
   "outputs": [
    {
     "name": "stdout",
     "output_type": "stream",
     "text": [
      "Water : 7.969\n",
      "UV : 73.689\n",
      "Area : 5.407\n",
      "Fertilizer : 1\n",
      "Pesticide : 0.274\n",
      "area : 0\n"
     ]
    }
   ],
   "source": [
    "water = float(input(\"Water : \"))\n",
    "uv = float(input(\"UV : \"))\n",
    "area = float(input(\"Area : \"))\n",
    "fertilizer = float(input(\"Fertilizer : \"))\n",
    "pesticide = float(input(\"Pesticide : \"))\n",
    "region = float(input(\"area : \"))"
   ]
  },
  {
   "cell_type": "code",
   "execution_count": 122,
   "id": "c284a571",
   "metadata": {},
   "outputs": [
    {
     "data": {
      "text/plain": [
       "[[7.969, 73.689, 5.407, 1.0, 0.274, 0.0]]"
      ]
     },
     "execution_count": 122,
     "metadata": {},
     "output_type": "execute_result"
    }
   ],
   "source": [
    "X_test = [[water,uv,area,fertilizer,pesticide,region]]\n",
    "X_test"
   ]
  },
  {
   "cell_type": "code",
   "execution_count": 123,
   "id": "cf604b6a",
   "metadata": {},
   "outputs": [],
   "source": [
    "poly_reg3=PolynomialFeatures(degree=3)\n",
    "X_train_poly=poly_reg3.fit_transform(X_train)\n",
    "lin_reg_3=LinearRegression()\n",
    "lin_reg_3.fit(X_train_poly,y_train)\n",
    "X_test_poly=poly_reg3.fit_transform(X_test)\n",
    "y_test_pred=lin_reg_3.predict(X_test_poly)"
   ]
  },
  {
   "cell_type": "code",
   "execution_count": 126,
   "id": "f8f08326",
   "metadata": {},
   "outputs": [
    {
     "name": "stdout",
     "output_type": "stream",
     "text": [
      "yield is approximately :  27.332061649476216\n"
     ]
    }
   ],
   "source": [
    "print(\"yield is approximately : \",y_test_pred[0])"
   ]
  },
  {
   "cell_type": "code",
   "execution_count": null,
   "id": "11905fd0",
   "metadata": {},
   "outputs": [],
   "source": []
  }
 ],
 "metadata": {
  "kernelspec": {
   "display_name": "Python 3 (ipykernel)",
   "language": "python",
   "name": "python3"
  },
  "language_info": {
   "codemirror_mode": {
    "name": "ipython",
    "version": 3
   },
   "file_extension": ".py",
   "mimetype": "text/x-python",
   "name": "python",
   "nbconvert_exporter": "python",
   "pygments_lexer": "ipython3",
   "version": "3.10.4"
  }
 },
 "nbformat": 4,
 "nbformat_minor": 5
}
