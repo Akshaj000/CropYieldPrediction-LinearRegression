{
 "cells": [
  {
   "cell_type": "markdown",
   "id": "c8ae696c",
   "metadata": {},
   "source": [
    "### CROP YIELD PREDICTION USING LINEAR REGRESSION"
   ]
  },
  {
   "cell_type": "markdown",
   "id": "f93d7dbf",
   "metadata": {},
   "source": [
    "##### Importing the Required modules and libraries"
   ]
  },
  {
   "cell_type": "code",
   "execution_count": 1,
   "id": "7a20526e",
   "metadata": {},
   "outputs": [],
   "source": [
    "import numpy as np\n",
    "import pandas as pd\n",
    "\n",
    "import matplotlib.pyplot as plt\n",
    "import seaborn as sns\n",
    "from sklearn.model_selection import train_test_split\n",
    "\n",
    "import statsmodels.api as sm\n",
    "from sklearn.feature_selection import RFE\n",
    "from sklearn.linear_model import LinearRegression\n",
    "from statsmodels.stats.outliers_influence import variance_inflation_factor\n",
    "from sklearn.metrics import r2_score"
   ]
  },
  {
   "cell_type": "markdown",
   "id": "ba5f9496",
   "metadata": {},
   "source": [
    "##### Reading and Analysing the data"
   ]
  },
  {
   "cell_type": "code",
   "execution_count": 2,
   "id": "d45fb134",
   "metadata": {},
   "outputs": [
    {
     "data": {
      "text/html": [
       "<div>\n",
       "<style scoped>\n",
       "    .dataframe tbody tr th:only-of-type {\n",
       "        vertical-align: middle;\n",
       "    }\n",
       "\n",
       "    .dataframe tbody tr th {\n",
       "        vertical-align: top;\n",
       "    }\n",
       "\n",
       "    .dataframe thead th {\n",
       "        text-align: right;\n",
       "    }\n",
       "</style>\n",
       "<table border=\"1\" class=\"dataframe\">\n",
       "  <thead>\n",
       "    <tr style=\"text-align: right;\">\n",
       "      <th></th>\n",
       "      <th>id</th>\n",
       "      <th>water</th>\n",
       "      <th>uv</th>\n",
       "      <th>area</th>\n",
       "      <th>fertilizer_usage</th>\n",
       "      <th>yield</th>\n",
       "      <th>pesticides</th>\n",
       "      <th>region</th>\n",
       "      <th>categories</th>\n",
       "    </tr>\n",
       "  </thead>\n",
       "  <tbody>\n",
       "    <tr>\n",
       "      <th>0</th>\n",
       "      <td>169</td>\n",
       "      <td>5.615</td>\n",
       "      <td>65.281</td>\n",
       "      <td>3.230</td>\n",
       "      <td>0</td>\n",
       "      <td>7.977</td>\n",
       "      <td>8.969</td>\n",
       "      <td>0</td>\n",
       "      <td>b,a,c</td>\n",
       "    </tr>\n",
       "    <tr>\n",
       "      <th>1</th>\n",
       "      <td>476</td>\n",
       "      <td>7.044</td>\n",
       "      <td>73.319</td>\n",
       "      <td>9.081</td>\n",
       "      <td>0</td>\n",
       "      <td>23.009</td>\n",
       "      <td>7.197</td>\n",
       "      <td>0</td>\n",
       "      <td>c,a,d</td>\n",
       "    </tr>\n",
       "    <tr>\n",
       "      <th>2</th>\n",
       "      <td>152</td>\n",
       "      <td>5.607</td>\n",
       "      <td>60.038</td>\n",
       "      <td>2.864</td>\n",
       "      <td>2</td>\n",
       "      <td>23.019</td>\n",
       "      <td>7.424</td>\n",
       "      <td>0</td>\n",
       "      <td>d,a</td>\n",
       "    </tr>\n",
       "    <tr>\n",
       "      <th>3</th>\n",
       "      <td>293</td>\n",
       "      <td>9.346</td>\n",
       "      <td>64.719</td>\n",
       "      <td>2.797</td>\n",
       "      <td>2</td>\n",
       "      <td>28.066</td>\n",
       "      <td>1.256</td>\n",
       "      <td>0</td>\n",
       "      <td>d</td>\n",
       "    </tr>\n",
       "    <tr>\n",
       "      <th>4</th>\n",
       "      <td>10</td>\n",
       "      <td>7.969</td>\n",
       "      <td>NaN</td>\n",
       "      <td>5.407</td>\n",
       "      <td>1</td>\n",
       "      <td>29.140</td>\n",
       "      <td>0.274</td>\n",
       "      <td>0</td>\n",
       "      <td>c,d</td>\n",
       "    </tr>\n",
       "    <tr>\n",
       "      <th>...</th>\n",
       "      <td>...</td>\n",
       "      <td>...</td>\n",
       "      <td>...</td>\n",
       "      <td>...</td>\n",
       "      <td>...</td>\n",
       "      <td>...</td>\n",
       "      <td>...</td>\n",
       "      <td>...</td>\n",
       "      <td>...</td>\n",
       "    </tr>\n",
       "    <tr>\n",
       "      <th>995</th>\n",
       "      <td>614</td>\n",
       "      <td>6.379</td>\n",
       "      <td>94.132</td>\n",
       "      <td>11.571</td>\n",
       "      <td>5</td>\n",
       "      <td>98.673</td>\n",
       "      <td>2.891</td>\n",
       "      <td>6</td>\n",
       "      <td>c,b</td>\n",
       "    </tr>\n",
       "    <tr>\n",
       "      <th>996</th>\n",
       "      <td>490</td>\n",
       "      <td>6.980</td>\n",
       "      <td>82.727</td>\n",
       "      <td>11.264</td>\n",
       "      <td>5</td>\n",
       "      <td>101.090</td>\n",
       "      <td>3.500</td>\n",
       "      <td>6</td>\n",
       "      <td>d,c,b</td>\n",
       "    </tr>\n",
       "    <tr>\n",
       "      <th>997</th>\n",
       "      <td>392</td>\n",
       "      <td>NaN</td>\n",
       "      <td>58.218</td>\n",
       "      <td>11.859</td>\n",
       "      <td>4</td>\n",
       "      <td>103.673</td>\n",
       "      <td>4.005</td>\n",
       "      <td>6</td>\n",
       "      <td>c,b,a</td>\n",
       "    </tr>\n",
       "    <tr>\n",
       "      <th>998</th>\n",
       "      <td>773</td>\n",
       "      <td>10.070</td>\n",
       "      <td>67.905</td>\n",
       "      <td>11.567</td>\n",
       "      <td>4</td>\n",
       "      <td>104.343</td>\n",
       "      <td>2.339</td>\n",
       "      <td>6</td>\n",
       "      <td>a</td>\n",
       "    </tr>\n",
       "    <tr>\n",
       "      <th>999</th>\n",
       "      <td>104</td>\n",
       "      <td>7.679</td>\n",
       "      <td>NaN</td>\n",
       "      <td>13.489</td>\n",
       "      <td>5</td>\n",
       "      <td>106.421</td>\n",
       "      <td>1.974</td>\n",
       "      <td>6</td>\n",
       "      <td>a</td>\n",
       "    </tr>\n",
       "  </tbody>\n",
       "</table>\n",
       "<p>1000 rows × 9 columns</p>\n",
       "</div>"
      ],
      "text/plain": [
       "      id   water      uv    area  fertilizer_usage    yield  pesticides  \\\n",
       "0    169   5.615  65.281   3.230                 0    7.977       8.969   \n",
       "1    476   7.044  73.319   9.081                 0   23.009       7.197   \n",
       "2    152   5.607  60.038   2.864                 2   23.019       7.424   \n",
       "3    293   9.346  64.719   2.797                 2   28.066       1.256   \n",
       "4     10   7.969     NaN   5.407                 1   29.140       0.274   \n",
       "..   ...     ...     ...     ...               ...      ...         ...   \n",
       "995  614   6.379  94.132  11.571                 5   98.673       2.891   \n",
       "996  490   6.980  82.727  11.264                 5  101.090       3.500   \n",
       "997  392     NaN  58.218  11.859                 4  103.673       4.005   \n",
       "998  773  10.070  67.905  11.567                 4  104.343       2.339   \n",
       "999  104   7.679     NaN  13.489                 5  106.421       1.974   \n",
       "\n",
       "     region categories  \n",
       "0         0      b,a,c  \n",
       "1         0      c,a,d  \n",
       "2         0        d,a  \n",
       "3         0          d  \n",
       "4         0        c,d  \n",
       "..      ...        ...  \n",
       "995       6        c,b  \n",
       "996       6      d,c,b  \n",
       "997       6      c,b,a  \n",
       "998       6          a  \n",
       "999       6          a  \n",
       "\n",
       "[1000 rows x 9 columns]"
      ]
     },
     "execution_count": 2,
     "metadata": {},
     "output_type": "execute_result"
    }
   ],
   "source": [
    "data = pd.read_csv('./dataset.csv')\n",
    "data"
   ]
  },
  {
   "cell_type": "code",
   "execution_count": 3,
   "id": "43061b5a",
   "metadata": {},
   "outputs": [
    {
     "name": "stdout",
     "output_type": "stream",
     "text": [
      "<class 'pandas.core.frame.DataFrame'>\n",
      "RangeIndex: 1000 entries, 0 to 999\n",
      "Data columns (total 9 columns):\n",
      " #   Column            Non-Null Count  Dtype  \n",
      "---  ------            --------------  -----  \n",
      " 0   id                1000 non-null   int64  \n",
      " 1   water             958 non-null    float64\n",
      " 2   uv                949 non-null    float64\n",
      " 3   area              1000 non-null   float64\n",
      " 4   fertilizer_usage  1000 non-null   int64  \n",
      " 5   yield             1000 non-null   float64\n",
      " 6   pesticides        1000 non-null   float64\n",
      " 7   region            1000 non-null   int64  \n",
      " 8   categories        1000 non-null   object \n",
      "dtypes: float64(5), int64(3), object(1)\n",
      "memory usage: 70.4+ KB\n"
     ]
    }
   ],
   "source": [
    "data.info()"
   ]
  },
  {
   "cell_type": "code",
   "execution_count": 4,
   "id": "ff8fda25",
   "metadata": {},
   "outputs": [],
   "source": [
    "data.drop('id', inplace=True, axis=1)\n",
    "data.drop('categories', inplace=True, axis=1)"
   ]
  },
  {
   "cell_type": "code",
   "execution_count": 5,
   "id": "194a8beb",
   "metadata": {},
   "outputs": [
    {
     "data": {
      "text/html": [
       "<div>\n",
       "<style scoped>\n",
       "    .dataframe tbody tr th:only-of-type {\n",
       "        vertical-align: middle;\n",
       "    }\n",
       "\n",
       "    .dataframe tbody tr th {\n",
       "        vertical-align: top;\n",
       "    }\n",
       "\n",
       "    .dataframe thead th {\n",
       "        text-align: right;\n",
       "    }\n",
       "</style>\n",
       "<table border=\"1\" class=\"dataframe\">\n",
       "  <thead>\n",
       "    <tr style=\"text-align: right;\">\n",
       "      <th></th>\n",
       "      <th>water</th>\n",
       "      <th>uv</th>\n",
       "      <th>area</th>\n",
       "      <th>fertilizer_usage</th>\n",
       "      <th>yield</th>\n",
       "      <th>pesticides</th>\n",
       "      <th>region</th>\n",
       "    </tr>\n",
       "  </thead>\n",
       "  <tbody>\n",
       "    <tr>\n",
       "      <th>0</th>\n",
       "      <td>5.615</td>\n",
       "      <td>65.281</td>\n",
       "      <td>3.230</td>\n",
       "      <td>0</td>\n",
       "      <td>7.977</td>\n",
       "      <td>8.969</td>\n",
       "      <td>0</td>\n",
       "    </tr>\n",
       "    <tr>\n",
       "      <th>1</th>\n",
       "      <td>7.044</td>\n",
       "      <td>73.319</td>\n",
       "      <td>9.081</td>\n",
       "      <td>0</td>\n",
       "      <td>23.009</td>\n",
       "      <td>7.197</td>\n",
       "      <td>0</td>\n",
       "    </tr>\n",
       "    <tr>\n",
       "      <th>2</th>\n",
       "      <td>5.607</td>\n",
       "      <td>60.038</td>\n",
       "      <td>2.864</td>\n",
       "      <td>2</td>\n",
       "      <td>23.019</td>\n",
       "      <td>7.424</td>\n",
       "      <td>0</td>\n",
       "    </tr>\n",
       "    <tr>\n",
       "      <th>3</th>\n",
       "      <td>9.346</td>\n",
       "      <td>64.719</td>\n",
       "      <td>2.797</td>\n",
       "      <td>2</td>\n",
       "      <td>28.066</td>\n",
       "      <td>1.256</td>\n",
       "      <td>0</td>\n",
       "    </tr>\n",
       "    <tr>\n",
       "      <th>4</th>\n",
       "      <td>7.969</td>\n",
       "      <td>NaN</td>\n",
       "      <td>5.407</td>\n",
       "      <td>1</td>\n",
       "      <td>29.140</td>\n",
       "      <td>0.274</td>\n",
       "      <td>0</td>\n",
       "    </tr>\n",
       "  </tbody>\n",
       "</table>\n",
       "</div>"
      ],
      "text/plain": [
       "   water      uv   area  fertilizer_usage   yield  pesticides  region\n",
       "0  5.615  65.281  3.230                 0   7.977       8.969       0\n",
       "1  7.044  73.319  9.081                 0  23.009       7.197       0\n",
       "2  5.607  60.038  2.864                 2  23.019       7.424       0\n",
       "3  9.346  64.719  2.797                 2  28.066       1.256       0\n",
       "4  7.969     NaN  5.407                 1  29.140       0.274       0"
      ]
     },
     "execution_count": 5,
     "metadata": {},
     "output_type": "execute_result"
    }
   ],
   "source": [
    "data.head()"
   ]
  },
  {
   "cell_type": "code",
   "execution_count": 6,
   "id": "3a878839",
   "metadata": {},
   "outputs": [],
   "source": [
    "data.fillna(0, inplace = True)"
   ]
  },
  {
   "cell_type": "code",
   "execution_count": 7,
   "id": "fe142bc4",
   "metadata": {},
   "outputs": [
    {
     "name": "stdout",
     "output_type": "stream",
     "text": [
      "<class 'pandas.core.frame.DataFrame'>\n",
      "RangeIndex: 1000 entries, 0 to 999\n",
      "Data columns (total 7 columns):\n",
      " #   Column            Non-Null Count  Dtype  \n",
      "---  ------            --------------  -----  \n",
      " 0   water             1000 non-null   float64\n",
      " 1   uv                1000 non-null   float64\n",
      " 2   area              1000 non-null   float64\n",
      " 3   fertilizer_usage  1000 non-null   int64  \n",
      " 4   yield             1000 non-null   float64\n",
      " 5   pesticides        1000 non-null   float64\n",
      " 6   region            1000 non-null   int64  \n",
      "dtypes: float64(5), int64(2)\n",
      "memory usage: 54.8 KB\n"
     ]
    }
   ],
   "source": [
    "data.info()"
   ]
  },
  {
   "cell_type": "code",
   "execution_count": 8,
   "id": "70bd0323",
   "metadata": {},
   "outputs": [
    {
     "data": {
      "text/html": [
       "<div>\n",
       "<style scoped>\n",
       "    .dataframe tbody tr th:only-of-type {\n",
       "        vertical-align: middle;\n",
       "    }\n",
       "\n",
       "    .dataframe tbody tr th {\n",
       "        vertical-align: top;\n",
       "    }\n",
       "\n",
       "    .dataframe thead th {\n",
       "        text-align: right;\n",
       "    }\n",
       "</style>\n",
       "<table border=\"1\" class=\"dataframe\">\n",
       "  <thead>\n",
       "    <tr style=\"text-align: right;\">\n",
       "      <th></th>\n",
       "      <th>water</th>\n",
       "      <th>uv</th>\n",
       "      <th>area</th>\n",
       "      <th>fertilizer_usage</th>\n",
       "      <th>yield</th>\n",
       "      <th>pesticides</th>\n",
       "      <th>region</th>\n",
       "    </tr>\n",
       "  </thead>\n",
       "  <tbody>\n",
       "    <tr>\n",
       "      <th>count</th>\n",
       "      <td>1000.000000</td>\n",
       "      <td>1000.000000</td>\n",
       "      <td>1000.000000</td>\n",
       "      <td>1000.00000</td>\n",
       "      <td>1000.000000</td>\n",
       "      <td>1000.000000</td>\n",
       "      <td>1000.000000</td>\n",
       "    </tr>\n",
       "    <tr>\n",
       "      <th>mean</th>\n",
       "      <td>11.710157</td>\n",
       "      <td>70.185656</td>\n",
       "      <td>8.098848</td>\n",
       "      <td>2.12300</td>\n",
       "      <td>58.758571</td>\n",
       "      <td>3.452301</td>\n",
       "      <td>3.039000</td>\n",
       "    </tr>\n",
       "    <tr>\n",
       "      <th>std</th>\n",
       "      <td>168.691836</td>\n",
       "      <td>18.922905</td>\n",
       "      <td>2.692632</td>\n",
       "      <td>1.52256</td>\n",
       "      <td>24.563683</td>\n",
       "      <td>2.076921</td>\n",
       "      <td>1.883886</td>\n",
       "    </tr>\n",
       "    <tr>\n",
       "      <th>min</th>\n",
       "      <td>0.000000</td>\n",
       "      <td>0.000000</td>\n",
       "      <td>0.263000</td>\n",
       "      <td>0.00000</td>\n",
       "      <td>2.843000</td>\n",
       "      <td>0.014000</td>\n",
       "      <td>0.000000</td>\n",
       "    </tr>\n",
       "    <tr>\n",
       "      <th>25%</th>\n",
       "      <td>4.262000</td>\n",
       "      <td>65.744500</td>\n",
       "      <td>6.297000</td>\n",
       "      <td>1.00000</td>\n",
       "      <td>40.698000</td>\n",
       "      <td>1.804500</td>\n",
       "      <td>2.000000</td>\n",
       "    </tr>\n",
       "    <tr>\n",
       "      <th>50%</th>\n",
       "      <td>6.348000</td>\n",
       "      <td>72.868000</td>\n",
       "      <td>7.987500</td>\n",
       "      <td>2.00000</td>\n",
       "      <td>55.602500</td>\n",
       "      <td>3.275500</td>\n",
       "      <td>2.000000</td>\n",
       "    </tr>\n",
       "    <tr>\n",
       "      <th>75%</th>\n",
       "      <td>8.611000</td>\n",
       "      <td>80.220250</td>\n",
       "      <td>9.900250</td>\n",
       "      <td>3.00000</td>\n",
       "      <td>73.645500</td>\n",
       "      <td>4.916000</td>\n",
       "      <td>5.000000</td>\n",
       "    </tr>\n",
       "    <tr>\n",
       "      <th>max</th>\n",
       "      <td>5340.000000</td>\n",
       "      <td>106.310000</td>\n",
       "      <td>18.311000</td>\n",
       "      <td>5.00000</td>\n",
       "      <td>148.845000</td>\n",
       "      <td>9.532000</td>\n",
       "      <td>6.000000</td>\n",
       "    </tr>\n",
       "  </tbody>\n",
       "</table>\n",
       "</div>"
      ],
      "text/plain": [
       "             water           uv         area  fertilizer_usage        yield  \\\n",
       "count  1000.000000  1000.000000  1000.000000        1000.00000  1000.000000   \n",
       "mean     11.710157    70.185656     8.098848           2.12300    58.758571   \n",
       "std     168.691836    18.922905     2.692632           1.52256    24.563683   \n",
       "min       0.000000     0.000000     0.263000           0.00000     2.843000   \n",
       "25%       4.262000    65.744500     6.297000           1.00000    40.698000   \n",
       "50%       6.348000    72.868000     7.987500           2.00000    55.602500   \n",
       "75%       8.611000    80.220250     9.900250           3.00000    73.645500   \n",
       "max    5340.000000   106.310000    18.311000           5.00000   148.845000   \n",
       "\n",
       "        pesticides       region  \n",
       "count  1000.000000  1000.000000  \n",
       "mean      3.452301     3.039000  \n",
       "std       2.076921     1.883886  \n",
       "min       0.014000     0.000000  \n",
       "25%       1.804500     2.000000  \n",
       "50%       3.275500     2.000000  \n",
       "75%       4.916000     5.000000  \n",
       "max       9.532000     6.000000  "
      ]
     },
     "execution_count": 8,
     "metadata": {},
     "output_type": "execute_result"
    }
   ],
   "source": [
    "data.describe()"
   ]
  },
  {
   "cell_type": "code",
   "execution_count": 9,
   "id": "62d6526f",
   "metadata": {},
   "outputs": [
    {
     "data": {
      "text/plain": [
       "(1000, 7)"
      ]
     },
     "execution_count": 9,
     "metadata": {},
     "output_type": "execute_result"
    }
   ],
   "source": [
    "data.shape"
   ]
  },
  {
   "cell_type": "code",
   "execution_count": 10,
   "id": "fcac3281",
   "metadata": {},
   "outputs": [
    {
     "data": {
      "text/plain": [
       "Index(['water', 'uv', 'area', 'fertilizer_usage', 'yield', 'pesticides',\n",
       "       'region'],\n",
       "      dtype='object')"
      ]
     },
     "execution_count": 10,
     "metadata": {},
     "output_type": "execute_result"
    }
   ],
   "source": [
    "data.columns"
   ]
  },
  {
   "cell_type": "markdown",
   "id": "0f60b60b",
   "metadata": {},
   "source": [
    "##### Visualising the data"
   ]
  },
  {
   "cell_type": "code",
   "execution_count": 11,
   "id": "7f2f9583",
   "metadata": {},
   "outputs": [
    {
     "data": {
      "text/plain": [
       "<AxesSubplot:xlabel='yield', ylabel='Count'>"
      ]
     },
     "execution_count": 11,
     "metadata": {},
     "output_type": "execute_result"
    },
    {
     "data": {
      "image/png": "[encoded data removed]",
      "text/plain": [
       "<Figure size 864x1728 with 6 Axes>"
      ]
     },
     "metadata": {
      "needs_background": "light"
     },
     "output_type": "display_data"
    }
   ],
   "source": [
    "f, ax = plt.subplots(6, figsize=(12,24))\n",
    "sns.histplot(data.water,color='b',ax=ax[0], kde=True)\n",
    "sns.histplot(data.uv,color='g',ax=ax[1], kde=True)\n",
    "sns.histplot(data.fertilizer_usage,color='y',ax=ax[2], kde=True)\n",
    "sns.histplot(data.pesticides,color='r',ax=ax[3], kde=True)\n",
    "sns.histplot(data.region,color='c',ax=ax[4], kde=True)\n",
    "sns.histplot(data['yield'],color='b',ax=ax[5], kde=True)"
   ]
  },
  {
   "cell_type": "code",
   "execution_count": 12,
   "id": "454b1acf",
   "metadata": {},
   "outputs": [
    {
     "data": {
      "text/plain": [
       "<seaborn.axisgrid.JointGrid at 0x7f75acf5d960>"
      ]
     },
     "execution_count": 12,
     "metadata": {},
     "output_type": "execute_result"
    },
    {
     "data": {
      "image/png": "[encoded data removed]",
      "text/plain": [
       "<Figure size 432x432 with 3 Axes>"
      ]
     },
     "metadata": {
      "needs_background": "light"
     },
     "output_type": "display_data"
    },
    {
     "data": {
      "image/png": "[encoded data removed]",
      "text/plain": [
       "<Figure size 432x432 with 3 Axes>"
      ]
     },
     "metadata": {
      "needs_background": "light"
     },
     "output_type": "display_data"
    },
    {
     "data": {
      "image/png": "[encoded data removed]",
      "text/plain": [
       "<Figure size 432x432 with 3 Axes>"
      ]
     },
     "metadata": {
      "needs_background": "light"
     },
     "output_type": "display_data"
    },
    {
     "data": {
      "image/png": "[encoded data removed]",
      "text/plain": [
       "<Figure size 432x432 with 3 Axes>"
      ]
     },
     "metadata": {
      "needs_background": "light"
     },
     "output_type": "display_data"
    }
   ],
   "source": [
    "sns.jointplot(x='water',y='yield',data=data, color='b')\n",
    "sns.jointplot(x='fertilizer_usage', y='yield',data=data, color='y')\n",
    "sns.jointplot(x='pesticides', y='yield',data=data, color='r')\n",
    "sns.jointplot(x='uv', y='yield',data=data, color='g')"
   ]
  },
  {
   "cell_type": "code",
   "execution_count": 13,
   "id": "8c95b472",
   "metadata": {},
   "outputs": [
    {
     "data": {
      "text/plain": [
       "<seaborn.axisgrid.JointGrid at 0x7f75a3e16c80>"
      ]
     },
     "execution_count": 13,
     "metadata": {},
     "output_type": "execute_result"
    },
    {
     "data": {
      "image/png": "[encoded data removed]",
      "text/plain": [
       "<Figure size 432x432 with 3 Axes>"
      ]
     },
     "metadata": {
      "needs_background": "light"
     },
     "output_type": "display_data"
    },
    {
     "data": {
      "image/png": "[encoded data removed]",
      "text/plain": [
       "<Figure size 432x432 with 3 Axes>"
      ]
     },
     "metadata": {
      "needs_background": "light"
     },
     "output_type": "display_data"
    }
   ],
   "source": [
    "sns.jointplot(x='region', y='yield',data=data, color='c')\n",
    "sns.jointplot(x='area', y='yield',data=data, color='pink')"
   ]
  },
  {
   "cell_type": "code",
   "execution_count": 14,
   "id": "3d92fc98",
   "metadata": {},
   "outputs": [
    {
     "data": {
      "image/png": "[encoded data removed]",
      "text/plain": [
       "<Figure size 864x1728 with 6 Axes>"
      ]
     },
     "metadata": {
      "needs_background": "light"
     },
     "output_type": "display_data"
    }
   ],
   "source": [
    "f, ax = plt.subplots(6, figsize=(12,24))\n",
    "sns.regplot(x=\"water\", y=\"yield\", data=data, color='b', ax=ax[0]);\n",
    "sns.regplot(x=\"fertilizer_usage\", y=\"yield\", data=data, color='y', ax=ax[1]);\n",
    "sns.regplot(x=\"pesticides\", y=\"yield\", data=data, color='r', ax=ax[2]);\n",
    "sns.regplot(x=\"uv\", y=\"yield\", data=data, color='g', ax=ax[3]);\n",
    "sns.regplot(x=\"area\", y=\"yield\", data=data, color='pink', ax=ax[4]);\n",
    "sns.regplot(x=\"region\", y=\"yield\", data=data, color='c', ax=ax[5]);"
   ]
  },
  {
   "cell_type": "code",
   "execution_count": 15,
   "id": "14dfb2b6",
   "metadata": {},
   "outputs": [
    {
     "data": {
      "text/html": [
       "<style type=\"text/css\">\n",
       "#T_e41ea_row0_col0, #T_e41ea_row1_col1, #T_e41ea_row2_col2, #T_e41ea_row3_col3, #T_e41ea_row4_col4, #T_e41ea_row5_col5, #T_e41ea_row6_col6 {\n",
       "  background-color: #fcffa4;\n",
       "  color: #000000;\n",
       "}\n",
       "#T_e41ea_row0_col1, #T_e41ea_row0_col4 {\n",
       "  background-color: #09061f;\n",
       "  color: #f1f1f1;\n",
       "}\n",
       "#T_e41ea_row0_col2, #T_e41ea_row0_col3 {\n",
       "  background-color: #340a5f;\n",
       "  color: #f1f1f1;\n",
       "}\n",
       "#T_e41ea_row0_col5, #T_e41ea_row6_col5 {\n",
       "  background-color: #060419;\n",
       "  color: #f1f1f1;\n",
       "}\n",
       "#T_e41ea_row0_col6, #T_e41ea_row2_col3, #T_e41ea_row3_col1, #T_e41ea_row3_col2, #T_e41ea_row3_col5, #T_e41ea_row6_col0, #T_e41ea_row6_col4 {\n",
       "  background-color: #000004;\n",
       "  color: #f1f1f1;\n",
       "}\n",
       "#T_e41ea_row1_col0, #T_e41ea_row1_col4, #T_e41ea_row2_col1 {\n",
       "  background-color: #110a30;\n",
       "  color: #f1f1f1;\n",
       "}\n",
       "#T_e41ea_row1_col2 {\n",
       "  background-color: #4a0c6b;\n",
       "  color: #f1f1f1;\n",
       "}\n",
       "#T_e41ea_row1_col3 {\n",
       "  background-color: #2b0b57;\n",
       "  color: #f1f1f1;\n",
       "}\n",
       "#T_e41ea_row1_col5, #T_e41ea_row2_col0 {\n",
       "  background-color: #07051b;\n",
       "  color: #f1f1f1;\n",
       "}\n",
       "#T_e41ea_row1_col6, #T_e41ea_row3_col0 {\n",
       "  background-color: #08051d;\n",
       "  color: #f1f1f1;\n",
       "}\n",
       "#T_e41ea_row2_col4 {\n",
       "  background-color: #c03a51;\n",
       "  color: #f1f1f1;\n",
       "}\n",
       "#T_e41ea_row2_col5, #T_e41ea_row5_col4 {\n",
       "  background-color: #120a32;\n",
       "  color: #f1f1f1;\n",
       "}\n",
       "#T_e41ea_row2_col6 {\n",
       "  background-color: #932667;\n",
       "  color: #f1f1f1;\n",
       "}\n",
       "#T_e41ea_row3_col4, #T_e41ea_row6_col2 {\n",
       "  background-color: #b1325a;\n",
       "  color: #f1f1f1;\n",
       "}\n",
       "#T_e41ea_row3_col6 {\n",
       "  background-color: #0c0826;\n",
       "  color: #f1f1f1;\n",
       "}\n",
       "#T_e41ea_row4_col0, #T_e41ea_row4_col1 {\n",
       "  background-color: #0a0722;\n",
       "  color: #f1f1f1;\n",
       "}\n",
       "#T_e41ea_row4_col2 {\n",
       "  background-color: #d54a41;\n",
       "  color: #f1f1f1;\n",
       "}\n",
       "#T_e41ea_row4_col3 {\n",
       "  background-color: #cb4149;\n",
       "  color: #f1f1f1;\n",
       "}\n",
       "#T_e41ea_row4_col5 {\n",
       "  background-color: #160b39;\n",
       "  color: #f1f1f1;\n",
       "}\n",
       "#T_e41ea_row4_col6 {\n",
       "  background-color: #010005;\n",
       "  color: #f1f1f1;\n",
       "}\n",
       "#T_e41ea_row5_col0 {\n",
       "  background-color: #050417;\n",
       "  color: #f1f1f1;\n",
       "}\n",
       "#T_e41ea_row5_col1 {\n",
       "  background-color: #02010a;\n",
       "  color: #f1f1f1;\n",
       "}\n",
       "#T_e41ea_row5_col2 {\n",
       "  background-color: #400a67;\n",
       "  color: #f1f1f1;\n",
       "}\n",
       "#T_e41ea_row5_col3 {\n",
       "  background-color: #1f0c48;\n",
       "  color: #f1f1f1;\n",
       "}\n",
       "#T_e41ea_row5_col6 {\n",
       "  background-color: #040314;\n",
       "  color: #f1f1f1;\n",
       "}\n",
       "#T_e41ea_row6_col1 {\n",
       "  background-color: #02020c;\n",
       "  color: #f1f1f1;\n",
       "}\n",
       "#T_e41ea_row6_col3 {\n",
       "  background-color: #3b0964;\n",
       "  color: #f1f1f1;\n",
       "}\n",
       "</style>\n",
       "<table id=\"T_e41ea\">\n",
       "  <thead>\n",
       "    <tr>\n",
       "      <th class=\"blank level0\" >&nbsp;</th>\n",
       "      <th id=\"T_e41ea_level0_col0\" class=\"col_heading level0 col0\" >water</th>\n",
       "      <th id=\"T_e41ea_level0_col1\" class=\"col_heading level0 col1\" >uv</th>\n",
       "      <th id=\"T_e41ea_level0_col2\" class=\"col_heading level0 col2\" >area</th>\n",
       "      <th id=\"T_e41ea_level0_col3\" class=\"col_heading level0 col3\" >fertilizer_usage</th>\n",
       "      <th id=\"T_e41ea_level0_col4\" class=\"col_heading level0 col4\" >yield</th>\n",
       "      <th id=\"T_e41ea_level0_col5\" class=\"col_heading level0 col5\" >pesticides</th>\n",
       "      <th id=\"T_e41ea_level0_col6\" class=\"col_heading level0 col6\" >region</th>\n",
       "    </tr>\n",
       "  </thead>\n",
       "  <tbody>\n",
       "    <tr>\n",
       "      <th id=\"T_e41ea_level0_row0\" class=\"row_heading level0 row0\" >water</th>\n",
       "      <td id=\"T_e41ea_row0_col0\" class=\"data row0 col0\" >1.000000</td>\n",
       "      <td id=\"T_e41ea_row0_col1\" class=\"data row0 col1\" >0.035519</td>\n",
       "      <td id=\"T_e41ea_row0_col2\" class=\"data row0 col2\" >0.000132</td>\n",
       "      <td id=\"T_e41ea_row0_col3\" class=\"data row0 col3\" >0.003419</td>\n",
       "      <td id=\"T_e41ea_row0_col4\" class=\"data row0 col4\" >0.014446</td>\n",
       "      <td id=\"T_e41ea_row0_col5\" class=\"data row0 col5\" >-0.008056</td>\n",
       "      <td id=\"T_e41ea_row0_col6\" class=\"data row0 col6\" >-0.050885</td>\n",
       "    </tr>\n",
       "    <tr>\n",
       "      <th id=\"T_e41ea_level0_row1\" class=\"row_heading level0 row1\" >uv</th>\n",
       "      <td id=\"T_e41ea_row1_col0\" class=\"data row1 col0\" >0.035519</td>\n",
       "      <td id=\"T_e41ea_row1_col1\" class=\"data row1 col1\" >1.000000</td>\n",
       "      <td id=\"T_e41ea_row1_col2\" class=\"data row1 col2\" >0.063638</td>\n",
       "      <td id=\"T_e41ea_row1_col3\" class=\"data row1 col3\" >-0.020593</td>\n",
       "      <td id=\"T_e41ea_row1_col4\" class=\"data row1 col4\" >0.042384</td>\n",
       "      <td id=\"T_e41ea_row1_col5\" class=\"data row1 col5\" >-0.002886</td>\n",
       "      <td id=\"T_e41ea_row1_col6\" class=\"data row1 col6\" >0.003181</td>\n",
       "    </tr>\n",
       "    <tr>\n",
       "      <th id=\"T_e41ea_level0_row2\" class=\"row_heading level0 row2\" >area</th>\n",
       "      <td id=\"T_e41ea_row2_col0\" class=\"data row2 col0\" >0.000132</td>\n",
       "      <td id=\"T_e41ea_row2_col1\" class=\"data row2 col1\" >0.063638</td>\n",
       "      <td id=\"T_e41ea_row2_col2\" class=\"data row2 col2\" >1.000000</td>\n",
       "      <td id=\"T_e41ea_row2_col3\" class=\"data row2 col3\" >-0.202512</td>\n",
       "      <td id=\"T_e41ea_row2_col4\" class=\"data row2 col4\" >0.491220</td>\n",
       "      <td id=\"T_e41ea_row2_col5\" class=\"data row2 col5\" >0.036302</td>\n",
       "      <td id=\"T_e41ea_row2_col6\" class=\"data row2 col6\" >0.369481</td>\n",
       "    </tr>\n",
       "    <tr>\n",
       "      <th id=\"T_e41ea_level0_row3\" class=\"row_heading level0 row3\" >fertilizer_usage</th>\n",
       "      <td id=\"T_e41ea_row3_col0\" class=\"data row3 col0\" >0.003419</td>\n",
       "      <td id=\"T_e41ea_row3_col1\" class=\"data row3 col1\" >-0.020593</td>\n",
       "      <td id=\"T_e41ea_row3_col2\" class=\"data row3 col2\" >-0.202512</td>\n",
       "      <td id=\"T_e41ea_row3_col3\" class=\"data row3 col3\" >1.000000</td>\n",
       "      <td id=\"T_e41ea_row3_col4\" class=\"data row3 col4\" >0.452183</td>\n",
       "      <td id=\"T_e41ea_row3_col5\" class=\"data row3 col5\" >-0.056462</td>\n",
       "      <td id=\"T_e41ea_row3_col6\" class=\"data row3 col6\" >0.022406</td>\n",
       "    </tr>\n",
       "    <tr>\n",
       "      <th id=\"T_e41ea_level0_row4\" class=\"row_heading level0 row4\" >yield</th>\n",
       "      <td id=\"T_e41ea_row4_col0\" class=\"data row4 col0\" >0.014446</td>\n",
       "      <td id=\"T_e41ea_row4_col1\" class=\"data row4 col1\" >0.042384</td>\n",
       "      <td id=\"T_e41ea_row4_col2\" class=\"data row4 col2\" >0.491220</td>\n",
       "      <td id=\"T_e41ea_row4_col3\" class=\"data row4 col3\" >0.452183</td>\n",
       "      <td id=\"T_e41ea_row4_col4\" class=\"data row4 col4\" >1.000000</td>\n",
       "      <td id=\"T_e41ea_row4_col5\" class=\"data row4 col5\" >0.048380</td>\n",
       "      <td id=\"T_e41ea_row4_col6\" class=\"data row4 col6\" >-0.045051</td>\n",
       "    </tr>\n",
       "    <tr>\n",
       "      <th id=\"T_e41ea_level0_row5\" class=\"row_heading level0 row5\" >pesticides</th>\n",
       "      <td id=\"T_e41ea_row5_col0\" class=\"data row5 col0\" >-0.008056</td>\n",
       "      <td id=\"T_e41ea_row5_col1\" class=\"data row5 col1\" >-0.002886</td>\n",
       "      <td id=\"T_e41ea_row5_col2\" class=\"data row5 col2\" >0.036302</td>\n",
       "      <td id=\"T_e41ea_row5_col3\" class=\"data row5 col3\" >-0.056462</td>\n",
       "      <td id=\"T_e41ea_row5_col4\" class=\"data row5 col4\" >0.048380</td>\n",
       "      <td id=\"T_e41ea_row5_col5\" class=\"data row5 col5\" >1.000000</td>\n",
       "      <td id=\"T_e41ea_row5_col6\" class=\"data row5 col6\" >-0.010899</td>\n",
       "    </tr>\n",
       "    <tr>\n",
       "      <th id=\"T_e41ea_level0_row6\" class=\"row_heading level0 row6\" >region</th>\n",
       "      <td id=\"T_e41ea_row6_col0\" class=\"data row6 col0\" >-0.050885</td>\n",
       "      <td id=\"T_e41ea_row6_col1\" class=\"data row6 col1\" >0.003181</td>\n",
       "      <td id=\"T_e41ea_row6_col2\" class=\"data row6 col2\" >0.369481</td>\n",
       "      <td id=\"T_e41ea_row6_col3\" class=\"data row6 col3\" >0.022406</td>\n",
       "      <td id=\"T_e41ea_row6_col4\" class=\"data row6 col4\" >-0.045051</td>\n",
       "      <td id=\"T_e41ea_row6_col5\" class=\"data row6 col5\" >-0.010899</td>\n",
       "      <td id=\"T_e41ea_row6_col6\" class=\"data row6 col6\" >1.000000</td>\n",
       "    </tr>\n",
       "  </tbody>\n",
       "</table>\n"
      ],
      "text/plain": [
       "<pandas.io.formats.style.Styler at 0x7f75a3c4ded0>"
      ]
     },
     "execution_count": 15,
     "metadata": {},
     "output_type": "execute_result"
    }
   ],
   "source": [
    "corr=data.corr()\n",
    "corr.style.background_gradient(cmap=\"inferno\")"
   ]
  },
  {
   "cell_type": "markdown",
   "id": "1d38f252",
   "metadata": {},
   "source": [
    "From the above figures we can see that pesticides, area and Uv has more effect on yield. Water does'nt effect the yield at all."
   ]
  },
  {
   "cell_type": "markdown",
   "id": "4cf1cf1c",
   "metadata": {},
   "source": [
    "##### Spliting Data to Training and Testing."
   ]
  },
  {
   "cell_type": "code",
   "execution_count": 16,
   "id": "521ee2c8",
   "metadata": {},
   "outputs": [],
   "source": [
    "np.random.seed(0)\n",
    "data_train, data_test = train_test_split(\n",
    "    data, train_size = 0.8, \n",
    "    test_size = 0.2, \n",
    "    random_state = 100\n",
    ")"
   ]
  },
  {
   "cell_type": "code",
   "execution_count": 17,
   "id": "4285f123",
   "metadata": {},
   "outputs": [
    {
     "data": {
      "text/html": [
       "<div>\n",
       "<style scoped>\n",
       "    .dataframe tbody tr th:only-of-type {\n",
       "        vertical-align: middle;\n",
       "    }\n",
       "\n",
       "    .dataframe tbody tr th {\n",
       "        vertical-align: top;\n",
       "    }\n",
       "\n",
       "    .dataframe thead th {\n",
       "        text-align: right;\n",
       "    }\n",
       "</style>\n",
       "<table border=\"1\" class=\"dataframe\">\n",
       "  <thead>\n",
       "    <tr style=\"text-align: right;\">\n",
       "      <th></th>\n",
       "      <th>water</th>\n",
       "      <th>uv</th>\n",
       "      <th>area</th>\n",
       "      <th>fertilizer_usage</th>\n",
       "      <th>yield</th>\n",
       "      <th>pesticides</th>\n",
       "      <th>region</th>\n",
       "    </tr>\n",
       "  </thead>\n",
       "  <tbody>\n",
       "    <tr>\n",
       "      <th>675</th>\n",
       "      <td>4.923</td>\n",
       "      <td>90.242</td>\n",
       "      <td>7.524</td>\n",
       "      <td>4</td>\n",
       "      <td>68.295</td>\n",
       "      <td>0.164</td>\n",
       "      <td>4</td>\n",
       "    </tr>\n",
       "    <tr>\n",
       "      <th>358</th>\n",
       "      <td>1.598</td>\n",
       "      <td>71.792</td>\n",
       "      <td>8.305</td>\n",
       "      <td>1</td>\n",
       "      <td>52.913</td>\n",
       "      <td>6.187</td>\n",
       "      <td>2</td>\n",
       "    </tr>\n",
       "    <tr>\n",
       "      <th>159</th>\n",
       "      <td>4.064</td>\n",
       "      <td>81.622</td>\n",
       "      <td>7.495</td>\n",
       "      <td>3</td>\n",
       "      <td>72.568</td>\n",
       "      <td>3.344</td>\n",
       "      <td>1</td>\n",
       "    </tr>\n",
       "    <tr>\n",
       "      <th>533</th>\n",
       "      <td>8.684</td>\n",
       "      <td>57.248</td>\n",
       "      <td>10.176</td>\n",
       "      <td>1</td>\n",
       "      <td>36.008</td>\n",
       "      <td>0.014</td>\n",
       "      <td>3</td>\n",
       "    </tr>\n",
       "    <tr>\n",
       "      <th>678</th>\n",
       "      <td>6.084</td>\n",
       "      <td>70.801</td>\n",
       "      <td>10.207</td>\n",
       "      <td>1</td>\n",
       "      <td>69.490</td>\n",
       "      <td>3.103</td>\n",
       "      <td>4</td>\n",
       "    </tr>\n",
       "  </tbody>\n",
       "</table>\n",
       "</div>"
      ],
      "text/plain": [
       "     water      uv    area  fertilizer_usage   yield  pesticides  region\n",
       "675  4.923  90.242   7.524                 4  68.295       0.164       4\n",
       "358  1.598  71.792   8.305                 1  52.913       6.187       2\n",
       "159  4.064  81.622   7.495                 3  72.568       3.344       1\n",
       "533  8.684  57.248  10.176                 1  36.008       0.014       3\n",
       "678  6.084  70.801  10.207                 1  69.490       3.103       4"
      ]
     },
     "execution_count": 17,
     "metadata": {},
     "output_type": "execute_result"
    }
   ],
   "source": [
    "data_train.head()"
   ]
  },
  {
   "cell_type": "code",
   "execution_count": 18,
   "id": "ecea5c78",
   "metadata": {
    "scrolled": true
   },
   "outputs": [
    {
     "data": {
      "text/html": [
       "<div>\n",
       "<style scoped>\n",
       "    .dataframe tbody tr th:only-of-type {\n",
       "        vertical-align: middle;\n",
       "    }\n",
       "\n",
       "    .dataframe tbody tr th {\n",
       "        vertical-align: top;\n",
       "    }\n",
       "\n",
       "    .dataframe thead th {\n",
       "        text-align: right;\n",
       "    }\n",
       "</style>\n",
       "<table border=\"1\" class=\"dataframe\">\n",
       "  <thead>\n",
       "    <tr style=\"text-align: right;\">\n",
       "      <th></th>\n",
       "      <th>water</th>\n",
       "      <th>uv</th>\n",
       "      <th>area</th>\n",
       "      <th>fertilizer_usage</th>\n",
       "      <th>yield</th>\n",
       "      <th>pesticides</th>\n",
       "      <th>region</th>\n",
       "    </tr>\n",
       "  </thead>\n",
       "  <tbody>\n",
       "    <tr>\n",
       "      <th>count</th>\n",
       "      <td>1000.000000</td>\n",
       "      <td>1000.000000</td>\n",
       "      <td>1000.000000</td>\n",
       "      <td>1000.00000</td>\n",
       "      <td>1000.000000</td>\n",
       "      <td>1000.000000</td>\n",
       "      <td>1000.000000</td>\n",
       "    </tr>\n",
       "    <tr>\n",
       "      <th>mean</th>\n",
       "      <td>11.710157</td>\n",
       "      <td>70.185656</td>\n",
       "      <td>8.098848</td>\n",
       "      <td>2.12300</td>\n",
       "      <td>58.758571</td>\n",
       "      <td>3.452301</td>\n",
       "      <td>3.039000</td>\n",
       "    </tr>\n",
       "    <tr>\n",
       "      <th>std</th>\n",
       "      <td>168.691836</td>\n",
       "      <td>18.922905</td>\n",
       "      <td>2.692632</td>\n",
       "      <td>1.52256</td>\n",
       "      <td>24.563683</td>\n",
       "      <td>2.076921</td>\n",
       "      <td>1.883886</td>\n",
       "    </tr>\n",
       "    <tr>\n",
       "      <th>min</th>\n",
       "      <td>0.000000</td>\n",
       "      <td>0.000000</td>\n",
       "      <td>0.263000</td>\n",
       "      <td>0.00000</td>\n",
       "      <td>2.843000</td>\n",
       "      <td>0.014000</td>\n",
       "      <td>0.000000</td>\n",
       "    </tr>\n",
       "    <tr>\n",
       "      <th>25%</th>\n",
       "      <td>4.262000</td>\n",
       "      <td>65.744500</td>\n",
       "      <td>6.297000</td>\n",
       "      <td>1.00000</td>\n",
       "      <td>40.698000</td>\n",
       "      <td>1.804500</td>\n",
       "      <td>2.000000</td>\n",
       "    </tr>\n",
       "    <tr>\n",
       "      <th>50%</th>\n",
       "      <td>6.348000</td>\n",
       "      <td>72.868000</td>\n",
       "      <td>7.987500</td>\n",
       "      <td>2.00000</td>\n",
       "      <td>55.602500</td>\n",
       "      <td>3.275500</td>\n",
       "      <td>2.000000</td>\n",
       "    </tr>\n",
       "    <tr>\n",
       "      <th>75%</th>\n",
       "      <td>8.611000</td>\n",
       "      <td>80.220250</td>\n",
       "      <td>9.900250</td>\n",
       "      <td>3.00000</td>\n",
       "      <td>73.645500</td>\n",
       "      <td>4.916000</td>\n",
       "      <td>5.000000</td>\n",
       "    </tr>\n",
       "    <tr>\n",
       "      <th>max</th>\n",
       "      <td>5340.000000</td>\n",
       "      <td>106.310000</td>\n",
       "      <td>18.311000</td>\n",
       "      <td>5.00000</td>\n",
       "      <td>148.845000</td>\n",
       "      <td>9.532000</td>\n",
       "      <td>6.000000</td>\n",
       "    </tr>\n",
       "  </tbody>\n",
       "</table>\n",
       "</div>"
      ],
      "text/plain": [
       "             water           uv         area  fertilizer_usage        yield  \\\n",
       "count  1000.000000  1000.000000  1000.000000        1000.00000  1000.000000   \n",
       "mean     11.710157    70.185656     8.098848           2.12300    58.758571   \n",
       "std     168.691836    18.922905     2.692632           1.52256    24.563683   \n",
       "min       0.000000     0.000000     0.263000           0.00000     2.843000   \n",
       "25%       4.262000    65.744500     6.297000           1.00000    40.698000   \n",
       "50%       6.348000    72.868000     7.987500           2.00000    55.602500   \n",
       "75%       8.611000    80.220250     9.900250           3.00000    73.645500   \n",
       "max    5340.000000   106.310000    18.311000           5.00000   148.845000   \n",
       "\n",
       "        pesticides       region  \n",
       "count  1000.000000  1000.000000  \n",
       "mean      3.452301     3.039000  \n",
       "std       2.076921     1.883886  \n",
       "min       0.014000     0.000000  \n",
       "25%       1.804500     2.000000  \n",
       "50%       3.275500     2.000000  \n",
       "75%       4.916000     5.000000  \n",
       "max       9.532000     6.000000  "
      ]
     },
     "execution_count": 18,
     "metadata": {},
     "output_type": "execute_result"
    }
   ],
   "source": [
    "data.describe()"
   ]
  },
  {
   "cell_type": "markdown",
   "id": "475c6e37",
   "metadata": {},
   "source": [
    "### Considering all the columns to predict yield"
   ]
  },
  {
   "cell_type": "code",
   "execution_count": 19,
   "id": "99b9f7c3",
   "metadata": {},
   "outputs": [],
   "source": [
    "X_train = data_train.iloc[:, [0,1,2,3,5,6]]\n",
    "y_train = data_train['yield']\n",
    "X_test = data_test.iloc[:, [0,1,2,3,5,6]]\n",
    "y_test = data_test['yield']"
   ]
  },
  {
   "cell_type": "code",
   "execution_count": 20,
   "id": "385043bb",
   "metadata": {},
   "outputs": [
    {
     "data": {
      "text/plain": [
       "675    68.295\n",
       "358    52.913\n",
       "159    72.568\n",
       "533    36.008\n",
       "678    69.490\n",
       "Name: yield, dtype: float64"
      ]
     },
     "execution_count": 20,
     "metadata": {},
     "output_type": "execute_result"
    }
   ],
   "source": [
    "y_train.head()"
   ]
  },
  {
   "cell_type": "code",
   "execution_count": 21,
   "id": "b8c8c7f9",
   "metadata": {},
   "outputs": [
    {
     "data": {
      "text/html": [
       "<div>\n",
       "<style scoped>\n",
       "    .dataframe tbody tr th:only-of-type {\n",
       "        vertical-align: middle;\n",
       "    }\n",
       "\n",
       "    .dataframe tbody tr th {\n",
       "        vertical-align: top;\n",
       "    }\n",
       "\n",
       "    .dataframe thead th {\n",
       "        text-align: right;\n",
       "    }\n",
       "</style>\n",
       "<table border=\"1\" class=\"dataframe\">\n",
       "  <thead>\n",
       "    <tr style=\"text-align: right;\">\n",
       "      <th></th>\n",
       "      <th>water</th>\n",
       "      <th>uv</th>\n",
       "      <th>area</th>\n",
       "      <th>fertilizer_usage</th>\n",
       "      <th>pesticides</th>\n",
       "      <th>region</th>\n",
       "    </tr>\n",
       "  </thead>\n",
       "  <tbody>\n",
       "    <tr>\n",
       "      <th>675</th>\n",
       "      <td>4.923</td>\n",
       "      <td>90.242</td>\n",
       "      <td>7.524</td>\n",
       "      <td>4</td>\n",
       "      <td>0.164</td>\n",
       "      <td>4</td>\n",
       "    </tr>\n",
       "    <tr>\n",
       "      <th>358</th>\n",
       "      <td>1.598</td>\n",
       "      <td>71.792</td>\n",
       "      <td>8.305</td>\n",
       "      <td>1</td>\n",
       "      <td>6.187</td>\n",
       "      <td>2</td>\n",
       "    </tr>\n",
       "    <tr>\n",
       "      <th>159</th>\n",
       "      <td>4.064</td>\n",
       "      <td>81.622</td>\n",
       "      <td>7.495</td>\n",
       "      <td>3</td>\n",
       "      <td>3.344</td>\n",
       "      <td>1</td>\n",
       "    </tr>\n",
       "    <tr>\n",
       "      <th>533</th>\n",
       "      <td>8.684</td>\n",
       "      <td>57.248</td>\n",
       "      <td>10.176</td>\n",
       "      <td>1</td>\n",
       "      <td>0.014</td>\n",
       "      <td>3</td>\n",
       "    </tr>\n",
       "    <tr>\n",
       "      <th>678</th>\n",
       "      <td>6.084</td>\n",
       "      <td>70.801</td>\n",
       "      <td>10.207</td>\n",
       "      <td>1</td>\n",
       "      <td>3.103</td>\n",
       "      <td>4</td>\n",
       "    </tr>\n",
       "  </tbody>\n",
       "</table>\n",
       "</div>"
      ],
      "text/plain": [
       "     water      uv    area  fertilizer_usage  pesticides  region\n",
       "675  4.923  90.242   7.524                 4       0.164       4\n",
       "358  1.598  71.792   8.305                 1       6.187       2\n",
       "159  4.064  81.622   7.495                 3       3.344       1\n",
       "533  8.684  57.248  10.176                 1       0.014       3\n",
       "678  6.084  70.801  10.207                 1       3.103       4"
      ]
     },
     "execution_count": 21,
     "metadata": {},
     "output_type": "execute_result"
    }
   ],
   "source": [
    "X_train.head()"
   ]
  },
  {
   "cell_type": "code",
   "execution_count": 22,
   "id": "2a67947a",
   "metadata": {},
   "outputs": [
    {
     "data": {
      "text/plain": [
       "array([67.19525744, 54.76872973, 72.01087223, 58.84579883, 56.69636444,\n",
       "       66.24971921, 67.19037761, 35.51333748, 67.30141764, 83.97884208,\n",
       "       85.83500912, 58.22322856, 81.80072519, 61.48744136, 41.02119663,\n",
       "       65.27456928, 62.13200389, 70.28443896, 66.78049939, 57.61758889])"
      ]
     },
     "execution_count": 22,
     "metadata": {},
     "output_type": "execute_result"
    }
   ],
   "source": [
    "reg = LinearRegression()\n",
    "reg.fit(X_train,y_train)\n",
    "y_train_pred=reg.predict(X_train)\n",
    "y_train_pred[:20]"
   ]
  },
  {
   "cell_type": "code",
   "execution_count": 23,
   "id": "ab65de70",
   "metadata": {},
   "outputs": [
    {
     "name": "stdout",
     "output_type": "stream",
     "text": [
      "R square value of train data:  0.6464919789548195  R square value of test data:  0.6810218136307852\n"
     ]
    }
   ],
   "source": [
    "r2_score_train=reg.score(X_train,y_train)\n",
    "r2_score_test=reg.score(X_test,y_test)\n",
    "\n",
    "print(\"R square value of train data: \",r2_score_train,\" R square value of test data: \",r2_score_test)"
   ]
  },
  {
   "cell_type": "markdown",
   "id": "b50ca7c4",
   "metadata": {},
   "source": [
    "### Considering the attributes those are result of feature selection"
   ]
  },
  {
   "cell_type": "code",
   "execution_count": 24,
   "id": "82dfe133",
   "metadata": {},
   "outputs": [
    {
     "data": {
      "text/plain": [
       "[('water', False, 4),\n",
       " ('uv', False, 3),\n",
       " ('area', True, 1),\n",
       " ('fertilizer_usage', True, 1),\n",
       " ('pesticides', False, 2),\n",
       " ('region', True, 1)]"
      ]
     },
     "execution_count": 24,
     "metadata": {},
     "output_type": "execute_result"
    }
   ],
   "source": [
    "rfe = RFE(reg)\n",
    "rfe = rfe.fit(X_train, y_train)\n",
    "list(zip(X_train.columns,rfe.support_,rfe.ranking_))"
   ]
  },
  {
   "cell_type": "code",
   "execution_count": 25,
   "id": "669414bb",
   "metadata": {},
   "outputs": [
    {
     "data": {
      "text/plain": [
       "Index(['area', 'fertilizer_usage', 'region'], dtype='object')"
      ]
     },
     "execution_count": 25,
     "metadata": {},
     "output_type": "execute_result"
    }
   ],
   "source": [
    "X_train.columns[rfe.support_]"
   ]
  },
  {
   "cell_type": "code",
   "execution_count": 26,
   "id": "b727bea8",
   "metadata": {},
   "outputs": [
    {
     "data": {
      "text/html": [
       "<div>\n",
       "<style scoped>\n",
       "    .dataframe tbody tr th:only-of-type {\n",
       "        vertical-align: middle;\n",
       "    }\n",
       "\n",
       "    .dataframe tbody tr th {\n",
       "        vertical-align: top;\n",
       "    }\n",
       "\n",
       "    .dataframe thead th {\n",
       "        text-align: right;\n",
       "    }\n",
       "</style>\n",
       "<table border=\"1\" class=\"dataframe\">\n",
       "  <thead>\n",
       "    <tr style=\"text-align: right;\">\n",
       "      <th></th>\n",
       "      <th>area</th>\n",
       "      <th>fertilizer_usage</th>\n",
       "      <th>region</th>\n",
       "    </tr>\n",
       "  </thead>\n",
       "  <tbody>\n",
       "    <tr>\n",
       "      <th>675</th>\n",
       "      <td>7.524</td>\n",
       "      <td>4</td>\n",
       "      <td>4</td>\n",
       "    </tr>\n",
       "    <tr>\n",
       "      <th>358</th>\n",
       "      <td>8.305</td>\n",
       "      <td>1</td>\n",
       "      <td>2</td>\n",
       "    </tr>\n",
       "    <tr>\n",
       "      <th>159</th>\n",
       "      <td>7.495</td>\n",
       "      <td>3</td>\n",
       "      <td>1</td>\n",
       "    </tr>\n",
       "    <tr>\n",
       "      <th>533</th>\n",
       "      <td>10.176</td>\n",
       "      <td>1</td>\n",
       "      <td>3</td>\n",
       "    </tr>\n",
       "    <tr>\n",
       "      <th>678</th>\n",
       "      <td>10.207</td>\n",
       "      <td>1</td>\n",
       "      <td>4</td>\n",
       "    </tr>\n",
       "  </tbody>\n",
       "</table>\n",
       "</div>"
      ],
      "text/plain": [
       "       area  fertilizer_usage  region\n",
       "675   7.524                 4       4\n",
       "358   8.305                 1       2\n",
       "159   7.495                 3       1\n",
       "533  10.176                 1       3\n",
       "678  10.207                 1       4"
      ]
     },
     "execution_count": 26,
     "metadata": {},
     "output_type": "execute_result"
    }
   ],
   "source": [
    "X_train = data_train.iloc[:, [2,3,6]]\n",
    "X_test = data_test.iloc[:, [2,3,6]]\n",
    "X_train.head()"
   ]
  },
  {
   "cell_type": "code",
   "execution_count": 27,
   "id": "2bfca0a1",
   "metadata": {},
   "outputs": [],
   "source": [
    "reg = LinearRegression()\n",
    "reg.fit(X_train,y_train)\n",
    "y_train_pred=reg.predict(X_train)"
   ]
  },
  {
   "cell_type": "code",
   "execution_count": 28,
   "id": "225a440d",
   "metadata": {},
   "outputs": [
    {
     "name": "stdout",
     "output_type": "stream",
     "text": [
      "R square value of train data:  0.6435052166484538  R square value of test data:  0.6788932166384223\n"
     ]
    }
   ],
   "source": [
    "r2_score_train=reg.score(X_train,y_train)\n",
    "r2_score_test=reg.score(X_test,y_test)\n",
    "\n",
    "print(\"R square value of train data: \",r2_score_train,\" R square value of test data: \",r2_score_test)"
   ]
  },
  {
   "cell_type": "markdown",
   "id": "3fa14b05",
   "metadata": {},
   "source": [
    "### Only considering Water to predict yield."
   ]
  },
  {
   "cell_type": "code",
   "execution_count": 29,
   "id": "64a8e394",
   "metadata": {},
   "outputs": [],
   "source": [
    "y_train = data_train['yield']\n",
    "X_train = data_train.iloc[:, [0]]\n",
    "y_test = data_test['yield']\n",
    "X_test = data_test.iloc[:, [0]]"
   ]
  },
  {
   "cell_type": "code",
   "execution_count": 30,
   "id": "d10dddf7",
   "metadata": {},
   "outputs": [
    {
     "data": {
      "text/plain": [
       "675    68.295\n",
       "358    52.913\n",
       "159    72.568\n",
       "533    36.008\n",
       "678    69.490\n",
       "Name: yield, dtype: float64"
      ]
     },
     "execution_count": 30,
     "metadata": {},
     "output_type": "execute_result"
    }
   ],
   "source": [
    "y_train.head()"
   ]
  },
  {
   "cell_type": "code",
   "execution_count": 31,
   "id": "7b346f5b",
   "metadata": {},
   "outputs": [
    {
     "data": {
      "text/html": [
       "<div>\n",
       "<style scoped>\n",
       "    .dataframe tbody tr th:only-of-type {\n",
       "        vertical-align: middle;\n",
       "    }\n",
       "\n",
       "    .dataframe tbody tr th {\n",
       "        vertical-align: top;\n",
       "    }\n",
       "\n",
       "    .dataframe thead th {\n",
       "        text-align: right;\n",
       "    }\n",
       "</style>\n",
       "<table border=\"1\" class=\"dataframe\">\n",
       "  <thead>\n",
       "    <tr style=\"text-align: right;\">\n",
       "      <th></th>\n",
       "      <th>water</th>\n",
       "    </tr>\n",
       "  </thead>\n",
       "  <tbody>\n",
       "    <tr>\n",
       "      <th>675</th>\n",
       "      <td>4.923</td>\n",
       "    </tr>\n",
       "    <tr>\n",
       "      <th>358</th>\n",
       "      <td>1.598</td>\n",
       "    </tr>\n",
       "    <tr>\n",
       "      <th>159</th>\n",
       "      <td>4.064</td>\n",
       "    </tr>\n",
       "    <tr>\n",
       "      <th>533</th>\n",
       "      <td>8.684</td>\n",
       "    </tr>\n",
       "    <tr>\n",
       "      <th>678</th>\n",
       "      <td>6.084</td>\n",
       "    </tr>\n",
       "  </tbody>\n",
       "</table>\n",
       "</div>"
      ],
      "text/plain": [
       "     water\n",
       "675  4.923\n",
       "358  1.598\n",
       "159  4.064\n",
       "533  8.684\n",
       "678  6.084"
      ]
     },
     "execution_count": 31,
     "metadata": {},
     "output_type": "execute_result"
    }
   ],
   "source": [
    "X_train.head()"
   ]
  },
  {
   "cell_type": "code",
   "execution_count": 32,
   "id": "887b10fe",
   "metadata": {},
   "outputs": [
    {
     "data": {
      "text/plain": [
       "array([58.36244673, 58.35558281, 58.36067346, 58.37021071, 58.36484343,\n",
       "       58.36160242, 58.36918886, 58.37530343, 58.37189314, 58.36426128])"
      ]
     },
     "execution_count": 32,
     "metadata": {},
     "output_type": "execute_result"
    }
   ],
   "source": [
    "reg = LinearRegression()\n",
    "reg.fit(X_train,y_train)\n",
    "y_train_pred=reg.predict(X_train)\n",
    "y_train_pred[:10]"
   ]
  },
  {
   "cell_type": "code",
   "execution_count": 33,
   "id": "79031e46",
   "metadata": {},
   "outputs": [
    {
     "name": "stdout",
     "output_type": "stream",
     "text": [
      "R square value of train data:  0.00025786092815305306  R square value of test data:  -0.005417198308751425\n"
     ]
    }
   ],
   "source": [
    "r2_score_train=reg.score(X_train,y_train)\n",
    "r2_score_test=reg.score(X_test,y_test)\n",
    "\n",
    "print(\"R square value of train data: \",r2_score_train,\" R square value of test data: \",r2_score_test)"
   ]
  },
  {
   "cell_type": "markdown",
   "id": "a0adc1a4",
   "metadata": {},
   "source": [
    "### Only considering UV to predict yield."
   ]
  },
  {
   "cell_type": "code",
   "execution_count": 34,
   "id": "e29fdf16",
   "metadata": {},
   "outputs": [],
   "source": [
    "y_train = data_train['yield']\n",
    "X_train = data_train.iloc[:, [1]]\n",
    "y_test = data_test['yield']\n",
    "X_test = data_test.iloc[:, [1]]"
   ]
  },
  {
   "cell_type": "code",
   "execution_count": 35,
   "id": "49ae9185",
   "metadata": {
    "scrolled": true
   },
   "outputs": [
    {
     "data": {
      "text/html": [
       "<div>\n",
       "<style scoped>\n",
       "    .dataframe tbody tr th:only-of-type {\n",
       "        vertical-align: middle;\n",
       "    }\n",
       "\n",
       "    .dataframe tbody tr th {\n",
       "        vertical-align: top;\n",
       "    }\n",
       "\n",
       "    .dataframe thead th {\n",
       "        text-align: right;\n",
       "    }\n",
       "</style>\n",
       "<table border=\"1\" class=\"dataframe\">\n",
       "  <thead>\n",
       "    <tr style=\"text-align: right;\">\n",
       "      <th></th>\n",
       "      <th>uv</th>\n",
       "    </tr>\n",
       "  </thead>\n",
       "  <tbody>\n",
       "    <tr>\n",
       "      <th>675</th>\n",
       "      <td>90.242</td>\n",
       "    </tr>\n",
       "    <tr>\n",
       "      <th>358</th>\n",
       "      <td>71.792</td>\n",
       "    </tr>\n",
       "    <tr>\n",
       "      <th>159</th>\n",
       "      <td>81.622</td>\n",
       "    </tr>\n",
       "    <tr>\n",
       "      <th>533</th>\n",
       "      <td>57.248</td>\n",
       "    </tr>\n",
       "    <tr>\n",
       "      <th>678</th>\n",
       "      <td>70.801</td>\n",
       "    </tr>\n",
       "  </tbody>\n",
       "</table>\n",
       "</div>"
      ],
      "text/plain": [
       "         uv\n",
       "675  90.242\n",
       "358  71.792\n",
       "159  81.622\n",
       "533  57.248\n",
       "678  70.801"
      ]
     },
     "execution_count": 35,
     "metadata": {},
     "output_type": "execute_result"
    }
   ],
   "source": [
    "X_train.head()"
   ]
  },
  {
   "cell_type": "code",
   "execution_count": 36,
   "id": "b659bcd9",
   "metadata": {},
   "outputs": [
    {
     "data": {
      "text/plain": [
       "675    68.295\n",
       "358    52.913\n",
       "159    72.568\n",
       "533    36.008\n",
       "678    69.490\n",
       "Name: yield, dtype: float64"
      ]
     },
     "execution_count": 36,
     "metadata": {},
     "output_type": "execute_result"
    }
   ],
   "source": [
    "y_train.head()"
   ]
  },
  {
   "cell_type": "code",
   "execution_count": 37,
   "id": "fc618cfe",
   "metadata": {},
   "outputs": [],
   "source": [
    "reg = LinearRegression()\n",
    "reg.fit(X_train,y_train)\n",
    "y_train_pred=reg.predict(X_train)"
   ]
  },
  {
   "cell_type": "code",
   "execution_count": 38,
   "id": "3828aa98",
   "metadata": {},
   "outputs": [
    {
     "name": "stdout",
     "output_type": "stream",
     "text": [
      "R square value of train data:  0.0005270353533554095  R square value of test data:  -0.0009051541542615116\n"
     ]
    }
   ],
   "source": [
    "r2_score_train=reg.score(X_train,y_train)\n",
    "r2_score_test=reg.score(X_test,y_test)\n",
    "\n",
    "print(\"R square value of train data: \",r2_score_train,\" R square value of test data: \",r2_score_test)"
   ]
  },
  {
   "cell_type": "markdown",
   "id": "7acca4ef",
   "metadata": {},
   "source": [
    "### Only considering area to predict yield."
   ]
  },
  {
   "cell_type": "code",
   "execution_count": 39,
   "id": "d1d63946",
   "metadata": {},
   "outputs": [],
   "source": [
    "X_train = data_train.iloc[:, [2]]\n",
    "X_test = data_test.iloc[:, [2]]"
   ]
  },
  {
   "cell_type": "code",
   "execution_count": 40,
   "id": "856fbdae",
   "metadata": {},
   "outputs": [
    {
     "data": {
      "text/html": [
       "<div>\n",
       "<style scoped>\n",
       "    .dataframe tbody tr th:only-of-type {\n",
       "        vertical-align: middle;\n",
       "    }\n",
       "\n",
       "    .dataframe tbody tr th {\n",
       "        vertical-align: top;\n",
       "    }\n",
       "\n",
       "    .dataframe thead th {\n",
       "        text-align: right;\n",
       "    }\n",
       "</style>\n",
       "<table border=\"1\" class=\"dataframe\">\n",
       "  <thead>\n",
       "    <tr style=\"text-align: right;\">\n",
       "      <th></th>\n",
       "      <th>area</th>\n",
       "    </tr>\n",
       "  </thead>\n",
       "  <tbody>\n",
       "    <tr>\n",
       "      <th>675</th>\n",
       "      <td>7.524</td>\n",
       "    </tr>\n",
       "    <tr>\n",
       "      <th>358</th>\n",
       "      <td>8.305</td>\n",
       "    </tr>\n",
       "    <tr>\n",
       "      <th>159</th>\n",
       "      <td>7.495</td>\n",
       "    </tr>\n",
       "    <tr>\n",
       "      <th>533</th>\n",
       "      <td>10.176</td>\n",
       "    </tr>\n",
       "    <tr>\n",
       "      <th>678</th>\n",
       "      <td>10.207</td>\n",
       "    </tr>\n",
       "  </tbody>\n",
       "</table>\n",
       "</div>"
      ],
      "text/plain": [
       "       area\n",
       "675   7.524\n",
       "358   8.305\n",
       "159   7.495\n",
       "533  10.176\n",
       "678  10.207"
      ]
     },
     "execution_count": 40,
     "metadata": {},
     "output_type": "execute_result"
    }
   ],
   "source": [
    "X_train.head()"
   ]
  },
  {
   "cell_type": "code",
   "execution_count": 41,
   "id": "01b10946",
   "metadata": {},
   "outputs": [
    {
     "data": {
      "text/plain": [
       "675    68.295\n",
       "358    52.913\n",
       "159    72.568\n",
       "533    36.008\n",
       "678    69.490\n",
       "Name: yield, dtype: float64"
      ]
     },
     "execution_count": 41,
     "metadata": {},
     "output_type": "execute_result"
    }
   ],
   "source": [
    "y_train.head()"
   ]
  },
  {
   "cell_type": "code",
   "execution_count": 42,
   "id": "e2d959ae",
   "metadata": {},
   "outputs": [],
   "source": [
    "reg = LinearRegression()\n",
    "reg.fit(X_train,y_train)\n",
    "y_train_pred=reg.predict(X_train)"
   ]
  },
  {
   "cell_type": "code",
   "execution_count": 43,
   "id": "b1d9ce3c",
   "metadata": {},
   "outputs": [
    {
     "name": "stdout",
     "output_type": "stream",
     "text": [
      "R square value of train data:  0.2227122562742917  R square value of test data:  0.29711270144399704\n"
     ]
    }
   ],
   "source": [
    "r2_score_train=reg.score(X_train,y_train)\n",
    "r2_score_test=reg.score(X_test,y_test)\n",
    "\n",
    "print(\"R square value of train data: \",r2_score_train,\" R square value of test data: \",r2_score_test)"
   ]
  },
  {
   "cell_type": "markdown",
   "id": "698e1d18",
   "metadata": {},
   "source": [
    "### Only considering fertilizer_usage to predict yield."
   ]
  },
  {
   "cell_type": "code",
   "execution_count": 44,
   "id": "72ae9b8d",
   "metadata": {},
   "outputs": [],
   "source": [
    "X_train = data_train.iloc[:, [3]]\n",
    "X_test = data_test.iloc[:, [3]]"
   ]
  },
  {
   "cell_type": "code",
   "execution_count": 45,
   "id": "ae20c51b",
   "metadata": {},
   "outputs": [
    {
     "data": {
      "text/html": [
       "<div>\n",
       "<style scoped>\n",
       "    .dataframe tbody tr th:only-of-type {\n",
       "        vertical-align: middle;\n",
       "    }\n",
       "\n",
       "    .dataframe tbody tr th {\n",
       "        vertical-align: top;\n",
       "    }\n",
       "\n",
       "    .dataframe thead th {\n",
       "        text-align: right;\n",
       "    }\n",
       "</style>\n",
       "<table border=\"1\" class=\"dataframe\">\n",
       "  <thead>\n",
       "    <tr style=\"text-align: right;\">\n",
       "      <th></th>\n",
       "      <th>fertilizer_usage</th>\n",
       "    </tr>\n",
       "  </thead>\n",
       "  <tbody>\n",
       "    <tr>\n",
       "      <th>675</th>\n",
       "      <td>4</td>\n",
       "    </tr>\n",
       "    <tr>\n",
       "      <th>358</th>\n",
       "      <td>1</td>\n",
       "    </tr>\n",
       "    <tr>\n",
       "      <th>159</th>\n",
       "      <td>3</td>\n",
       "    </tr>\n",
       "    <tr>\n",
       "      <th>533</th>\n",
       "      <td>1</td>\n",
       "    </tr>\n",
       "    <tr>\n",
       "      <th>678</th>\n",
       "      <td>1</td>\n",
       "    </tr>\n",
       "  </tbody>\n",
       "</table>\n",
       "</div>"
      ],
      "text/plain": [
       "     fertilizer_usage\n",
       "675                 4\n",
       "358                 1\n",
       "159                 3\n",
       "533                 1\n",
       "678                 1"
      ]
     },
     "execution_count": 45,
     "metadata": {},
     "output_type": "execute_result"
    }
   ],
   "source": [
    "X_train.head()"
   ]
  },
  {
   "cell_type": "code",
   "execution_count": 46,
   "id": "c5460c1b",
   "metadata": {},
   "outputs": [],
   "source": [
    "reg = LinearRegression()\n",
    "reg.fit(X_train,y_train)\n",
    "y_train_pred=reg.predict(X_train)"
   ]
  },
  {
   "cell_type": "code",
   "execution_count": 47,
   "id": "7adfa9ae",
   "metadata": {},
   "outputs": [
    {
     "name": "stdout",
     "output_type": "stream",
     "text": [
      "R square value of train data:  0.20586877480966415  R square value of test data:  0.19540973212640833\n"
     ]
    }
   ],
   "source": [
    "r2_score_train=reg.score(X_train,y_train)\n",
    "r2_score_test=reg.score(X_test,y_test)\n",
    "\n",
    "print(\"R square value of train data: \",r2_score_train,\" R square value of test data: \",r2_score_test)"
   ]
  },
  {
   "cell_type": "markdown",
   "id": "46ae9090",
   "metadata": {},
   "source": [
    "### Only considering pesticides to predict yield."
   ]
  },
  {
   "cell_type": "code",
   "execution_count": 48,
   "id": "f3e86a28",
   "metadata": {},
   "outputs": [
    {
     "data": {
      "text/html": [
       "<div>\n",
       "<style scoped>\n",
       "    .dataframe tbody tr th:only-of-type {\n",
       "        vertical-align: middle;\n",
       "    }\n",
       "\n",
       "    .dataframe tbody tr th {\n",
       "        vertical-align: top;\n",
       "    }\n",
       "\n",
       "    .dataframe thead th {\n",
       "        text-align: right;\n",
       "    }\n",
       "</style>\n",
       "<table border=\"1\" class=\"dataframe\">\n",
       "  <thead>\n",
       "    <tr style=\"text-align: right;\">\n",
       "      <th></th>\n",
       "      <th>pesticides</th>\n",
       "    </tr>\n",
       "  </thead>\n",
       "  <tbody>\n",
       "    <tr>\n",
       "      <th>675</th>\n",
       "      <td>0.164</td>\n",
       "    </tr>\n",
       "    <tr>\n",
       "      <th>358</th>\n",
       "      <td>6.187</td>\n",
       "    </tr>\n",
       "    <tr>\n",
       "      <th>159</th>\n",
       "      <td>3.344</td>\n",
       "    </tr>\n",
       "    <tr>\n",
       "      <th>533</th>\n",
       "      <td>0.014</td>\n",
       "    </tr>\n",
       "    <tr>\n",
       "      <th>678</th>\n",
       "      <td>3.103</td>\n",
       "    </tr>\n",
       "  </tbody>\n",
       "</table>\n",
       "</div>"
      ],
      "text/plain": [
       "     pesticides\n",
       "675       0.164\n",
       "358       6.187\n",
       "159       3.344\n",
       "533       0.014\n",
       "678       3.103"
      ]
     },
     "execution_count": 48,
     "metadata": {},
     "output_type": "execute_result"
    }
   ],
   "source": [
    "X_train = data_train.iloc[:, [5]]\n",
    "X_test = data_test.iloc[:, [5]]\n",
    "X_train.head()"
   ]
  },
  {
   "cell_type": "code",
   "execution_count": 49,
   "id": "bf908dca",
   "metadata": {},
   "outputs": [],
   "source": [
    "reg = LinearRegression()\n",
    "reg.fit(X_train,y_train)\n",
    "y_train_pred=reg.predict(X_train)"
   ]
  },
  {
   "cell_type": "code",
   "execution_count": 50,
   "id": "0c4773af",
   "metadata": {},
   "outputs": [
    {
     "name": "stdout",
     "output_type": "stream",
     "text": [
      "R square value of train data:  0.0006052339659345929  R square value of test data:  0.00040003097433960466\n"
     ]
    }
   ],
   "source": [
    "r2_score_train=reg.score(X_train,y_train)\n",
    "r2_score_test=reg.score(X_test,y_test)\n",
    "\n",
    "print(\"R square value of train data: \",r2_score_train,\" R square value of test data: \",r2_score_test)"
   ]
  },
  {
   "cell_type": "markdown",
   "id": "bcbbc832",
   "metadata": {},
   "source": [
    "### Only considering region to predict yield."
   ]
  },
  {
   "cell_type": "code",
   "execution_count": 51,
   "id": "bf57d9d9",
   "metadata": {},
   "outputs": [
    {
     "data": {
      "text/html": [
       "<div>\n",
       "<style scoped>\n",
       "    .dataframe tbody tr th:only-of-type {\n",
       "        vertical-align: middle;\n",
       "    }\n",
       "\n",
       "    .dataframe tbody tr th {\n",
       "        vertical-align: top;\n",
       "    }\n",
       "\n",
       "    .dataframe thead th {\n",
       "        text-align: right;\n",
       "    }\n",
       "</style>\n",
       "<table border=\"1\" class=\"dataframe\">\n",
       "  <thead>\n",
       "    <tr style=\"text-align: right;\">\n",
       "      <th></th>\n",
       "      <th>region</th>\n",
       "    </tr>\n",
       "  </thead>\n",
       "  <tbody>\n",
       "    <tr>\n",
       "      <th>675</th>\n",
       "      <td>4</td>\n",
       "    </tr>\n",
       "    <tr>\n",
       "      <th>358</th>\n",
       "      <td>2</td>\n",
       "    </tr>\n",
       "    <tr>\n",
       "      <th>159</th>\n",
       "      <td>1</td>\n",
       "    </tr>\n",
       "    <tr>\n",
       "      <th>533</th>\n",
       "      <td>3</td>\n",
       "    </tr>\n",
       "    <tr>\n",
       "      <th>678</th>\n",
       "      <td>4</td>\n",
       "    </tr>\n",
       "  </tbody>\n",
       "</table>\n",
       "</div>"
      ],
      "text/plain": [
       "     region\n",
       "675       4\n",
       "358       2\n",
       "159       1\n",
       "533       3\n",
       "678       4"
      ]
     },
     "execution_count": 51,
     "metadata": {},
     "output_type": "execute_result"
    }
   ],
   "source": [
    "X_train = data_train.iloc[:, [6]]\n",
    "X_test = data_test.iloc[:, [6]]\n",
    "X_train.head()"
   ]
  },
  {
   "cell_type": "code",
   "execution_count": 52,
   "id": "b9523bf9",
   "metadata": {},
   "outputs": [],
   "source": [
    "reg = LinearRegression()\n",
    "reg.fit(X_train,y_train)\n",
    "y_train_pred=reg.predict(X_train)"
   ]
  },
  {
   "cell_type": "code",
   "execution_count": 53,
   "id": "3076fe88",
   "metadata": {},
   "outputs": [
    {
     "name": "stdout",
     "output_type": "stream",
     "text": [
      "R square value of train data:  0.00047055254515937506  R square value of test data:  -0.0003728727713343538\n"
     ]
    }
   ],
   "source": [
    "r2_score_train=reg.score(X_train,y_train)\n",
    "r2_score_test=reg.score(X_test,y_test)\n",
    "\n",
    "print(\"R square value of train data: \",r2_score_train,\" R square value of test data: \",r2_score_test)"
   ]
  },
  {
   "cell_type": "markdown",
   "id": "24761b7c",
   "metadata": {},
   "source": [
    "### Considering pesticides and water to predict yield."
   ]
  },
  {
   "cell_type": "code",
   "execution_count": 54,
   "id": "3e58f63e",
   "metadata": {},
   "outputs": [
    {
     "data": {
      "text/html": [
       "<div>\n",
       "<style scoped>\n",
       "    .dataframe tbody tr th:only-of-type {\n",
       "        vertical-align: middle;\n",
       "    }\n",
       "\n",
       "    .dataframe tbody tr th {\n",
       "        vertical-align: top;\n",
       "    }\n",
       "\n",
       "    .dataframe thead th {\n",
       "        text-align: right;\n",
       "    }\n",
       "</style>\n",
       "<table border=\"1\" class=\"dataframe\">\n",
       "  <thead>\n",
       "    <tr style=\"text-align: right;\">\n",
       "      <th></th>\n",
       "      <th>pesticides</th>\n",
       "      <th>water</th>\n",
       "    </tr>\n",
       "  </thead>\n",
       "  <tbody>\n",
       "    <tr>\n",
       "      <th>675</th>\n",
       "      <td>0.164</td>\n",
       "      <td>4.923</td>\n",
       "    </tr>\n",
       "    <tr>\n",
       "      <th>358</th>\n",
       "      <td>6.187</td>\n",
       "      <td>1.598</td>\n",
       "    </tr>\n",
       "    <tr>\n",
       "      <th>159</th>\n",
       "      <td>3.344</td>\n",
       "      <td>4.064</td>\n",
       "    </tr>\n",
       "    <tr>\n",
       "      <th>533</th>\n",
       "      <td>0.014</td>\n",
       "      <td>8.684</td>\n",
       "    </tr>\n",
       "    <tr>\n",
       "      <th>678</th>\n",
       "      <td>3.103</td>\n",
       "      <td>6.084</td>\n",
       "    </tr>\n",
       "  </tbody>\n",
       "</table>\n",
       "</div>"
      ],
      "text/plain": [
       "     pesticides  water\n",
       "675       0.164  4.923\n",
       "358       6.187  1.598\n",
       "159       3.344  4.064\n",
       "533       0.014  8.684\n",
       "678       3.103  6.084"
      ]
     },
     "execution_count": 54,
     "metadata": {},
     "output_type": "execute_result"
    }
   ],
   "source": [
    "X_train = data_train.iloc[:, [5,0]]\n",
    "X_test = data_test.iloc[:, [5,0]]\n",
    "X_train.head()"
   ]
  },
  {
   "cell_type": "code",
   "execution_count": 55,
   "id": "4e6a1284",
   "metadata": {},
   "outputs": [],
   "source": [
    "reg = LinearRegression()\n",
    "reg.fit(X_train,y_train)\n",
    "y_train_pred=reg.predict(X_train)"
   ]
  },
  {
   "cell_type": "code",
   "execution_count": 56,
   "id": "6c452534",
   "metadata": {},
   "outputs": [
    {
     "name": "stdout",
     "output_type": "stream",
     "text": [
      "R square value of train data:  0.000870934328025319  R square value of test data:  0.00045274227842662107\n"
     ]
    }
   ],
   "source": [
    "r2_score_train=reg.score(X_train,y_train)\n",
    "r2_score_test=reg.score(X_test,y_test)\n",
    "\n",
    "print(\"R square value of train data: \",r2_score_train,\" R square value of test data: \",r2_score_test)"
   ]
  },
  {
   "cell_type": "markdown",
   "id": "a494dd6d",
   "metadata": {},
   "source": [
    "### Considering pesticides and UV to predict yield"
   ]
  },
  {
   "cell_type": "code",
   "execution_count": 57,
   "id": "61d8ede8",
   "metadata": {},
   "outputs": [
    {
     "data": {
      "text/html": [
       "<div>\n",
       "<style scoped>\n",
       "    .dataframe tbody tr th:only-of-type {\n",
       "        vertical-align: middle;\n",
       "    }\n",
       "\n",
       "    .dataframe tbody tr th {\n",
       "        vertical-align: top;\n",
       "    }\n",
       "\n",
       "    .dataframe thead th {\n",
       "        text-align: right;\n",
       "    }\n",
       "</style>\n",
       "<table border=\"1\" class=\"dataframe\">\n",
       "  <thead>\n",
       "    <tr style=\"text-align: right;\">\n",
       "      <th></th>\n",
       "      <th>pesticides</th>\n",
       "      <th>uv</th>\n",
       "    </tr>\n",
       "  </thead>\n",
       "  <tbody>\n",
       "    <tr>\n",
       "      <th>675</th>\n",
       "      <td>0.164</td>\n",
       "      <td>90.242</td>\n",
       "    </tr>\n",
       "    <tr>\n",
       "      <th>358</th>\n",
       "      <td>6.187</td>\n",
       "      <td>71.792</td>\n",
       "    </tr>\n",
       "    <tr>\n",
       "      <th>159</th>\n",
       "      <td>3.344</td>\n",
       "      <td>81.622</td>\n",
       "    </tr>\n",
       "    <tr>\n",
       "      <th>533</th>\n",
       "      <td>0.014</td>\n",
       "      <td>57.248</td>\n",
       "    </tr>\n",
       "    <tr>\n",
       "      <th>678</th>\n",
       "      <td>3.103</td>\n",
       "      <td>70.801</td>\n",
       "    </tr>\n",
       "  </tbody>\n",
       "</table>\n",
       "</div>"
      ],
      "text/plain": [
       "     pesticides      uv\n",
       "675       0.164  90.242\n",
       "358       6.187  71.792\n",
       "159       3.344  81.622\n",
       "533       0.014  57.248\n",
       "678       3.103  70.801"
      ]
     },
     "execution_count": 57,
     "metadata": {},
     "output_type": "execute_result"
    }
   ],
   "source": [
    "X_train = data_train.iloc[:, [5,1]]\n",
    "X_test = data_test.iloc[:, [5,1]]\n",
    "X_train.head()"
   ]
  },
  {
   "cell_type": "code",
   "execution_count": 58,
   "id": "5101f0a0",
   "metadata": {},
   "outputs": [],
   "source": [
    "reg = LinearRegression()\n",
    "reg.fit(X_train,y_train)\n",
    "y_train_pred=reg.predict(X_train)"
   ]
  },
  {
   "cell_type": "code",
   "execution_count": 59,
   "id": "1eb896c5",
   "metadata": {},
   "outputs": [
    {
     "name": "stdout",
     "output_type": "stream",
     "text": [
      "R square value of train data:  0.001140198452551977  R square value of test data:  0.00498429167778347\n"
     ]
    }
   ],
   "source": [
    "r2_score_train=reg.score(X_train,y_train)\n",
    "r2_score_test=reg.score(X_test,y_test)\n",
    "\n",
    "print(\"R square value of train data: \",r2_score_train,\" R square value of test data: \",r2_score_test)"
   ]
  },
  {
   "cell_type": "markdown",
   "id": "57a4fb96",
   "metadata": {},
   "source": [
    "### Considering pesticides and area to predict yield"
   ]
  },
  {
   "cell_type": "code",
   "execution_count": 60,
   "id": "cb562a6d",
   "metadata": {},
   "outputs": [
    {
     "data": {
      "text/html": [
       "<div>\n",
       "<style scoped>\n",
       "    .dataframe tbody tr th:only-of-type {\n",
       "        vertical-align: middle;\n",
       "    }\n",
       "\n",
       "    .dataframe tbody tr th {\n",
       "        vertical-align: top;\n",
       "    }\n",
       "\n",
       "    .dataframe thead th {\n",
       "        text-align: right;\n",
       "    }\n",
       "</style>\n",
       "<table border=\"1\" class=\"dataframe\">\n",
       "  <thead>\n",
       "    <tr style=\"text-align: right;\">\n",
       "      <th></th>\n",
       "      <th>pesticides</th>\n",
       "      <th>uv</th>\n",
       "    </tr>\n",
       "  </thead>\n",
       "  <tbody>\n",
       "    <tr>\n",
       "      <th>675</th>\n",
       "      <td>0.164</td>\n",
       "      <td>90.242</td>\n",
       "    </tr>\n",
       "    <tr>\n",
       "      <th>358</th>\n",
       "      <td>6.187</td>\n",
       "      <td>71.792</td>\n",
       "    </tr>\n",
       "    <tr>\n",
       "      <th>159</th>\n",
       "      <td>3.344</td>\n",
       "      <td>81.622</td>\n",
       "    </tr>\n",
       "    <tr>\n",
       "      <th>533</th>\n",
       "      <td>0.014</td>\n",
       "      <td>57.248</td>\n",
       "    </tr>\n",
       "    <tr>\n",
       "      <th>678</th>\n",
       "      <td>3.103</td>\n",
       "      <td>70.801</td>\n",
       "    </tr>\n",
       "  </tbody>\n",
       "</table>\n",
       "</div>"
      ],
      "text/plain": [
       "     pesticides      uv\n",
       "675       0.164  90.242\n",
       "358       6.187  71.792\n",
       "159       3.344  81.622\n",
       "533       0.014  57.248\n",
       "678       3.103  70.801"
      ]
     },
     "execution_count": 60,
     "metadata": {},
     "output_type": "execute_result"
    }
   ],
   "source": [
    "X_train = data_train.iloc[:, [5,1]]\n",
    "X_test = data_test.iloc[:, [5,1]]\n",
    "X_train.head()"
   ]
  },
  {
   "cell_type": "code",
   "execution_count": 61,
   "id": "6696b173",
   "metadata": {},
   "outputs": [],
   "source": [
    "reg = LinearRegression()\n",
    "reg.fit(X_train,y_train)\n",
    "y_train_pred=reg.predict(X_train)"
   ]
  },
  {
   "cell_type": "code",
   "execution_count": 62,
   "id": "5aba24fb",
   "metadata": {},
   "outputs": [
    {
     "name": "stdout",
     "output_type": "stream",
     "text": [
      "R square value of train data:  0.001140198452551977  R square value of test data:  0.00498429167778347\n"
     ]
    }
   ],
   "source": [
    "r2_score_train=reg.score(X_train,y_train)\n",
    "r2_score_test=reg.score(X_test,y_test)\n",
    "\n",
    "print(\"R square value of train data: \",r2_score_train,\" R square value of test data: \",r2_score_test)"
   ]
  },
  {
   "cell_type": "markdown",
   "id": "1594d43b",
   "metadata": {},
   "source": [
    "### Considering pesticides and area to predict yield"
   ]
  },
  {
   "cell_type": "code",
   "execution_count": 63,
   "id": "5c74d306",
   "metadata": {},
   "outputs": [
    {
     "data": {
      "text/html": [
       "<div>\n",
       "<style scoped>\n",
       "    .dataframe tbody tr th:only-of-type {\n",
       "        vertical-align: middle;\n",
       "    }\n",
       "\n",
       "    .dataframe tbody tr th {\n",
       "        vertical-align: top;\n",
       "    }\n",
       "\n",
       "    .dataframe thead th {\n",
       "        text-align: right;\n",
       "    }\n",
       "</style>\n",
       "<table border=\"1\" class=\"dataframe\">\n",
       "  <thead>\n",
       "    <tr style=\"text-align: right;\">\n",
       "      <th></th>\n",
       "      <th>pesticides</th>\n",
       "      <th>area</th>\n",
       "    </tr>\n",
       "  </thead>\n",
       "  <tbody>\n",
       "    <tr>\n",
       "      <th>675</th>\n",
       "      <td>0.164</td>\n",
       "      <td>7.524</td>\n",
       "    </tr>\n",
       "    <tr>\n",
       "      <th>358</th>\n",
       "      <td>6.187</td>\n",
       "      <td>8.305</td>\n",
       "    </tr>\n",
       "    <tr>\n",
       "      <th>159</th>\n",
       "      <td>3.344</td>\n",
       "      <td>7.495</td>\n",
       "    </tr>\n",
       "    <tr>\n",
       "      <th>533</th>\n",
       "      <td>0.014</td>\n",
       "      <td>10.176</td>\n",
       "    </tr>\n",
       "    <tr>\n",
       "      <th>678</th>\n",
       "      <td>3.103</td>\n",
       "      <td>10.207</td>\n",
       "    </tr>\n",
       "  </tbody>\n",
       "</table>\n",
       "</div>"
      ],
      "text/plain": [
       "     pesticides    area\n",
       "675       0.164   7.524\n",
       "358       6.187   8.305\n",
       "159       3.344   7.495\n",
       "533       0.014  10.176\n",
       "678       3.103  10.207"
      ]
     },
     "execution_count": 63,
     "metadata": {},
     "output_type": "execute_result"
    }
   ],
   "source": [
    "X_train = data_train.iloc[:, [5,2]]\n",
    "X_test = data_test.iloc[:, [5,2]]\n",
    "X_train.head()"
   ]
  },
  {
   "cell_type": "code",
   "execution_count": 64,
   "id": "2683fd9f",
   "metadata": {},
   "outputs": [],
   "source": [
    "reg = LinearRegression()\n",
    "reg.fit(X_train,y_train)\n",
    "y_train_pred=reg.predict(X_train)"
   ]
  },
  {
   "cell_type": "code",
   "execution_count": 65,
   "id": "3fb6edd4",
   "metadata": {},
   "outputs": [
    {
     "name": "stdout",
     "output_type": "stream",
     "text": [
      "R square value of train data:  0.2232080658376161  R square value of test data:  0.29940519657598696\n"
     ]
    }
   ],
   "source": [
    "r2_score_train=reg.score(X_train,y_train)\n",
    "r2_score_test=reg.score(X_test,y_test)\n",
    "\n",
    "print(\"R square value of train data: \",r2_score_train,\" R square value of test data: \",r2_score_test)"
   ]
  },
  {
   "cell_type": "markdown",
   "id": "8e0791ab",
   "metadata": {},
   "source": [
    "### Considering pesticides and fertilizer usage to predict yield"
   ]
  },
  {
   "cell_type": "code",
   "execution_count": 66,
   "id": "a87b3fd6",
   "metadata": {},
   "outputs": [
    {
     "data": {
      "text/html": [
       "<div>\n",
       "<style scoped>\n",
       "    .dataframe tbody tr th:only-of-type {\n",
       "        vertical-align: middle;\n",
       "    }\n",
       "\n",
       "    .dataframe tbody tr th {\n",
       "        vertical-align: top;\n",
       "    }\n",
       "\n",
       "    .dataframe thead th {\n",
       "        text-align: right;\n",
       "    }\n",
       "</style>\n",
       "<table border=\"1\" class=\"dataframe\">\n",
       "  <thead>\n",
       "    <tr style=\"text-align: right;\">\n",
       "      <th></th>\n",
       "      <th>pesticides</th>\n",
       "      <th>fertilizer_usage</th>\n",
       "    </tr>\n",
       "  </thead>\n",
       "  <tbody>\n",
       "    <tr>\n",
       "      <th>675</th>\n",
       "      <td>0.164</td>\n",
       "      <td>4</td>\n",
       "    </tr>\n",
       "    <tr>\n",
       "      <th>358</th>\n",
       "      <td>6.187</td>\n",
       "      <td>1</td>\n",
       "    </tr>\n",
       "    <tr>\n",
       "      <th>159</th>\n",
       "      <td>3.344</td>\n",
       "      <td>3</td>\n",
       "    </tr>\n",
       "    <tr>\n",
       "      <th>533</th>\n",
       "      <td>0.014</td>\n",
       "      <td>1</td>\n",
       "    </tr>\n",
       "    <tr>\n",
       "      <th>678</th>\n",
       "      <td>3.103</td>\n",
       "      <td>1</td>\n",
       "    </tr>\n",
       "  </tbody>\n",
       "</table>\n",
       "</div>"
      ],
      "text/plain": [
       "     pesticides  fertilizer_usage\n",
       "675       0.164                 4\n",
       "358       6.187                 1\n",
       "159       3.344                 3\n",
       "533       0.014                 1\n",
       "678       3.103                 1"
      ]
     },
     "execution_count": 66,
     "metadata": {},
     "output_type": "execute_result"
    }
   ],
   "source": [
    "X_train = data_train.iloc[:, [5,3]]\n",
    "X_test = data_test.iloc[:, [5,3]]\n",
    "X_train.head()"
   ]
  },
  {
   "cell_type": "code",
   "execution_count": 67,
   "id": "81f3c94f",
   "metadata": {},
   "outputs": [],
   "source": [
    "reg = LinearRegression()\n",
    "reg.fit(X_train,y_train)\n",
    "y_train_pred=reg.predict(X_train)"
   ]
  },
  {
   "cell_type": "code",
   "execution_count": 68,
   "id": "e57c89c1",
   "metadata": {},
   "outputs": [
    {
     "name": "stdout",
     "output_type": "stream",
     "text": [
      "R square value of train data:  0.20913704137484468  R square value of test data:  0.20737948003908357\n"
     ]
    }
   ],
   "source": [
    "r2_score_train=reg.score(X_train,y_train)\n",
    "r2_score_test=reg.score(X_test,y_test)\n",
    "\n",
    "print(\"R square value of train data: \",r2_score_train,\" R square value of test data: \",r2_score_test)"
   ]
  },
  {
   "cell_type": "markdown",
   "id": "af82488a",
   "metadata": {},
   "source": [
    "### Considering pesticides and region to predict yield"
   ]
  },
  {
   "cell_type": "code",
   "execution_count": 69,
   "id": "6723aa1e",
   "metadata": {},
   "outputs": [
    {
     "data": {
      "text/html": [
       "<div>\n",
       "<style scoped>\n",
       "    .dataframe tbody tr th:only-of-type {\n",
       "        vertical-align: middle;\n",
       "    }\n",
       "\n",
       "    .dataframe tbody tr th {\n",
       "        vertical-align: top;\n",
       "    }\n",
       "\n",
       "    .dataframe thead th {\n",
       "        text-align: right;\n",
       "    }\n",
       "</style>\n",
       "<table border=\"1\" class=\"dataframe\">\n",
       "  <thead>\n",
       "    <tr style=\"text-align: right;\">\n",
       "      <th></th>\n",
       "      <th>pesticides</th>\n",
       "      <th>region</th>\n",
       "    </tr>\n",
       "  </thead>\n",
       "  <tbody>\n",
       "    <tr>\n",
       "      <th>675</th>\n",
       "      <td>0.164</td>\n",
       "      <td>4</td>\n",
       "    </tr>\n",
       "    <tr>\n",
       "      <th>358</th>\n",
       "      <td>6.187</td>\n",
       "      <td>2</td>\n",
       "    </tr>\n",
       "    <tr>\n",
       "      <th>159</th>\n",
       "      <td>3.344</td>\n",
       "      <td>1</td>\n",
       "    </tr>\n",
       "    <tr>\n",
       "      <th>533</th>\n",
       "      <td>0.014</td>\n",
       "      <td>3</td>\n",
       "    </tr>\n",
       "    <tr>\n",
       "      <th>678</th>\n",
       "      <td>3.103</td>\n",
       "      <td>4</td>\n",
       "    </tr>\n",
       "  </tbody>\n",
       "</table>\n",
       "</div>"
      ],
      "text/plain": [
       "     pesticides  region\n",
       "675       0.164       4\n",
       "358       6.187       2\n",
       "159       3.344       1\n",
       "533       0.014       3\n",
       "678       3.103       4"
      ]
     },
     "execution_count": 69,
     "metadata": {},
     "output_type": "execute_result"
    }
   ],
   "source": [
    "X_train = data_train.iloc[:, [5,6]]\n",
    "X_test = data_test.iloc[:, [5,6]]\n",
    "X_train.head()"
   ]
  },
  {
   "cell_type": "code",
   "execution_count": 70,
   "id": "e51c3f36",
   "metadata": {},
   "outputs": [],
   "source": [
    "reg = LinearRegression()\n",
    "reg.fit(X_train,y_train)\n",
    "y_train_pred=reg.predict(X_train)"
   ]
  },
  {
   "cell_type": "code",
   "execution_count": 71,
   "id": "67ec233a",
   "metadata": {},
   "outputs": [
    {
     "name": "stdout",
     "output_type": "stream",
     "text": [
      "R square value of train data:  0.0010402964284468297  R square value of test data:  0.0052075586656172845\n"
     ]
    }
   ],
   "source": [
    "r2_score_train=reg.score(X_train,y_train)\n",
    "r2_score_test=reg.score(X_test,y_test)\n",
    "\n",
    "print(\"R square value of train data: \",r2_score_train,\" R square value of test data: \",r2_score_test)"
   ]
  },
  {
   "cell_type": "markdown",
   "id": "03db7872",
   "metadata": {},
   "source": [
    "### Considering Area, Pesticides and Fertiliser to predict yield"
   ]
  },
  {
   "cell_type": "code",
   "execution_count": 72,
   "id": "c49467f5",
   "metadata": {},
   "outputs": [
    {
     "data": {
      "text/html": [
       "<div>\n",
       "<style scoped>\n",
       "    .dataframe tbody tr th:only-of-type {\n",
       "        vertical-align: middle;\n",
       "    }\n",
       "\n",
       "    .dataframe tbody tr th {\n",
       "        vertical-align: top;\n",
       "    }\n",
       "\n",
       "    .dataframe thead th {\n",
       "        text-align: right;\n",
       "    }\n",
       "</style>\n",
       "<table border=\"1\" class=\"dataframe\">\n",
       "  <thead>\n",
       "    <tr style=\"text-align: right;\">\n",
       "      <th></th>\n",
       "      <th>pesticides</th>\n",
       "      <th>area</th>\n",
       "      <th>fertilizer_usage</th>\n",
       "    </tr>\n",
       "  </thead>\n",
       "  <tbody>\n",
       "    <tr>\n",
       "      <th>675</th>\n",
       "      <td>0.164</td>\n",
       "      <td>7.524</td>\n",
       "      <td>4</td>\n",
       "    </tr>\n",
       "    <tr>\n",
       "      <th>358</th>\n",
       "      <td>6.187</td>\n",
       "      <td>8.305</td>\n",
       "      <td>1</td>\n",
       "    </tr>\n",
       "    <tr>\n",
       "      <th>159</th>\n",
       "      <td>3.344</td>\n",
       "      <td>7.495</td>\n",
       "      <td>3</td>\n",
       "    </tr>\n",
       "    <tr>\n",
       "      <th>533</th>\n",
       "      <td>0.014</td>\n",
       "      <td>10.176</td>\n",
       "      <td>1</td>\n",
       "    </tr>\n",
       "    <tr>\n",
       "      <th>678</th>\n",
       "      <td>3.103</td>\n",
       "      <td>10.207</td>\n",
       "      <td>1</td>\n",
       "    </tr>\n",
       "  </tbody>\n",
       "</table>\n",
       "</div>"
      ],
      "text/plain": [
       "     pesticides    area  fertilizer_usage\n",
       "675       0.164   7.524                 4\n",
       "358       6.187   8.305                 1\n",
       "159       3.344   7.495                 3\n",
       "533       0.014  10.176                 1\n",
       "678       3.103  10.207                 1"
      ]
     },
     "execution_count": 72,
     "metadata": {},
     "output_type": "execute_result"
    }
   ],
   "source": [
    "X_train = data_train.iloc[:, [5,2,3]]\n",
    "X_test = data_test.iloc[:, [5,2,3]]\n",
    "X_train.head()"
   ]
  },
  {
   "cell_type": "code",
   "execution_count": 73,
   "id": "3f111dcf",
   "metadata": {},
   "outputs": [],
   "source": [
    "reg = LinearRegression()\n",
    "reg.fit(X_train,y_train)\n",
    "y_train_pred=reg.predict(X_train)"
   ]
  },
  {
   "cell_type": "code",
   "execution_count": 74,
   "id": "d96b9414",
   "metadata": {},
   "outputs": [
    {
     "name": "stdout",
     "output_type": "stream",
     "text": [
      "R square value of train data:  0.551565591840254  R square value of test data:  0.5939724893172245\n"
     ]
    }
   ],
   "source": [
    "r2_score_train=reg.score(X_train,y_train)\n",
    "r2_score_test=reg.score(X_test,y_test)\n",
    "\n",
    "print(\"R square value of train data: \",r2_score_train,\" R square value of test data: \",r2_score_test)"
   ]
  },
  {
   "cell_type": "markdown",
   "id": "137254ed",
   "metadata": {},
   "source": [
    "### Considering Area, Pesticides, Fertilizer and region to predict yield"
   ]
  },
  {
   "cell_type": "code",
   "execution_count": 75,
   "id": "2357802b",
   "metadata": {},
   "outputs": [
    {
     "data": {
      "text/html": [
       "<div>\n",
       "<style scoped>\n",
       "    .dataframe tbody tr th:only-of-type {\n",
       "        vertical-align: middle;\n",
       "    }\n",
       "\n",
       "    .dataframe tbody tr th {\n",
       "        vertical-align: top;\n",
       "    }\n",
       "\n",
       "    .dataframe thead th {\n",
       "        text-align: right;\n",
       "    }\n",
       "</style>\n",
       "<table border=\"1\" class=\"dataframe\">\n",
       "  <thead>\n",
       "    <tr style=\"text-align: right;\">\n",
       "      <th></th>\n",
       "      <th>pesticides</th>\n",
       "      <th>area</th>\n",
       "      <th>fertilizer_usage</th>\n",
       "      <th>region</th>\n",
       "    </tr>\n",
       "  </thead>\n",
       "  <tbody>\n",
       "    <tr>\n",
       "      <th>675</th>\n",
       "      <td>0.164</td>\n",
       "      <td>7.524</td>\n",
       "      <td>4</td>\n",
       "      <td>4</td>\n",
       "    </tr>\n",
       "    <tr>\n",
       "      <th>358</th>\n",
       "      <td>6.187</td>\n",
       "      <td>8.305</td>\n",
       "      <td>1</td>\n",
       "      <td>2</td>\n",
       "    </tr>\n",
       "    <tr>\n",
       "      <th>159</th>\n",
       "      <td>3.344</td>\n",
       "      <td>7.495</td>\n",
       "      <td>3</td>\n",
       "      <td>1</td>\n",
       "    </tr>\n",
       "    <tr>\n",
       "      <th>533</th>\n",
       "      <td>0.014</td>\n",
       "      <td>10.176</td>\n",
       "      <td>1</td>\n",
       "      <td>3</td>\n",
       "    </tr>\n",
       "    <tr>\n",
       "      <th>678</th>\n",
       "      <td>3.103</td>\n",
       "      <td>10.207</td>\n",
       "      <td>1</td>\n",
       "      <td>4</td>\n",
       "    </tr>\n",
       "  </tbody>\n",
       "</table>\n",
       "</div>"
      ],
      "text/plain": [
       "     pesticides    area  fertilizer_usage  region\n",
       "675       0.164   7.524                 4       4\n",
       "358       6.187   8.305                 1       2\n",
       "159       3.344   7.495                 3       1\n",
       "533       0.014  10.176                 1       3\n",
       "678       3.103  10.207                 1       4"
      ]
     },
     "execution_count": 75,
     "metadata": {},
     "output_type": "execute_result"
    }
   ],
   "source": [
    "X_train = data_train.iloc[:, [5,2,3,6]]\n",
    "X_test = data_test.iloc[:, [5,2,3,6]]\n",
    "X_train.head()"
   ]
  },
  {
   "cell_type": "code",
   "execution_count": 76,
   "id": "fde463d1",
   "metadata": {},
   "outputs": [],
   "source": [
    "reg = LinearRegression()\n",
    "reg.fit(X_train,y_train)\n",
    "y_train_pred=reg.predict(X_train)"
   ]
  },
  {
   "cell_type": "code",
   "execution_count": 77,
   "id": "c640fe72",
   "metadata": {},
   "outputs": [
    {
     "name": "stdout",
     "output_type": "stream",
     "text": [
      "R square value of train data:  0.6464680867924696  R square value of test data:  0.6809833148104867\n"
     ]
    }
   ],
   "source": [
    "r2_score_train=reg.score(X_train,y_train)\n",
    "r2_score_test=reg.score(X_test,y_test)\n",
    "\n",
    "print(\"R square value of train data: \",r2_score_train,\" R square value of test data: \",r2_score_test)"
   ]
  },
  {
   "cell_type": "code",
   "execution_count": null,
   "id": "bca99d2a",
   "metadata": {},
   "outputs": [],
   "source": []
  }
 ],
 "metadata": {
  "kernelspec": {
   "display_name": "Python 3 (ipykernel)",
   "language": "python",
   "name": "python3"
  },
  "language_info": {
   "codemirror_mode": {
    "name": "ipython",
    "version": 3
   },
   "file_extension": ".py",
   "mimetype": "text/x-python",
   "name": "python",
   "nbconvert_exporter": "python",
   "pygments_lexer": "ipython3",
   "version": "3.10.4"
  }
 },
 "nbformat": 4,
 "nbformat_minor": 5
}
